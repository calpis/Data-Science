{
 "cells": [
  {
   "cell_type": "markdown",
   "metadata": {},
   "source": [
    "## Win Prediction 2\n",
    "Combining synergy of pairs of heroes into consideration"
   ]
  },
  {
   "cell_type": "code",
   "execution_count": 1,
   "metadata": {
    "collapsed": true
   },
   "outputs": [],
   "source": [
    "import pandas as pd\n",
    "import numpy as np\n",
    "import pandas as pd\n",
    "import numpy as np\n",
    "from sklearn.model_selection import train_test_split\n",
    "from sklearn import linear_model\n",
    "from sklearn.ensemble import RandomForestClassifier\n",
    "\n",
    "import seaborn as sbn\n",
    "import psycopg2\n",
    "import itertools\n",
    "from matplotlib import pyplot\n",
    "\n",
    "%matplotlib inline"
   ]
  },
  {
   "cell_type": "code",
   "execution_count": 2,
   "metadata": {
    "collapsed": true
   },
   "outputs": [],
   "source": [
    "##Functinons\n",
    "def unstack_simplify(df):\n",
    "    return df.unstack().iloc[10:20].reset_index(drop=True)"
   ]
  },
  {
   "cell_type": "code",
   "execution_count": 3,
   "metadata": {
    "collapsed": true
   },
   "outputs": [],
   "source": [
    "#Postgres connection\n",
    "hostname = 'localhost'\n",
    "username = 'postgres'\n",
    "password = ''\n",
    "database = 'dota2_data'\n"
   ]
  },
  {
   "cell_type": "code",
   "execution_count": 4,
   "metadata": {
    "collapsed": false
   },
   "outputs": [],
   "source": [
    "#get data from db and store into df\n",
    "\n",
    "myConnection = psycopg2.connect(host=hostname, user=username, password=password, dbname=database)\n",
    "cur = myConnection.cursor()\n",
    "matches_df = pd.read_sql_query(\"select * from matches\", myConnection)\n",
    "players_df = pd.read_sql_query(\"select match_id, hero_id, account_id, player_slot from player_matches\", myConnection)\n",
    "heros_df = pd.read_sql_query(\"select * from heroes\", myConnection)"
   ]
  },
  {
   "cell_type": "code",
   "execution_count": 5,
   "metadata": {
    "collapsed": false
   },
   "outputs": [
    {
     "data": {
      "text/html": [
       "<div>\n",
       "<table border=\"1\" class=\"dataframe\">\n",
       "  <thead>\n",
       "    <tr style=\"text-align: right;\">\n",
       "      <th></th>\n",
       "      <th>match_id</th>\n",
       "      <th>match_seq_num</th>\n",
       "      <th>radiant_win</th>\n",
       "      <th>start_time</th>\n",
       "      <th>duration</th>\n",
       "      <th>tower_status_radiant</th>\n",
       "      <th>tower_status_dire</th>\n",
       "      <th>barracks_status_radiant</th>\n",
       "      <th>barracks_status_dire</th>\n",
       "      <th>cluster</th>\n",
       "      <th>...</th>\n",
       "      <th>dire_team_complete</th>\n",
       "      <th>radiant_captain</th>\n",
       "      <th>dire_captain</th>\n",
       "      <th>chat</th>\n",
       "      <th>objectives</th>\n",
       "      <th>radiant_gold_adv</th>\n",
       "      <th>radiant_xp_adv</th>\n",
       "      <th>teamfights</th>\n",
       "      <th>version</th>\n",
       "      <th>cosmetics</th>\n",
       "    </tr>\n",
       "  </thead>\n",
       "  <tbody>\n",
       "    <tr>\n",
       "      <th>10970</th>\n",
       "      <td>2521743304</td>\n",
       "      <td>None</td>\n",
       "      <td>False</td>\n",
       "      <td>1469221556</td>\n",
       "      <td>None</td>\n",
       "      <td>None</td>\n",
       "      <td>None</td>\n",
       "      <td>None</td>\n",
       "      <td>None</td>\n",
       "      <td>None</td>\n",
       "      <td>...</td>\n",
       "      <td>None</td>\n",
       "      <td>None</td>\n",
       "      <td>None</td>\n",
       "      <td>None</td>\n",
       "      <td>None</td>\n",
       "      <td>None</td>\n",
       "      <td>None</td>\n",
       "      <td>None</td>\n",
       "      <td>None</td>\n",
       "      <td>None</td>\n",
       "    </tr>\n",
       "    <tr>\n",
       "      <th>28279</th>\n",
       "      <td>1174950966</td>\n",
       "      <td>None</td>\n",
       "      <td>False</td>\n",
       "      <td>1421696088</td>\n",
       "      <td>None</td>\n",
       "      <td>None</td>\n",
       "      <td>None</td>\n",
       "      <td>None</td>\n",
       "      <td>None</td>\n",
       "      <td>None</td>\n",
       "      <td>...</td>\n",
       "      <td>None</td>\n",
       "      <td>None</td>\n",
       "      <td>None</td>\n",
       "      <td>None</td>\n",
       "      <td>None</td>\n",
       "      <td>None</td>\n",
       "      <td>None</td>\n",
       "      <td>None</td>\n",
       "      <td>None</td>\n",
       "      <td>None</td>\n",
       "    </tr>\n",
       "    <tr>\n",
       "      <th>29358</th>\n",
       "      <td>1106986271</td>\n",
       "      <td>None</td>\n",
       "      <td>False</td>\n",
       "      <td>1419179985</td>\n",
       "      <td>None</td>\n",
       "      <td>None</td>\n",
       "      <td>None</td>\n",
       "      <td>None</td>\n",
       "      <td>None</td>\n",
       "      <td>None</td>\n",
       "      <td>...</td>\n",
       "      <td>None</td>\n",
       "      <td>None</td>\n",
       "      <td>None</td>\n",
       "      <td>None</td>\n",
       "      <td>None</td>\n",
       "      <td>None</td>\n",
       "      <td>None</td>\n",
       "      <td>None</td>\n",
       "      <td>None</td>\n",
       "      <td>None</td>\n",
       "    </tr>\n",
       "    <tr>\n",
       "      <th>32473</th>\n",
       "      <td>956361773</td>\n",
       "      <td>None</td>\n",
       "      <td>False</td>\n",
       "      <td>1413117649</td>\n",
       "      <td>None</td>\n",
       "      <td>None</td>\n",
       "      <td>None</td>\n",
       "      <td>None</td>\n",
       "      <td>None</td>\n",
       "      <td>None</td>\n",
       "      <td>...</td>\n",
       "      <td>None</td>\n",
       "      <td>None</td>\n",
       "      <td>None</td>\n",
       "      <td>None</td>\n",
       "      <td>None</td>\n",
       "      <td>None</td>\n",
       "      <td>None</td>\n",
       "      <td>None</td>\n",
       "      <td>None</td>\n",
       "      <td>None</td>\n",
       "    </tr>\n",
       "    <tr>\n",
       "      <th>35716</th>\n",
       "      <td>755072849</td>\n",
       "      <td>None</td>\n",
       "      <td>True</td>\n",
       "      <td>1404353703</td>\n",
       "      <td>None</td>\n",
       "      <td>None</td>\n",
       "      <td>None</td>\n",
       "      <td>None</td>\n",
       "      <td>None</td>\n",
       "      <td>None</td>\n",
       "      <td>...</td>\n",
       "      <td>None</td>\n",
       "      <td>None</td>\n",
       "      <td>None</td>\n",
       "      <td>None</td>\n",
       "      <td>None</td>\n",
       "      <td>None</td>\n",
       "      <td>None</td>\n",
       "      <td>None</td>\n",
       "      <td>None</td>\n",
       "      <td>None</td>\n",
       "    </tr>\n",
       "    <tr>\n",
       "      <th>40299</th>\n",
       "      <td>589126704</td>\n",
       "      <td>None</td>\n",
       "      <td>False</td>\n",
       "      <td>1396292356</td>\n",
       "      <td>None</td>\n",
       "      <td>None</td>\n",
       "      <td>None</td>\n",
       "      <td>None</td>\n",
       "      <td>None</td>\n",
       "      <td>None</td>\n",
       "      <td>...</td>\n",
       "      <td>None</td>\n",
       "      <td>None</td>\n",
       "      <td>None</td>\n",
       "      <td>None</td>\n",
       "      <td>None</td>\n",
       "      <td>None</td>\n",
       "      <td>None</td>\n",
       "      <td>None</td>\n",
       "      <td>None</td>\n",
       "      <td>None</td>\n",
       "    </tr>\n",
       "  </tbody>\n",
       "</table>\n",
       "<p>6 rows × 36 columns</p>\n",
       "</div>"
      ],
      "text/plain": [
       "         match_id match_seq_num radiant_win  start_time duration  \\\n",
       "10970  2521743304          None       False  1469221556     None   \n",
       "28279  1174950966          None       False  1421696088     None   \n",
       "29358  1106986271          None       False  1419179985     None   \n",
       "32473   956361773          None       False  1413117649     None   \n",
       "35716   755072849          None        True  1404353703     None   \n",
       "40299   589126704          None       False  1396292356     None   \n",
       "\n",
       "      tower_status_radiant tower_status_dire barracks_status_radiant  \\\n",
       "10970                 None              None                    None   \n",
       "28279                 None              None                    None   \n",
       "29358                 None              None                    None   \n",
       "32473                 None              None                    None   \n",
       "35716                 None              None                    None   \n",
       "40299                 None              None                    None   \n",
       "\n",
       "      barracks_status_dire cluster    ...    dire_team_complete  \\\n",
       "10970                 None    None    ...                  None   \n",
       "28279                 None    None    ...                  None   \n",
       "29358                 None    None    ...                  None   \n",
       "32473                 None    None    ...                  None   \n",
       "35716                 None    None    ...                  None   \n",
       "40299                 None    None    ...                  None   \n",
       "\n",
       "      radiant_captain dire_captain  chat objectives radiant_gold_adv  \\\n",
       "10970            None         None  None       None             None   \n",
       "28279            None         None  None       None             None   \n",
       "29358            None         None  None       None             None   \n",
       "32473            None         None  None       None             None   \n",
       "35716            None         None  None       None             None   \n",
       "40299            None         None  None       None             None   \n",
       "\n",
       "      radiant_xp_adv teamfights version cosmetics  \n",
       "10970           None       None    None      None  \n",
       "28279           None       None    None      None  \n",
       "29358           None       None    None      None  \n",
       "32473           None       None    None      None  \n",
       "35716           None       None    None      None  \n",
       "40299           None       None    None      None  \n",
       "\n",
       "[6 rows x 36 columns]"
      ]
     },
     "execution_count": 5,
     "metadata": {},
     "output_type": "execute_result"
    }
   ],
   "source": [
    "ids = players_df['match_id'].values[0:10]\n",
    "matches_df[matches_df['match_id'].isin(ids)]"
   ]
  },
  {
   "cell_type": "code",
   "execution_count": 6,
   "metadata": {
    "collapsed": false
   },
   "outputs": [
    {
     "data": {
      "text/html": [
       "<div>\n",
       "<table border=\"1\" class=\"dataframe\">\n",
       "  <thead>\n",
       "    <tr style=\"text-align: right;\">\n",
       "      <th></th>\n",
       "      <th>id</th>\n",
       "      <th>name</th>\n",
       "      <th>localized_name</th>\n",
       "      <th>primary_attr</th>\n",
       "      <th>attack_type</th>\n",
       "      <th>roles</th>\n",
       "    </tr>\n",
       "  </thead>\n",
       "  <tbody>\n",
       "    <tr>\n",
       "      <th>103</th>\n",
       "      <td>114</td>\n",
       "      <td>npc_dota_hero_monkey_king</td>\n",
       "      <td>Monkey King</td>\n",
       "      <td>agi</td>\n",
       "      <td>Melee</td>\n",
       "      <td>[Carry, Escape, Disabler, Initiator]</td>\n",
       "    </tr>\n",
       "  </tbody>\n",
       "</table>\n",
       "</div>"
      ],
      "text/plain": [
       "      id                       name localized_name primary_attr attack_type  \\\n",
       "103  114  npc_dota_hero_monkey_king    Monkey King          agi       Melee   \n",
       "\n",
       "                                    roles  \n",
       "103  [Carry, Escape, Disabler, Initiator]  "
      ]
     },
     "execution_count": 6,
     "metadata": {},
     "output_type": "execute_result"
    }
   ],
   "source": [
    "heros_df[heros_df.id==114]"
   ]
  },
  {
   "cell_type": "code",
   "execution_count": 7,
   "metadata": {
    "collapsed": false
   },
   "outputs": [
    {
     "data": {
      "text/html": [
       "<div>\n",
       "<table border=\"1\" class=\"dataframe\">\n",
       "  <thead>\n",
       "    <tr style=\"text-align: right;\">\n",
       "      <th></th>\n",
       "      <th>match_id</th>\n",
       "      <th>hero_id</th>\n",
       "      <th>account_id</th>\n",
       "      <th>player_slot</th>\n",
       "    </tr>\n",
       "  </thead>\n",
       "  <tbody>\n",
       "    <tr>\n",
       "      <th>307659</th>\n",
       "      <td>17955123</td>\n",
       "      <td>21</td>\n",
       "      <td>86747757</td>\n",
       "      <td>131</td>\n",
       "    </tr>\n",
       "    <tr>\n",
       "      <th>307660</th>\n",
       "      <td>17955123</td>\n",
       "      <td>33</td>\n",
       "      <td>88792641</td>\n",
       "      <td>132</td>\n",
       "    </tr>\n",
       "    <tr>\n",
       "      <th>307658</th>\n",
       "      <td>17955123</td>\n",
       "      <td>28</td>\n",
       "      <td>88704095</td>\n",
       "      <td>130</td>\n",
       "    </tr>\n",
       "    <tr>\n",
       "      <th>248399</th>\n",
       "      <td>17955123</td>\n",
       "      <td>9</td>\n",
       "      <td>69325073</td>\n",
       "      <td>128</td>\n",
       "    </tr>\n",
       "    <tr>\n",
       "      <th>307657</th>\n",
       "      <td>17955123</td>\n",
       "      <td>79</td>\n",
       "      <td>58017868</td>\n",
       "      <td>129</td>\n",
       "    </tr>\n",
       "    <tr>\n",
       "      <th>248394</th>\n",
       "      <td>17955123</td>\n",
       "      <td>31</td>\n",
       "      <td>89782335</td>\n",
       "      <td>0</td>\n",
       "    </tr>\n",
       "    <tr>\n",
       "      <th>248396</th>\n",
       "      <td>17955123</td>\n",
       "      <td>29</td>\n",
       "      <td>92926005</td>\n",
       "      <td>2</td>\n",
       "    </tr>\n",
       "    <tr>\n",
       "      <th>248395</th>\n",
       "      <td>17955123</td>\n",
       "      <td>32</td>\n",
       "      <td>82262664</td>\n",
       "      <td>1</td>\n",
       "    </tr>\n",
       "    <tr>\n",
       "      <th>248398</th>\n",
       "      <td>17955123</td>\n",
       "      <td>52</td>\n",
       "      <td>93712171</td>\n",
       "      <td>4</td>\n",
       "    </tr>\n",
       "    <tr>\n",
       "      <th>248397</th>\n",
       "      <td>17955123</td>\n",
       "      <td>39</td>\n",
       "      <td>85815961</td>\n",
       "      <td>3</td>\n",
       "    </tr>\n",
       "  </tbody>\n",
       "</table>\n",
       "</div>"
      ],
      "text/plain": [
       "        match_id  hero_id  account_id  player_slot\n",
       "307659  17955123       21    86747757          131\n",
       "307660  17955123       33    88792641          132\n",
       "307658  17955123       28    88704095          130\n",
       "248399  17955123        9    69325073          128\n",
       "307657  17955123       79    58017868          129\n",
       "248394  17955123       31    89782335            0\n",
       "248396  17955123       29    92926005            2\n",
       "248395  17955123       32    82262664            1\n",
       "248398  17955123       52    93712171            4\n",
       "248397  17955123       39    85815961            3"
      ]
     },
     "execution_count": 7,
     "metadata": {},
     "output_type": "execute_result"
    }
   ],
   "source": [
    "players_df.sort_values('match_id').head(10)"
   ]
  },
  {
   "cell_type": "code",
   "execution_count": 8,
   "metadata": {
    "collapsed": false
   },
   "outputs": [],
   "source": [
    "test = players_df[['match_id','hero_id']].groupby('match_id').agg('count').sum(axis=1)\n",
    "bad_matches = test[test!=10].index\n",
    "players_df = players_df[~players_df['match_id'].isin(bad_matches)]"
   ]
  },
  {
   "cell_type": "code",
   "execution_count": 9,
   "metadata": {
    "collapsed": true
   },
   "outputs": [],
   "source": [
    "#match_hero_picks = players_df.groupby('match_id').apply(unstack_simplify)\n",
    "#match_hero_picks.to_csv(\"match_hero_picks.csv\")"
   ]
  },
  {
   "cell_type": "code",
   "execution_count": 10,
   "metadata": {
    "collapsed": false
   },
   "outputs": [
    {
     "data": {
      "text/plain": [
       "Series([], dtype: int64)"
      ]
     },
     "execution_count": 10,
     "metadata": {},
     "output_type": "execute_result"
    }
   ],
   "source": [
    "#check data to make sure there are 10 heros in each row\n",
    "match_hero_picks = pd.read_csv(\"match_hero_picks.csv\")\n",
    "test = match_hero_picks.groupby(['match_id']).agg('count').sum(axis=1)\n",
    "test[test!=10]"
   ]
  },
  {
   "cell_type": "code",
   "execution_count": 11,
   "metadata": {
    "collapsed": false
   },
   "outputs": [
    {
     "data": {
      "text/plain": [
       "array([[ 0.        ,  0.48591549,  0.51428571, ...,  0.55633803,\n",
       "         1.        ,  0.31578947],\n",
       "       [ 0.48591549,  0.        ,  0.55434783, ...,  0.43518519,\n",
       "         0.5       ,  0.49019608],\n",
       "       [ 0.51428571,  0.55434783,  0.        , ...,  0.45098039,\n",
       "         0.        ,  0.        ],\n",
       "       ..., \n",
       "       [ 0.55633803,  0.43518519,  0.45098039, ...,  0.        ,\n",
       "         0.        ,  0.66666667],\n",
       "       [ 1.        ,  0.5       ,  0.        , ...,  0.        ,\n",
       "         0.        ,  0.        ],\n",
       "       [ 0.31578947,  0.49019608,  0.        , ...,  0.66666667,\n",
       "         0.        ,  0.        ]])"
      ]
     },
     "execution_count": 11,
     "metadata": {},
     "output_type": "execute_result"
    }
   ],
   "source": [
    "#get synergy_data to add to match_hero_picks\n",
    "synergy_matrix = np.loadtxt('synergy_matrix.csv',delimiter=\",\")\n",
    "synergy_matrix"
   ]
  },
  {
   "cell_type": "code",
   "execution_count": 12,
   "metadata": {
    "collapsed": false
   },
   "outputs": [
    {
     "data": {
      "text/plain": [
       "0.8571428571428571"
      ]
     },
     "execution_count": 12,
     "metadata": {},
     "output_type": "execute_result"
    }
   ],
   "source": [
    "synergy_matrix[synergy_matrix == 1.0] = 0\n",
    "synergy_matrix.max()\n"
   ]
  },
  {
   "cell_type": "code",
   "execution_count": 13,
   "metadata": {
    "collapsed": false
   },
   "outputs": [
    {
     "data": {
      "text/plain": [
       "Series([], Name: radiant_win, dtype: bool)"
      ]
     },
     "execution_count": 13,
     "metadata": {},
     "output_type": "execute_result"
    }
   ],
   "source": [
    "matches_df[matches_df['match_id']==17955123]['radiant_win']"
   ]
  },
  {
   "cell_type": "code",
   "execution_count": 15,
   "metadata": {
    "collapsed": false
   },
   "outputs": [],
   "source": [
    "#make feature vector\n",
    "#index 0-113 is radiant heroes, 115-228 is dire\n",
    "feature_list = []\n",
    "\n",
    "feature_list_without_synergy = []\n",
    "\n",
    "outcome = []\n",
    "\n",
    "for row in match_hero_picks.iterrows():\n",
    "    rad_synergy = 0\n",
    "    dire_synergy = 0\n",
    "    #monkey king update\n",
    "    #228 hero vectors and 2 for synergy(114 and 229)\n",
    "    vec = [0]*230\n",
    "    vec_no_synergy = [0]*228\n",
    "    #get match id to create list of win/loss\n",
    "    match_id = row[1]['match_id']\n",
    "    rad_win = matches_df[matches_df['match_id']==match_id]['radiant_win']\n",
    "    if len(rad_win)<1:\n",
    "        continue\n",
    "    outcome.append(rad_win.values[0])\n",
    "    #create the vector of length 226 and populate accordingly\n",
    "    radiant_hero_picks = row[1][1:6]\n",
    "    dire_hero_picks = row[1][6:11]\n",
    "\n",
    "        \n",
    "    for k,v in itertools.combinations(radiant_hero_picks.values,2):\n",
    "        rad_synergy += synergy_matrix[k-1][v-1]\n",
    "    vec[114]=rad_synergy/7\n",
    "\n",
    "    for k,v in itertools.combinations(dire_hero_picks.values,2):\n",
    "        dire_synergy += synergy_matrix[k-1][v-1]\n",
    "    vec[229]=dire_synergy/7   \n",
    "    \n",
    "    for value in radiant_hero_picks.values:\n",
    "        try:\n",
    "            vec[value-1] = 1\n",
    "        except:\n",
    "            print value, ':', row\n",
    "        \n",
    "    for value in dire_hero_picks.values:\n",
    "        try:\n",
    "            vec[value+114] = 1\n",
    "        except:\n",
    "            print value, ':', row\n",
    "        \n",
    "    feature_list.append(vec)\n",
    "feature_df = pd.DataFrame(feature_list)"
   ]
  },
  {
   "cell_type": "code",
   "execution_count": 16,
   "metadata": {
    "collapsed": false
   },
   "outputs": [
    {
     "data": {
      "text/plain": [
       "1.0"
      ]
     },
     "execution_count": 16,
     "metadata": {},
     "output_type": "execute_result"
    }
   ],
   "source": [
    "feature_df.values.max()"
   ]
  },
  {
   "cell_type": "code",
   "execution_count": 17,
   "metadata": {
    "collapsed": false
   },
   "outputs": [
    {
     "data": {
      "text/plain": [
       "(48367, (48367, 230))"
      ]
     },
     "execution_count": 17,
     "metadata": {},
     "output_type": "execute_result"
    }
   ],
   "source": [
    "len(outcome), feature_df.shape"
   ]
  },
  {
   "cell_type": "code",
   "execution_count": 18,
   "metadata": {
    "collapsed": true
   },
   "outputs": [],
   "source": [
    "in_train, in_test, out_train,  out_test = train_test_split(feature_df, outcome, test_size=0.33)\n"
   ]
  },
  {
   "cell_type": "code",
   "execution_count": 19,
   "metadata": {
    "collapsed": false
   },
   "outputs": [
    {
     "data": {
      "text/plain": [
       "LogisticRegression(C=1.0, class_weight=None, dual=False, fit_intercept=True,\n",
       "          intercept_scaling=1, max_iter=100, multi_class='ovr', n_jobs=1,\n",
       "          penalty='l2', random_state=None, solver='liblinear', tol=0.0001,\n",
       "          verbose=0, warm_start=False)"
      ]
     },
     "execution_count": 19,
     "metadata": {},
     "output_type": "execute_result"
    }
   ],
   "source": [
    "#create model and train\n",
    "logreg = linear_model.LogisticRegression()\n",
    "logreg.fit(in_train, out_train)"
   ]
  },
  {
   "cell_type": "code",
   "execution_count": 20,
   "metadata": {
    "collapsed": false
   },
   "outputs": [
    {
     "name": "stdout",
     "output_type": "stream",
     "text": [
      "0.45645909034\n"
     ]
    }
   ],
   "source": [
    "output = logreg.predict(in_test)\n",
    "error = np.mean(output != out_test)\n",
    "print error"
   ]
  },
  {
   "cell_type": "code",
   "execution_count": 21,
   "metadata": {
    "collapsed": false
   },
   "outputs": [
    {
     "data": {
      "text/plain": [
       "RandomForestClassifier(bootstrap=True, class_weight=None, criterion='gini',\n",
       "            max_depth=None, max_features='auto', max_leaf_nodes=None,\n",
       "            min_impurity_split=1e-07, min_samples_leaf=1,\n",
       "            min_samples_split=2, min_weight_fraction_leaf=0.0,\n",
       "            n_estimators=10, n_jobs=1, oob_score=False, random_state=None,\n",
       "            verbose=0, warm_start=False)"
      ]
     },
     "execution_count": 21,
     "metadata": {},
     "output_type": "execute_result"
    }
   ],
   "source": [
    "rfc = RandomForestClassifier()\n",
    "rfc.fit(in_train, out_train)\n"
   ]
  },
  {
   "cell_type": "code",
   "execution_count": 22,
   "metadata": {
    "collapsed": false
   },
   "outputs": [
    {
     "name": "stdout",
     "output_type": "stream",
     "text": [
      "0.486530509961\n"
     ]
    }
   ],
   "source": [
    "output = rfc.predict(in_test)\n",
    "error = np.mean(output != out_test)\n",
    "print error"
   ]
  },
  {
   "cell_type": "code",
   "execution_count": null,
   "metadata": {
    "collapsed": true
   },
   "outputs": [],
   "source": []
  },
  {
   "cell_type": "code",
   "execution_count": null,
   "metadata": {
    "collapsed": true
   },
   "outputs": [],
   "source": [
    "#need to check if training error got better because testing error did not change much"
   ]
  },
  {
   "cell_type": "code",
   "execution_count": null,
   "metadata": {
    "collapsed": true
   },
   "outputs": [],
   "source": []
  }
 ],
 "metadata": {
  "kernelspec": {
   "display_name": "Python 2",
   "language": "python",
   "name": "python2"
  },
  "language_info": {
   "codemirror_mode": {
    "name": "ipython",
    "version": 2
   },
   "file_extension": ".py",
   "mimetype": "text/x-python",
   "name": "python",
   "nbconvert_exporter": "python",
   "pygments_lexer": "ipython2",
   "version": "2.7.13"
  }
 },
 "nbformat": 4,
 "nbformat_minor": 2
}
