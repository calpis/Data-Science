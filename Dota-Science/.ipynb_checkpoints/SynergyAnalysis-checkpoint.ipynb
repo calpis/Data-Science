{
 "cells": [
  {
   "cell_type": "markdown",
   "metadata": {},
   "source": [
    "# Synergy Analysis\n",
    "\n",
    "The goal of this notebook is to analyze pairs of heros and assess how much synergy is there.  Synergy will be defined primarily by win rate when a specific pair of heros are chosen in a match|"
   ]
  },
  {
   "cell_type": "code",
   "execution_count": 116,
   "metadata": {
    "collapsed": true
   },
   "outputs": [],
   "source": [
    "import pandas as pd\n",
    "import seaborn as sbn\n",
    "import psycopg2\n",
    "import numpy as np\n",
    "import itertools\n",
    "from matplotlib import pyplot\n",
    "\n",
    "%matplotlib inline"
   ]
  },
  {
   "cell_type": "code",
   "execution_count": 2,
   "metadata": {
    "collapsed": true
   },
   "outputs": [],
   "source": [
    "#progress bar widget https://github.com/alexanderkuk/log-progress\n",
    "def log_progress(sequence, every=None, size=None, name='Items'):\n",
    "    from ipywidgets import IntProgress, HTML, VBox\n",
    "    from IPython.display import display\n",
    "\n",
    "    is_iterator = False\n",
    "    if size is None:\n",
    "        try:\n",
    "            size = len(sequence)\n",
    "        except TypeError:\n",
    "            is_iterator = True\n",
    "    if size is not None:\n",
    "        if every is None:\n",
    "            if size <= 200:\n",
    "                every = 1\n",
    "            else:\n",
    "                every = int(size / 200)     # every 0.5%\n",
    "    else:\n",
    "        assert every is not None, 'sequence is iterator, set every'\n",
    "\n",
    "    if is_iterator:\n",
    "        progress = IntProgress(min=0, max=1, value=1)\n",
    "        progress.bar_style = 'info'\n",
    "    else:\n",
    "        progress = IntProgress(min=0, max=size, value=0)\n",
    "    label = HTML()\n",
    "    box = VBox(children=[label, progress])\n",
    "    display(box)\n",
    "\n",
    "    index = 0\n",
    "    try:\n",
    "        for index, record in enumerate(sequence, 1):\n",
    "            if index == 1 or index % every == 0:\n",
    "                if is_iterator:\n",
    "                    label.value = '{name}: {index} / ?'.format(\n",
    "                        name=name,\n",
    "                        index=index\n",
    "                    )\n",
    "                else:\n",
    "                    progress.value = index\n",
    "                    label.value = u'{name}: {index} / {size}'.format(\n",
    "                        name=name,\n",
    "                        index=index,\n",
    "                        size=size\n",
    "                    )\n",
    "            yield record\n",
    "    except:\n",
    "        progress.bar_style = 'danger'\n",
    "        raise\n",
    "    else:\n",
    "        progress.bar_style = 'success'\n",
    "        progress.value = index\n",
    "        label.value = \"{name}: {index}\".format(\n",
    "            name=name,\n",
    "            index=str(index or '?')\n",
    "        )"
   ]
  },
  {
   "cell_type": "code",
   "execution_count": 3,
   "metadata": {
    "collapsed": true
   },
   "outputs": [],
   "source": [
    "##Functinons\n",
    "def unstack_simplify(df):\n",
    "    return df.unstack().iloc[10:20].reset_index(drop=True)"
   ]
  },
  {
   "cell_type": "code",
   "execution_count": 4,
   "metadata": {
    "collapsed": true
   },
   "outputs": [],
   "source": [
    "#Postgres connection\n",
    "hostname = 'localhost'\n",
    "username = 'postgres'\n",
    "password = ''\n",
    "database = 'dota2_data'\n"
   ]
  },
  {
   "cell_type": "code",
   "execution_count": 5,
   "metadata": {
    "collapsed": false
   },
   "outputs": [],
   "source": [
    "#get data from db and store into df\n",
    "\n",
    "myConnection = psycopg2.connect(host=hostname, user=username, password=password, dbname=database)\n",
    "cur = myConnection.cursor()\n",
    "matches_df = pd.read_sql_query(\"select * from matches\", myConnection)\n",
    "players_df = pd.read_sql_query(\"select match_id, hero_id, account_id, player_slot from player_matches\", myConnection)\n",
    "heros_df = pd.read_sql_query(\"select * from heroes\", myConnection)"
   ]
  },
  {
   "cell_type": "code",
   "execution_count": 37,
   "metadata": {
    "collapsed": false
   },
   "outputs": [
    {
     "data": {
      "text/html": [
       "<div>\n",
       "<table border=\"1\" class=\"dataframe\">\n",
       "  <thead>\n",
       "    <tr style=\"text-align: right;\">\n",
       "      <th></th>\n",
       "      <th>id</th>\n",
       "    </tr>\n",
       "  </thead>\n",
       "  <tbody>\n",
       "    <tr>\n",
       "      <th>count</th>\n",
       "      <td>113.000000</td>\n",
       "    </tr>\n",
       "    <tr>\n",
       "      <th>mean</th>\n",
       "      <td>57.796460</td>\n",
       "    </tr>\n",
       "    <tr>\n",
       "      <th>std</th>\n",
       "      <td>33.047628</td>\n",
       "    </tr>\n",
       "    <tr>\n",
       "      <th>min</th>\n",
       "      <td>1.000000</td>\n",
       "    </tr>\n",
       "    <tr>\n",
       "      <th>25%</th>\n",
       "      <td>30.000000</td>\n",
       "    </tr>\n",
       "    <tr>\n",
       "      <th>50%</th>\n",
       "      <td>58.000000</td>\n",
       "    </tr>\n",
       "    <tr>\n",
       "      <th>75%</th>\n",
       "      <td>86.000000</td>\n",
       "    </tr>\n",
       "    <tr>\n",
       "      <th>max</th>\n",
       "      <td>114.000000</td>\n",
       "    </tr>\n",
       "  </tbody>\n",
       "</table>\n",
       "</div>"
      ],
      "text/plain": [
       "               id\n",
       "count  113.000000\n",
       "mean    57.796460\n",
       "std     33.047628\n",
       "min      1.000000\n",
       "25%     30.000000\n",
       "50%     58.000000\n",
       "75%     86.000000\n",
       "max    114.000000"
      ]
     },
     "execution_count": 37,
     "metadata": {},
     "output_type": "execute_result"
    }
   ],
   "source": [
    "heros_df.describe()"
   ]
  },
  {
   "cell_type": "code",
   "execution_count": 19,
   "metadata": {
    "collapsed": false
   },
   "outputs": [
    {
     "data": {
      "text/html": [
       "<div>\n",
       "<table border=\"1\" class=\"dataframe\">\n",
       "  <thead>\n",
       "    <tr style=\"text-align: right;\">\n",
       "      <th></th>\n",
       "      <th>match_id</th>\n",
       "      <th>radiant_win</th>\n",
       "    </tr>\n",
       "  </thead>\n",
       "  <tbody>\n",
       "    <tr>\n",
       "      <th>0</th>\n",
       "      <td>3322271227</td>\n",
       "      <td>False</td>\n",
       "    </tr>\n",
       "    <tr>\n",
       "      <th>1</th>\n",
       "      <td>3272973484</td>\n",
       "      <td>False</td>\n",
       "    </tr>\n",
       "    <tr>\n",
       "      <th>2</th>\n",
       "      <td>1297534463</td>\n",
       "      <td>True</td>\n",
       "    </tr>\n",
       "    <tr>\n",
       "      <th>3</th>\n",
       "      <td>3096171067</td>\n",
       "      <td>True</td>\n",
       "    </tr>\n",
       "    <tr>\n",
       "      <th>4</th>\n",
       "      <td>3322227871</td>\n",
       "      <td>False</td>\n",
       "    </tr>\n",
       "  </tbody>\n",
       "</table>\n",
       "</div>"
      ],
      "text/plain": [
       "     match_id radiant_win\n",
       "0  3322271227       False\n",
       "1  3272973484       False\n",
       "2  1297534463        True\n",
       "3  3096171067        True\n",
       "4  3322227871       False"
      ]
     },
     "execution_count": 19,
     "metadata": {},
     "output_type": "execute_result"
    }
   ],
   "source": [
    "radiant_win = matches_df[['match_id','radiant_win']]\n",
    "radiant_win.head()"
   ]
  },
  {
   "cell_type": "code",
   "execution_count": 6,
   "metadata": {
    "collapsed": false
   },
   "outputs": [
    {
     "data": {
      "text/html": [
       "<div>\n",
       "<table border=\"1\" class=\"dataframe\">\n",
       "  <thead>\n",
       "    <tr style=\"text-align: right;\">\n",
       "      <th></th>\n",
       "      <th>id</th>\n",
       "      <th>name</th>\n",
       "      <th>localized_name</th>\n",
       "      <th>primary_attr</th>\n",
       "      <th>attack_type</th>\n",
       "      <th>roles</th>\n",
       "    </tr>\n",
       "  </thead>\n",
       "  <tbody>\n",
       "    <tr>\n",
       "      <th>0</th>\n",
       "      <td>21</td>\n",
       "      <td>npc_dota_hero_windrunner</td>\n",
       "      <td>Windranger</td>\n",
       "      <td>int</td>\n",
       "      <td>Ranged</td>\n",
       "      <td>[Carry, Support, Disabler, Escape, Nuker]</td>\n",
       "    </tr>\n",
       "    <tr>\n",
       "      <th>1</th>\n",
       "      <td>26</td>\n",
       "      <td>npc_dota_hero_lion</td>\n",
       "      <td>Lion</td>\n",
       "      <td>int</td>\n",
       "      <td>Ranged</td>\n",
       "      <td>[Support, Disabler, Nuker, Initiator]</td>\n",
       "    </tr>\n",
       "    <tr>\n",
       "      <th>2</th>\n",
       "      <td>36</td>\n",
       "      <td>npc_dota_hero_necrolyte</td>\n",
       "      <td>Necrophos</td>\n",
       "      <td>int</td>\n",
       "      <td>Ranged</td>\n",
       "      <td>[Carry, Nuker, Durable, Disabler]</td>\n",
       "    </tr>\n",
       "    <tr>\n",
       "      <th>3</th>\n",
       "      <td>41</td>\n",
       "      <td>npc_dota_hero_faceless_void</td>\n",
       "      <td>Faceless Void</td>\n",
       "      <td>agi</td>\n",
       "      <td>Melee</td>\n",
       "      <td>[Carry, Initiator, Disabler, Escape, Durable]</td>\n",
       "    </tr>\n",
       "    <tr>\n",
       "      <th>4</th>\n",
       "      <td>46</td>\n",
       "      <td>npc_dota_hero_templar_assassin</td>\n",
       "      <td>Templar Assassin</td>\n",
       "      <td>agi</td>\n",
       "      <td>Ranged</td>\n",
       "      <td>[Carry, Escape]</td>\n",
       "    </tr>\n",
       "  </tbody>\n",
       "</table>\n",
       "</div>"
      ],
      "text/plain": [
       "   id                            name    localized_name primary_attr  \\\n",
       "0  21        npc_dota_hero_windrunner        Windranger          int   \n",
       "1  26              npc_dota_hero_lion              Lion          int   \n",
       "2  36         npc_dota_hero_necrolyte         Necrophos          int   \n",
       "3  41     npc_dota_hero_faceless_void     Faceless Void          agi   \n",
       "4  46  npc_dota_hero_templar_assassin  Templar Assassin          agi   \n",
       "\n",
       "  attack_type                                          roles  \n",
       "0      Ranged      [Carry, Support, Disabler, Escape, Nuker]  \n",
       "1      Ranged          [Support, Disabler, Nuker, Initiator]  \n",
       "2      Ranged              [Carry, Nuker, Durable, Disabler]  \n",
       "3       Melee  [Carry, Initiator, Disabler, Escape, Durable]  \n",
       "4      Ranged                                [Carry, Escape]  "
      ]
     },
     "execution_count": 6,
     "metadata": {},
     "output_type": "execute_result"
    }
   ],
   "source": [
    "heros_df.head()"
   ]
  },
  {
   "cell_type": "code",
   "execution_count": 7,
   "metadata": {
    "collapsed": false
   },
   "outputs": [
    {
     "data": {
      "text/html": [
       "<div>\n",
       "<table border=\"1\" class=\"dataframe\">\n",
       "  <thead>\n",
       "    <tr style=\"text-align: right;\">\n",
       "      <th></th>\n",
       "      <th>match_id</th>\n",
       "      <th>hero_id</th>\n",
       "      <th>account_id</th>\n",
       "      <th>player_slot</th>\n",
       "    </tr>\n",
       "  </thead>\n",
       "  <tbody>\n",
       "    <tr>\n",
       "      <th>248394</th>\n",
       "      <td>17955123</td>\n",
       "      <td>31</td>\n",
       "      <td>89782335</td>\n",
       "      <td>0</td>\n",
       "    </tr>\n",
       "    <tr>\n",
       "      <th>248395</th>\n",
       "      <td>17955123</td>\n",
       "      <td>32</td>\n",
       "      <td>82262664</td>\n",
       "      <td>1</td>\n",
       "    </tr>\n",
       "    <tr>\n",
       "      <th>248396</th>\n",
       "      <td>17955123</td>\n",
       "      <td>29</td>\n",
       "      <td>92926005</td>\n",
       "      <td>2</td>\n",
       "    </tr>\n",
       "    <tr>\n",
       "      <th>248397</th>\n",
       "      <td>17955123</td>\n",
       "      <td>39</td>\n",
       "      <td>85815961</td>\n",
       "      <td>3</td>\n",
       "    </tr>\n",
       "    <tr>\n",
       "      <th>248398</th>\n",
       "      <td>17955123</td>\n",
       "      <td>52</td>\n",
       "      <td>93712171</td>\n",
       "      <td>4</td>\n",
       "    </tr>\n",
       "    <tr>\n",
       "      <th>248399</th>\n",
       "      <td>17955123</td>\n",
       "      <td>9</td>\n",
       "      <td>69325073</td>\n",
       "      <td>128</td>\n",
       "    </tr>\n",
       "    <tr>\n",
       "      <th>307657</th>\n",
       "      <td>17955123</td>\n",
       "      <td>79</td>\n",
       "      <td>58017868</td>\n",
       "      <td>129</td>\n",
       "    </tr>\n",
       "    <tr>\n",
       "      <th>307658</th>\n",
       "      <td>17955123</td>\n",
       "      <td>28</td>\n",
       "      <td>88704095</td>\n",
       "      <td>130</td>\n",
       "    </tr>\n",
       "    <tr>\n",
       "      <th>307659</th>\n",
       "      <td>17955123</td>\n",
       "      <td>21</td>\n",
       "      <td>86747757</td>\n",
       "      <td>131</td>\n",
       "    </tr>\n",
       "    <tr>\n",
       "      <th>307660</th>\n",
       "      <td>17955123</td>\n",
       "      <td>33</td>\n",
       "      <td>88792641</td>\n",
       "      <td>132</td>\n",
       "    </tr>\n",
       "  </tbody>\n",
       "</table>\n",
       "</div>"
      ],
      "text/plain": [
       "        match_id  hero_id  account_id  player_slot\n",
       "248394  17955123       31    89782335            0\n",
       "248395  17955123       32    82262664            1\n",
       "248396  17955123       29    92926005            2\n",
       "248397  17955123       39    85815961            3\n",
       "248398  17955123       52    93712171            4\n",
       "248399  17955123        9    69325073          128\n",
       "307657  17955123       79    58017868          129\n",
       "307658  17955123       28    88704095          130\n",
       "307659  17955123       21    86747757          131\n",
       "307660  17955123       33    88792641          132"
      ]
     },
     "execution_count": 7,
     "metadata": {},
     "output_type": "execute_result"
    }
   ],
   "source": [
    "players_df = players_df.sort_values(['match_id', 'player_slot'])\n",
    "players_df.head(10)"
   ]
  },
  {
   "cell_type": "markdown",
   "metadata": {},
   "source": [
    "Some issues found with players_df. Some of the matches do not have 10 rows as expected, which was breaking the unstacking of the dataframe when processing the data. Will need to do some cleaning here"
   ]
  },
  {
   "cell_type": "code",
   "execution_count": 8,
   "metadata": {
    "collapsed": false
   },
   "outputs": [
    {
     "name": "stdout",
     "output_type": "stream",
     "text": [
      "(480000, 4)\n"
     ]
    },
    {
     "data": {
      "text/plain": [
       "(479980, 4)"
      ]
     },
     "execution_count": 8,
     "metadata": {},
     "output_type": "execute_result"
    }
   ],
   "source": [
    "#Some matches do not have 10 rows\n",
    "print players_df.shape\n",
    "test = players_df.groupby(['match_id']).agg('count')\n",
    "bad_matches = test[test['hero_id']!=10].index.values\n",
    "bad_matches\n",
    "players_df = players_df[~players_df['match_id'].isin(bad_matches)]\n",
    "players_df.shape"
   ]
  },
  {
   "cell_type": "code",
   "execution_count": 10,
   "metadata": {
    "collapsed": false
   },
   "outputs": [],
   "source": [
    "# #unstack df\n",
    "# matches = players_df.groupby('match_id').apply(unstack_simplify)\n",
    "# matches.head()\n",
    "\n",
    "# ##save matches for performance reasons\n",
    "# matches.to_csv('synergy_matches.csv')\n"
   ]
  },
  {
   "cell_type": "code",
   "execution_count": 11,
   "metadata": {
    "collapsed": true
   },
   "outputs": [],
   "source": [
    "##save matches out to save time\n",
    "matches = pd.read_csv('synergy_matches.csv')"
   ]
  },
  {
   "cell_type": "code",
   "execution_count": 22,
   "metadata": {
    "collapsed": false
   },
   "outputs": [
    {
     "data": {
      "text/html": [
       "<div>\n",
       "<table border=\"1\" class=\"dataframe\">\n",
       "  <thead>\n",
       "    <tr style=\"text-align: right;\">\n",
       "      <th></th>\n",
       "      <th>match_id</th>\n",
       "      <th>0</th>\n",
       "      <th>1</th>\n",
       "      <th>2</th>\n",
       "      <th>3</th>\n",
       "      <th>4</th>\n",
       "      <th>5</th>\n",
       "      <th>6</th>\n",
       "      <th>7</th>\n",
       "      <th>8</th>\n",
       "      <th>9</th>\n",
       "    </tr>\n",
       "  </thead>\n",
       "  <tbody>\n",
       "    <tr>\n",
       "      <th>0</th>\n",
       "      <td>17955123</td>\n",
       "      <td>31</td>\n",
       "      <td>32</td>\n",
       "      <td>29</td>\n",
       "      <td>39</td>\n",
       "      <td>52</td>\n",
       "      <td>9</td>\n",
       "      <td>79</td>\n",
       "      <td>28</td>\n",
       "      <td>21</td>\n",
       "      <td>33</td>\n",
       "    </tr>\n",
       "    <tr>\n",
       "      <th>1</th>\n",
       "      <td>17962237</td>\n",
       "      <td>53</td>\n",
       "      <td>39</td>\n",
       "      <td>29</td>\n",
       "      <td>10</td>\n",
       "      <td>79</td>\n",
       "      <td>41</td>\n",
       "      <td>55</td>\n",
       "      <td>40</td>\n",
       "      <td>74</td>\n",
       "      <td>33</td>\n",
       "    </tr>\n",
       "    <tr>\n",
       "      <th>2</th>\n",
       "      <td>17972480</td>\n",
       "      <td>33</td>\n",
       "      <td>17</td>\n",
       "      <td>21</td>\n",
       "      <td>53</td>\n",
       "      <td>20</td>\n",
       "      <td>62</td>\n",
       "      <td>74</td>\n",
       "      <td>55</td>\n",
       "      <td>65</td>\n",
       "      <td>40</td>\n",
       "    </tr>\n",
       "    <tr>\n",
       "      <th>3</th>\n",
       "      <td>18096178</td>\n",
       "      <td>33</td>\n",
       "      <td>40</td>\n",
       "      <td>74</td>\n",
       "      <td>60</td>\n",
       "      <td>38</td>\n",
       "      <td>52</td>\n",
       "      <td>16</td>\n",
       "      <td>21</td>\n",
       "      <td>79</td>\n",
       "      <td>80</td>\n",
       "    </tr>\n",
       "    <tr>\n",
       "      <th>4</th>\n",
       "      <td>18244878</td>\n",
       "      <td>31</td>\n",
       "      <td>16</td>\n",
       "      <td>9</td>\n",
       "      <td>74</td>\n",
       "      <td>33</td>\n",
       "      <td>52</td>\n",
       "      <td>1</td>\n",
       "      <td>21</td>\n",
       "      <td>3</td>\n",
       "      <td>38</td>\n",
       "    </tr>\n",
       "  </tbody>\n",
       "</table>\n",
       "</div>"
      ],
      "text/plain": [
       "   match_id   0   1   2   3   4   5   6   7   8   9\n",
       "0  17955123  31  32  29  39  52   9  79  28  21  33\n",
       "1  17962237  53  39  29  10  79  41  55  40  74  33\n",
       "2  17972480  33  17  21  53  20  62  74  55  65  40\n",
       "3  18096178  33  40  74  60  38  52  16  21  79  80\n",
       "4  18244878  31  16   9  74  33  52   1  21   3  38"
      ]
     },
     "execution_count": 22,
     "metadata": {},
     "output_type": "execute_result"
    }
   ],
   "source": [
    "matches.head(5)"
   ]
  },
  {
   "cell_type": "code",
   "execution_count": 35,
   "metadata": {
    "collapsed": false
   },
   "outputs": [
    {
     "data": {
      "text/html": [
       "<div>\n",
       "<table border=\"1\" class=\"dataframe\">\n",
       "  <thead>\n",
       "    <tr style=\"text-align: right;\">\n",
       "      <th></th>\n",
       "      <th>match_id</th>\n",
       "      <th>0</th>\n",
       "      <th>1</th>\n",
       "      <th>2</th>\n",
       "      <th>3</th>\n",
       "      <th>4</th>\n",
       "      <th>5</th>\n",
       "      <th>6</th>\n",
       "      <th>7</th>\n",
       "      <th>8</th>\n",
       "      <th>9</th>\n",
       "      <th>radiant_win</th>\n",
       "    </tr>\n",
       "  </thead>\n",
       "  <tbody>\n",
       "    <tr>\n",
       "      <th>0</th>\n",
       "      <td>17972480</td>\n",
       "      <td>33</td>\n",
       "      <td>17</td>\n",
       "      <td>21</td>\n",
       "      <td>53</td>\n",
       "      <td>20</td>\n",
       "      <td>62</td>\n",
       "      <td>74</td>\n",
       "      <td>55</td>\n",
       "      <td>65</td>\n",
       "      <td>40</td>\n",
       "      <td>False</td>\n",
       "    </tr>\n",
       "    <tr>\n",
       "      <th>1</th>\n",
       "      <td>18096178</td>\n",
       "      <td>33</td>\n",
       "      <td>40</td>\n",
       "      <td>74</td>\n",
       "      <td>60</td>\n",
       "      <td>38</td>\n",
       "      <td>52</td>\n",
       "      <td>16</td>\n",
       "      <td>21</td>\n",
       "      <td>79</td>\n",
       "      <td>80</td>\n",
       "      <td>False</td>\n",
       "    </tr>\n",
       "    <tr>\n",
       "      <th>2</th>\n",
       "      <td>18244878</td>\n",
       "      <td>31</td>\n",
       "      <td>16</td>\n",
       "      <td>9</td>\n",
       "      <td>74</td>\n",
       "      <td>33</td>\n",
       "      <td>52</td>\n",
       "      <td>1</td>\n",
       "      <td>21</td>\n",
       "      <td>3</td>\n",
       "      <td>38</td>\n",
       "      <td>False</td>\n",
       "    </tr>\n",
       "    <tr>\n",
       "      <th>3</th>\n",
       "      <td>18247965</td>\n",
       "      <td>40</td>\n",
       "      <td>28</td>\n",
       "      <td>74</td>\n",
       "      <td>9</td>\n",
       "      <td>79</td>\n",
       "      <td>78</td>\n",
       "      <td>31</td>\n",
       "      <td>13</td>\n",
       "      <td>52</td>\n",
       "      <td>16</td>\n",
       "      <td>True</td>\n",
       "    </tr>\n",
       "    <tr>\n",
       "      <th>4</th>\n",
       "      <td>18355350</td>\n",
       "      <td>33</td>\n",
       "      <td>21</td>\n",
       "      <td>83</td>\n",
       "      <td>52</td>\n",
       "      <td>45</td>\n",
       "      <td>78</td>\n",
       "      <td>31</td>\n",
       "      <td>74</td>\n",
       "      <td>79</td>\n",
       "      <td>63</td>\n",
       "      <td>True</td>\n",
       "    </tr>\n",
       "  </tbody>\n",
       "</table>\n",
       "</div>"
      ],
      "text/plain": [
       "   match_id   0   1   2   3   4   5   6   7   8   9 radiant_win\n",
       "0  17972480  33  17  21  53  20  62  74  55  65  40       False\n",
       "1  18096178  33  40  74  60  38  52  16  21  79  80       False\n",
       "2  18244878  31  16   9  74  33  52   1  21   3  38       False\n",
       "3  18247965  40  28  74   9  79  78  31  13  52  16        True\n",
       "4  18355350  33  21  83  52  45  78  31  74  79  63        True"
      ]
     },
     "execution_count": 35,
     "metadata": {},
     "output_type": "execute_result"
    }
   ],
   "source": [
    "##Join matches and radiant_win\n",
    "matches = matches.merge(radiant_win)\n",
    "matches.head()"
   ]
  },
  {
   "cell_type": "code",
   "execution_count": 110,
   "metadata": {
    "collapsed": false
   },
   "outputs": [
    {
     "data": {
      "text/plain": [
       "array([[  0.,  69.,  72., ...,  79.,   1.,   6.],\n",
       "       [ 69.,   0.,  51., ...,  47.,   2.,  25.],\n",
       "       [ 72.,  51.,   0., ...,  46.,   0.,   0.],\n",
       "       ..., \n",
       "       [ 79.,  47.,  46., ...,   0.,   0.,   6.],\n",
       "       [  1.,   2.,   0., ...,   0.,   0.,   0.],\n",
       "       [  6.,  25.,   0., ...,   6.,   0.,   0.]])"
      ]
     },
     "execution_count": 110,
     "metadata": {},
     "output_type": "execute_result"
    }
   ],
   "source": [
    "##have 114 heros, so need a matrix of 114x114 to encode\n",
    "##win rate with pairs of heros\n",
    "synergy_matrix = np.zeros((114,114))\n",
    "syn_df = pd.DataFrame()\n",
    "syn_list = []\n",
    "##process matches matrix so we get only the winning 5 heroes\n",
    "counter = 0\n",
    "for row in matches.iterrows():\n",
    "    if row[1]['radiant_win']==False:\n",
    "        ids = row[1][6:11].values\n",
    "    else:\n",
    "        ids= row[1][1:6].values\n",
    "    for i in itertools.combinations(ids, 2):\n",
    "        synergy_matrix[i[0]-1,i[1]-1]+=1\n",
    "        synergy_matrix[i[1]-1,i[0]-1]+=1\n",
    "\n",
    "synergy_matrix"
   ]
  },
  {
   "cell_type": "code",
   "execution_count": 111,
   "metadata": {
    "collapsed": false
   },
   "outputs": [],
   "source": [
    "##get match count of total for each match\n",
    "match_count_matrix = np.zeros((114,114))\n",
    "for row in matches.iterrows():\n",
    "    #separate first 5 heroes and last 5 heroes, then \n",
    "    #do a pairwise count and update matrix\n",
    "    first = row[1][1:6].values\n",
    "    last = row[1][6:11].values\n",
    "    for i in itertools.combinations(first,2):\n",
    "        match_count_matrix[i[0]-1,i[1]-1]+=1\n",
    "        match_count_matrix[i[1]-1,i[0]-1]+=1\n",
    "    for i in itertools.combinations(last,2):\n",
    "        match_count_matrix[i[0]-1,i[1]-1]+=1\n",
    "        match_count_matrix[i[1]-1,i[0]-1]+=1\n",
    "\n",
    "##adjust 0 values to 1 for division later\n",
    "for index, x in np.ndenumerate(match_count_matrix):\n",
    "    if x==0:\n",
    "        match_count_matrix[index[0],index[1]]+=1\n"
   ]
  },
  {
   "cell_type": "code",
   "execution_count": 112,
   "metadata": {
    "collapsed": false
   },
   "outputs": [
    {
     "data": {
      "text/plain": [
       "array([[   1.,  142.,  140., ...,  142.,    1.,   19.],\n",
       "       [ 142.,    1.,   92., ...,  108.,    4.,   51.],\n",
       "       [ 140.,   92.,    1., ...,  102.,    1.,    3.],\n",
       "       ..., \n",
       "       [ 142.,  108.,  102., ...,    1.,    1.,    9.],\n",
       "       [   1.,    4.,    1., ...,    1.,    1.,    4.],\n",
       "       [  19.,   51.,    3., ...,    9.,    4.,    1.]])"
      ]
     },
     "execution_count": 112,
     "metadata": {},
     "output_type": "execute_result"
    }
   ],
   "source": [
    "match_count_matrix"
   ]
  },
  {
   "cell_type": "code",
   "execution_count": 121,
   "metadata": {
    "collapsed": false
   },
   "outputs": [],
   "source": [
    "syn_matrix = np.divide(synergy_matrix, match_count_matrix)\n",
    "np.savetxt('synergy_matrix.csv', syn_matrix, delimiter=\",\")\n"
   ]
  },
  {
   "cell_type": "code",
   "execution_count": 114,
   "metadata": {
    "collapsed": false
   },
   "outputs": [
    {
     "data": {
      "text/plain": [
       "1.0"
      ]
     },
     "execution_count": 114,
     "metadata": {},
     "output_type": "execute_result"
    }
   ],
   "source": [
    "##make sure values are ok. max shouldn't be > 1\n",
    "np.amax(syn_matrix)"
   ]
  },
  {
   "cell_type": "code",
   "execution_count": 118,
   "metadata": {
    "collapsed": false
   },
   "outputs": [
    {
     "data": {
      "text/plain": [
       "<matplotlib.axes._subplots.AxesSubplot at 0x11d3b8610>"
      ]
     },
     "execution_count": 118,
     "metadata": {},
     "output_type": "execute_result"
    },
    {
     "data": {
      "image/png": "[encoded data removed]",
      "text/plain": [
       "<matplotlib.figure.Figure at 0x1240e0cd0>"
      ]
     },
     "metadata": {},
     "output_type": "display_data"
    }
   ],
   "source": [
    "#plot the heatmap\n",
    "dims = (15,15)\n",
    "fig, ax = pyplot.subplots(figsize=dims)\n",
    "\n",
    "sbn.heatmap(syn_matrix, ax=ax)"
   ]
  },
  {
   "cell_type": "code",
   "execution_count": 120,
   "metadata": {
    "collapsed": false
   },
   "outputs": [
    {
     "data": {
      "text/html": [
       "<div>\n",
       "<table border=\"1\" class=\"dataframe\">\n",
       "  <thead>\n",
       "    <tr style=\"text-align: right;\">\n",
       "      <th></th>\n",
       "      <th>id</th>\n",
       "      <th>name</th>\n",
       "      <th>localized_name</th>\n",
       "      <th>primary_attr</th>\n",
       "      <th>attack_type</th>\n",
       "      <th>roles</th>\n",
       "    </tr>\n",
       "  </thead>\n",
       "  <tbody>\n",
       "    <tr>\n",
       "      <th>62</th>\n",
       "      <td>23</td>\n",
       "      <td>npc_dota_hero_kunkka</td>\n",
       "      <td>Kunkka</td>\n",
       "      <td>str</td>\n",
       "      <td>Melee</td>\n",
       "      <td>[Carry, Disabler, Initiator, Durable, Nuker]</td>\n",
       "    </tr>\n",
       "  </tbody>\n",
       "</table>\n",
       "</div>"
      ],
      "text/plain": [
       "    id                  name localized_name primary_attr attack_type  \\\n",
       "62  23  npc_dota_hero_kunkka         Kunkka          str       Melee   \n",
       "\n",
       "                                           roles  \n",
       "62  [Carry, Disabler, Initiator, Durable, Nuker]  "
      ]
     },
     "execution_count": 120,
     "metadata": {},
     "output_type": "execute_result"
    }
   ],
   "source": [
    "#no one likes hero 23 :/\n",
    "heros_df[heros_df['id']==23]"
   ]
  },
  {
   "cell_type": "code",
   "execution_count": null,
   "metadata": {
    "collapsed": true
   },
   "outputs": [],
   "source": []
  },
  {
   "cell_type": "code",
   "execution_count": null,
   "metadata": {
    "collapsed": true
   },
   "outputs": [],
   "source": []
  },
  {
   "cell_type": "code",
   "execution_count": 30,
   "metadata": {
    "collapsed": false
   },
   "outputs": [
    {
     "data": {
      "text/html": [
       "<div>\n",
       "<table border=\"1\" class=\"dataframe\">\n",
       "  <thead>\n",
       "    <tr style=\"text-align: right;\">\n",
       "      <th></th>\n",
       "      <th>match_id</th>\n",
       "      <th>radiant_win</th>\n",
       "      <th>start_time</th>\n",
       "    </tr>\n",
       "  </thead>\n",
       "  <tbody>\n",
       "    <tr>\n",
       "      <th>0</th>\n",
       "      <td>1340936766</td>\n",
       "      <td>True</td>\n",
       "      <td>1427043504</td>\n",
       "    </tr>\n",
       "    <tr>\n",
       "      <th>1</th>\n",
       "      <td>1297534463</td>\n",
       "      <td>True</td>\n",
       "      <td>1425602112</td>\n",
       "    </tr>\n",
       "    <tr>\n",
       "      <th>2</th>\n",
       "      <td>1121216226</td>\n",
       "      <td>True</td>\n",
       "      <td>1419718875</td>\n",
       "    </tr>\n",
       "    <tr>\n",
       "      <th>3</th>\n",
       "      <td>1118709508</td>\n",
       "      <td>True</td>\n",
       "      <td>1419639325</td>\n",
       "    </tr>\n",
       "    <tr>\n",
       "      <th>4</th>\n",
       "      <td>962134110</td>\n",
       "      <td>True</td>\n",
       "      <td>1413381801</td>\n",
       "    </tr>\n",
       "  </tbody>\n",
       "</table>\n",
       "</div>"
      ],
      "text/plain": [
       "     match_id radiant_win  start_time\n",
       "0  1340936766        True  1427043504\n",
       "1  1297534463        True  1425602112\n",
       "2  1121216226        True  1419718875\n",
       "3  1118709508        True  1419639325\n",
       "4   962134110        True  1413381801"
      ]
     },
     "execution_count": 30,
     "metadata": {},
     "output_type": "execute_result"
    }
   ],
   "source": [
    "matches_df.dropna(axis=1, inplace=True)\n",
    "matches_df.head()"
   ]
  },
  {
   "cell_type": "code",
   "execution_count": 70,
   "metadata": {
    "collapsed": false
   },
   "outputs": [
    {
     "data": {
      "text/plain": [
       "0     31\n",
       "1     32\n",
       "2     29\n",
       "3     39\n",
       "4     52\n",
       "5      9\n",
       "6     79\n",
       "7     28\n",
       "8     21\n",
       "9     33\n",
       "10    53\n",
       "11    39\n",
       "12    29\n",
       "13    10\n",
       "14    79\n",
       "15    41\n",
       "16    55\n",
       "17    40\n",
       "18    74\n",
       "19    33\n",
       "dtype: int64"
      ]
     },
     "execution_count": 70,
     "metadata": {},
     "output_type": "execute_result"
    }
   ],
   "source": [
    "#Create one dataframe where for each match_id, there are 10 columns for the heros\n",
    "#takes time so save df into csv\n",
    "\n",
    "agg_df = players_df.head(20).groupby('match_id').apply(unstack_simplify)\n",
    "agg_df.to_csv('synergy_analysis_agg_df.csv')\n",
    "agg_df.reset_index(drop=True)"
   ]
  },
  {
   "cell_type": "code",
   "execution_count": null,
   "metadata": {
    "collapsed": true
   },
   "outputs": [],
   "source": []
  }
 ],
 "metadata": {
  "kernelspec": {
   "display_name": "Python 2",
   "language": "python",
   "name": "python2"
  },
  "language_info": {
   "codemirror_mode": {
    "name": "ipython",
    "version": 2
   },
   "file_extension": ".py",
   "mimetype": "text/x-python",
   "name": "python",
   "nbconvert_exporter": "python",
   "pygments_lexer": "ipython2",
   "version": "2.7.13"
  }
 },
 "nbformat": 4,
 "nbformat_minor": 2
}
