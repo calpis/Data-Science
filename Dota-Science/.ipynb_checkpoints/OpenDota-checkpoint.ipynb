{
 "cells": [
  {
   "cell_type": "markdown",
   "metadata": {},
   "source": [
    "# Notebook to fetch data from opendota"
   ]
  },
  {
   "cell_type": "code",
   "execution_count": 1,
   "metadata": {
    "collapsed": false
   },
   "outputs": [
    {
     "name": "stdout",
     "output_type": "stream",
     "text": [
      "CPU times: user 76.6 ms, sys: 31.7 ms, total: 108 ms\n",
      "Wall time: 123 ms\n"
     ]
    }
   ],
   "source": [
    "%%time\n",
    "import dota2api\n",
    "\n",
    "#for rest api usage\n",
    "import requests\n",
    "\n",
    "#for pgadmin\n",
    "import psycopg2\n",
    "\n",
    "import time\n"
   ]
  },
  {
   "cell_type": "code",
   "execution_count": 2,
   "metadata": {
    "collapsed": true
   },
   "outputs": [],
   "source": [
    "#progress bar widget https://github.com/alexanderkuk/log-progress\n",
    "def log_progress(sequence, every=None, size=None, name='Items'):\n",
    "    from ipywidgets import IntProgress, HTML, VBox\n",
    "    from IPython.display import display\n",
    "\n",
    "    is_iterator = False\n",
    "    if size is None:\n",
    "        try:\n",
    "            size = len(sequence)\n",
    "        except TypeError:\n",
    "            is_iterator = True\n",
    "    if size is not None:\n",
    "        if every is None:\n",
    "            if size <= 200:\n",
    "                every = 1\n",
    "            else:\n",
    "                every = int(size / 200)     # every 0.5%\n",
    "    else:\n",
    "        assert every is not None, 'sequence is iterator, set every'\n",
    "\n",
    "    if is_iterator:\n",
    "        progress = IntProgress(min=0, max=1, value=1)\n",
    "        progress.bar_style = 'info'\n",
    "    else:\n",
    "        progress = IntProgress(min=0, max=size, value=0)\n",
    "    label = HTML()\n",
    "    box = VBox(children=[label, progress])\n",
    "    display(box)\n",
    "\n",
    "    index = 0\n",
    "    try:\n",
    "        for index, record in enumerate(sequence, 1):\n",
    "            if index == 1 or index % every == 0:\n",
    "                if is_iterator:\n",
    "                    label.value = '{name}: {index} / ?'.format(\n",
    "                        name=name,\n",
    "                        index=index\n",
    "                    )\n",
    "                else:\n",
    "                    progress.value = index\n",
    "                    label.value = u'{name}: {index} / {size}'.format(\n",
    "                        name=name,\n",
    "                        index=index,\n",
    "                        size=size\n",
    "                    )\n",
    "            yield record\n",
    "    except:\n",
    "        progress.bar_style = 'danger'\n",
    "        raise\n",
    "    else:\n",
    "        progress.bar_style = 'success'\n",
    "        progress.value = index\n",
    "        label.value = \"{name}: {index}\".format(\n",
    "            name=name,\n",
    "            index=str(index or '?')\n",
    "        )"
   ]
  },
  {
   "cell_type": "code",
   "execution_count": 3,
   "metadata": {
    "collapsed": false
   },
   "outputs": [],
   "source": [
    "#Postgres connection\n",
    "hostname = 'localhost'\n",
    "username = 'postgres'\n",
    "password = ''\n",
    "database = 'dota2_data'\n"
   ]
  },
  {
   "cell_type": "markdown",
   "metadata": {},
   "source": [
    "# Matches"
   ]
  },
  {
   "cell_type": "markdown",
   "metadata": {},
   "source": [
    "Found around 47k matches in the matches database..less then what I was looking for\n",
    "\n",
    "###update \n",
    "use \"on conflict do nothing\" clause to keep udpating the local db\n",
    "##insert into matches (match_id) values (35811738) on conflict (match_id) DO NOTHING\n",
    "\n",
    "\n",
    "June 29th: 47600 matches \n",
    "\n",
    "July 1st: 48000 matches"
   ]
  },
  {
   "cell_type": "code",
   "execution_count": 14,
   "metadata": {
    "collapsed": false,
    "scrolled": true
   },
   "outputs": [
    {
     "name": "stdout",
     "output_type": "stream",
     "text": [
      "init count is:  48000\n"
     ]
    },
    {
     "ename": "NameError",
     "evalue": "name 'guid' is not defined",
     "output_type": "error",
     "traceback": [
      "\u001b[0;31m---------------------------------------------------------------------------\u001b[0m",
      "\u001b[0;31mNameError\u001b[0m                                 Traceback (most recent call last)",
      "\u001b[0;32m<ipython-input-14-4e50dec5e1e0>\u001b[0m in \u001b[0;36m<module>\u001b[0;34m()\u001b[0m\n\u001b[0;32m----> 1\u001b[0;31m \u001b[0mget_ipython\u001b[0m\u001b[0;34m(\u001b[0m\u001b[0;34m)\u001b[0m\u001b[0;34m.\u001b[0m\u001b[0mrun_cell_magic\u001b[0m\u001b[0;34m(\u001b[0m\u001b[0;34mu'time'\u001b[0m\u001b[0;34m,\u001b[0m \u001b[0;34mu''\u001b[0m\u001b[0;34m,\u001b[0m \u001b[0;34mu'#use requests to get data\\nendpoint=\\'https://api.opendota.com/api/explorer?sql=\\'\\nmax_records = 48000\\nstep = 400\\ninit_query = \"select count(*) from matches\"\\nquery=\\'select * from matches order by start_time desc LIMIT \\' + str(step) + \\' Offset \\'\\nquery=\\'select match_id, start_time, radiant_win, radiant_team_id, dire_team_id from matches order by start_time desc LIMIT \\' + str(step) + \\' Offset \\'\\n\\nmyConnection = psycopg2.connect(host=hostname, user=username, password=password, dbname=database)\\ncur = myConnection.cursor()\\n\\ncur.execute(init_query)\\nresult = cur.fetchone()\\nprint \\'init count is: \\' , result[0]\\n\\n#get 1 records at a time\\nfor i in log_progress(range(max_records/step)):\\n    #print i, \\'out of\\', max_records/step, \\n    offset = i * step\\n    url = endpoint+query+str(offset)\\n    start = time.time()\\n    response = requests.get(url)\\n    end = time.time()\\n    #print \\'got response in: \\', (end-start)\\n    tuples = []\\n    insert_query = \\'INSERT INTO matches (\\'\\n\\n    #parse data and insert\\n    for j in range(step):\\n        #create the query\\n        values = ()\\n        try:\\n            for k, v in response.json()[\\'rows\\'][j].iteritems():\\n                if k==\\'chat\\' or k==\\'picks_bans\\' or k==\\'objectives\\' or\\\\\\n                    k==\\'radiant_gold_adv\\' or k==\\'radiant_xp_adv\\' or k==\\'teamfights\\'or k==\\'cosmetics\\':\\n                    continue\\n                if j==0:\\n                    insert_query+=\\' \\'+k+\\',\\'\\n\\n                values = values + (v,)\\n        except:\\n            pass\\n        tuples.append(values)\\n            \\n    insert_query = insert_query.rstrip(\\',\\')\\n    insert_query += \\')\\' + \\' values \\'\\n#     args_str = \\',\\'.join(cur.mogrify(\\'(%s, %s, %s, %s, %s, %s, %s, \\'\\\\\\n#         \\'%s, %s, %s, %s, %s, %s, %s, %s, %s, %s, %s, %s, %s, %s, %s, %s, %s, %s, %s, %s, %s, %s)\\',x)\\\\\\n#         for x in tuples)\\n    try:\\n        args_str = \\',\\'.join(cur.mogrify(\\'(%s, %s, %s, %s, %s) \\',x)\\\\\\n            for x in tuples)\\n        cur.execute(insert_query + args_str+ \" on conflict (match_id) DO UPDATE set start_time = EXCLUDED.start_time \" )\\n    except Exception as e:\\n        pass\\nmyConnection.commit()\\n\\n\\ncur.execute(\\'select count(*) from table where guid = %s;\\',[guid])\\nrows = cur.fetchall()\\nprint \\'ResultCount = %d\\' % len(rows)\\n\\nmyConnection.close()    \\n    '\u001b[0m\u001b[0;34m)\u001b[0m\u001b[0;34m\u001b[0m\u001b[0m\n\u001b[0m",
      "\u001b[0;32m/Users/momori/anaconda/lib/python2.7/site-packages/IPython/core/interactiveshell.pyc\u001b[0m in \u001b[0;36mrun_cell_magic\u001b[0;34m(self, magic_name, line, cell)\u001b[0m\n\u001b[1;32m   2113\u001b[0m             \u001b[0mmagic_arg_s\u001b[0m \u001b[0;34m=\u001b[0m \u001b[0mself\u001b[0m\u001b[0;34m.\u001b[0m\u001b[0mvar_expand\u001b[0m\u001b[0;34m(\u001b[0m\u001b[0mline\u001b[0m\u001b[0;34m,\u001b[0m \u001b[0mstack_depth\u001b[0m\u001b[0;34m)\u001b[0m\u001b[0;34m\u001b[0m\u001b[0m\n\u001b[1;32m   2114\u001b[0m             \u001b[0;32mwith\u001b[0m \u001b[0mself\u001b[0m\u001b[0;34m.\u001b[0m\u001b[0mbuiltin_trap\u001b[0m\u001b[0;34m:\u001b[0m\u001b[0;34m\u001b[0m\u001b[0m\n\u001b[0;32m-> 2115\u001b[0;31m                 \u001b[0mresult\u001b[0m \u001b[0;34m=\u001b[0m \u001b[0mfn\u001b[0m\u001b[0;34m(\u001b[0m\u001b[0mmagic_arg_s\u001b[0m\u001b[0;34m,\u001b[0m \u001b[0mcell\u001b[0m\u001b[0;34m)\u001b[0m\u001b[0;34m\u001b[0m\u001b[0m\n\u001b[0m\u001b[1;32m   2116\u001b[0m             \u001b[0;32mreturn\u001b[0m \u001b[0mresult\u001b[0m\u001b[0;34m\u001b[0m\u001b[0m\n\u001b[1;32m   2117\u001b[0m \u001b[0;34m\u001b[0m\u001b[0m\n",
      "\u001b[0;32m<decorator-gen-59>\u001b[0m in \u001b[0;36mtime\u001b[0;34m(self, line, cell, local_ns)\u001b[0m\n",
      "\u001b[0;32m/Users/momori/anaconda/lib/python2.7/site-packages/IPython/core/magic.pyc\u001b[0m in \u001b[0;36m<lambda>\u001b[0;34m(f, *a, **k)\u001b[0m\n\u001b[1;32m    186\u001b[0m     \u001b[0;31m# but it's overkill for just that one bit of state.\u001b[0m\u001b[0;34m\u001b[0m\u001b[0;34m\u001b[0m\u001b[0m\n\u001b[1;32m    187\u001b[0m     \u001b[0;32mdef\u001b[0m \u001b[0mmagic_deco\u001b[0m\u001b[0;34m(\u001b[0m\u001b[0marg\u001b[0m\u001b[0;34m)\u001b[0m\u001b[0;34m:\u001b[0m\u001b[0;34m\u001b[0m\u001b[0m\n\u001b[0;32m--> 188\u001b[0;31m         \u001b[0mcall\u001b[0m \u001b[0;34m=\u001b[0m \u001b[0;32mlambda\u001b[0m \u001b[0mf\u001b[0m\u001b[0;34m,\u001b[0m \u001b[0;34m*\u001b[0m\u001b[0ma\u001b[0m\u001b[0;34m,\u001b[0m \u001b[0;34m**\u001b[0m\u001b[0mk\u001b[0m\u001b[0;34m:\u001b[0m \u001b[0mf\u001b[0m\u001b[0;34m(\u001b[0m\u001b[0;34m*\u001b[0m\u001b[0ma\u001b[0m\u001b[0;34m,\u001b[0m \u001b[0;34m**\u001b[0m\u001b[0mk\u001b[0m\u001b[0;34m)\u001b[0m\u001b[0;34m\u001b[0m\u001b[0m\n\u001b[0m\u001b[1;32m    189\u001b[0m \u001b[0;34m\u001b[0m\u001b[0m\n\u001b[1;32m    190\u001b[0m         \u001b[0;32mif\u001b[0m \u001b[0mcallable\u001b[0m\u001b[0;34m(\u001b[0m\u001b[0marg\u001b[0m\u001b[0;34m)\u001b[0m\u001b[0;34m:\u001b[0m\u001b[0;34m\u001b[0m\u001b[0m\n",
      "\u001b[0;32m/Users/momori/anaconda/lib/python2.7/site-packages/IPython/core/magics/execution.pyc\u001b[0m in \u001b[0;36mtime\u001b[0;34m(self, line, cell, local_ns)\u001b[0m\n\u001b[1;32m   1178\u001b[0m         \u001b[0;32melse\u001b[0m\u001b[0;34m:\u001b[0m\u001b[0;34m\u001b[0m\u001b[0m\n\u001b[1;32m   1179\u001b[0m             \u001b[0mst\u001b[0m \u001b[0;34m=\u001b[0m \u001b[0mclock2\u001b[0m\u001b[0;34m(\u001b[0m\u001b[0;34m)\u001b[0m\u001b[0;34m\u001b[0m\u001b[0m\n\u001b[0;32m-> 1180\u001b[0;31m             \u001b[0;32mexec\u001b[0m\u001b[0;34m(\u001b[0m\u001b[0mcode\u001b[0m\u001b[0;34m,\u001b[0m \u001b[0mglob\u001b[0m\u001b[0;34m,\u001b[0m \u001b[0mlocal_ns\u001b[0m\u001b[0;34m)\u001b[0m\u001b[0;34m\u001b[0m\u001b[0m\n\u001b[0m\u001b[1;32m   1181\u001b[0m             \u001b[0mend\u001b[0m \u001b[0;34m=\u001b[0m \u001b[0mclock2\u001b[0m\u001b[0;34m(\u001b[0m\u001b[0;34m)\u001b[0m\u001b[0;34m\u001b[0m\u001b[0m\n\u001b[1;32m   1182\u001b[0m             \u001b[0mout\u001b[0m \u001b[0;34m=\u001b[0m \u001b[0mNone\u001b[0m\u001b[0;34m\u001b[0m\u001b[0m\n",
      "\u001b[0;32m<timed exec>\u001b[0m in \u001b[0;36m<module>\u001b[0;34m()\u001b[0m\n",
      "\u001b[0;31mNameError\u001b[0m: name 'guid' is not defined"
     ]
    }
   ],
   "source": [
    "%%time\n",
    "#use requests to get data\n",
    "endpoint='https://api.opendota.com/api/explorer?sql='\n",
    "max_records = 48000\n",
    "step = 400\n",
    "init_query = \"select count(*) from matches\"\n",
    "query='select * from matches order by start_time desc LIMIT ' + str(step) + ' Offset '\n",
    "query='select match_id, start_time, radiant_win, radiant_team_id, dire_team_id from matches order by start_time desc LIMIT ' + str(step) + ' Offset '\n",
    "\n",
    "myConnection = psycopg2.connect(host=hostname, user=username, password=password, dbname=database)\n",
    "cur = myConnection.cursor()\n",
    "\n",
    "cur.execute(init_query)\n",
    "result = cur.fetchone()\n",
    "print 'init count is: ' , result[0]\n",
    "\n",
    "#get 1 records at a time\n",
    "for i in log_progress(range(max_records/step)):\n",
    "    #print i, 'out of', max_records/step, \n",
    "    offset = i * step\n",
    "    url = endpoint+query+str(offset)\n",
    "    start = time.time()\n",
    "    response = requests.get(url)\n",
    "    end = time.time()\n",
    "    #print 'got response in: ', (end-start)\n",
    "    tuples = []\n",
    "    insert_query = 'INSERT INTO matches ('\n",
    "\n",
    "    #parse data and insert\n",
    "    for j in range(step):\n",
    "        #create the query\n",
    "        values = ()\n",
    "        try:\n",
    "            for k, v in response.json()['rows'][j].iteritems():\n",
    "                if k=='chat' or k=='picks_bans' or k=='objectives' or\\\n",
    "                    k=='radiant_gold_adv' or k=='radiant_xp_adv' or k=='teamfights'or k=='cosmetics':\n",
    "                    continue\n",
    "                if j==0:\n",
    "                    insert_query+=' '+k+','\n",
    "\n",
    "                values = values + (v,)\n",
    "        except:\n",
    "            pass\n",
    "        tuples.append(values)\n",
    "            \n",
    "    insert_query = insert_query.rstrip(',')\n",
    "    insert_query += ')' + ' values '\n",
    "#     args_str = ','.join(cur.mogrify('(%s, %s, %s, %s, %s, %s, %s, '\\\n",
    "#         '%s, %s, %s, %s, %s, %s, %s, %s, %s, %s, %s, %s, %s, %s, %s, %s, %s, %s, %s, %s, %s, %s)',x)\\\n",
    "#         for x in tuples)\n",
    "    try:\n",
    "        args_str = ','.join(cur.mogrify('(%s, %s, %s, %s, %s) ',x)\\\n",
    "            for x in tuples)\n",
    "        cur.execute(insert_query + args_str+ \" on conflict (match_id) DO UPDATE set start_time = EXCLUDED.start_time \" )\n",
    "    except Exception as e:\n",
    "        pass\n",
    "myConnection.commit()\n",
    "\n",
    "\n",
    "cur.execute(init_query)\n",
    "result = cur.fetchone()\n",
    "print 'post count is: ' , result[0]\n",
    "\n",
    "myConnection.close()    \n",
    "    "
   ]
  },
  {
   "cell_type": "markdown",
   "metadata": {},
   "source": [
    "120 record insert speed:\n",
    "step 5: 7.29 seconds\n",
    "setp 10: 6.49 seconds\n",
    "step 15: 5.9 seconds\n",
    "step 20: 7 seconds\n",
    "step 40: 11.2 seconds\n",
    "\n",
    "\n",
    "just with 2 columns, took 2 seconds with step=10"
   ]
  },
  {
   "cell_type": "markdown",
   "metadata": {},
   "source": [
    "# Player_matches"
   ]
  },
  {
   "cell_type": "code",
   "execution_count": 6,
   "metadata": {
    "collapsed": false
   },
   "outputs": [],
   "source": [
    "#%%time\n",
    "#cols to obtain: \"match_id\":17955123,\"account_id\":89782335,\"player_slot\":0,\"hero_id\":31,\n",
    "#use requests to get data\n",
    "endpoint='https://api.opendota.com/api/explorer?sql='\n",
    "max_records = 480000\n",
    "step = 400\n",
    "\n",
    "query='select match_id, hero_id, account_id, player_slot from player_matches LIMIT ' + str(step) + ' Offset '\n",
    "\n",
    "myConnection = psycopg2.connect(host=hostname, user=username, password=password, dbname=database)\n",
    "cur = myConnection.cursor()\n",
    "\n",
    "#get 1 records at a time\n",
    "for i in log_progress(range(max_records/step)):\n",
    "    #print i, 'out of', max_records/step, \n",
    "    offset = i * step\n",
    "    url = endpoint+query+str(offset)\n",
    "    start = time.time()\n",
    "    response = requests.get(url)\n",
    "    end = time.time()\n",
    "    tuples = []\n",
    "    insert_query = 'INSERT INTO player_matches ('\n",
    "\n",
    "    #parse data and insert\n",
    "    for j in range(step):\n",
    "        #create the query\n",
    "        values = ()\n",
    "        try:\n",
    "            for k, v in response.json()['rows'][j].iteritems():\n",
    "                if k=='chat' or k=='picks_bans' or k=='objectives' or\\\n",
    "                    k=='radiant_gold_adv' or k=='radiant_xp_adv' or k=='teamfights'or k=='cosmetics':\n",
    "                    continue\n",
    "                if j==0:\n",
    "                    insert_query+=' '+k+','\n",
    "\n",
    "                values = values + (v,)\n",
    "        except Exception as e:\n",
    "            #print '1',e\n",
    "            pass\n",
    "        tuples.append(values)\n",
    "            \n",
    "    insert_query = insert_query.rstrip(',')\n",
    "    insert_query += ')' + ' values '\n",
    "\n",
    "    try:\n",
    "        args_str = ','.join(cur.mogrify('(%s, %s, %s, %s)',x)\\\n",
    "            for x in tuples)\n",
    "        cur.execute(insert_query + args_str + 'on conflict  (match_id, player_slot) DO NOTHING')\n",
    "    except Exception as e:\n",
    "        print '2',e\n",
    "        pass\n",
    "myConnection.commit()\n",
    "myConnection.close()    \n",
    "    "
   ]
  },
  {
   "cell_type": "code",
   "execution_count": 29,
   "metadata": {
    "collapsed": false
   },
   "outputs": [
    {
     "data": {
      "text/plain": [
       "{u'attack_type': u'Ranged',\n",
       " u'id': 21,\n",
       " u'legs': 2,\n",
       " u'localized_name': u'Windranger',\n",
       " u'name': u'npc_dota_hero_windrunner',\n",
       " u'primary_attr': u'int',\n",
       " u'roles': [u'Carry', u'Support', u'Disabler', u'Escape', u'Nuker']}"
      ]
     },
     "execution_count": 29,
     "metadata": {},
     "output_type": "execute_result"
    }
   ],
   "source": [
    "#%%time\n",
    "#cols to obtain: \"match_id\":17955123,\"account_id\":89782335,\"player_slot\":0,\"hero_id\":31,\n",
    "#use requests to get data\n",
    "endpoint='https://api.opendota.com/api/explorer?sql='\n",
    "max_records = 120\n",
    "step = 120\n",
    "\n",
    "query=\"select%20*%20from%20heroes\"\n",
    "\n",
    "myConnection = psycopg2.connect(host=hostname, user=username, password=password, dbname=database)\n",
    "cur = myConnection.cursor()\n",
    "\n",
    "offset = i * step\n",
    "url = endpoint+query\n",
    "start = time.time()\n",
    "response = requests.get(url)\n",
    "end = time.time()\n",
    "response.json()['rows']"
   ]
  },
  {
   "cell_type": "markdown",
   "metadata": {},
   "source": [
    "# Grab hero data"
   ]
  },
  {
   "cell_type": "code",
   "execution_count": 43,
   "metadata": {
    "collapsed": false
   },
   "outputs": [],
   "source": [
    "#%%time\n",
    "#cols to obtain: \"match_id\":17955123,\"account_id\":89782335,\"player_slot\":0,\"hero_id\":31,\n",
    "#use requests to get data\n",
    "endpoint='https://api.opendota.com/api/explorer?sql='\n",
    "max_records = 120\n",
    "step = 120\n",
    "\n",
    "query=\"select * from heroes\"\n",
    "\n",
    "myConnection = psycopg2.connect(host=hostname, user=username, password=password, dbname=database)\n",
    "cur = myConnection.cursor()\n",
    "\n",
    "#get 1 records at a time\n",
    "for i in log_progress(range(max_records/step)):\n",
    "    #print i, 'out of', max_records/step, \n",
    "    offset = i * step\n",
    "    url = endpoint+query\n",
    "    start = time.time()\n",
    "    response = requests.get(url)\n",
    "    end = time.time()\n",
    "    tuples = []\n",
    "    insert_query = 'INSERT INTO heroes ('\n",
    "\n",
    "    #parse data and insert\n",
    "    for j in range(step):\n",
    "        #create the query\n",
    "        values = ()\n",
    "        try:\n",
    "            for k, v in response.json()['rows'][j].iteritems():\n",
    "                if k=='legs':\n",
    "                    continue\n",
    "                if j==0:\n",
    "                    insert_query+=' '+k+','\n",
    "\n",
    "                values = values + (v,)\n",
    "            tuples.append(values)\n",
    "        except Exception as e:\n",
    "            #print '1',e, j\n",
    "            pass\n",
    "       \n",
    "            \n",
    "    insert_query = insert_query.rstrip(',')\n",
    "    insert_query += ')' + ' values '\n",
    "    try:\n",
    "        args_str = ','.join(cur.mogrify('(%s, %s, %s, %s, %s, %s)',x)\\\n",
    "            for x in tuples)\n",
    "        cur.execute(insert_query + args_str + \"on conflict (id) DO NOTHING\" )\n",
    "    except Exception as e:\n",
    "        print '2',e, j\n",
    "        pass\n",
    "myConnection.commit()\n",
    "myConnection.close()    \n",
    "    "
   ]
  },
  {
   "cell_type": "code",
   "execution_count": null,
   "metadata": {
    "collapsed": true
   },
   "outputs": [],
   "source": []
  },
  {
   "cell_type": "markdown",
   "metadata": {
    "collapsed": true
   },
   "source": [
    "# Player Ratings\n",
    "\n",
    "no privilege to look at this table :(\n"
   ]
  },
  {
   "cell_type": "code",
   "execution_count": null,
   "metadata": {
    "collapsed": true
   },
   "outputs": [],
   "source": [
    "#%%time\n",
    "#cols to obtain: \"match_id\":17955123,\"account_id\":89782335,\"player_slot\":0,\"hero_id\":31,\n",
    "#use requests to get data\n",
    "endpoint='https://api.opendota.com/api/explorer?sql='\n",
    "max_records = 480000\n",
    "step = 400\n",
    "\n",
    "query='select * from player_ratings LIMIT ' + str(step) + ' Offset '\n",
    "\n",
    "myConnection = psycopg2.connect(host=hostname, user=username, password=password, dbname=database)\n",
    "cur = myConnection.cursor()\n",
    "\n",
    "#get 1 records at a time\n",
    "for i in log_progress(range(max_records/step)):\n",
    "    #print i, 'out of', max_records/step, \n",
    "    offset = i * step\n",
    "    url = endpoint+query+str(offset)\n",
    "    start = time.time()\n",
    "    response = requests.get(url)\n",
    "    end = time.time()\n",
    "    tuples = []\n",
    "    insert_query = 'INSERT INTO player_ratings ('\n",
    "\n",
    "    #parse data and insert\n",
    "    for j in range(step):\n",
    "        #create the query\n",
    "        values = ()\n",
    "        try:\n",
    "            for k, v in response.json()['rows'][j].iteritems():\n",
    "                if k=='chat' or k=='picks_bans' or k=='objectives' or\\\n",
    "                    k=='radiant_gold_adv' or k=='radiant_xp_adv' or k=='teamfights'or k=='cosmetics':\n",
    "                    continue\n",
    "                if j==0:\n",
    "                    insert_query+=' '+k+','\n",
    "\n",
    "                values = values + (v,)\n",
    "        except Exception as e:\n",
    "            print '1',e\n",
    "            pass\n",
    "        tuples.append(values)\n",
    "            \n",
    "    insert_query = insert_query.rstrip(',')\n",
    "    insert_query += ')' + ' values '\n",
    "\n",
    "    try:\n",
    "        args_str = ','.join(cur.mogrify('(%s, %s, %s, %s)',x)\\\n",
    "            for x in tuples)\n",
    "        cur.execute(insert_query + args_str + 'on conflict  (match_id, player_slot) DO NOTHING')\n",
    "    except Exception as e:\n",
    "        print '2',e\n",
    "        pass\n",
    "myConnection.commit()\n",
    "myConnection.close()    \n",
    "    "
   ]
  },
  {
   "cell_type": "code",
   "execution_count": null,
   "metadata": {
    "collapsed": true
   },
   "outputs": [],
   "source": [
    "player_ratings"
   ]
  },
  {
   "cell_type": "code",
   "execution_count": null,
   "metadata": {
    "collapsed": true
   },
   "outputs": [],
   "source": []
  }
 ],
 "metadata": {
  "kernelspec": {
   "display_name": "Python 2",
   "language": "python",
   "name": "python2"
  },
  "language_info": {
   "codemirror_mode": {
    "name": "ipython",
    "version": 2
   },
   "file_extension": ".py",
   "mimetype": "text/x-python",
   "name": "python",
   "nbconvert_exporter": "python",
   "pygments_lexer": "ipython2",
   "version": "2.7.13"
  },
  "widgets": {
   "state": {
    "54e6989762c144c595e34620bfe82b2a": {
     "views": [
      {
       "cell_index": 7
      }
     ]
    }
   },
   "version": "1.2.0"
  }
 },
 "nbformat": 4,
 "nbformat_minor": 2
}
