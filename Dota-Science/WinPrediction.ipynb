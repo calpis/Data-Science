{
 "cells": [
  {
   "cell_type": "code",
   "execution_count": 1,
   "metadata": {
    "collapsed": true
   },
   "outputs": [],
   "source": [
    "import pandas as pd\n",
    "import numpy as np\n",
    "import pandas as pd\n",
    "import numpy as np\n",
    "from sklearn.model_selection import train_test_split\n",
    "from sklearn import linear_model\n",
    "from sklearn.ensemble import RandomForestClassifier"
   ]
  },
  {
   "cell_type": "markdown",
   "metadata": {},
   "source": [
    "# Make prediction of wins based on hero decisions"
   ]
  },
  {
   "cell_type": "markdown",
   "metadata": {},
   "source": [
    "Plan: Create a vector of 226 dimensions (113 hero_ids, x2) for each match. First 113 is for radiant picks, last 113 is for dire picks.\n",
    "\n",
    "$$v \\in \\mathbb{R}^{226}$$\n",
    "Then use logistic regression/random forest to predict 1 (radiant win) or 0 (radiant loss)\n",
    "\n",
    "inspired by Devin's notebook: https://www.kaggle.com/devinanzelmo/setting-up-a-prediction-problem-dota-2"
   ]
  },
  {
   "cell_type": "code",
   "execution_count": 6,
   "metadata": {
    "collapsed": false
   },
   "outputs": [],
   "source": [
    "# this is meant to be a simple example so only matches and players are used\n",
    "dir_head = '/tmp/git/Dota-Science/kaggle/data/'\n",
    "\n",
    "matches = pd.read_csv(dir_head+'match.csv', index_col=0)\n",
    "players = pd.read_csv(dir_head+'players.csv')\n",
    "\n",
    "test_labels = pd.read_csv(dir_head+'test_labels.csv', index_col=0)\n",
    "test_players = pd.read_csv(dir_head+'test_player.csv')\n",
    "\n",
    "train_labels = matches['radiant_win'].astype(int)\n",
    "\n",
    "match_outcomes = pd.read_csv(dir_head+'match_outcomes.csv')\n",
    "match = pd.read_csv(dir_head+'match.csv')\n"
   ]
  },
  {
   "cell_type": "code",
   "execution_count": 7,
   "metadata": {
    "collapsed": false
   },
   "outputs": [],
   "source": [
    "!ls kaggle/data"
   ]
  },
  {
   "cell_type": "code",
   "execution_count": 8,
   "metadata": {
    "collapsed": true
   },
   "outputs": [],
   "source": [
    "def unstack_simplify(df):\n",
    "    return df.unstack().iloc[20:30].reset_index(drop=True)"
   ]
  },
  {
   "cell_type": "markdown",
   "metadata": {},
   "source": [
    "# Data description"
   ]
  },
  {
   "cell_type": "markdown",
   "metadata": {},
   "source": [
    "match.csv: match_id and radiant_win \n",
    "\n",
    "players.csv: match_id, hero_id, player_slot(0-4 is radiant, 128-132 is dire)\n",
    "\n",
    "test_labels: radiant_wins for match_ids\n",
    "\n",
    "test_players: Match_id, hero_id\n",
    "\n",
    "goal:\n",
    "from team composition, decide if radiant team won or lost\n",
    "\n"
   ]
  },
  {
   "cell_type": "markdown",
   "metadata": {},
   "source": [
    "hero names: hero_id 24 is missing"
   ]
  },
  {
   "cell_type": "code",
   "execution_count": 54,
   "metadata": {
    "collapsed": false,
    "scrolled": true
   },
   "outputs": [
    {
     "data": {
      "text/html": [
       "<div>\n",
       "<table border=\"1\" class=\"dataframe\">\n",
       "  <thead>\n",
       "    <tr style=\"text-align: right;\">\n",
       "      <th></th>\n",
       "      <th>name</th>\n",
       "      <th>hero_id</th>\n",
       "      <th>localized_name</th>\n",
       "    </tr>\n",
       "  </thead>\n",
       "  <tbody>\n",
       "    <tr>\n",
       "      <th>0</th>\n",
       "      <td>npc_dota_hero_antimage</td>\n",
       "      <td>1</td>\n",
       "      <td>Anti-Mage</td>\n",
       "    </tr>\n",
       "    <tr>\n",
       "      <th>1</th>\n",
       "      <td>npc_dota_hero_axe</td>\n",
       "      <td>2</td>\n",
       "      <td>Axe</td>\n",
       "    </tr>\n",
       "    <tr>\n",
       "      <th>2</th>\n",
       "      <td>npc_dota_hero_bane</td>\n",
       "      <td>3</td>\n",
       "      <td>Bane</td>\n",
       "    </tr>\n",
       "    <tr>\n",
       "      <th>3</th>\n",
       "      <td>npc_dota_hero_bloodseeker</td>\n",
       "      <td>4</td>\n",
       "      <td>Bloodseeker</td>\n",
       "    </tr>\n",
       "    <tr>\n",
       "      <th>4</th>\n",
       "      <td>npc_dota_hero_crystal_maiden</td>\n",
       "      <td>5</td>\n",
       "      <td>Crystal Maiden</td>\n",
       "    </tr>\n",
       "  </tbody>\n",
       "</table>\n",
       "</div>"
      ],
      "text/plain": [
       "                           name  hero_id  localized_name\n",
       "0        npc_dota_hero_antimage        1       Anti-Mage\n",
       "1             npc_dota_hero_axe        2             Axe\n",
       "2            npc_dota_hero_bane        3            Bane\n",
       "3     npc_dota_hero_bloodseeker        4     Bloodseeker\n",
       "4  npc_dota_hero_crystal_maiden        5  Crystal Maiden"
      ]
     },
     "execution_count": 54,
     "metadata": {},
     "output_type": "execute_result"
    }
   ],
   "source": [
    "pd.read_csv('kaggle/data/hero_names.csv').head()"
   ]
  },
  {
   "cell_type": "code",
   "execution_count": 55,
   "metadata": {
    "collapsed": false
   },
   "outputs": [
    {
     "data": {
      "text/html": [
       "<div>\n",
       "<table border=\"1\" class=\"dataframe\">\n",
       "  <thead>\n",
       "    <tr style=\"text-align: right;\">\n",
       "      <th></th>\n",
       "      <th>start_time</th>\n",
       "      <th>duration</th>\n",
       "      <th>tower_status_radiant</th>\n",
       "      <th>tower_status_dire</th>\n",
       "      <th>barracks_status_dire</th>\n",
       "      <th>barracks_status_radiant</th>\n",
       "      <th>first_blood_time</th>\n",
       "      <th>game_mode</th>\n",
       "      <th>radiant_win</th>\n",
       "      <th>negative_votes</th>\n",
       "      <th>positive_votes</th>\n",
       "      <th>cluster</th>\n",
       "    </tr>\n",
       "    <tr>\n",
       "      <th>match_id</th>\n",
       "      <th></th>\n",
       "      <th></th>\n",
       "      <th></th>\n",
       "      <th></th>\n",
       "      <th></th>\n",
       "      <th></th>\n",
       "      <th></th>\n",
       "      <th></th>\n",
       "      <th></th>\n",
       "      <th></th>\n",
       "      <th></th>\n",
       "      <th></th>\n",
       "    </tr>\n",
       "  </thead>\n",
       "  <tbody>\n",
       "    <tr>\n",
       "      <th>0</th>\n",
       "      <td>1446750112</td>\n",
       "      <td>2375</td>\n",
       "      <td>1982</td>\n",
       "      <td>4</td>\n",
       "      <td>3</td>\n",
       "      <td>63</td>\n",
       "      <td>1</td>\n",
       "      <td>22</td>\n",
       "      <td>True</td>\n",
       "      <td>0</td>\n",
       "      <td>1</td>\n",
       "      <td>155</td>\n",
       "    </tr>\n",
       "    <tr>\n",
       "      <th>1</th>\n",
       "      <td>1446753078</td>\n",
       "      <td>2582</td>\n",
       "      <td>0</td>\n",
       "      <td>1846</td>\n",
       "      <td>63</td>\n",
       "      <td>0</td>\n",
       "      <td>221</td>\n",
       "      <td>22</td>\n",
       "      <td>False</td>\n",
       "      <td>0</td>\n",
       "      <td>2</td>\n",
       "      <td>154</td>\n",
       "    </tr>\n",
       "    <tr>\n",
       "      <th>2</th>\n",
       "      <td>1446764586</td>\n",
       "      <td>2716</td>\n",
       "      <td>256</td>\n",
       "      <td>1972</td>\n",
       "      <td>63</td>\n",
       "      <td>48</td>\n",
       "      <td>190</td>\n",
       "      <td>22</td>\n",
       "      <td>False</td>\n",
       "      <td>0</td>\n",
       "      <td>0</td>\n",
       "      <td>132</td>\n",
       "    </tr>\n",
       "    <tr>\n",
       "      <th>3</th>\n",
       "      <td>1446765723</td>\n",
       "      <td>3085</td>\n",
       "      <td>4</td>\n",
       "      <td>1924</td>\n",
       "      <td>51</td>\n",
       "      <td>3</td>\n",
       "      <td>40</td>\n",
       "      <td>22</td>\n",
       "      <td>False</td>\n",
       "      <td>0</td>\n",
       "      <td>0</td>\n",
       "      <td>191</td>\n",
       "    </tr>\n",
       "    <tr>\n",
       "      <th>4</th>\n",
       "      <td>1446796385</td>\n",
       "      <td>1887</td>\n",
       "      <td>2047</td>\n",
       "      <td>0</td>\n",
       "      <td>0</td>\n",
       "      <td>63</td>\n",
       "      <td>58</td>\n",
       "      <td>22</td>\n",
       "      <td>True</td>\n",
       "      <td>0</td>\n",
       "      <td>0</td>\n",
       "      <td>156</td>\n",
       "    </tr>\n",
       "  </tbody>\n",
       "</table>\n",
       "</div>"
      ],
      "text/plain": [
       "          start_time  duration  tower_status_radiant  tower_status_dire  \\\n",
       "match_id                                                                  \n",
       "0         1446750112      2375                  1982                  4   \n",
       "1         1446753078      2582                     0               1846   \n",
       "2         1446764586      2716                   256               1972   \n",
       "3         1446765723      3085                     4               1924   \n",
       "4         1446796385      1887                  2047                  0   \n",
       "\n",
       "          barracks_status_dire  barracks_status_radiant  first_blood_time  \\\n",
       "match_id                                                                    \n",
       "0                            3                       63                 1   \n",
       "1                           63                        0               221   \n",
       "2                           63                       48               190   \n",
       "3                           51                        3                40   \n",
       "4                            0                       63                58   \n",
       "\n",
       "          game_mode radiant_win  negative_votes  positive_votes  cluster  \n",
       "match_id                                                                  \n",
       "0                22        True               0               1      155  \n",
       "1                22       False               0               2      154  \n",
       "2                22       False               0               0      132  \n",
       "3                22       False               0               0      191  \n",
       "4                22        True               0               0      156  "
      ]
     },
     "execution_count": 55,
     "metadata": {},
     "output_type": "execute_result"
    }
   ],
   "source": [
    "matches.head()"
   ]
  },
  {
   "cell_type": "code",
   "execution_count": 56,
   "metadata": {
    "collapsed": false
   },
   "outputs": [
    {
     "data": {
      "text/html": [
       "<div>\n",
       "<table border=\"1\" class=\"dataframe\">\n",
       "  <thead>\n",
       "    <tr style=\"text-align: right;\">\n",
       "      <th></th>\n",
       "      <th>match_id</th>\n",
       "      <th>account_id</th>\n",
       "      <th>hero_id</th>\n",
       "      <th>player_slot</th>\n",
       "    </tr>\n",
       "  </thead>\n",
       "  <tbody>\n",
       "    <tr>\n",
       "      <th>0</th>\n",
       "      <td>50000</td>\n",
       "      <td>117784</td>\n",
       "      <td>96</td>\n",
       "      <td>0</td>\n",
       "    </tr>\n",
       "    <tr>\n",
       "      <th>1</th>\n",
       "      <td>50000</td>\n",
       "      <td>158361</td>\n",
       "      <td>84</td>\n",
       "      <td>1</td>\n",
       "    </tr>\n",
       "    <tr>\n",
       "      <th>2</th>\n",
       "      <td>50000</td>\n",
       "      <td>158362</td>\n",
       "      <td>46</td>\n",
       "      <td>2</td>\n",
       "    </tr>\n",
       "    <tr>\n",
       "      <th>3</th>\n",
       "      <td>50000</td>\n",
       "      <td>137970</td>\n",
       "      <td>85</td>\n",
       "      <td>3</td>\n",
       "    </tr>\n",
       "    <tr>\n",
       "      <th>4</th>\n",
       "      <td>50000</td>\n",
       "      <td>1090</td>\n",
       "      <td>39</td>\n",
       "      <td>4</td>\n",
       "    </tr>\n",
       "    <tr>\n",
       "      <th>5</th>\n",
       "      <td>50000</td>\n",
       "      <td>2391</td>\n",
       "      <td>9</td>\n",
       "      <td>128</td>\n",
       "    </tr>\n",
       "    <tr>\n",
       "      <th>6</th>\n",
       "      <td>50000</td>\n",
       "      <td>2393</td>\n",
       "      <td>75</td>\n",
       "      <td>129</td>\n",
       "    </tr>\n",
       "    <tr>\n",
       "      <th>7</th>\n",
       "      <td>50000</td>\n",
       "      <td>2394</td>\n",
       "      <td>106</td>\n",
       "      <td>130</td>\n",
       "    </tr>\n",
       "    <tr>\n",
       "      <th>8</th>\n",
       "      <td>50000</td>\n",
       "      <td>36737</td>\n",
       "      <td>74</td>\n",
       "      <td>131</td>\n",
       "    </tr>\n",
       "    <tr>\n",
       "      <th>9</th>\n",
       "      <td>50000</td>\n",
       "      <td>2392</td>\n",
       "      <td>62</td>\n",
       "      <td>132</td>\n",
       "    </tr>\n",
       "    <tr>\n",
       "      <th>10</th>\n",
       "      <td>50001</td>\n",
       "      <td>32932</td>\n",
       "      <td>44</td>\n",
       "      <td>0</td>\n",
       "    </tr>\n",
       "  </tbody>\n",
       "</table>\n",
       "</div>"
      ],
      "text/plain": [
       "    match_id  account_id  hero_id  player_slot\n",
       "0      50000      117784       96            0\n",
       "1      50000      158361       84            1\n",
       "2      50000      158362       46            2\n",
       "3      50000      137970       85            3\n",
       "4      50000        1090       39            4\n",
       "5      50000        2391        9          128\n",
       "6      50000        2393       75          129\n",
       "7      50000        2394      106          130\n",
       "8      50000       36737       74          131\n",
       "9      50000        2392       62          132\n",
       "10     50001       32932       44            0"
      ]
     },
     "execution_count": 56,
     "metadata": {},
     "output_type": "execute_result"
    }
   ],
   "source": [
    "test_players.head(11)"
   ]
  },
  {
   "cell_type": "code",
   "execution_count": 57,
   "metadata": {
    "collapsed": false
   },
   "outputs": [
    {
     "data": {
      "text/plain": [
       "radiant_win    1\n",
       "Name: 80000, dtype: int64"
      ]
     },
     "execution_count": 57,
     "metadata": {},
     "output_type": "execute_result"
    }
   ],
   "source": [
    "#finding out how to get wins for specific match\n",
    "test_labels.loc[80000]"
   ]
  },
  {
   "cell_type": "code",
   "execution_count": 9,
   "metadata": {
    "collapsed": false
   },
   "outputs": [
    {
     "ename": "NameError",
     "evalue": "name 'test_players' is not defined",
     "output_type": "error",
     "traceback": [
      "\u001b[0;31m---------------------------------------------------------------------------\u001b[0m",
      "\u001b[0;31mNameError\u001b[0m                                 Traceback (most recent call last)",
      "\u001b[0;32m<ipython-input-9-4b79eaad90a5>\u001b[0m in \u001b[0;36m<module>\u001b[0;34m()\u001b[0m\n\u001b[1;32m      2\u001b[0m \u001b[0;31m# ## Split data into train/test\u001b[0m\u001b[0;34m\u001b[0m\u001b[0;34m\u001b[0m\u001b[0m\n\u001b[1;32m      3\u001b[0m \u001b[0;34m\u001b[0m\u001b[0m\n\u001b[0;32m----> 4\u001b[0;31m \u001b[0mmatch_hero_picks\u001b[0m \u001b[0;34m=\u001b[0m \u001b[0mtest_players\u001b[0m\u001b[0;34m.\u001b[0m\u001b[0mgroupby\u001b[0m\u001b[0;34m(\u001b[0m\u001b[0;34m'match_id'\u001b[0m\u001b[0;34m)\u001b[0m\u001b[0;34m.\u001b[0m\u001b[0mapply\u001b[0m\u001b[0;34m(\u001b[0m\u001b[0munstack_simplify\u001b[0m\u001b[0;34m)\u001b[0m\u001b[0;34m\u001b[0m\u001b[0m\n\u001b[0m\u001b[1;32m      5\u001b[0m \u001b[0;34m\u001b[0m\u001b[0m\n\u001b[1;32m      6\u001b[0m \u001b[0mtrain_hero_picks\u001b[0m\u001b[0;34m,\u001b[0m \u001b[0mtest_hero_picks\u001b[0m \u001b[0;34m=\u001b[0m \u001b[0mtrain_test_split\u001b[0m\u001b[0;34m(\u001b[0m\u001b[0mmatch_hero_picks\u001b[0m\u001b[0;34m,\u001b[0m \u001b[0mtest_size\u001b[0m\u001b[0;34m=\u001b[0m\u001b[0;36m0.4\u001b[0m\u001b[0;34m)\u001b[0m\u001b[0;34m\u001b[0m\u001b[0m\n",
      "\u001b[0;31mNameError\u001b[0m: name 'test_players' is not defined"
     ]
    }
   ],
   "source": [
    "# ##Takes a bit of time so save it to csv for later use\n",
    "# ## Split data into train/test\n",
    "\n",
    "match_hero_picks = test_players.groupby('match_id').apply(unstack_simplify)\n",
    "\n",
    "train_hero_picks, test_hero_picks = train_test_split(match_hero_picks, test_size=0.4)\n",
    "train_hero_picks.to_csv('match_hero_picks.csv')\n",
    "test_hero_picks.to_csv('test_matches.csv')"
   ]
  },
  {
   "cell_type": "code",
   "execution_count": 59,
   "metadata": {
    "collapsed": false
   },
   "outputs": [
    {
     "data": {
      "text/html": [
       "<div>\n",
       "<table border=\"1\" class=\"dataframe\">\n",
       "  <thead>\n",
       "    <tr style=\"text-align: right;\">\n",
       "      <th></th>\n",
       "      <th>match_id</th>\n",
       "      <th>0</th>\n",
       "      <th>1</th>\n",
       "      <th>2</th>\n",
       "      <th>3</th>\n",
       "      <th>4</th>\n",
       "      <th>5</th>\n",
       "      <th>6</th>\n",
       "      <th>7</th>\n",
       "      <th>8</th>\n",
       "      <th>9</th>\n",
       "    </tr>\n",
       "  </thead>\n",
       "  <tbody>\n",
       "    <tr>\n",
       "      <th>0</th>\n",
       "      <td>108695</td>\n",
       "      <td>30</td>\n",
       "      <td>109</td>\n",
       "      <td>20</td>\n",
       "      <td>98</td>\n",
       "      <td>73</td>\n",
       "      <td>99</td>\n",
       "      <td>68</td>\n",
       "      <td>48</td>\n",
       "      <td>19</td>\n",
       "      <td>59</td>\n",
       "    </tr>\n",
       "    <tr>\n",
       "      <th>1</th>\n",
       "      <td>141663</td>\n",
       "      <td>26</td>\n",
       "      <td>85</td>\n",
       "      <td>11</td>\n",
       "      <td>36</td>\n",
       "      <td>99</td>\n",
       "      <td>27</td>\n",
       "      <td>51</td>\n",
       "      <td>106</td>\n",
       "      <td>59</td>\n",
       "      <td>50</td>\n",
       "    </tr>\n",
       "    <tr>\n",
       "      <th>2</th>\n",
       "      <td>66631</td>\n",
       "      <td>6</td>\n",
       "      <td>86</td>\n",
       "      <td>102</td>\n",
       "      <td>104</td>\n",
       "      <td>59</td>\n",
       "      <td>110</td>\n",
       "      <td>112</td>\n",
       "      <td>11</td>\n",
       "      <td>98</td>\n",
       "      <td>73</td>\n",
       "    </tr>\n",
       "    <tr>\n",
       "      <th>3</th>\n",
       "      <td>58423</td>\n",
       "      <td>42</td>\n",
       "      <td>90</td>\n",
       "      <td>28</td>\n",
       "      <td>104</td>\n",
       "      <td>21</td>\n",
       "      <td>31</td>\n",
       "      <td>107</td>\n",
       "      <td>93</td>\n",
       "      <td>106</td>\n",
       "      <td>84</td>\n",
       "    </tr>\n",
       "    <tr>\n",
       "      <th>4</th>\n",
       "      <td>54286</td>\n",
       "      <td>60</td>\n",
       "      <td>30</td>\n",
       "      <td>46</td>\n",
       "      <td>72</td>\n",
       "      <td>112</td>\n",
       "      <td>104</td>\n",
       "      <td>43</td>\n",
       "      <td>54</td>\n",
       "      <td>3</td>\n",
       "      <td>71</td>\n",
       "    </tr>\n",
       "  </tbody>\n",
       "</table>\n",
       "</div>"
      ],
      "text/plain": [
       "   match_id   0    1    2    3    4    5    6    7    8   9\n",
       "0    108695  30  109   20   98   73   99   68   48   19  59\n",
       "1    141663  26   85   11   36   99   27   51  106   59  50\n",
       "2     66631   6   86  102  104   59  110  112   11   98  73\n",
       "3     58423  42   90   28  104   21   31  107   93  106  84\n",
       "4     54286  60   30   46   72  112  104   43   54    3  71"
      ]
     },
     "execution_count": 59,
     "metadata": {},
     "output_type": "execute_result"
    }
   ],
   "source": [
    "##Load in train/test data. \n",
    "\n",
    "train_hero_picks=pd.read_csv('match_hero_picks.csv')\n",
    "test_matches=pd.read_csv('test_matches.csv')\n",
    "train_hero_picks.head()"
   ]
  },
  {
   "cell_type": "code",
   "execution_count": 60,
   "metadata": {
    "collapsed": false
   },
   "outputs": [
    {
     "data": {
      "text/html": [
       "<div>\n",
       "<table border=\"1\" class=\"dataframe\">\n",
       "  <thead>\n",
       "    <tr style=\"text-align: right;\">\n",
       "      <th></th>\n",
       "      <th>match_id</th>\n",
       "      <th>0</th>\n",
       "      <th>1</th>\n",
       "      <th>2</th>\n",
       "      <th>3</th>\n",
       "      <th>4</th>\n",
       "      <th>5</th>\n",
       "      <th>6</th>\n",
       "      <th>7</th>\n",
       "      <th>8</th>\n",
       "      <th>9</th>\n",
       "    </tr>\n",
       "  </thead>\n",
       "  <tbody>\n",
       "    <tr>\n",
       "      <th>count</th>\n",
       "      <td>60000.000000</td>\n",
       "      <td>60000.000000</td>\n",
       "      <td>60000.000000</td>\n",
       "      <td>60000.000000</td>\n",
       "      <td>60000.000000</td>\n",
       "      <td>60000.000000</td>\n",
       "      <td>60000.000000</td>\n",
       "      <td>60000.000000</td>\n",
       "      <td>60000.000000</td>\n",
       "      <td>60000.000000</td>\n",
       "      <td>60000.000000</td>\n",
       "    </tr>\n",
       "    <tr>\n",
       "      <th>mean</th>\n",
       "      <td>99998.454800</td>\n",
       "      <td>50.608633</td>\n",
       "      <td>51.099783</td>\n",
       "      <td>50.824983</td>\n",
       "      <td>50.869367</td>\n",
       "      <td>50.915483</td>\n",
       "      <td>50.784667</td>\n",
       "      <td>51.003367</td>\n",
       "      <td>51.252167</td>\n",
       "      <td>51.072533</td>\n",
       "      <td>51.052850</td>\n",
       "    </tr>\n",
       "    <tr>\n",
       "      <th>std</th>\n",
       "      <td>28841.412276</td>\n",
       "      <td>33.151886</td>\n",
       "      <td>33.320256</td>\n",
       "      <td>33.186439</td>\n",
       "      <td>33.271302</td>\n",
       "      <td>33.232199</td>\n",
       "      <td>33.248358</td>\n",
       "      <td>33.140799</td>\n",
       "      <td>33.136130</td>\n",
       "      <td>33.237497</td>\n",
       "      <td>33.256578</td>\n",
       "    </tr>\n",
       "    <tr>\n",
       "      <th>min</th>\n",
       "      <td>50000.000000</td>\n",
       "      <td>1.000000</td>\n",
       "      <td>0.000000</td>\n",
       "      <td>1.000000</td>\n",
       "      <td>0.000000</td>\n",
       "      <td>0.000000</td>\n",
       "      <td>1.000000</td>\n",
       "      <td>0.000000</td>\n",
       "      <td>0.000000</td>\n",
       "      <td>0.000000</td>\n",
       "      <td>0.000000</td>\n",
       "    </tr>\n",
       "    <tr>\n",
       "      <th>25%</th>\n",
       "      <td>75049.750000</td>\n",
       "      <td>21.000000</td>\n",
       "      <td>21.000000</td>\n",
       "      <td>21.000000</td>\n",
       "      <td>21.000000</td>\n",
       "      <td>21.000000</td>\n",
       "      <td>21.000000</td>\n",
       "      <td>21.000000</td>\n",
       "      <td>21.000000</td>\n",
       "      <td>21.000000</td>\n",
       "      <td>21.000000</td>\n",
       "    </tr>\n",
       "    <tr>\n",
       "      <th>50%</th>\n",
       "      <td>100074.500000</td>\n",
       "      <td>47.000000</td>\n",
       "      <td>49.000000</td>\n",
       "      <td>48.000000</td>\n",
       "      <td>48.000000</td>\n",
       "      <td>48.000000</td>\n",
       "      <td>48.000000</td>\n",
       "      <td>48.000000</td>\n",
       "      <td>49.000000</td>\n",
       "      <td>49.000000</td>\n",
       "      <td>48.000000</td>\n",
       "    </tr>\n",
       "    <tr>\n",
       "      <th>75%</th>\n",
       "      <td>124903.250000</td>\n",
       "      <td>75.000000</td>\n",
       "      <td>75.000000</td>\n",
       "      <td>75.000000</td>\n",
       "      <td>75.000000</td>\n",
       "      <td>75.000000</td>\n",
       "      <td>75.000000</td>\n",
       "      <td>75.000000</td>\n",
       "      <td>75.000000</td>\n",
       "      <td>75.000000</td>\n",
       "      <td>75.000000</td>\n",
       "    </tr>\n",
       "    <tr>\n",
       "      <th>max</th>\n",
       "      <td>149999.000000</td>\n",
       "      <td>112.000000</td>\n",
       "      <td>112.000000</td>\n",
       "      <td>112.000000</td>\n",
       "      <td>112.000000</td>\n",
       "      <td>112.000000</td>\n",
       "      <td>112.000000</td>\n",
       "      <td>112.000000</td>\n",
       "      <td>112.000000</td>\n",
       "      <td>112.000000</td>\n",
       "      <td>112.000000</td>\n",
       "    </tr>\n",
       "  </tbody>\n",
       "</table>\n",
       "</div>"
      ],
      "text/plain": [
       "            match_id             0             1             2             3  \\\n",
       "count   60000.000000  60000.000000  60000.000000  60000.000000  60000.000000   \n",
       "mean    99998.454800     50.608633     51.099783     50.824983     50.869367   \n",
       "std     28841.412276     33.151886     33.320256     33.186439     33.271302   \n",
       "min     50000.000000      1.000000      0.000000      1.000000      0.000000   \n",
       "25%     75049.750000     21.000000     21.000000     21.000000     21.000000   \n",
       "50%    100074.500000     47.000000     49.000000     48.000000     48.000000   \n",
       "75%    124903.250000     75.000000     75.000000     75.000000     75.000000   \n",
       "max    149999.000000    112.000000    112.000000    112.000000    112.000000   \n",
       "\n",
       "                  4             5             6             7             8  \\\n",
       "count  60000.000000  60000.000000  60000.000000  60000.000000  60000.000000   \n",
       "mean      50.915483     50.784667     51.003367     51.252167     51.072533   \n",
       "std       33.232199     33.248358     33.140799     33.136130     33.237497   \n",
       "min        0.000000      1.000000      0.000000      0.000000      0.000000   \n",
       "25%       21.000000     21.000000     21.000000     21.000000     21.000000   \n",
       "50%       48.000000     48.000000     48.000000     49.000000     49.000000   \n",
       "75%       75.000000     75.000000     75.000000     75.000000     75.000000   \n",
       "max      112.000000    112.000000    112.000000    112.000000    112.000000   \n",
       "\n",
       "                  9  \n",
       "count  60000.000000  \n",
       "mean      51.052850  \n",
       "std       33.256578  \n",
       "min        0.000000  \n",
       "25%       21.000000  \n",
       "50%       48.000000  \n",
       "75%       75.000000  \n",
       "max      112.000000  "
      ]
     },
     "execution_count": 60,
     "metadata": {},
     "output_type": "execute_result"
    }
   ],
   "source": [
    "train_hero_picks.describe()"
   ]
  },
  {
   "cell_type": "markdown",
   "metadata": {},
   "source": [
    "Create the hero pick vector and a binary vector of radiant win/loss for those matches"
   ]
  },
  {
   "cell_type": "code",
   "execution_count": 61,
   "metadata": {
    "collapsed": false
   },
   "outputs": [],
   "source": [
    "#index 0-112 is radiant heroes, 113-225 is dire\n",
    "feature_list = []\n",
    "\n",
    "#for radiant wins/loss\n",
    "outcome = []\n",
    "\n",
    "for row in train_hero_picks.iterrows():\n",
    "    vec = [0]*226\n",
    "    \n",
    "    #get match id to create list of win/loss\n",
    "    match_id = row[1]['match_id']\n",
    "    outcome.append(test_labels.loc[match_id].values[0])\n",
    "    \n",
    "    #create the vector of length 226 and populate accordingly\n",
    "    radiant_hero_picks = row[1][1:6]\n",
    "    dire_hero_picks = row[1][6:11]\n",
    "    \n",
    "    for value in radiant_hero_picks.values:\n",
    "        vec[value-1] = 1\n",
    "        \n",
    "    for value in dire_hero_picks.values:\n",
    "        vec[value+112] = 1\n",
    "        \n",
    "    feature_list.append(vec)\n",
    "        \n",
    "feature_df = pd.DataFrame(feature_list)"
   ]
  },
  {
   "cell_type": "code",
   "execution_count": 62,
   "metadata": {
    "collapsed": false
   },
   "outputs": [
    {
     "name": "stdout",
     "output_type": "stream",
     "text": [
      "(60000, 226) 60000\n"
     ]
    }
   ],
   "source": [
    "#check sizes and save data\n",
    "\n",
    "print feature_df.shape, len(outcome)\n",
    "feature_df.to_csv('hero_picks.csv')"
   ]
  },
  {
   "cell_type": "markdown",
   "metadata": {
    "collapsed": true
   },
   "source": [
    "# Create Logistic Regression Model"
   ]
  },
  {
   "cell_type": "code",
   "execution_count": 63,
   "metadata": {
    "collapsed": false
   },
   "outputs": [
    {
     "data": {
      "text/plain": [
       "LogisticRegression(C=1.0, class_weight=None, dual=False, fit_intercept=True,\n",
       "          intercept_scaling=1, max_iter=100, multi_class='ovr', n_jobs=1,\n",
       "          penalty='l2', random_state=None, solver='liblinear', tol=0.0001,\n",
       "          verbose=0, warm_start=False)"
      ]
     },
     "execution_count": 63,
     "metadata": {},
     "output_type": "execute_result"
    }
   ],
   "source": [
    "#create model and train\n",
    "logreg = linear_model.LogisticRegression()\n",
    "logreg.fit(feature_df, outcome)\n",
    "\n"
   ]
  },
  {
   "cell_type": "code",
   "execution_count": 64,
   "metadata": {
    "collapsed": false
   },
   "outputs": [
    {
     "name": "stdout",
     "output_type": "stream",
     "text": [
      "training error is:  0.398233333333\n"
     ]
    }
   ],
   "source": [
    "#check accuracy on train data\n",
    "predictions = np.array(logreg.predict(feature_df))\n",
    "train_true_values = np.array(outcome)\n",
    "error = np.mean(predictions != train_true_values)\n",
    "print 'training error is: ', error"
   ]
  },
  {
   "cell_type": "code",
   "execution_count": 65,
   "metadata": {
    "collapsed": false
   },
   "outputs": [],
   "source": [
    "#use the model to test\n",
    "\n",
    "#create the feature vect\n",
    "\n",
    "#index 0-112 is radiant heroes, 113-225 is dire\n",
    "test_feature_list = []\n",
    "test_outcome = []\n",
    "test_hero_picks.reset_index(inplace=True)\n",
    "for row in test_hero_picks.iterrows():\n",
    "    vec = [0]*226\n",
    "    \n",
    "    #get match id to create list of win/loss\n",
    "    match_id = row[1]['match_id']\n",
    "    test_outcome.append(test_labels.loc[match_id].values[0])\n",
    "    \n",
    "    #create the vector of length 226 and populate accordingly\n",
    "    radiant_hero_picks = row[1][1:6]\n",
    "    dire_hero_picks = row[1][6:11]\n",
    "    \n",
    "    for value in radiant_hero_picks.values:\n",
    "        vec[value-1] = 1\n",
    "        \n",
    "    for value in dire_hero_picks.values:\n",
    "        vec[value+112] = 1\n",
    "        \n",
    "    test_feature_list.append(vec)\n",
    "\n",
    "test_feature_df = pd.DataFrame(test_feature_list)"
   ]
  },
  {
   "cell_type": "code",
   "execution_count": 72,
   "metadata": {
    "collapsed": false
   },
   "outputs": [
    {
     "name": "stdout",
     "output_type": "stream",
     "text": [
      "testing error is 0.402575\n"
     ]
    }
   ],
   "source": [
    "#check accuracy on test data\n",
    "test_predictions = np.array(logreg.predict(test_feature_df))\n",
    "test_true_values = np.array(test_outcome)\n",
    "error = np.mean(test_predictions != test_true_values)\n",
    "print 'testing error is', error"
   ]
  },
  {
   "cell_type": "markdown",
   "metadata": {},
   "source": [
    "# Try Random Forests"
   ]
  },
  {
   "cell_type": "code",
   "execution_count": 84,
   "metadata": {
    "collapsed": false
   },
   "outputs": [
    {
     "data": {
      "text/plain": [
       "RandomForestClassifier(bootstrap=True, class_weight=None, criterion='gini',\n",
       "            max_depth=10, max_features='auto', max_leaf_nodes=None,\n",
       "            min_impurity_split=1e-07, min_samples_leaf=1,\n",
       "            min_samples_split=2, min_weight_fraction_leaf=0.0,\n",
       "            n_estimators=10, n_jobs=1, oob_score=False, random_state=None,\n",
       "            verbose=0, warm_start=False)"
      ]
     },
     "execution_count": 84,
     "metadata": {},
     "output_type": "execute_result"
    }
   ],
   "source": [
    "rfc = RandomForestClassifier(n_estimators=10, max_depth=10)\n",
    "rfc.fit(feature_df, outcome)\n"
   ]
  },
  {
   "cell_type": "code",
   "execution_count": 85,
   "metadata": {
    "collapsed": false
   },
   "outputs": [
    {
     "name": "stdout",
     "output_type": "stream",
     "text": [
      "training error is:  0.400116666667\n"
     ]
    }
   ],
   "source": [
    "#check accuracy on train data\n",
    "f_predictions = np.array(rfc.predict(feature_df))\n",
    "f_true_values = np.array(outcome)\n",
    "error = np.mean(f_predictions != f_true_values)\n",
    "print 'training error is: ', error"
   ]
  },
  {
   "cell_type": "code",
   "execution_count": 87,
   "metadata": {
    "collapsed": false
   },
   "outputs": [
    {
     "name": "stdout",
     "output_type": "stream",
     "text": [
      "testing error is:  0.43945\n"
     ]
    }
   ],
   "source": [
    "#check accuracy on test data\n",
    "f_test_predictions = np.array(rfc.predict(test_feature_df))\n",
    "f_test_true_values = np.array(test_outcome)\n",
    "error = np.mean(f_test_predictions != f_test_true_values)\n",
    "print 'testing error is: ', error"
   ]
  },
  {
   "cell_type": "markdown",
   "metadata": {
    "collapsed": true
   },
   "source": [
    "# Conclusion\n"
   ]
  },
  {
   "cell_type": "markdown",
   "metadata": {
    "collapsed": true
   },
   "source": [
    "Just by hero selection, regular logistic regression obtains an accuracy rate of about 60% on training and testing (60/40 split).  There was a < 1% difference in accuracy with a 70/30 split, and varying parameter changes in logistic regression did not make any difference.  \n",
    "\n",
    "When trying with random forests, saw that the default model over fit (< 1% training set error) and a > 47% error on test set).  Even after tuning a bit, saw that there was not much improvement in the testing error. \n",
    "\n",
    "Seems random forests tend to overfit on this dataset unless parameters are specified, probably due to the size and simplicity of the data."
   ]
  },
  {
   "cell_type": "code",
   "execution_count": null,
   "metadata": {
    "collapsed": true
   },
   "outputs": [],
   "source": []
  }
 ],
 "metadata": {
  "kernelspec": {
   "display_name": "Python 2",
   "language": "python",
   "name": "python2"
  },
  "language_info": {
   "codemirror_mode": {
    "name": "ipython",
    "version": 2
   },
   "file_extension": ".py",
   "mimetype": "text/x-python",
   "name": "python",
   "nbconvert_exporter": "python",
   "pygments_lexer": "ipython2",
   "version": "2.7.13"
  }
 },
 "nbformat": 4,
 "nbformat_minor": 2
}
