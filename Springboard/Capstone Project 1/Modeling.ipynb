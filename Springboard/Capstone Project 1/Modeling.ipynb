{
 "cells": [
  {
   "cell_type": "markdown",
   "metadata": {},
   "source": [
    "## Machine Learning with Keras on Amazon's fine food review\n",
    "\n",
    "This notebook will create a convolutional neural network (CNN) off of the fine food review to suggest if the review is a positive (4 or 5 star rating) or a non-positive (1, 2, or 3 star rating).  What we aim here is to use the word2vec embedding implementation in Keras to convert the text into word vectors, and train a CNN with it which will predict, given a review text whethe or not the rating is positive or non-positive.\n",
    "\n",
    "The steps taken during this notebook are the follows:<br>\n",
    "- Create a column to indicate if the score was positive or negative, this will be called positive_review\n",
    "- The text will be turned into vectors using keras implementation of word2vec\n",
    "- distribution of the vectors will be analyzed to check for outliers and discard them as necessary.\n",
    "- short vectors will be 0-padded to match in length to the longer vectors.\n",
    "- CNNs will be trained using different parameters and performance compared amongst the other CNN models"
   ]
  },
  {
   "cell_type": "code",
   "execution_count": 18,
   "metadata": {},
   "outputs": [],
   "source": [
    "#data importing/wrangling\n",
    "import pandas as pd\n",
    "\n",
    "#text processing \n",
    "from keras.preprocessing.text import Tokenizer\n",
    "from keras.preprocessing.sequence import pad_sequences\n",
    "\n",
    "#CNN modeling\n",
    "from keras.models import Sequential\n",
    "from keras.layers import Dense\n",
    "from keras.layers import Flatten\n",
    "from keras.layers.embeddings import Embedding\n",
    "from keras.models import load_model\n",
    "from keras.layers import Conv2D, Conv1D, MaxPooling1D, MaxPooling2D\n",
    "\n",
    "\n",
    "\n",
    "#data split\n",
    "from sklearn.model_selection import train_test_split\n",
    "\n",
    "#vizualization\n",
    "import matplotlib.pyplot as plt\n",
    "import seaborn as sns\n",
    "import numpy as np\n",
    "plt.style.use('ggplot')\n",
    "\n",
    "from collections import defaultdict\n",
    "import pickle\n",
    "\n",
    "input_location = '/Users/momori/Downloads/amazon-fine-food-reviews/reviews_processed.csv'"
   ]
  },
  {
   "cell_type": "code",
   "execution_count": 2,
   "metadata": {
    "collapsed": true
   },
   "outputs": [],
   "source": [
    "data = pd.read_csv(input_location)"
   ]
  },
  {
   "cell_type": "code",
   "execution_count": 3,
   "metadata": {},
   "outputs": [
    {
     "data": {
      "text/plain": [
       "Index([u'Unnamed: 0', u'Id', u'ProductId', u'UserId', u'ProfileName',\n",
       "       u'HelpfulnessNumerator', u'HelpfulnessDenominator', u'Score', u'Time',\n",
       "       u'Summary', u'Text', u'HelpfulnessRatio', u'avg_score',\n",
       "       u'normalized_score'],\n",
       "      dtype='object')"
      ]
     },
     "execution_count": 3,
     "metadata": {},
     "output_type": "execute_result"
    }
   ],
   "source": [
    "data.columns"
   ]
  },
  {
   "cell_type": "markdown",
   "metadata": {},
   "source": [
    "Create a column 'positive_review' which indicates if the review was positive (4,5 stars) or non-positive (1,2,3 stars)"
   ]
  },
  {
   "cell_type": "code",
   "execution_count": 4,
   "metadata": {
    "collapsed": true
   },
   "outputs": [],
   "source": [
    "#add a positive/non-positive rating oolumn\n",
    "data['positive_review'] = data['Score'] > 3"
   ]
  },
  {
   "cell_type": "code",
   "execution_count": 5,
   "metadata": {
    "collapsed": true
   },
   "outputs": [],
   "source": [
    "#create documents and labels to train the model later\n",
    "docs = data['Text']\n",
    "labels = data['positive_review']"
   ]
  },
  {
   "cell_type": "markdown",
   "metadata": {},
   "source": [
    "## Word2Vec embedding\n",
    "\n",
    "Here we will use the word2vec embedding algorithm implementation by keras.  Since neural networks can only take in numerical values and vectors to train from, the texts will need to be encoded into numerical values.  After each review is encoded, the lengths of the review will be analyzed because the shorter review vedctors needs to be 0-padded to match the longest review vector.  \n"
   ]
  },
  {
   "cell_type": "code",
   "execution_count": 6,
   "metadata": {},
   "outputs": [
    {
     "name": "stdout",
     "output_type": "stream",
     "text": [
      "[2, 17, 125, 319, 7, 1, 4940, 523, 103, 52, 204, 3, 17, 117, 28, 41, 5, 30, 7, 29, 183, 1, 38, 629, 48, 26, 4, 2636, 58, 4, 1183, 448, 3, 6, 619, 99, 13, 5266, 8, 1777, 3, 94, 8695, 9, 38, 99, 58, 140]\n"
     ]
    }
   ],
   "source": [
    "#Word2Vec embedding\n",
    "\n",
    "#use the tokenizer API provided by Keras to turn documents into sequences\n",
    "t = Tokenizer()\n",
    "t.fit_on_texts(docs)\n",
    "\n",
    "#encode the documents into integers\n",
    "encoded_docs = t.texts_to_sequences(docs)\n",
    "print(encoded_docs[0])"
   ]
  },
  {
   "cell_type": "code",
   "execution_count": 7,
   "metadata": {
    "collapsed": true
   },
   "outputs": [],
   "source": [
    "#create a list of lengths of each of the encoded_docs to find out the longest length, \n",
    "#and see if any 0 padding is required\n",
    "doc_lengths = [len(doc) for doc in encoded_docs]\n",
    "max_doc_length = max(doc_lengths)"
   ]
  },
  {
   "cell_type": "code",
   "execution_count": 8,
   "metadata": {},
   "outputs": [
    {
     "name": "stdout",
     "output_type": "stream",
     "text": [
      "50  percentile of document length: 57.0\n",
      "60  percentile of document length: 70.0\n",
      "70  percentile of document length: 88.0\n",
      "80  percentile of document length: 114.0\n",
      "90  percentile of document length: 164.0\n",
      "99  percentile of document length: 398.0\n"
     ]
    },
    {
     "data": {
      "image/png": "[encoded data removed]",
      "text/plain": [
       "<matplotlib.figure.Figure at 0x105943e90>"
      ]
     },
     "metadata": {},
     "output_type": "display_data"
    }
   ],
   "source": [
    "#let's put the lengths into a boxplot to see the distributions of the lengths\n",
    "np_array = np.array(doc_lengths)\n",
    "\n",
    "for i in [50,60,70,80,90,99]:\n",
    "    print i, \" percentile of document length:\", np.percentile(np_array,i)\n",
    "    \n",
    "ax = sns.boxplot(x=doc_lengths, showfliers=False)\n",
    "plt.show()"
   ]
  },
  {
   "cell_type": "markdown",
   "metadata": {},
   "source": [
    "we can see from the above plot that the third quantile of document lengths is around 200 words or so.  We can test using this as the max document length and ignoring the outliers."
   ]
  },
  {
   "cell_type": "code",
   "execution_count": 9,
   "metadata": {},
   "outputs": [
    {
     "data": {
      "image/png": "[encoded data removed]",
      "text/plain": [
       "<matplotlib.figure.Figure at 0x12783b210>"
      ]
     },
     "metadata": {},
     "output_type": "display_data"
    }
   ],
   "source": [
    "#let's put the lengths into a histogram to see the distributions of the lengths\n",
    "plt.hist([x for x in doc_lengths if x <= 200], bins=30)\n",
    "plt.show()\n",
    "\n"
   ]
  },
  {
   "cell_type": "markdown",
   "metadata": {},
   "source": [
    "Let's cap the maximum length of the reviews to 200 words, as that will give us a good sense of the overall data without having to zero pad the short reviews to match really long reviews.  "
   ]
  },
  {
   "cell_type": "code",
   "execution_count": 10,
   "metadata": {
    "collapsed": true
   },
   "outputs": [],
   "source": [
    "#zero pad the shorter texts\n",
    "max_length = 200\n",
    "padded_docs = pad_sequences(encoded_docs, maxlen=max_length, padding='post')\n"
   ]
  },
  {
   "cell_type": "code",
   "execution_count": 11,
   "metadata": {},
   "outputs": [
    {
     "name": "stdout",
     "output_type": "stream",
     "text": [
      "1872496\n"
     ]
    }
   ],
   "source": [
    "#find the vocab size from tokenizer\n",
    "vocab_size = t.word_counts[max(t.word_counts,key=t.word_counts.get)]\n",
    "print vocab_size"
   ]
  },
  {
   "cell_type": "markdown",
   "metadata": {},
   "source": [
    "## Modeling\n",
    "now that we have the data, we can split this into train/test and create a CNN using Keras. <br>\n",
    "The CNN will be layered as follows:<br>\n",
    "\n",
    "- The embedding layer, which is the input layer consisting of the embedded word vectors.\n",
    "- A Flatten layer, to make the 2-dimensional input into a 1-dimensional output.\n",
    "- A Dense layer, which will create a fully connected layer with 1 node for the output.\n",
    "- activation function is sigmoid, because this will give us a binary output, either positive review or non-positive.\n",
    "\n"
   ]
  },
  {
   "cell_type": "code",
   "execution_count": 12,
   "metadata": {
    "collapsed": true
   },
   "outputs": [],
   "source": [
    "#split the data\n",
    "train_size = 0.7\n",
    "\n",
    "x_train, x_test, y_train, y_test = train_test_split(\n",
    "    padded_docs, labels, test_size=train_size, random_state=42)"
   ]
  },
  {
   "cell_type": "code",
   "execution_count": 14,
   "metadata": {},
   "outputs": [
    {
     "name": "stdout",
     "output_type": "stream",
     "text": [
      "_________________________________________________________________\n",
      "Layer (type)                 Output Shape              Param #   \n",
      "=================================================================\n",
      "embedding_2 (Embedding)      (None, 200, 8)            14979968  \n",
      "_________________________________________________________________\n",
      "flatten_2 (Flatten)          (None, 1600)              0         \n",
      "_________________________________________________________________\n",
      "dense_2 (Dense)              (None, 1)                 1601      \n",
      "=================================================================\n",
      "Total params: 14,981,569\n",
      "Trainable params: 14,981,569\n",
      "Non-trainable params: 0\n",
      "_________________________________________________________________\n",
      "None\n"
     ]
    }
   ],
   "source": [
    "# #create the CNN\n",
    "# vect_dimension = 8\n",
    "\n",
    "# model = Sequential()\n",
    "# model.add(Embedding(vocab_size, vect_dimension, input_length=max_length))\n",
    "# model.add(Flatten())\n",
    "# model.add(Dense(1, activation='sigmoid'))\n",
    "\n",
    "# #model compilation. add loss function\n",
    "# model.compile(optimizer='adam', loss='binary_crossentropy', metrics=['acc'])\n",
    "\n",
    "# # check model\n",
    "# print(model.summary())\n"
   ]
  },
  {
   "cell_type": "code",
   "execution_count": 37,
   "metadata": {},
   "outputs": [
    {
     "name": "stdout",
     "output_type": "stream",
     "text": [
      "_________________________________________________________________\n",
      "Layer (type)                 Output Shape              Param #   \n",
      "=================================================================\n",
      "embedding_12 (Embedding)     (None, 200, 32)           59919872  \n",
      "_________________________________________________________________\n",
      "conv1d_7 (Conv1D)            (None, 200, 32)           3104      \n",
      "_________________________________________________________________\n",
      "max_pooling1d_6 (MaxPooling1 (None, 100, 32)           0         \n",
      "_________________________________________________________________\n",
      "flatten_9 (Flatten)          (None, 3200)              0         \n",
      "_________________________________________________________________\n",
      "dense_9 (Dense)              (None, 1)                 3201      \n",
      "=================================================================\n",
      "Total params: 59,926,177\n",
      "Trainable params: 59,926,177\n",
      "Non-trainable params: 0\n",
      "_________________________________________________________________\n",
      "None\n"
     ]
    }
   ],
   "source": [
    "#create the CNN\n",
    "vect_dimension = 32\n",
    "\n",
    "model = Sequential()\n",
    "model.add(Embedding(vocab_size, vect_dimension, input_length=max_length))\n",
    "model.add(Conv1D(32, kernel_size=3, padding='same',activation='relu'))\n",
    "model.add(MaxPooling1D(pool_size=2))\n",
    "model.add(Flatten())\n",
    "model.add(Dense(1, activation='sigmoid'))\n",
    "\n",
    "#model compilation. add loss function\n",
    "model.compile(optimizer='adam', loss='binary_crossentropy', metrics=['acc'])\n",
    "\n",
    "# check model\n",
    "print(model.summary())\n"
   ]
  },
  {
   "cell_type": "code",
   "execution_count": 38,
   "metadata": {},
   "outputs": [
    {
     "name": "stdout",
     "output_type": "stream",
     "text": [
      "Epoch 1/2\n",
      "170536/170536 [==============================] - 4412s - loss: 0.3039 - acc: 0.8735  \n",
      "Epoch 2/2\n",
      "170536/170536 [==============================] - 4079s - loss: 0.1896 - acc: 0.9280  \n",
      "169984/170536 [============================>.] - ETA: 0sAccuracy: 96.052446\n"
     ]
    }
   ],
   "source": [
    "# fit the model\n",
    "model.fit(x_train, y_train, epochs=2, verbose=1)\n",
    "\n",
    "# evaluate the model\n",
    "loss, accuracy = model.evaluate(x_train, y_train, verbose=1)\n",
    "print('Accuracy: %f' % (accuracy*100))"
   ]
  },
  {
   "cell_type": "code",
   "execution_count": 39,
   "metadata": {},
   "outputs": [
    {
     "name": "stdout",
     "output_type": "stream",
     "text": [
      "397312/397918 [============================>.] - ETA: 0sAccuracy: 91.465076\n"
     ]
    }
   ],
   "source": [
    "#put on test set\n",
    "loss, accuracy = model.evaluate(x_test, y_test, verbose=1)\n",
    "print('Accuracy: %f' % (accuracy*100))"
   ]
  },
  {
   "cell_type": "markdown",
   "metadata": {},
   "source": [
    "acc after epoch 1 \n",
    "\n",
    "vect dim 8, filter_size 8: 8623\n",
    "8, 32: 88, 91, 94, 91\n"
   ]
  },
  {
   "cell_type": "markdown",
   "metadata": {},
   "source": [
    "## Hyperparameter tuning\n",
    "\n",
    "Here, we will try different parameters to tune the CNN and check the performance. \n",
    "The first cell will focus on how many dimensions to use and the second cell will focus on different optimizers/loss functions and the result will be plotted in a heatmap to visualize the accuracies"
   ]
  },
  {
   "cell_type": "code",
   "execution_count": 47,
   "metadata": {},
   "outputs": [
    {
     "name": "stdout",
     "output_type": "stream",
     "text": [
      "dim:  2\n",
      "Epoch 1/2\n",
      "170535/170535 [==============================] - 280s - loss: 0.3267 - acc: 0.8595   \n",
      "Epoch 2/2\n",
      "170535/170535 [==============================] - 280s - loss: 0.2442 - acc: 0.9024   \n",
      "168416/170535 [============================>.] - ETA: 0sTraining Accuracy: 91.319670\n",
      "396928/397917 [============================>.] - ETA: 0sTest Accuracy: 89.581244\n",
      "\n",
      "\n",
      "dim:  4\n",
      "Epoch 1/2\n",
      "170535/170535 [==============================] - 547s - loss: 0.3149 - acc: 0.8657   \n",
      "Epoch 2/2\n",
      "170535/170535 [==============================] - 545s - loss: 0.2360 - acc: 0.9057   \n",
      "169280/170535 [============================>.] - ETA: 0sTraining Accuracy: 91.904888\n",
      "396128/397917 [============================>.] - ETA: 0sTest Accuracy: 89.849642\n",
      "\n",
      "\n",
      "dim:  6\n",
      "Epoch 1/2\n",
      "170535/170535 [==============================] - 799s - loss: 0.3077 - acc: 0.8701   \n",
      "Epoch 2/2\n",
      "170535/170535 [==============================] - 801s - loss: 0.2301 - acc: 0.9088   \n",
      "170336/170535 [============================>.] - ETA: 0sTraining Accuracy: 92.755153\n",
      "395520/397917 [============================>.] - ETA: 0sTest Accuracy: 90.160511\n",
      "\n",
      "\n",
      "dim:  8\n",
      "Epoch 1/2\n",
      "170535/170535 [==============================] - 1063s - loss: 0.3040 - acc: 0.8717  \n",
      "Epoch 2/2\n",
      "170535/170535 [==============================] - 1087s - loss: 0.2265 - acc: 0.9102  - ETA: 9s - loss: - ETA: 5s - \n",
      "169344/170535 [============================>.] - ETA: 0sTraining Accuracy: 92.724074\n",
      "397312/397917 [============================>.] - ETA: 0sTest Accuracy: 90.017265\n",
      "\n",
      "\n"
     ]
    }
   ],
   "source": [
    "#create multiple CNNs with different hyperparameters\n",
    "\n",
    "vect_dimensions = [2,4,6,8]\n",
    "models_accuracy = defaultdict(dict)\n",
    "\n",
    "\n",
    "\n",
    "for dim in vect_dimensions:\n",
    "    print 'dim: ', dim\n",
    "    model = Sequential()\n",
    "    model.add(Embedding(vocab_size, dim, input_length=max_length))\n",
    "    model.add(Flatten())\n",
    "    model.add(Dense(1, activation='sigmoid'))\n",
    "\n",
    "    #model compilation. add loss function\n",
    "    model.compile(optimizer='adam', loss='binary_crossentropy', metrics=['acc'])\n",
    "\n",
    "    # fit the model\n",
    "    model.fit(x_train, y_train, epochs=2, verbose=1)\n",
    "\n",
    "    # evaluate the model\n",
    "    train_loss, train_accuracy = model.evaluate(x_train, y_train, verbose=1)\n",
    "    print('Training Accuracy: %f' % (train_accuracy*100))\n",
    "\n",
    "    #put on test set\n",
    "    test_loss, test_accuracy = model.evaluate(x_test, y_test, verbose=1)\n",
    "    print('Test Accuracy: %f' % (test_accuracy*100))\n",
    "\n",
    "    print('\\n')\n",
    "    \n",
    "    models_accuracy[model]['training_error'] = train_accuracy\n",
    "    models_accuracy[model]['test_error']=test_accuracy"
   ]
  },
  {
   "cell_type": "code",
   "execution_count": 54,
   "metadata": {
    "collapsed": true
   },
   "outputs": [],
   "source": [
    "#save the mdoels which was just created\n",
    "post_name = 1\n",
    "for k,v in models_accuracy.iteritems():\n",
    "    out_name = 'keras_model_'+str(post_name)\n",
    "    k.save(out_name)\n",
    "    post_name+=1\n",
    "    \n"
   ]
  },
  {
   "cell_type": "code",
   "execution_count": 56,
   "metadata": {},
   "outputs": [
    {
     "name": "stdout",
     "output_type": "stream",
     "text": [
      "Modeling.ipynb         keras_model_1          keras_model_4\r\n",
      "Proposal.md            keras_model_2          my_model.h5\r\n",
      "data_preparation.ipynb keras_model_3\r\n"
     ]
    }
   ],
   "source": [
    "#chcek for the model files\n",
    "!ls"
   ]
  },
  {
   "cell_type": "code",
   "execution_count": 66,
   "metadata": {
    "scrolled": false
   },
   "outputs": [
    {
     "name": "stdout",
     "output_type": "stream",
     "text": [
      "optimizer:  adam\n",
      "loss:  mean_squared_error \n",
      "\n",
      "Epoch 1/2\n",
      "170535/170535 [==============================] - 243s - loss: 0.1019 - acc: 0.8621   \n",
      "Epoch 2/2\n",
      "170535/170535 [==============================] - 236s - loss: 0.0722 - acc: 0.9052   \n",
      "167328/170535 [============================>.] - ETA: 0s\n",
      " Training Accuracy: 92.103087\n",
      "397120/397917 [============================>.] - ETA: 0s\n",
      " Test Accuracy: 90.006207\n",
      "\n",
      "\n",
      "----------------------------------------\n",
      "optimizer:  adam\n",
      "loss:  cosine_proximity \n",
      "\n",
      "Epoch 1/2\n",
      "170535/170535 [==============================] - 231s - loss: -0.7797 - acc: 0.7791   \n",
      "Epoch 2/2\n",
      "170535/170535 [==============================] - 231s - loss: -0.7797 - acc: 0.7797   \n",
      "169632/170535 [============================>.] - ETA: 0s\n",
      " Training Accuracy: 77.970505\n",
      "396224/397917 [============================>.] - ETA: 0s\n",
      " Test Accuracy: 78.108751\n",
      "\n",
      "\n",
      "----------------------------------------\n",
      "optimizer:  adam\n",
      "loss:  binary_crossentropy \n",
      "\n",
      "Epoch 1/2\n",
      "170535/170535 [==============================] - 231s - loss: 0.3266 - acc: 0.8599   \n",
      "Epoch 2/2\n",
      "170535/170535 [==============================] - 233s - loss: 0.2442 - acc: 0.9016   \n",
      "170016/170535 [============================>.] - ETA: 0s\n",
      " Training Accuracy: 91.474477\n",
      "397792/397917 [============================>.] - ETA: 0s\n",
      " Test Accuracy: 89.680009\n",
      "\n",
      "\n",
      "----------------------------------------\n",
      "optimizer:  sgd\n",
      "loss:  mean_squared_error \n",
      "\n",
      "Epoch 1/2\n",
      "170535/170535 [==============================] - 122s - loss: 0.1733 - acc: 0.7781   \n",
      "Epoch 2/2\n",
      "170535/170535 [==============================] - 122s - loss: 0.1706 - acc: 0.7797   \n",
      "169920/170535 [============================>.] - ETA: 0s\n",
      " Training Accuracy: 77.970505\n",
      "395680/397917 [============================>.] - ETA: 0s\n",
      " Test Accuracy: 78.108751\n",
      "\n",
      "\n",
      "----------------------------------------\n",
      "optimizer:  sgd\n",
      "loss:  cosine_proximity \n",
      "\n",
      "Epoch 1/2\n",
      "170535/170535 [==============================] - 124s - loss: -0.7797 - acc: 0.7108   \n",
      "Epoch 2/2\n",
      "170535/170535 [==============================] - 123s - loss: -0.7797 - acc: 0.7108   \n",
      "169696/170535 [============================>.] - ETA: 0s\n",
      " Training Accuracy: 71.080423\n",
      "394880/397917 [============================>.] - ETA: 0s\n",
      " Test Accuracy: 70.969071\n",
      "\n",
      "\n",
      "----------------------------------------\n",
      "optimizer:  sgd\n",
      "loss:  binary_crossentropy \n",
      "\n",
      "Epoch 1/2\n",
      "170535/170535 [==============================] - 128s - loss: 0.5254 - acc: 0.7791   \n",
      "Epoch 2/2\n",
      "170535/170535 [==============================] - 123s - loss: 0.5170 - acc: 0.7797   \n",
      "170496/170535 [============================>.] - ETA: 0s\n",
      " Training Accuracy: 77.970505\n",
      "396960/397917 [============================>.] - ETA: 0s\n",
      " Test Accuracy: 78.108751\n",
      "\n",
      "\n",
      "----------------------------------------\n",
      "optimizer:  Adagrad\n",
      "loss:  mean_squared_error \n",
      "\n",
      "Epoch 1/2\n",
      "170535/170535 [==============================] - 181s - loss: 0.1206 - acc: 0.8302   \n",
      "Epoch 2/2\n",
      "170535/170535 [==============================] - 182s - loss: 0.0934 - acc: 0.8743   \n",
      "168544/170535 [============================>.] - ETA: 0s\n",
      " Training Accuracy: 88.134987\n",
      "396704/397917 [============================>.] - ETA: 0s\n",
      " Test Accuracy: 87.423005\n",
      "\n",
      "\n",
      "----------------------------------------\n",
      "optimizer:  Adagrad\n",
      "loss:  cosine_proximity \n",
      "\n",
      "Epoch 1/2\n",
      "170535/170535 [==============================] - 187s - loss: -0.7797 - acc: 0.7796   \n",
      "Epoch 2/2\n",
      "170535/170535 [==============================] - 182s - loss: -0.7797 - acc: 0.7797   \n",
      "170368/170535 [============================>.] - ETA: 0s\n",
      " Training Accuracy: 77.970505\n",
      "397824/397917 [============================>.] - ETA: 0s\n",
      " Test Accuracy: 78.108751\n",
      "\n",
      "\n",
      "----------------------------------------\n",
      "optimizer:  Adagrad\n",
      "loss:  binary_crossentropy \n",
      "\n",
      "Epoch 1/2\n",
      "170535/170535 [==============================] - 181s - loss: 0.3811 - acc: 0.8254   \n",
      "Epoch 2/2\n",
      "170535/170535 [==============================] - 186s - loss: 0.3055 - acc: 0.8689   - ETA: 1s - loss:\n",
      "169760/170535 [============================>.] - ETA: 0s\n",
      " Training Accuracy: 87.827719\n",
      "396352/397917 [============================>.] - ETA: 0s\n",
      " Test Accuracy: 87.222461\n",
      "\n",
      "\n",
      "----------------------------------------\n",
      "optimizer:  Adadelta\n",
      "loss:  mean_squared_error \n",
      "\n",
      "Epoch 1/2\n",
      "170535/170535 [==============================] - 311s - loss: 0.1478 - acc: 0.7943   \n",
      "Epoch 2/2\n",
      "170535/170535 [==============================] - 314s - loss: 0.1089 - acc: 0.8479   \n",
      "169600/170535 [============================>.] - ETA: 0s ETA\n",
      " Training Accuracy: 86.083795\n",
      "395072/397917 [============================>.] - ETA: 0s\n",
      " Test Accuracy: 85.772661\n",
      "\n",
      "\n",
      "----------------------------------------\n",
      "optimizer:  Adadelta\n",
      "loss:  cosine_proximity \n",
      "\n",
      "Epoch 1/2\n",
      "170535/170535 [==============================] - 309s - loss: -0.7797 - acc: 0.5201   \n",
      "Epoch 2/2\n",
      "170535/170535 [==============================] - 307s - loss: -0.7797 - acc: 0.5224   \n",
      "167936/170535 [============================>.] - ETA: 0s\n",
      " Training Accuracy: 52.356408\n",
      "395616/397917 [============================>.] - ETA: 0s\n",
      " Test Accuracy: 52.221192\n",
      "\n",
      "\n",
      "----------------------------------------\n",
      "optimizer:  Adadelta\n",
      "loss:  binary_crossentropy \n",
      "\n",
      "Epoch 1/2\n",
      "170535/170535 [==============================] - 302s - loss: 0.4450 - acc: 0.7977   \n",
      "Epoch 2/2\n",
      "170535/170535 [==============================] - 302s - loss: 0.3384 - acc: 0.8505   \n",
      "168768/170535 [============================>.] - ETA: 0s\n",
      " Training Accuracy: 86.259712\n",
      "397600/397917 [============================>.] - ETA: 0s\n",
      " Test Accuracy: 85.881226\n",
      "\n",
      "\n",
      "----------------------------------------\n"
     ]
    }
   ],
   "source": [
    "optimizers = ['adam', 'sgd', 'Adagrad', 'Adadelta']\n",
    "losses = ['mean_squared_error', 'cosine_proximity', 'binary_crossentropy']\n",
    "metrics=['acc']\n",
    "\n",
    "models_accuracy = defaultdict(dict)\n",
    "\n",
    "for optimizer in optimizers:\n",
    "    for loss in losses:\n",
    "        print 'optimizer: ', optimizer\n",
    "        print 'loss: ', loss, '\\n'\n",
    "        model = Sequential()\n",
    "        model.add(Embedding(vocab_size, 2, input_length=max_length))\n",
    "        model.add(Flatten())\n",
    "        model.add(Dense(1, activation='sigmoid'))\n",
    "\n",
    "        #model compilation. add loss function\n",
    "        model.compile(optimizer=optimizer, loss=loss, metrics=['acc'])\n",
    "\n",
    "        # fit the model\n",
    "        model.fit(x_train, y_train, epochs=2, verbose=1)\n",
    "\n",
    "        # evaluate the model\n",
    "        train_loss, train_accuracy = model.evaluate(x_train, y_train, verbose=1)\n",
    "        print('\\n Training Accuracy: %f' % (train_accuracy*100))\n",
    "\n",
    "        #put on test set\n",
    "        test_loss, test_accuracy = model.evaluate(x_test, y_test, verbose=1)\n",
    "        print('\\n Test Accuracy: %f' % (test_accuracy*100))\n",
    "\n",
    "        print('\\n')\n",
    "\n",
    "        #models_accuracy[model]['training_error'] = train_accuracy\n",
    "        #models_accuracy[model]['test_error']=test_accuracy\n",
    "        models_accuracy[optimizer][loss] = defaultdict(dict)\n",
    "        models_accuracy[optimizer][loss]['train_acc']=train_accuracy\n",
    "        models_accuracy[optimizer][loss]['test_acc']=test_accuracy\n",
    "\n",
    "        \n",
    "        print('----------------------------------------')"
   ]
  },
  {
   "cell_type": "code",
   "execution_count": 68,
   "metadata": {},
   "outputs": [
    {
     "name": "stdout",
     "output_type": "stream",
     "text": [
      "True\n"
     ]
    }
   ],
   "source": [
    "with open('hyper_parameter_tuning.pickle', 'wb') as handle:\n",
    "    pickle.dump(models_accuracy, handle, protocol=pickle.HIGHEST_PROTOCOL)\n",
    "\n",
    "with open('hyper_parameter_tuning.pickle', 'rb') as handle:\n",
    "    b = pickle.load(handle)\n",
    "\n",
    "print models_accuracy == b"
   ]
  },
  {
   "cell_type": "code",
   "execution_count": null,
   "metadata": {
    "collapsed": true
   },
   "outputs": [],
   "source": []
  }
 ],
 "metadata": {
  "kernelspec": {
   "display_name": "Python 2",
   "language": "python",
   "name": "python2"
  },
  "language_info": {
   "codemirror_mode": {
    "name": "ipython",
    "version": 2
   },
   "file_extension": ".py",
   "mimetype": "text/x-python",
   "name": "python",
   "nbconvert_exporter": "python",
   "pygments_lexer": "ipython2",
   "version": "2.7.13"
  }
 },
 "nbformat": 4,
 "nbformat_minor": 2
}
