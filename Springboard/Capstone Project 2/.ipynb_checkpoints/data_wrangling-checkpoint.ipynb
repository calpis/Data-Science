{
 "cells": [
  {
   "cell_type": "markdown",
   "metadata": {},
   "source": [
    "## Data analysis of Flappy bird\n",
    "\n",
    "The goal of this project is to create a DQN (deep Q-learning Network) to find optimal policy set to get a high score on the game flappybird.  How the game works is as follows: <br>\n",
    "\n",
    "1. The user controls a bird in the middle of a side-scrolling screen.<br>\n",
    "2. The bird has two possible actions. It either falls (which is the default action) or it rises (when the user taps the screen, or in the case of PLE, when the user hits the 'w' key.)<br>\n",
    "3. The environment is set up with randomly sized and positioned pipes, which the user must maneuver the bird over, under, or between.<br>\n",
    "4. The score for the trial is based on how many pipes the user is able to navitage through.  The game reaches a terminal state when the bird crashes into the pipe, or hits the ceiling or bottom of the game screen.<br>\n",
    "\n",
    "\n",
    "This notebook will focus on analyzing the data behind flappy birds. Some of the questions to be answered are below:\n",
    "\n",
    "1. How is the game state represented? <br>\n",
    "2. What are the possible actions? How are they encoded?\n"
   ]
  },
  {
   "cell_type": "code",
   "execution_count": 1,
   "metadata": {},
   "outputs": [
    {
     "name": "stdout",
     "output_type": "stream",
     "text": [
      "couldn't import doomish\n",
      "Couldn't import doom\n"
     ]
    }
   ],
   "source": [
    "from ple.games.flappybird import FlappyBird\n",
    "from ple import PLE\n",
    "\n",
    "import skimage\n",
    "\n",
    "from skimage import data, io\n",
    "from skimage.transform import rotate\n",
    "from skimage.color import rgb2gray, rgb2grey\n",
    "\n",
    "#image editing\n",
    "from skimage import feature, filters\n",
    "#from skimage import *\n",
    "import cPickle as pickle\n",
    "\n",
    "import matplotlib.pyplot as plt\n",
    "\n",
    "##data file location\n",
    "data_output = '/users/momori/data/stacked_images.pkl'\n",
    "\n",
    "from classes import *"
   ]
  },
  {
   "cell_type": "code",
   "execution_count": 69,
   "metadata": {},
   "outputs": [
    {
     "name": "stdout",
     "output_type": "stream",
     "text": [
      "possible actions are: [119, None]\n",
      "-5.0\n"
     ]
    }
   ],
   "source": [
    "#init the game flappybird\n",
    "game = FlappyBird()\n",
    "\n",
    "#set up the screen\n",
    "p = PLE(game, fps=30, display_screen=True)\n",
    "\n",
    "p.init()\n",
    "\n",
    "print 'possible actions are:', p.getActionSet()\n",
    "\n",
    "num_frames = 401 ##first frame is null\n",
    "observations = []\n",
    "game_over = False\n",
    "for i in range(num_frames):\n",
    "    if p.game_over():\n",
    "        p.reset_game()\n",
    "\n",
    "    observation = p.getScreenRGB()\n",
    "    observations.append(observation)\n",
    "    reward = p.act(None)\n",
    "    if reward != 0 and not game_over:\n",
    "        print reward\n",
    "        game_over = True\n",
    "\n",
    "    "
   ]
  },
  {
   "cell_type": "markdown",
   "metadata": {},
   "source": [
    "From the above output, we can see that there are two actions. The value 119 will que the bird to flap upwards, where as doing nothing will lower the altitude.  Once the termination requirements are set, in which case p.game_over() will return True, the trial is done and given a score of -5.0.  Then the game is reset.  \n",
    "\n",
    "The observations list contains representation of some of the states of the game.  Below we will analyze them."
   ]
  },
  {
   "cell_type": "markdown",
   "metadata": {},
   "source": [
    "## State Representation\n",
    "\n",
    "We notice below that each state is represented as an ndarray, with dimensions of (288, 512, 3).  The 3 is for the RGB values, and the actual window size is set up to be 288 high and 512 pixels wide.  According to this article, https://yanpanlau.github.io/2016/07/10/FlappyBird-Keras.html, it is recommended that we do some image reconstruction on these state representations.  By converting the image into grayscale, we can reduce the dimensionality of the image, hence improving the speed for the neural network to train on.  Also, feeding in one frame at a time to the network will not depict whether the bird is going up or down.  Therfore, the recommendation is to stack 4 frames together and put it as one sample point.  We will utilize the skimage library to change the representations."
   ]
  },
  {
   "cell_type": "code",
   "execution_count": 3,
   "metadata": {},
   "outputs": [
    {
     "name": "stdout",
     "output_type": "stream",
     "text": [
      "<type 'numpy.ndarray'> (288, 512, 3)\n"
     ]
    }
   ],
   "source": [
    "print type(observations[1]), observations[1].shape"
   ]
  },
  {
   "cell_type": "code",
   "execution_count": 4,
   "metadata": {},
   "outputs": [],
   "source": [
    "# im = rgb2gray(observations[20])\n",
    "\n",
    "# #im = skimage.transform.resize(im, (80,80))\n",
    "# im = skimage.exposure.rescale_intensity(im, out_range=(0,255))\n",
    "\n",
    "# io.imshow(im)\n",
    "# plt.show()\n",
    "\n",
    "# #im = io.imshow(rgb2gray(observations[1]))\n",
    "\n",
    "# #plt.show()"
   ]
  },
  {
   "cell_type": "code",
   "execution_count": 6,
   "metadata": {},
   "outputs": [
    {
     "data": {
      "image/png": "[encoded data removed]",
      "text/plain": [
       "<matplotlib.figure.Figure at 0x1c18ef0f90>"
      ]
     },
     "metadata": {},
     "output_type": "display_data"
    },
    {
     "data": {
      "image/png": "[encoded data removed]",
      "text/plain": [
       "<matplotlib.figure.Figure at 0x1c2a91df10>"
      ]
     },
     "metadata": {},
     "output_type": "display_data"
    },
    {
     "data": {
      "image/png": "[encoded data removed]",
      "text/plain": [
       "<matplotlib.figure.Figure at 0x1c2af0edd0>"
      ]
     },
     "metadata": {},
     "output_type": "display_data"
    }
   ],
   "source": [
    "io.imshow(observations[0])\n",
    "plt.show()\n",
    "io.imshow(observations[2])\n",
    "plt.show()\n",
    "io.imshow(observations[3])\n",
    "plt.show()"
   ]
  },
  {
   "cell_type": "code",
   "execution_count": 82,
   "metadata": {
    "collapsed": true
   },
   "outputs": [],
   "source": [
    "class ImageProcessor():\n",
    "    '''Class used to stack and convert images into grayscale\n",
    "    args: \n",
    "        image: ndarray image of the flappybird state representation\n",
    "    '''\n",
    "    def __init__(self, orig_image):\n",
    "        self._orig_image = orig_image\n",
    "        \n",
    "        #convert into grayscale, crop out the bottom and downsample\n",
    "        self._gray_image = skimage.color.rgb2gray(\n",
    "            orig_image[:,:340][::3,::3])\n",
    "        \n",
    "    @property\n",
    "    def gray_image(self):\n",
    "        return self._gray_image\n",
    "    \n",
    "    @gray_image.setter\n",
    "    def gray_image(self, image):\n",
    "        self._orig_image = image\n",
    "        self._gray_image = skimage.color.rgb2gray(image)\n",
    "        \n",
    "    @property \n",
    "    def orig_image(self):\n",
    "        return self._orig_image\n",
    "    \n",
    "    @orig_image.setter\n",
    "    def orig_image(self, image):\n",
    "        self._orig_image = image\n",
    "        self._gray_image = skimage.color.rgb2gray(image)\n",
    "        \n",
    "    def show_image(self, gray=True):\n",
    "        if gray:\n",
    "            io.imshow(self._gray_image)\n",
    "        else:\n",
    "            io.imshow(self._orig_image)\n",
    "        plt.show()\n",
    "        \n",
    "    def shape(self):\n",
    "        print 'original image shape:', self._orig_image.shape\n",
    "        print 'gray image eshape:', self._gray_image.shape\n",
    "        \n",
    "    def matrix(self, gray=True):\n",
    "        return self._gray_image\n",
    "    \n",
    "    def is_first_frame(self):\n",
    "        '''seems first frame is always dark. Used to detect\n",
    "        if the state value is all 0 or not'''\n",
    "        return np.max(self._gray_image) == 0"
   ]
  },
  {
   "cell_type": "code",
   "execution_count": 83,
   "metadata": {
    "collapsed": true
   },
   "outputs": [],
   "source": [
    "class StackedImages():\n",
    "    '''object to keep the stacked frames together for organization.\n",
    "    organized as a list of stacked ndarrays'''\n",
    "    def __init__(self, image_processors = None, num_per_stack = None):\n",
    "        if type(image_processors) is not list:\n",
    "            print 'images need to be a list'\n",
    "        else:\n",
    "            self._stacked_images = []\n",
    "            for i in range(0, len(image_processors), num_per_stack):\n",
    "                list_images = [image_processors[i].gray_image for i in \n",
    "                              range(i, i+num_per_stack)]\n",
    "                stacked = np.stack(list_images, axis=0)\n",
    "                self._stacked_images.append(stacked)\n",
    "#             self._images = [i.gray_image for i in images]\n",
    "#             self._stacked_images = np.stack(self._images, axis=0)\n",
    "    \n",
    "    def plot(self):\n",
    "        for image in self._images:\n",
    "            io.imshow(image)\n",
    "            plt.show()\n",
    "        \n",
    "    def get_stacked_images(self):\n",
    "        return self._stacked_images\n",
    "    \n",
    "    \n",
    "    def get_shape(self):\n",
    "        return self._stacked_images[0].shape\n",
    "    \n",
    "    def save(self, file_name):\n",
    "        handle = open(file_name, 'w')\n",
    "        pickle.dump(self.__dict__, handle, 2)\n",
    "        handle.close()\n",
    "        \n",
    "    def load(self, file_name):\n",
    "        handle = open(file_name, 'r')\n",
    "        tmp_dict = pickle.load(handle)\n",
    "        self.__dict__.clear()\n",
    "        self.__dict__.update(tmp_dict)\n",
    "        handle.close()\n",
    "        \n",
    "        "
   ]
  },
  {
   "cell_type": "code",
   "execution_count": 84,
   "metadata": {},
   "outputs": [
    {
     "name": "stdout",
     "output_type": "stream",
     "text": [
      "CPU times: user 176 ms, sys: 277 ms, total: 453 ms\n",
      "Wall time: 444 ms\n"
     ]
    }
   ],
   "source": [
    "%%time\n",
    "num_in_stack = 4\n",
    "image_processors = []\n",
    "for i in range(0, len(observations)):\n",
    "    '''create bunch of gray scale images here'''\n",
    "    ip = ImageProcessor(observations[i])\n",
    "    if ip.is_first_frame():\n",
    "        continue\n",
    "    image_processors.append(ip)\n",
    "    \n",
    "    \n"
   ]
  },
  {
   "cell_type": "code",
   "execution_count": 85,
   "metadata": {},
   "outputs": [
    {
     "name": "stdout",
     "output_type": "stream",
     "text": [
      "CPU times: user 14.9 ms, sys: 74.8 ms, total: 89.7 ms\n",
      "Wall time: 86.6 ms\n"
     ]
    }
   ],
   "source": [
    "%%time\n",
    "stacked_images = StackedImages(image_processors, 4)"
   ]
  },
  {
   "cell_type": "code",
   "execution_count": 11,
   "metadata": {},
   "outputs": [
    {
     "name": "stdout",
     "output_type": "stream",
     "text": [
      "CPU times: user 198 ms, sys: 1.9 s, total: 2.1 s\n",
      "Wall time: 4.06 s\n"
     ]
    }
   ],
   "source": [
    "# %%time\n",
    "# '''save the stacked images to be trained in CNN'''\n",
    "# stacked_images.save('/users/momori/data/stacked_images.pkl')"
   ]
  },
  {
   "cell_type": "code",
   "execution_count": 12,
   "metadata": {},
   "outputs": [
    {
     "name": "stdout",
     "output_type": "stream",
     "text": [
      "images need to be a list\n"
     ]
    }
   ],
   "source": [
    "test = StackedImages()\n",
    "test.load('/users/momori/data/stacked_images.pkl')"
   ]
  },
  {
   "cell_type": "markdown",
   "metadata": {},
   "source": [
    "## Feature Reduction\n",
    "\n",
    "To get DQN to learn faster and have more stability, we'd like to reduce the amount of unnecessary information in the state representation.  This includes the background, different shades of colors, etc. First we will try to just obtain the edge information of the image using sklearn and see if that is feasible."
   ]
  },
  {
   "cell_type": "code",
   "execution_count": 27,
   "metadata": {},
   "outputs": [
    {
     "data": {
      "image/png": "[encoded data removed]",
      "text/plain": [
       "<matplotlib.figure.Figure at 0x1c2affae90>"
      ]
     },
     "metadata": {},
     "output_type": "display_data"
    }
   ],
   "source": [
    "##the beginning of the pipes are hard to see with just edges. Need more preprocessing\n",
    "\n",
    "edges = feature.canny(rgb2gray(observations[25]))\n",
    "io.imshow(edges)\n",
    "plt.show()"
   ]
  },
  {
   "cell_type": "code",
   "execution_count": 29,
   "metadata": {},
   "outputs": [
    {
     "data": {
      "image/png": "[encoded data removed]",
      "text/plain": [
       "<matplotlib.figure.Figure at 0x1c2ac6edd0>"
      ]
     },
     "metadata": {},
     "output_type": "display_data"
    },
    {
     "data": {
      "image/png": "[encoded data removed]",
      "text/plain": [
       "<matplotlib.figure.Figure at 0x1c2ae5dc90>"
      ]
     },
     "metadata": {},
     "output_type": "display_data"
    }
   ],
   "source": [
    "io.imshow(observations[25])\n",
    "plt.show()\n",
    "io.imshow(rgb2gray(observations[25]))\n",
    "plt.show()"
   ]
  },
  {
   "cell_type": "code",
   "execution_count": 70,
   "metadata": {},
   "outputs": [
    {
     "data": {
      "image/png": "[encoded data removed]",
      "text/plain": [
       "<matplotlib.figure.Figure at 0x1c8ec04050>"
      ]
     },
     "metadata": {},
     "output_type": "display_data"
    }
   ],
   "source": [
    "##(512, 288) -> down sample to (405, 288) to remove the ground.\n",
    "io.imshow(rgb2gray(observations[21])[:,:340][::4, ::4])\n",
    "plt.show()"
   ]
  },
  {
   "cell_type": "code",
   "execution_count": 71,
   "metadata": {},
   "outputs": [
    {
     "data": {
      "image/png": "[encoded data removed]",
      "text/plain": [
       "<matplotlib.figure.Figure at 0x1c8da26350>"
      ]
     },
     "metadata": {},
     "output_type": "display_data"
    }
   ],
   "source": [
    "im = rgb2gray(observations[21])[:,:405][::4,::4]\n",
    "plt.hist(im)\n",
    "plt.show()"
   ]
  },
  {
   "cell_type": "code",
   "execution_count": 81,
   "metadata": {},
   "outputs": [
    {
     "data": {
      "image/png": "[encoded data removed]",
      "text/plain": [
       "<matplotlib.figure.Figure at 0x1c8cac65d0>"
      ]
     },
     "metadata": {},
     "output_type": "display_data"
    }
   ],
   "source": [
    "a = rgb2gray(observations[21])[:,:340][::3,::3]\n",
    "#a[(a<0.5)] = 0\n",
    "\n",
    "\n",
    "io.imshow(a)\n",
    "plt.show()"
   ]
  },
  {
   "cell_type": "code",
   "execution_count": 80,
   "metadata": {},
   "outputs": [
    {
     "name": "stderr",
     "output_type": "stream",
     "text": [
      "/anaconda2/lib/python2.7/site-packages/matplotlib/axes/_axes.py:6097: UserWarning: 2D hist input should be nsamples x nvariables;\n",
      " this looks transposed (shape is 144 x 170)\n",
      "  '(shape is %d x %d)' % inp.shape[::-1])\n"
     ]
    },
    {
     "data": {
      "image/png": "[encoded data removed]",
      "text/plain": [
       "<matplotlib.figure.Figure at 0x1c8dec0410>"
      ]
     },
     "metadata": {},
     "output_type": "display_data"
    }
   ],
   "source": [
    "plt.hist(a)\n",
    "plt.show()"
   ]
  },
  {
   "cell_type": "code",
   "execution_count": 13,
   "metadata": {},
   "outputs": [
    {
     "name": "stdout",
     "output_type": "stream",
     "text": [
      "0.0\n",
      "0.980392156863\n",
      "0.980392156863\n"
     ]
    }
   ],
   "source": [
    "import numpy as np\n",
    "for i in range(3):\n",
    "    gr = ImageProcessor(observations[i])\n",
    "    print np.max(gr.matrix())\n",
    "    #print gr.find_max()"
   ]
  },
  {
   "cell_type": "code",
   "execution_count": 14,
   "metadata": {},
   "outputs": [
    {
     "name": "stdout",
     "output_type": "stream",
     "text": [
      "original image shape: (288, 512, 3)\n",
      "gray image eshape: (288, 512)\n"
     ]
    }
   ],
   "source": [
    "gr.shape()"
   ]
  },
  {
   "cell_type": "code",
   "execution_count": 15,
   "metadata": {
    "collapsed": true
   },
   "outputs": [],
   "source": [
    "import pickle"
   ]
  },
  {
   "cell_type": "code",
   "execution_count": 16,
   "metadata": {},
   "outputs": [
    {
     "ename": "NameError",
     "evalue": "name 'si' is not defined",
     "output_type": "error",
     "traceback": [
      "\u001b[0;31m-----------------------------------------------------------------------\u001b[0m",
      "\u001b[0;31mNameError\u001b[0m                             Traceback (most recent call last)",
      "\u001b[0;32m<ipython-input-16-f0ea6edbd9d4>\u001b[0m in \u001b[0;36m<module>\u001b[0;34m()\u001b[0m\n\u001b[1;32m      1\u001b[0m \u001b[0mf\u001b[0m \u001b[0;34m=\u001b[0m \u001b[0mopen\u001b[0m\u001b[0;34m(\u001b[0m\u001b[0;34m'/users/momori/data/test_pickle.pkl'\u001b[0m\u001b[0;34m,\u001b[0m \u001b[0;34m'w'\u001b[0m\u001b[0;34m)\u001b[0m\u001b[0;34m\u001b[0m\u001b[0m\n\u001b[0;32m----> 2\u001b[0;31m \u001b[0mpickle\u001b[0m\u001b[0;34m.\u001b[0m\u001b[0mdump\u001b[0m\u001b[0;34m(\u001b[0m\u001b[0msi\u001b[0m\u001b[0;34m,\u001b[0m \u001b[0mf\u001b[0m\u001b[0;34m)\u001b[0m\u001b[0;34m\u001b[0m\u001b[0m\n\u001b[0m\u001b[1;32m      3\u001b[0m \u001b[0mf\u001b[0m\u001b[0;34m.\u001b[0m\u001b[0mclose\u001b[0m\u001b[0;34m(\u001b[0m\u001b[0;34m)\u001b[0m\u001b[0;34m\u001b[0m\u001b[0m\n\u001b[1;32m      4\u001b[0m \u001b[0;31m#file_name='users/momori/data/test_pickle'\u001b[0m\u001b[0;34m\u001b[0m\u001b[0;34m\u001b[0m\u001b[0m\n\u001b[1;32m      5\u001b[0m \u001b[0;34m\u001b[0m\u001b[0m\n",
      "\u001b[0;31mNameError\u001b[0m: name 'si' is not defined"
     ]
    }
   ],
   "source": [
    "f = open('/users/momori/data/test_pickle.pkl', 'w')\n",
    "pickle.dump(si, f)\n",
    "f.close()\n",
    "#file_name='users/momori/data/test_pickle'\n",
    "\n",
    "# with open(file_name, 'w'):\n",
    "#     pickle.dump(si, file_name)"
   ]
  },
  {
   "cell_type": "code",
   "execution_count": null,
   "metadata": {
    "collapsed": true
   },
   "outputs": [],
   "source": [
    "f = open('/users/momori/data/test_pickle.pkl', 'r')\n",
    "test = pickle.load(f)\n",
    "f.close()"
   ]
  },
  {
   "cell_type": "code",
   "execution_count": null,
   "metadata": {},
   "outputs": [],
   "source": [
    "test.plot()"
   ]
  },
  {
   "cell_type": "code",
   "execution_count": null,
   "metadata": {
    "collapsed": true
   },
   "outputs": [],
   "source": []
  },
  {
   "cell_type": "code",
   "execution_count": null,
   "metadata": {
    "collapsed": true
   },
   "outputs": [],
   "source": []
  },
  {
   "cell_type": "code",
   "execution_count": null,
   "metadata": {},
   "outputs": [],
   "source": [
    "len(observations)"
   ]
  },
  {
   "cell_type": "code",
   "execution_count": null,
   "metadata": {},
   "outputs": [],
   "source": [
    "say_hello()"
   ]
  },
  {
   "cell_type": "code",
   "execution_count": null,
   "metadata": {},
   "outputs": [],
   "source": []
  },
  {
   "cell_type": "code",
   "execution_count": null,
   "metadata": {
    "collapsed": true
   },
   "outputs": [],
   "source": []
  },
  {
   "cell_type": "code",
   "execution_count": null,
   "metadata": {
    "collapsed": true
   },
   "outputs": [],
   "source": []
  },
  {
   "cell_type": "code",
   "execution_count": null,
   "metadata": {
    "collapsed": true
   },
   "outputs": [],
   "source": []
  },
  {
   "cell_type": "code",
   "execution_count": null,
   "metadata": {
    "collapsed": true
   },
   "outputs": [],
   "source": []
  },
  {
   "cell_type": "code",
   "execution_count": null,
   "metadata": {
    "collapsed": true
   },
   "outputs": [],
   "source": []
  },
  {
   "cell_type": "code",
   "execution_count": null,
   "metadata": {
    "collapsed": true
   },
   "outputs": [],
   "source": []
  },
  {
   "cell_type": "code",
   "execution_count": null,
   "metadata": {
    "collapsed": true
   },
   "outputs": [],
   "source": []
  },
  {
   "cell_type": "code",
   "execution_count": null,
   "metadata": {
    "collapsed": true
   },
   "outputs": [],
   "source": []
  },
  {
   "cell_type": "code",
   "execution_count": null,
   "metadata": {
    "collapsed": true
   },
   "outputs": [],
   "source": []
  },
  {
   "cell_type": "code",
   "execution_count": null,
   "metadata": {},
   "outputs": [],
   "source": [
    "# num_images = 4\n",
    "# num_cols = 2\n",
    "# num_rows = num_images/num_cols\n",
    "# print num_rows, num_cols\n",
    "# plt.clf()\n",
    "# #plt.figure(figsize=(20,10))\n",
    "# #plt.subplots(num_rows, num_cols, figsize=(40,40))\n",
    "# for i in range(num_images):\n",
    "#     print i\n",
    "#     io.imshow(observations[i])\n",
    "#     plt.subplot(i+1, 1, i+1)\n",
    "#     plt.title('image'+str(i))\n",
    "# plt.show()\n"
   ]
  },
  {
   "cell_type": "code",
   "execution_count": null,
   "metadata": {
    "collapsed": true
   },
   "outputs": [],
   "source": [
    "﻿"
   ]
  },
  {
   "cell_type": "code",
   "execution_count": null,
   "metadata": {},
   "outputs": [],
   "source": [
    "import numpy as np\n",
    "import matplotlib.pyplot as plt\n",
    "\n",
    "\n",
    "x1 = np.linspace(0.0, 5.0)\n",
    "x2 = np.linspace(0.0, 2.0)\n",
    "\n",
    "y1 = np.cos(2 * np.pi * x1) * np.exp(-x1)\n",
    "y2 = np.cos(2 * np.pi * x2)\n",
    "\n",
    "plt.subplot(2, 1, 1)\n",
    "plt.plot(x1, y1, 'ko-')\n",
    "plt.title('A tale of 2 subplots')\n",
    "plt.ylabel('Damped oscillation')\n",
    "\n",
    "plt.subplot(2, 1, 2)\n",
    "plt.plot(x2, y2, 'r.-')\n",
    "plt.xlabel('time (s)')\n",
    "plt.ylabel('Undamped')\n",
    "\n",
    "plt.subplot(2, 2, 1)\n",
    "plt.plot(x2, y2, 'r.-')\n",
    "plt.xlabel('time (s)')\n",
    "plt.ylabel('1')\n",
    "\n",
    "plt.subplot(2, 2, 2)\n",
    "plt.plot(x2, y2, 'r.-')\n",
    "plt.xlabel('time (s)')\n",
    "plt.ylabel('2')\n",
    "\n",
    "plt.show()"
   ]
  },
  {
   "cell_type": "code",
   "execution_count": null,
   "metadata": {},
   "outputs": [],
   "source": [
    "\n",
    "\n",
    "import matplotlib.pyplot as plt\n",
    "from pylab import *\n",
    "import numpy as np\n",
    "\n",
    "x = np.linspace(0, 2*np.pi, 400)\n",
    "y = np.sin(x**2)\n",
    "\n",
    "subplots_adjust(hspace=0.000)\n",
    "number_of_subplots=4\n",
    "\n",
    "for i,v in enumerate(xrange(number_of_subplots)):\n",
    "    v = v+1\n",
    "    print i, v\n",
    "    ax1 = subplot(number_of_subplots, 1,v)\n",
    "    \n",
    "    ax1.plot(x,y)\n",
    "\n",
    "plt.show()"
   ]
  },
  {
   "cell_type": "code",
   "execution_count": null,
   "metadata": {
    "collapsed": true
   },
   "outputs": [],
   "source": [
    "import test_import as test\n",
    "%run test_import.ipynb"
   ]
  },
  {
   "cell_type": "code",
   "execution_count": null,
   "metadata": {},
   "outputs": [],
   "source": [
    "test.say_2()"
   ]
  },
  {
   "cell_type": "code",
   "execution_count": null,
   "metadata": {},
   "outputs": [],
   "source": [
    "%load_ext autoreload\n",
    "%autoreload test"
   ]
  },
  {
   "cell_type": "code",
   "execution_count": null,
   "metadata": {
    "collapsed": true
   },
   "outputs": [],
   "source": []
  }
 ],
 "metadata": {
  "kernelspec": {
   "display_name": "Python 2",
   "language": "python",
   "name": "python2"
  },
  "language_info": {
   "codemirror_mode": {
    "name": "ipython",
    "version": 2
   },
   "file_extension": ".py",
   "mimetype": "text/x-python",
   "name": "python",
   "nbconvert_exporter": "python",
   "pygments_lexer": "ipython2",
   "version": "2.7.13"
  }
 },
 "nbformat": 4,
 "nbformat_minor": 2
}
