{
 "cells": [
  {
   "cell_type": "code",
   "execution_count": 5,
   "metadata": {},
   "outputs": [],
   "source": [
    "from ple.games.flappybird import FlappyBird\n",
    "from ple import PLE\n",
    "import random\n",
    "import numpy as np\n",
    "import pickle\n",
    "from classes import StackedImages, ImageProcessor\n",
    "from IPython.display import clear_output\n",
    "\n",
    "\n",
    "from keras.models import Sequential\n",
    "from keras.layers import Dense, Flatten\n",
    "from keras.layers import Conv2D, MaxPooling2D\n",
    "from keras.optimizers import SGD\n",
    "from keras.models import load_model\n",
    "\n",
    "\n",
    "from collections import deque\n",
    "\n",
    "import timeit\n",
    "\n",
    "from skimage import io\n",
    "import matplotlib.pyplot as plt\n",
    "\n",
    "#down-sized dimensions of the state representations\n",
    "input_num_rows = 96\n",
    "input_num_cols = 114\n",
    "\n",
    "data_input = '/users/momori/data/stacked_images.pkl'\n",
    "model_input = '/Users/momori/Documents/GitHub/Data-Science/Springboard/Capstone Project 2/True_model'"
   ]
  },
  {
   "cell_type": "code",
   "execution_count": 6,
   "metadata": {},
   "outputs": [],
   "source": [
    "class PolicyAgent():\n",
    "    '''agent to learn and provide optimal actions during the game run.\n",
    "    the output is the expected reward for taking that action in that state\n",
    "    output:\n",
    "        higher index 0 -> flap\n",
    "        higher index 1 -> do nothing\n",
    "        '''\n",
    "    def __init__(self):\n",
    "        ##cnn \n",
    "        model = Sequential()\n",
    "        model.add(Conv2D(32, (8,8), activation='relu', input_shape=(input_num_rows, input_num_cols, 4)))\n",
    "        model.add(MaxPooling2D(pool_size=(10,10)))\n",
    "        model.add(Flatten())\n",
    "        model.add(Dense(10, activation='relu'))\n",
    "        #model.add(Dense(2, activation='softmax'))\n",
    "        model.add(Dense(2, activation='relu'))\n",
    "        #model.compile(loss='categorical_crossentropy', optimizer='sgd')\n",
    "        model.compile(loss='mse', optimizer='sgd')\n",
    "\n",
    "        self._model = model\n",
    "    \n",
    "    \n",
    "    def fit(self, x_data, y_data, batch_size=32, epochs=1):\n",
    "        x_data = x_data.reshape(1, x_data.shape[1], x_data.shape[2], x_data.shape[0])\n",
    "        y_data = np.array(y_data).reshape(1,2)\n",
    "        self._model.fit(x_data, y_data, batch_size, epochs, verbose=0)\n",
    "        \n",
    "    def predict(self, x_data):\n",
    "        x_data = x_data.reshape(1, x_data.shape[1], x_data.shape[2], x_data.shape[0])\n",
    "        output = self._model.predict(x_data)\n",
    "        index = np.random.choice(np.flatnonzero(output==np.max(output)))\n",
    "#         if output[0][0] > output[0][1]:\n",
    "#             action = 119\n",
    "#         else:\n",
    "#             action = None\n",
    "        if index==0:\n",
    "            action = 119\n",
    "        else:\n",
    "            action = None\n",
    "        return action, output\n",
    "    \n",
    "    def train_on_batch(self, x_data, y_data):\n",
    "        #x_data = x_data.reshape(1, x_data.shape[1], x_data.shape[2], x_data.shape[0])\n",
    "        self._model.train_on_batch(x_data, y_data)\n",
    "        \n",
    "    def summary(self):\n",
    "        return self._model.summary()\n",
    "    \n",
    "    def load(self, model):\n",
    "        self._model = model"
   ]
  },
  {
   "cell_type": "code",
   "execution_count": 7,
   "metadata": {
    "collapsed": true
   },
   "outputs": [],
   "source": [
    "def update_reward(value):\n",
    "    if value==0.0:\n",
    "        return 0.001\n",
    "    elif value==5.0:\n",
    "        return 20.0\n",
    "    elif value==-5.0:\n",
    "        return -5.0\n",
    "    else:\n",
    "        print value\n",
    "        return None\n",
    "def test_game(agent):\n",
    "    #init the game flappybird\n",
    "    game = FlappyBird()\n",
    "\n",
    "    #set up the screen\n",
    "    p = PLE(game, fps=30, display_screen=True)\n",
    "\n",
    "    p.init()\n",
    "\n",
    "    observations = deque()\n",
    "\n",
    "    max_frames = 1000 ##first frame is null\n",
    "    num_frame_stacks = 4\n",
    "    num_to_observe = 12 #observations before we train the network\n",
    "    batch_count = 4 #train the model by selecting some subsample of the stored replays\n",
    "                    #contains lists of replay envs. each element is in the format\n",
    "                    #[state, action, reward, new_state, terminal(boolean)]\n",
    "    epsilon = 0.8 #when to choose the known best action vs random action\n",
    "    gamma = 0.8 #importance of future rewards compared to current reward\n",
    "    \n",
    "    total_reward = 0\n",
    "\n",
    "    replay_data = deque() \n",
    "\n",
    "    game_over = False\n",
    "    for i in range(0, max_frames):\n",
    "        observation = p.getScreenRGB()\n",
    "        if np.max(observation) != 0:\n",
    "            observations.append(observation)\n",
    "\n",
    "\n",
    "        ##after num_frame_stacks frames pass, we start predicting actions\n",
    "        if len(observations) == num_frame_stacks:\n",
    "            image_processors = [ImageProcessor(observations[j])\n",
    "                               for j in range(num_frame_stacks)]\n",
    "            stacked_images = StackedImages(image_processors, num_frame_stacks)\n",
    "            action, output = agent.predict(stacked_images.get_stacked_images())\n",
    "            reward = update_reward(p.act(action))\n",
    "            print action, output, reward\n",
    "            total_reward += reward\n",
    "            #print action, output\n",
    "\n",
    "            #get new state and create the replay data\n",
    "            observation = p.getScreenRGB()\n",
    "#             replay_data.append([stacked_images, action, reward, \n",
    "#                                 ImageProcessor(observation),p.game_over()])\n",
    "\n",
    "            #remove the oldest state so new state can be added in next iteration\n",
    "            observations.popleft()\n",
    "\n",
    "        else: ##first few frames, do nothing\n",
    "            p.act(None)\n",
    "\n",
    "        #if game over, reset the game and the observations queue\n",
    "        if p.game_over():\n",
    "            p.reset_game()\n",
    "            observations = deque()\n",
    "            #break\n",
    "    return total_reward"
   ]
  },
  {
   "cell_type": "code",
   "execution_count": 4,
   "metadata": {},
   "outputs": [],
   "source": [
    "model = load_model(model_input)"
   ]
  },
  {
   "cell_type": "code",
   "execution_count": null,
   "metadata": {},
   "outputs": [],
   "source": [
    "agent = PolicyAgent()\n",
    "agent.load(model)"
   ]
  },
  {
   "cell_type": "code",
   "execution_count": null,
   "metadata": {},
   "outputs": [],
   "source": [
    "test_game(agent)"
   ]
  },
  {
   "cell_type": "code",
   "execution_count": null,
   "metadata": {},
   "outputs": [],
   "source": [
    "model.get_weights()"
   ]
  },
  {
   "cell_type": "code",
   "execution_count": null,
   "metadata": {
    "collapsed": true
   },
   "outputs": [],
   "source": [
    "weights = model.get_weights()"
   ]
  },
  {
   "cell_type": "code",
   "execution_count": null,
   "metadata": {},
   "outputs": [],
   "source": [
    "type(weights), len(weights)"
   ]
  },
  {
   "cell_type": "code",
   "execution_count": null,
   "metadata": {},
   "outputs": [],
   "source": [
    "weights[5]"
   ]
  },
  {
   "cell_type": "code",
   "execution_count": null,
   "metadata": {},
   "outputs": [],
   "source": [
    "model.summary()"
   ]
  },
  {
   "cell_type": "code",
   "execution_count": null,
   "metadata": {},
   "outputs": [],
   "source": [
    "a = PolicyAgent()\n",
    "b = a._model.get_weights()"
   ]
  },
  {
   "cell_type": "code",
   "execution_count": null,
   "metadata": {},
   "outputs": [],
   "source": [
    "b[4]"
   ]
  },
  {
   "cell_type": "code",
   "execution_count": null,
   "metadata": {
    "collapsed": true
   },
   "outputs": [],
   "source": []
  }
 ],
 "metadata": {
  "kernelspec": {
   "display_name": "Python 2",
   "language": "python",
   "name": "python2"
  },
  "language_info": {
   "codemirror_mode": {
    "name": "ipython",
    "version": 2
   },
   "file_extension": ".py",
   "mimetype": "text/x-python",
   "name": "python",
   "nbconvert_exporter": "python",
   "pygments_lexer": "ipython2",
   "version": "2.7.13"
  }
 },
 "nbformat": 4,
 "nbformat_minor": 2
}
