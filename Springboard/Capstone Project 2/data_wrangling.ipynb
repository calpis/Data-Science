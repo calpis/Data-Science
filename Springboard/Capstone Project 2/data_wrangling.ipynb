{
 "cells": [
  {
   "cell_type": "markdown",
   "metadata": {},
   "source": [
    "## Data analysis of Flappy bird\n",
    "\n",
    "The goal of this project is to create a DQN (deep Q-learning Network) to find optimal policy set to get a high score on the game flappybird.  How the game works is as follows: <br>\n",
    "\n",
    "1. The user controls a bird in the middle of a side-scrolling screen.<br>\n",
    "2. The bird has two possible actions. It either falls (which is the default action) or it rises (when the user taps the screen, or in the case of PLE, when the user hits the 'w' key.)<br>\n",
    "3. The environment is set up with randomly sized and positioned pipes, which the user must maneuver the bird over, under, or between.<br>\n",
    "4. The score for the trial is based on how many pipes the user is able to navitage through.  The game reaches a terminal state when the bird crashes into the pipe, or hits the ceiling or bottom of the game screen.<br>\n",
    "\n",
    "\n",
    "This notebook will focus on analyzing the data behind flappy birds. Some of the questions to be answered are below:\n",
    "\n",
    "1. How is the game state represented? <br>\n",
    "2. What are the possible actions? How are they encoded?\n"
   ]
  },
  {
   "cell_type": "code",
   "execution_count": 1,
   "metadata": {},
   "outputs": [
    {
     "name": "stdout",
     "output_type": "stream",
     "text": [
      "couldn't import doomish\n",
      "Couldn't import doom\n"
     ]
    }
   ],
   "source": [
    "from ple.games.flappybird import FlappyBird\n",
    "from ple import PLE\n",
    "\n",
    "import skimage\n",
    "\n",
    "from skimage import data, io\n",
    "from skimage.transform import rotate\n",
    "from skimage.color import rgb2gray, rgb2grey\n",
    "\n",
    "#image editing\n",
    "from skimage import feature, filters\n",
    "#from skimage import *\n",
    "import cPickle as pickle\n",
    "\n",
    "import matplotlib.pyplot as plt\n",
    "\n",
    "##data file location\n",
    "data_output = '/users/momori/data/stacked_images.pkl'\n",
    "\n",
    "from classes import *"
   ]
  },
  {
   "cell_type": "code",
   "execution_count": 69,
   "metadata": {},
   "outputs": [
    {
     "name": "stdout",
     "output_type": "stream",
     "text": [
      "possible actions are: [119, None]\n",
      "-5.0\n"
     ]
    }
   ],
   "source": [
    "#init the game flappybird\n",
    "game = FlappyBird()\n",
    "\n",
    "#set up the screen\n",
    "p = PLE(game, fps=30, display_screen=True)\n",
    "\n",
    "p.init()\n",
    "\n",
    "print 'possible actions are:', p.getActionSet()\n",
    "\n",
    "num_frames = 401 ##first frame is null\n",
    "observations = []\n",
    "game_over = False\n",
    "for i in range(num_frames):\n",
    "    if p.game_over():\n",
    "        p.reset_game()\n",
    "\n",
    "    observation = p.getScreenRGB()\n",
    "    observations.append(observation)\n",
    "    reward = p.act(None)\n",
    "    if reward != 0 and not game_over:\n",
    "        print reward\n",
    "        game_over = True\n",
    "\n",
    "    "
   ]
  },
  {
   "cell_type": "markdown",
   "metadata": {},
   "source": [
    "From the above output, we can see that there are two actions. The value 119 will que the bird to flap upwards, where as doing nothing will lower the altitude.  Once the termination requirements are set, in which case p.game_over() will return True, the trial is done and given a score of -5.0.  Then the game is reset.  \n",
    "\n",
    "The observations list contains representation of some of the states of the game.  Below we will analyze them."
   ]
  },
  {
   "cell_type": "markdown",
   "metadata": {},
   "source": [
    "## State Representation\n",
    "\n",
    "We notice below that each state is represented as an ndarray, with dimensions of (288, 512, 3).  The 3 is for the RGB values, and the actual window size is set up to be 288 high and 512 pixels wide.  According to this article, https://yanpanlau.github.io/2016/07/10/FlappyBird-Keras.html, it is recommended that we do some image reconstruction on these state representations.  By converting the image into grayscale, we can reduce the dimensionality of the image, hence improving the speed for the neural network to train on.  Also, feeding in one frame at a time to the network will not depict whether the bird is going up or down.  Therfore, the recommendation is to stack 4 frames together and put it as one sample point.  We will utilize the skimage library to change the representations."
   ]
  },
  {
   "cell_type": "code",
   "execution_count": 3,
   "metadata": {},
   "outputs": [
    {
     "name": "stdout",
     "output_type": "stream",
     "text": [
      "<type 'numpy.ndarray'> (288, 512, 3)\n"
     ]
    }
   ],
   "source": [
    "print type(observations[1]), observations[1].shape"
   ]
  },
  {
   "cell_type": "code",
   "execution_count": 6,
   "metadata": {},
   "outputs": [
    {
     "data": {
      "image/png": "[encoded data removed]",
      "text/plain": [
       "<matplotlib.figure.Figure at 0x1c18ef0f90>"
      ]
     },
     "metadata": {},
     "output_type": "display_data"
    },
    {
     "data": {
      "image/png": "[encoded data removed]",
      "text/plain": [
       "<matplotlib.figure.Figure at 0x1c2a91df10>"
      ]
     },
     "metadata": {},
     "output_type": "display_data"
    },
    {
     "data": {
      "image/png": "[encoded data removed]",
      "text/plain": [
       "<matplotlib.figure.Figure at 0x1c2af0edd0>"
      ]
     },
     "metadata": {},
     "output_type": "display_data"
    }
   ],
   "source": [
    "io.imshow(observations[0])\n",
    "plt.show()\n",
    "io.imshow(observations[2])\n",
    "plt.show()\n",
    "io.imshow(observations[3])\n",
    "plt.show()"
   ]
  },
  {
   "cell_type": "code",
   "execution_count": 82,
   "metadata": {
    "collapsed": true
   },
   "outputs": [],
   "source": [
    "class ImageProcessor():\n",
    "    '''Class used to stack and convert images into grayscale\n",
    "    args: \n",
    "        image: ndarray image of the flappybird state representation\n",
    "    '''\n",
    "    def __init__(self, orig_image):\n",
    "        self._orig_image = orig_image\n",
    "        \n",
    "        #convert into grayscale, crop out the bottom and downsample\n",
    "        self._gray_image = skimage.color.rgb2gray(\n",
    "            orig_image[:,:340][::3,::3])\n",
    "        \n",
    "    @property\n",
    "    def gray_image(self):\n",
    "        return self._gray_image\n",
    "    \n",
    "    @gray_image.setter\n",
    "    def gray_image(self, image):\n",
    "        self._orig_image = image\n",
    "        self._gray_image = skimage.color.rgb2gray(image)\n",
    "        \n",
    "    @property \n",
    "    def orig_image(self):\n",
    "        return self._orig_image\n",
    "    \n",
    "    @orig_image.setter\n",
    "    def orig_image(self, image):\n",
    "        self._orig_image = image\n",
    "        self._gray_image = skimage.color.rgb2gray(image)\n",
    "        \n",
    "    def show_image(self, gray=True):\n",
    "        if gray:\n",
    "            io.imshow(self._gray_image)\n",
    "        else:\n",
    "            io.imshow(self._orig_image)\n",
    "        plt.show()\n",
    "        \n",
    "    def shape(self):\n",
    "        print 'original image shape:', self._orig_image.shape\n",
    "        print 'gray image eshape:', self._gray_image.shape\n",
    "        \n",
    "    def matrix(self, gray=True):\n",
    "        return self._gray_image\n",
    "    \n",
    "    def is_first_frame(self):\n",
    "        '''seems first frame is always dark. Used to detect\n",
    "        if the state value is all 0 or not'''\n",
    "        return np.max(self._gray_image) == 0"
   ]
  },
  {
   "cell_type": "code",
   "execution_count": 83,
   "metadata": {
    "collapsed": true
   },
   "outputs": [],
   "source": [
    "class StackedImages():\n",
    "    '''object to keep the stacked frames together for organization.\n",
    "    organized as a list of stacked ndarrays'''\n",
    "    def __init__(self, image_processors = None, num_per_stack = None):\n",
    "        if type(image_processors) is not list:\n",
    "            print 'images need to be a list'\n",
    "        else:\n",
    "            self._stacked_images = []\n",
    "            for i in range(0, len(image_processors), num_per_stack):\n",
    "                list_images = [image_processors[i].gray_image for i in \n",
    "                              range(i, i+num_per_stack)]\n",
    "                stacked = np.stack(list_images, axis=0)\n",
    "                self._stacked_images.append(stacked)\n",
    "#             self._images = [i.gray_image for i in images]\n",
    "#             self._stacked_images = np.stack(self._images, axis=0)\n",
    "    \n",
    "    def plot(self):\n",
    "        for image in self._images:\n",
    "            io.imshow(image)\n",
    "            plt.show()\n",
    "        \n",
    "    def get_stacked_images(self):\n",
    "        return self._stacked_images\n",
    "    \n",
    "    \n",
    "    def get_shape(self):\n",
    "        return self._stacked_images[0].shape\n",
    "    \n",
    "    def save(self, file_name):\n",
    "        handle = open(file_name, 'w')\n",
    "        pickle.dump(self.__dict__, handle, 2)\n",
    "        handle.close()\n",
    "        \n",
    "    def load(self, file_name):\n",
    "        handle = open(file_name, 'r')\n",
    "        tmp_dict = pickle.load(handle)\n",
    "        self.__dict__.clear()\n",
    "        self.__dict__.update(tmp_dict)\n",
    "        handle.close()\n",
    "        \n",
    "        "
   ]
  },
  {
   "cell_type": "markdown",
   "metadata": {},
   "source": [
    "## Feature Reduction\n",
    "\n",
    "To get DQN to learn faster and have more stability, we'd like to reduce the amount of unnecessary information in the state representation.  This includes the background, different shades of colors, etc. The article above suggests that we turn each frame into a gray scale image and reduce the dimensions."
   ]
  },
  {
   "cell_type": "code",
   "execution_count": 29,
   "metadata": {},
   "outputs": [
    {
     "data": {
      "image/png": "[encoded data removed]",
      "text/plain": [
       "<matplotlib.figure.Figure at 0x1c2ac6edd0>"
      ]
     },
     "metadata": {},
     "output_type": "display_data"
    },
    {
     "data": {
      "image/png": "[encoded data removed]",
      "text/plain": [
       "<matplotlib.figure.Figure at 0x1c2ae5dc90>"
      ]
     },
     "metadata": {},
     "output_type": "display_data"
    }
   ],
   "source": [
    "io.imshow(observations[25])\n",
    "plt.show()\n",
    "io.imshow(rgb2gray(observations[25]))\n",
    "plt.show()"
   ]
  },
  {
   "cell_type": "code",
   "execution_count": 70,
   "metadata": {},
   "outputs": [
    {
     "data": {
      "image/png": "[encoded data removed]",
      "text/plain": [
       "<matplotlib.figure.Figure at 0x1c8ec04050>"
      ]
     },
     "metadata": {},
     "output_type": "display_data"
    }
   ],
   "source": [
    "##(512, 288) -> down sample to (405, 288) to remove the ground.\n",
    "io.imshow(rgb2gray(observations[21])[:,:340][::4, ::4])\n",
    "plt.show()"
   ]
  }
 ],
 "metadata": {
  "kernelspec": {
   "display_name": "Python 2",
   "language": "python",
   "name": "python2"
  },
  "language_info": {
   "codemirror_mode": {
    "name": "ipython",
    "version": 2
   },
   "file_extension": ".py",
   "mimetype": "text/x-python",
   "name": "python",
   "nbconvert_exporter": "python",
   "pygments_lexer": "ipython2",
   "version": "2.7.13"
  }
 },
 "nbformat": 4,
 "nbformat_minor": 2
}
