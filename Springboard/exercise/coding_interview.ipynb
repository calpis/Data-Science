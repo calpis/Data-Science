{
 "cells": [
  {
   "cell_type": "code",
   "execution_count": 1,
   "metadata": {
    "collapsed": true
   },
   "outputs": [],
   "source": [
    "import pandas as pd"
   ]
  },
  {
   "cell_type": "code",
   "execution_count": 4,
   "metadata": {},
   "outputs": [
    {
     "data": {
      "text/html": [
       "<div>\n",
       "<style>\n",
       "    .dataframe thead tr:only-child th {\n",
       "        text-align: right;\n",
       "    }\n",
       "\n",
       "    .dataframe thead th {\n",
       "        text-align: left;\n",
       "    }\n",
       "\n",
       "    .dataframe tbody tr th {\n",
       "        vertical-align: top;\n",
       "    }\n",
       "</style>\n",
       "<table border=\"1\" class=\"dataframe\">\n",
       "  <thead>\n",
       "    <tr style=\"text-align: right;\">\n",
       "      <th></th>\n",
       "      <th>enroll_code</th>\n",
       "      <th>student_id</th>\n",
       "    </tr>\n",
       "  </thead>\n",
       "  <tbody>\n",
       "    <tr>\n",
       "      <th>0</th>\n",
       "      <td>10030</td>\n",
       "      <td>55000</td>\n",
       "    </tr>\n",
       "    <tr>\n",
       "      <th>1</th>\n",
       "      <td>10030</td>\n",
       "      <td>55804</td>\n",
       "    </tr>\n",
       "    <tr>\n",
       "      <th>2</th>\n",
       "      <td>10250</td>\n",
       "      <td>55804</td>\n",
       "    </tr>\n",
       "    <tr>\n",
       "      <th>3</th>\n",
       "      <td>10510</td>\n",
       "      <td>55000</td>\n",
       "    </tr>\n",
       "  </tbody>\n",
       "</table>\n",
       "</div>"
      ],
      "text/plain": [
       "   enroll_code  student_id\n",
       "0        10030       55000\n",
       "1        10030       55804\n",
       "2        10250       55804\n",
       "3        10510       55000"
      ]
     },
     "execution_count": 4,
     "metadata": {},
     "output_type": "execute_result"
    }
   ],
   "source": [
    "data_input = '/Users/momori/data/coding_interview1'\n",
    "df = pd.read_csv(data_input)\n",
    "df.head()"
   ]
  },
  {
   "cell_type": "code",
   "execution_count": 70,
   "metadata": {},
   "outputs": [
    {
     "data": {
      "text/html": [
       "<div>\n",
       "<style>\n",
       "    .dataframe thead tr:only-child th {\n",
       "        text-align: right;\n",
       "    }\n",
       "\n",
       "    .dataframe thead th {\n",
       "        text-align: left;\n",
       "    }\n",
       "\n",
       "    .dataframe tbody tr th {\n",
       "        vertical-align: top;\n",
       "    }\n",
       "</style>\n",
       "<table border=\"1\" class=\"dataframe\">\n",
       "  <thead>\n",
       "    <tr style=\"text-align: right;\">\n",
       "      <th></th>\n",
       "      <th>student_id</th>\n",
       "    </tr>\n",
       "    <tr>\n",
       "      <th>enroll_code</th>\n",
       "      <th></th>\n",
       "    </tr>\n",
       "  </thead>\n",
       "  <tbody>\n",
       "    <tr>\n",
       "      <th>10030</th>\n",
       "      <td>2</td>\n",
       "    </tr>\n",
       "    <tr>\n",
       "      <th>10250</th>\n",
       "      <td>1</td>\n",
       "    </tr>\n",
       "    <tr>\n",
       "      <th>10510</th>\n",
       "      <td>1</td>\n",
       "    </tr>\n",
       "  </tbody>\n",
       "</table>\n",
       "</div>"
      ],
      "text/plain": [
       "             student_id\n",
       "enroll_code            \n",
       "10030                 2\n",
       "10250                 1\n",
       "10510                 1"
      ]
     },
     "execution_count": 70,
     "metadata": {},
     "output_type": "execute_result"
    }
   ],
   "source": [
    "df.groupby('enroll_code').count()"
   ]
  },
  {
   "cell_type": "code",
   "execution_count": 7,
   "metadata": {},
   "outputs": [
    {
     "data": {
      "text/plain": [
       "['enroll_code,student_id\\n',\n",
       " '10030,55000\\n',\n",
       " '10030,55804\\n',\n",
       " '10250,55804\\n',\n",
       " '10510,55000\\n']"
      ]
     },
     "execution_count": 7,
     "metadata": {},
     "output_type": "execute_result"
    }
   ],
   "source": [
    "#using no pandas\n",
    "with open(data_input) as handle:\n",
    "    data = handle.readlines()\n"
   ]
  },
  {
   "cell_type": "code",
   "execution_count": 8,
   "metadata": {},
   "outputs": [
    {
     "data": {
      "text/plain": [
       "['10030,55000\\n', '10030,55804\\n', '10250,55804\\n', '10510,55000\\n']"
      ]
     },
     "execution_count": 8,
     "metadata": {},
     "output_type": "execute_result"
    }
   ],
   "source": [
    "data = data[1:]\n",
    "data"
   ]
  },
  {
   "cell_type": "code",
   "execution_count": 10,
   "metadata": {},
   "outputs": [
    {
     "data": {
      "text/plain": [
       "[['10030', '55000\\n'],\n",
       " ['10030', '55804\\n'],\n",
       " ['10250', '55804\\n'],\n",
       " ['10510', '55000\\n']]"
      ]
     },
     "execution_count": 10,
     "metadata": {},
     "output_type": "execute_result"
    }
   ],
   "source": [
    "data2 = [i.split(',') for i in data]\n",
    "data2"
   ]
  },
  {
   "cell_type": "code",
   "execution_count": 13,
   "metadata": {},
   "outputs": [
    {
     "data": {
      "text/plain": [
       "['10030', '10030', '10250', '10510']"
      ]
     },
     "execution_count": 13,
     "metadata": {},
     "output_type": "execute_result"
    }
   ],
   "source": [
    "data3 = []\n",
    "for i in data2:\n",
    "    data3.append(i[0])\n",
    "data3"
   ]
  },
  {
   "cell_type": "code",
   "execution_count": 14,
   "metadata": {},
   "outputs": [
    {
     "data": {
      "text/plain": [
       "{'10030': 2, '10250': 1, '10510': 1}"
      ]
     },
     "execution_count": 14,
     "metadata": {},
     "output_type": "execute_result"
    }
   ],
   "source": [
    "count_dict = {}\n",
    "\n",
    "for element in data3:\n",
    "    if element not in count_dict:\n",
    "        count_dict[element] = 1\n",
    "    else:\n",
    "        count_dict[element]+=1\n",
    "\n",
    "count_dict\n"
   ]
  },
  {
   "cell_type": "markdown",
   "metadata": {},
   "source": [
    "## SQL part"
   ]
  },
  {
   "cell_type": "markdown",
   "metadata": {},
   "source": [
    "select enroll_code, count(*) from coding_interview\n",
    "       group by enroll_code\n",
    "     \n",
    "       "
   ]
  },
  {
   "cell_type": "code",
   "execution_count": null,
   "metadata": {
    "collapsed": true
   },
   "outputs": [],
   "source": [
    "'1, 1, 2, 3, 5, 8, 13'"
   ]
  },
  {
   "cell_type": "code",
   "execution_count": 21,
   "metadata": {},
   "outputs": [
    {
     "name": "stdout",
     "output_type": "stream",
     "text": [
      "[1]\n",
      "[1, 1]\n",
      "[1, 1, 2]\n",
      "[1, 1, 2, 3]\n",
      "[1, 1, 2, 3, 5]\n",
      "[1, 1, 2, 3, 5, 8]\n",
      "[1, 1, 2, 3, 5, 8, 13]\n",
      "[1, 1, 2, 3, 5, 8, 13, 21]\n",
      "[1, 1, 2, 3, 5, 8, 13, 21, 34]\n"
     ]
    }
   ],
   "source": [
    "def fibonacci(num_elements):\n",
    "    if num_elements == 0:\n",
    "        return []\n",
    "    output = []\n",
    "    output.append(1)\n",
    "    if num_elements == 1:\n",
    "        return output\n",
    "    output.append(1)\n",
    "    if num_elements == 2:\n",
    "        return output\n",
    "    \n",
    "    for i in range(2, num_elements):\n",
    "        '''\n",
    "        try:\n",
    "            previous = output[i-1]\n",
    "        except\n",
    "            precious=0\n",
    "        try:\n",
    "            previous2 = output[i-2]\n",
    "        except:\n",
    "            previous2=0\n",
    "        \n",
    "        '''\n",
    "            output.append(output[i-1] + output[i-2])\n",
    "    return output\n",
    "\n",
    "for i in range(1, 10):\n",
    "    print fibonacci(i)\n",
    "    \n",
    "    \n",
    "    "
   ]
  },
  {
   "cell_type": "code",
   "execution_count": 7,
   "metadata": {
    "collapsed": true
   },
   "outputs": [],
   "source": [
    "def fibonacci(num_elements):\n",
    "    if num_elements == 0:\n",
    "        return []\n",
    "    output = []\n",
    "    output.append(1)\n",
    "\n",
    "    for i in range(num_elements-1):\n",
    "        if i == 0:\n",
    "            output.append(1)\n",
    "            continue\n",
    "        previous = output[i]\n",
    "        previous2 = output[i-1]\n",
    "\n",
    "\n",
    "        output.append(previous+previous2)\n",
    "    return output"
   ]
  },
  {
   "cell_type": "code",
   "execution_count": 8,
   "metadata": {},
   "outputs": [
    {
     "name": "stdout",
     "output_type": "stream",
     "text": [
      "[1] 1\n",
      "[1, 1] 2\n",
      "[1, 1, 2] 3\n",
      "[1, 1, 2, 3] 4\n",
      "[1, 1, 2, 3, 5] 5\n",
      "[1, 1, 2, 3, 5, 8] 6\n",
      "[1, 1, 2, 3, 5, 8, 13] 7\n",
      "[1, 1, 2, 3, 5, 8, 13, 21] 8\n",
      "[1, 1, 2, 3, 5, 8, 13, 21, 34] 9\n"
     ]
    }
   ],
   "source": [
    "for i in range(1, 10):\n",
    "    print fibonacci(i), i"
   ]
  },
  {
   "cell_type": "code",
   "execution_count": null,
   "metadata": {
    "collapsed": true
   },
   "outputs": [],
   "source": []
  }
 ],
 "metadata": {
  "kernelspec": {
   "display_name": "Python 2",
   "language": "python",
   "name": "python2"
  },
  "language_info": {
   "codemirror_mode": {
    "name": "ipython",
    "version": 2
   },
   "file_extension": ".py",
   "mimetype": "text/x-python",
   "name": "python",
   "nbconvert_exporter": "python",
   "pygments_lexer": "ipython2",
   "version": "2.7.13"
  }
 },
 "nbformat": 4,
 "nbformat_minor": 2
}
