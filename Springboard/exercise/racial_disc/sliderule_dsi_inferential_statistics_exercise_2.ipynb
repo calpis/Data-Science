{
 "cells": [
  {
   "cell_type": "markdown",
   "metadata": {},
   "source": [
    "# Examining Racial Discrimination in the US Job Market\n",
    "\n",
    "### Background\n",
    "Racial discrimination continues to be pervasive in cultures throughout the world. Researchers examined the level of racial discrimination in the United States labor market by randomly assigning identical résumés to black-sounding or white-sounding names and observing the impact on requests for interviews from employers.\n",
    "\n",
    "### Data\n",
    "In the dataset provided, each row represents a resume. The 'race' column has two values, 'b' and 'w', indicating black-sounding and white-sounding. The column 'call' has two values, 1 and 0, indicating whether the resume received a call from employers or not.\n",
    "\n",
    "Note that the 'b' and 'w' values in race are assigned randomly to the resumes when presented to the employer."
   ]
  },
  {
   "cell_type": "markdown",
   "metadata": {},
   "source": [
    "### Exercises\n",
    "You will perform a statistical analysis to establish whether race has a significant impact on the rate of callbacks for resumes.\n",
    "\n",
    "Answer the following questions **in this notebook below and submit to your Github account**. \n",
    "\n",
    "   1. What test is appropriate for this problem? Does CLT apply?\n",
    "   2. What are the null and alternate hypotheses?\n",
    "   3. Compute margin of error, confidence interval, and p-value.\n",
    "   4. Write a story describing the statistical significance in the context or the original problem.\n",
    "   5. Does your analysis mean that race/name is the most important factor in callback success? Why or why not? If not, how would you amend your analysis?\n",
    "\n",
    "You can include written notes in notebook cells using Markdown: \n",
    "   - In the control panel at the top, choose Cell > Cell Type > Markdown\n",
    "   - Markdown syntax: http://nestacms.com/docs/creating-content/markdown-cheat-sheet\n",
    "\n",
    "\n",
    "#### Resources\n",
    "+ Experiment information and data source: http://www.povertyactionlab.org/evaluation/discrimination-job-market-united-states\n",
    "+ Scipy statistical methods: http://docs.scipy.org/doc/scipy/reference/stats.html \n",
    "+ Markdown syntax: http://nestacms.com/docs/creating-content/markdown-cheat-sheet\n",
    "****"
   ]
  },
  {
   "cell_type": "code",
   "execution_count": 2,
   "metadata": {
    "collapsed": true
   },
   "outputs": [],
   "source": [
    "import pandas as pd\n",
    "import numpy as np\n",
    "from scipy import stats"
   ]
  },
  {
   "cell_type": "code",
   "execution_count": 52,
   "metadata": {
    "collapsed": true
   },
   "outputs": [],
   "source": [
    "data = pd.io.stata.read_stata('data/us_job_market_discrimination.dta')"
   ]
  },
  {
   "cell_type": "code",
   "execution_count": 4,
   "metadata": {},
   "outputs": [
    {
     "data": {
      "text/plain": [
       "(157.0,\n",
       " (4870, 65),\n",
       " Index([u'id', u'ad', u'education', u'ofjobs', u'yearsexp', u'honors',\n",
       "        u'volunteer', u'military', u'empholes', u'occupspecific', u'occupbroad',\n",
       "        u'workinschool', u'email', u'computerskills', u'specialskills',\n",
       "        u'firstname', u'sex', u'race', u'h', u'l', u'call', u'city', u'kind',\n",
       "        u'adid', u'fracblack', u'fracwhite', u'lmedhhinc', u'fracdropout',\n",
       "        u'fraccolp', u'linc', u'col', u'expminreq', u'schoolreq', u'eoe',\n",
       "        u'parent_sales', u'parent_emp', u'branch_sales', u'branch_emp', u'fed',\n",
       "        u'fracblack_empzip', u'fracwhite_empzip', u'lmedhhinc_empzip',\n",
       "        u'fracdropout_empzip', u'fraccolp_empzip', u'linc_empzip', u'manager',\n",
       "        u'supervisor', u'secretary', u'offsupport', u'salesrep', u'retailsales',\n",
       "        u'req', u'expreq', u'comreq', u'educreq', u'compreq', u'orgreq',\n",
       "        u'manuf', u'transcom', u'bankreal', u'trade', u'busservice',\n",
       "        u'othservice', u'missind', u'ownership'],\n",
       "       dtype='object'))"
      ]
     },
     "execution_count": 4,
     "metadata": {},
     "output_type": "execute_result"
    }
   ],
   "source": [
    "# number of callbacks for black-sounding names\n",
    "sum(data[data.race=='b'].call), data.shape, data.columns"
   ]
  },
  {
   "cell_type": "code",
   "execution_count": 51,
   "metadata": {},
   "outputs": [
    {
     "data": {
      "text/html": [
       "<div>\n",
       "<style>\n",
       "    .dataframe thead tr:only-child th {\n",
       "        text-align: right;\n",
       "    }\n",
       "\n",
       "    .dataframe thead th {\n",
       "        text-align: left;\n",
       "    }\n",
       "\n",
       "    .dataframe tbody tr th {\n",
       "        vertical-align: top;\n",
       "    }\n",
       "</style>\n",
       "<table border=\"1\" class=\"dataframe\">\n",
       "  <thead>\n",
       "    <tr style=\"text-align: right;\">\n",
       "      <th></th>\n",
       "      <th>race</th>\n",
       "      <th>call</th>\n",
       "    </tr>\n",
       "  </thead>\n",
       "  <tbody>\n",
       "    <tr>\n",
       "      <th>0</th>\n",
       "      <td>w</td>\n",
       "      <td>0.0</td>\n",
       "    </tr>\n",
       "    <tr>\n",
       "      <th>1</th>\n",
       "      <td>w</td>\n",
       "      <td>0.0</td>\n",
       "    </tr>\n",
       "    <tr>\n",
       "      <th>2</th>\n",
       "      <td>b</td>\n",
       "      <td>0.0</td>\n",
       "    </tr>\n",
       "    <tr>\n",
       "      <th>3</th>\n",
       "      <td>w</td>\n",
       "      <td>0.0</td>\n",
       "    </tr>\n",
       "    <tr>\n",
       "      <th>4</th>\n",
       "      <td>b</td>\n",
       "      <td>0.0</td>\n",
       "    </tr>\n",
       "  </tbody>\n",
       "</table>\n",
       "</div>"
      ],
      "text/plain": [
       "  race  call\n",
       "0    w   0.0\n",
       "1    w   0.0\n",
       "2    b   0.0\n",
       "3    w   0.0\n",
       "4    b   0.0"
      ]
     },
     "execution_count": 51,
     "metadata": {},
     "output_type": "execute_result"
    }
   ],
   "source": [
    "data[['race','call']].head()"
   ]
  },
  {
   "cell_type": "markdown",
   "metadata": {
    "collapsed": true
   },
   "source": [
    "## https://campus.datacamp.com/courses/statistical-thinking-in-python-part-2/introduction-to-hypothesis-testing?ex=4"
   ]
  },
  {
   "cell_type": "markdown",
   "metadata": {
    "collapsed": true
   },
   "source": [
    "   1. What test is appropriate for this problem? Does CLT apply?\n",
    "\n",
    "The CLT does not apply here as the sample size is not large enough, and the observations may not be independent of each other.  For example, assume company A has 2 openings for a certain position and more than 2 people apply.  Then the probability that someone gets this position is dependent on whether or not the candidates before them got the job or not.\n",
    "\n",
    "We will use the permutation method to assume that there is no bias in the 'call' column based on race."
   ]
  },
  {
   "cell_type": "markdown",
   "metadata": {},
   "source": [
    "   2. What are the null and alternate hypotheses?\n",
    "\n",
    "The null hypothesis is that race has no impact on whether or not a candidate received a call.  This can be formalized as checking the difference of calls received by race. The alternate hypothesis would be that there exists a bias to candidates getting calls based on race"
   ]
  },
  {
   "cell_type": "markdown",
   "metadata": {},
   "source": [
    "   3. Compute margin of error, confidence interval, and p-value.\n"
   ]
  },
  {
   "cell_type": "code",
   "execution_count": 53,
   "metadata": {},
   "outputs": [
    {
     "data": {
      "text/plain": [
       "78"
      ]
     },
     "execution_count": 53,
     "metadata": {},
     "output_type": "execute_result"
    }
   ],
   "source": [
    "orig_num_calls_w = data[(data['race']=='w') & (data['call']==1.0)].shape[0]\n",
    "orig_num_calls_b = data[(data['race']=='b') & (data['call']==1.0)].shape[0]\n",
    "\n",
    "orig_diff_calls = orig_num_calls_w - orig_num_calls_b\n",
    "orig_diff_calls"
   ]
  },
  {
   "cell_type": "code",
   "execution_count": 47,
   "metadata": {},
   "outputs": [],
   "source": [
    "#Use permutation method to permute the races within the dataframe \n",
    "num_trials = 1000\n",
    "list_diff_calls = np.empty(num_trials)\n",
    "\n",
    "for index in range(num_trials):\n",
    "    #permute the race list\n",
    "    race_list = data['race'].values\n",
    "    race_list = np.random.permutation(race_list)\n",
    "\n",
    "    #put it back into the dataframe\n",
    "    data['race'] = race_list\n",
    "    \n",
    "    num_calls_w = data[(data['race']=='w') & (data['call']==1.0)].shape[0]\n",
    "    num_calls_b = data[(data['race']=='b') & (data['call']==1.0)].shape[0]\n",
    "    list_diff_calls[index] = num_calls_w - num_calls_b"
   ]
  },
  {
   "cell_type": "code",
   "execution_count": 58,
   "metadata": {},
   "outputs": [
    {
     "name": "stdout",
     "output_type": "stream",
     "text": [
      " 95% confidence interval for difference between the two races: [-36.  38.]\n",
      "p_val of the observed difference: 0\n"
     ]
    }
   ],
   "source": [
    "#confidence interval\n",
    "conf_interval = np.percentile(list_diff_calls, [2.5, 97.5])\n",
    "p_val = np.sum(list_diff_calls >= orig_diff_calls)/1000\n",
    "print '95% confidence interval for difference between the two races:', conf_interval\n",
    "print 'p_val of the observed difference:', p_val"
   ]
  },
  {
   "cell_type": "markdown",
   "metadata": {},
   "source": [
    "   4. Write a story describing the statistical significance in the context or the original problem.\n",
    "We see from a 1000 samples that the observed difference, which is 78, is highly unlikely to happen.  Our 95% confidence interval shows that anywhere between -36 and 38 are plausible numbers."
   ]
  },
  {
   "cell_type": "markdown",
   "metadata": {},
   "source": [
    "   5. Does your analysis mean that race/name is the most important factor in callback success? Why or why not? If not, how would you amend your analysis?\n",
    "   \n",
    "Our analysis shows that there is a bias when it comes to callbacks with respect to race, but this does not show that this is the most important factor in callback success.  One way to check which factors are most important to callback sucess, one can utilize a pearlson correlation test to check the correlation between each feature and the callback column.  "
   ]
  },
  {
   "cell_type": "code",
   "execution_count": null,
   "metadata": {
    "collapsed": true
   },
   "outputs": [],
   "source": []
  }
 ],
 "metadata": {
  "kernelspec": {
   "display_name": "Python 2",
   "language": "python",
   "name": "python2"
  },
  "language_info": {
   "codemirror_mode": {
    "name": "ipython",
    "version": 2
   },
   "file_extension": ".py",
   "mimetype": "text/x-python",
   "name": "python",
   "nbconvert_exporter": "python",
   "pygments_lexer": "ipython2",
   "version": "2.7.13"
  }
 },
 "nbformat": 4,
 "nbformat_minor": 1
}
