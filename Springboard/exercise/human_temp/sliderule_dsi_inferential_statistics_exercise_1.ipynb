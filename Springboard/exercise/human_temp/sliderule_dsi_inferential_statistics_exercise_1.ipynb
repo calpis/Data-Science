{
 "cells": [
  {
   "cell_type": "markdown",
   "metadata": {},
   "source": [
    "# What is the True Normal Human Body Temperature? \n",
    "\n",
    "#### Background\n",
    "\n",
    "The mean normal body temperature was held to be 37$^{\\circ}$C or 98.6$^{\\circ}$F for more than 120 years since it was first conceptualized and reported by Carl Wunderlich in a famous 1868 book. But, is this value statistically correct?"
   ]
  },
  {
   "cell_type": "markdown",
   "metadata": {},
   "source": [
    "<h3>Exercises</h3>\n",
    "\n",
    "<p>In this exercise, you will analyze a dataset of human body temperatures and employ the concepts of hypothesis testing, confidence intervals, and statistical significance.</p>\n",
    "\n",
    "<p>Answer the following questions <b>in this notebook below and submit to your Github account</b>.</p> \n",
    "\n",
    "<ol>\n",
    "<li>  Is the distribution of body temperatures normal? \n",
    "    <ul>\n",
    "    <li> Although this is not a requirement for CLT to hold (read CLT carefully), it gives us some peace of mind that the population may also be normally distributed if we assume that this sample is representative of the population.\n",
    "    </ul>\n",
    "<li>  Is the sample size large? Are the observations independent?\n",
    "    <ul>\n",
    "    <li> Remember that this is a condition for the CLT, and hence the statistical tests we are using, to apply.\n",
    "    </ul>\n",
    "<li>  Is the true population mean really 98.6 degrees F?\n",
    "    <ul>\n",
    "    <li> Would you use a one-sample or two-sample test? Why?\n",
    "    <li> In this situation, is it appropriate to use the $t$ or $z$ statistic? \n",
    "    <li> Now try using the other test. How is the result be different? Why?\n",
    "    </ul>\n",
    "<li>  Draw a small sample of size 10 from the data and repeat both tests. \n",
    "    <ul>\n",
    "    <li> Which one is the correct one to use? \n",
    "    <li> What do you notice? What does this tell you about the difference in application of the $t$ and $z$ statistic?\n",
    "    </ul>\n",
    "<li>  At what temperature should we consider someone's temperature to be \"abnormal\"?\n",
    "    <ul>\n",
    "    <li> Start by computing the margin of error and confidence interval.\n",
    "    </ul>\n",
    "<li>  Is there a significant difference between males and females in normal temperature?\n",
    "    <ul>\n",
    "    <li> What test did you use and why?\n",
    "    <li> Write a story with your conclusion in the context of the original problem.\n",
    "    </ul>\n",
    "</ol>\n",
    "\n",
    "You can include written notes in notebook cells using Markdown: \n",
    "   - In the control panel at the top, choose Cell > Cell Type > Markdown\n",
    "   - Markdown syntax: http://nestacms.com/docs/creating-content/markdown-cheat-sheet\n",
    "\n",
    "#### Resources\n",
    "\n",
    "+ Information and data sources: http://www.amstat.org/publications/jse/datasets/normtemp.txt, http://www.amstat.org/publications/jse/jse_data_archive.htm\n",
    "+ Markdown syntax: http://nestacms.com/docs/creating-content/markdown-cheat-sheet\n",
    "\n",
    "****"
   ]
  },
  {
   "cell_type": "code",
   "execution_count": 8,
   "metadata": {},
   "outputs": [
    {
     "data": {
      "text/plain": [
       "Index([u'temperature', u'gender', u'heart_rate'], dtype='object')"
      ]
     },
     "execution_count": 8,
     "metadata": {},
     "output_type": "execute_result"
    }
   ],
   "source": [
    "import pandas as pd\n",
    "\n",
    "df = pd.read_csv('data/human_body_temperature.csv')\n",
    "df.columns"
   ]
  },
  {
   "cell_type": "markdown",
   "metadata": {},
   "source": [
    "## Is the distribution of body temperatures normal? \n",
    "\n",
    "What we will do is compare the empirical cumulative distribution function of the data to the theoretical cumulative distribution function of a normal distrubution and compare. The normal distribution will be created using the mean and variance from the original dataset."
   ]
  },
  {
   "cell_type": "code",
   "execution_count": 19,
   "metadata": {},
   "outputs": [],
   "source": [
    "import numpy as np\n",
    "import matplotlib.pyplot as plt\n",
    "# Create the ECDF for the data\n",
    "def ecdf(data):\n",
    "    \"\"\"Compute ECDF for a one-dimensional array of measurements.\"\"\"    \n",
    "    n = len(data)\n",
    "\n",
    "    # x-data for the ECDF: x\n",
    "    x = np.sort(data)\n",
    "\n",
    "    # y-data for the ECDF: y\n",
    "    y = np.arange(1, n+1) / float(n)\n",
    "\n",
    "    return x, y\n",
    "\n",
    "temp_x, temp_y = ecdf(df['temperature'])\n",
    "\n",
    "\n",
    "mean = np.mean(df['temperature'])\n",
    "var = np.var(df['temperature'])\n",
    "size = len(df['temperature'])\n",
    "\n",
    "normal_x, normal_y = ecdf(np.random.normal(mean, var, size))\n",
    "\n"
   ]
  },
  {
   "cell_type": "code",
   "execution_count": 21,
   "metadata": {},
   "outputs": [
    {
     "data": {
      "image/png": "[encoded data removed]",
      "text/plain": [
       "<matplotlib.figure.Figure at 0x112dad710>"
      ]
     },
     "metadata": {},
     "output_type": "display_data"
    }
   ],
   "source": [
    "plt.plot(temp_x, temp_y, marker='.', color='blue')\n",
    "plt.plot(normal_x, normal_y, marker='.', color='red')\n",
    "\n",
    "plt.xlabel('temperature')\n",
    "plt.ylabel('ECDF')\n",
    "plt.legend(('temperature','theoretical'), loc='lower right')\n",
    "\n",
    "plt.show()"
   ]
  },
  {
   "cell_type": "markdown",
   "metadata": {},
   "source": [
    "The blue plot in the above graph is the cumulative distribution function of the body temperatures taken from the original data source, and the red is taken from a normal distribution with the same mean and variance as the data source.  As can be seen in the graph, the blue plot approximately follows a normal distribution and hence we can conclude that the distribution of the body temperature is normal."
   ]
  },
  {
   "cell_type": "markdown",
   "metadata": {},
   "source": [
    "## Is the sample size large? Are the observations independent? "
   ]
  },
  {
   "cell_type": "code",
   "execution_count": 22,
   "metadata": {},
   "outputs": [
    {
     "name": "stdout",
     "output_type": "stream",
     "text": [
      "size of sample is:  130\n"
     ]
    }
   ],
   "source": [
    "print 'size of sample is: ', len(df['temperature'])"
   ]
  },
  {
   "cell_type": "markdown",
   "metadata": {},
   "source": [
    "The sample size is very small, with only 130 samples in the dataset.  But the observations are independent, as one person's body temperature does not affect another observation.\n"
   ]
  },
  {
   "cell_type": "markdown",
   "metadata": {},
   "source": [
    "## Is the true population mean really 98.6 degrees F? \n",
    "\n",
    "The setup is we have a datasource of observations, and a theoretical temperature of the population mean.  Since we have one sample available to base our hypothesis testing off of, we use a one-sample testing. Also as our initial testing, we will use the t-test because we do not know the population standard deviation.  Usually, if the dataset has less than 30 observations, or has no known population standard deviation, we would use the t-test. <br>\n",
    "\n",
    "How we will test if the true population mean is 98.6 is as follows <br>\n",
    "1) our null hypothesis is that there is no significant difference between the population mean and the observed mean.  \n",
    "2) we will first shift the observed data's mean to the population mean <br>\n",
    "3) Then we will bootstrap from the sample by using np.random.choice, and repeat this multiple times<br>\n",
    "4) plot a historgram of the difference in mean temperature between the bootstrapped samples, and the population mean, and figure out the z-score/t-score based. <br>\n"
   ]
  },
  {
   "cell_type": "code",
   "execution_count": 26,
   "metadata": {
    "collapsed": true
   },
   "outputs": [],
   "source": [
    "pop_mean = 98.6\n",
    "obs_mean = np.mean(df['temperature'])\n",
    "diff_mean = np.abs(pop_mean-obs_mean)"
   ]
  },
  {
   "cell_type": "code",
   "execution_count": 27,
   "metadata": {},
   "outputs": [
    {
     "name": "stdout",
     "output_type": "stream",
     "text": [
      "98.2492307692 0.350769230769\n"
     ]
    }
   ],
   "source": [
    "print obs_mean, diff_mean"
   ]
  },
  {
   "cell_type": "code",
   "execution_count": 29,
   "metadata": {},
   "outputs": [
    {
     "data": {
      "text/plain": [
       "98.59999999999992"
      ]
     },
     "execution_count": 29,
     "metadata": {},
     "output_type": "execute_result"
    }
   ],
   "source": [
    "#shift the dataset so the mean will match the population mean\n",
    "shifted_df = df['temperature'] - obs_mean + pop_mean\n",
    "np.mean(shifted_df)"
   ]
  },
  {
   "cell_type": "code",
   "execution_count": 39,
   "metadata": {
    "collapsed": true
   },
   "outputs": [],
   "source": [
    "from scipy import stats\n",
    "\n",
    "# create the randomly taken samples from the shifted array and take the means.\n",
    "trials = 1000\n",
    "test_means = np.empty(trials)\n",
    "\n",
    "for i in range(trials):\n",
    "    temp_list = np.random.choice(shifted_df, len(shifted_df))\n",
    "    test_means[i] = np.mean(temp_list)    "
   ]
  },
  {
   "cell_type": "code",
   "execution_count": 40,
   "metadata": {},
   "outputs": [
    {
     "data": {
      "text/plain": [
       "Ttest_1sampResult(statistic=-172.60671366232535, pvalue=0.0)"
      ]
     },
     "execution_count": 40,
     "metadata": {},
     "output_type": "execute_result"
    }
   ],
   "source": [
    "#we want to see if the difference in temperature from the population mean is significant.\n",
    "test_diffs = test_means - pop_mean  \n",
    "stats.ttest_1samp(test_diffs, diff_mean)"
   ]
  },
  {
   "cell_type": "markdown",
   "metadata": {},
   "source": [
    "The above result basically tells us that if the datasource was truly representative of the population mean, there is a very low chance (almost impossible) that the mean we observed would be there.  <br>\n",
    "\n",
    "now we will try using the z-test to see the outcome."
   ]
  },
  {
   "cell_type": "code",
   "execution_count": 46,
   "metadata": {},
   "outputs": [
    {
     "name": "stdout",
     "output_type": "stream",
     "text": [
      "1532.51587028\n"
     ]
    }
   ],
   "source": [
    "#compute the z-score for the difference\n",
    "def get_z(data_array, sample):\n",
    "    return (sample - np.mean(data_array))/float(np.std(data_array))\n",
    "\n",
    "print get_z(test_diffs, pop_mean)"
   ]
  },
  {
   "cell_type": "code",
   "execution_count": null,
   "metadata": {
    "collapsed": true
   },
   "outputs": [],
   "source": []
  }
 ],
 "metadata": {
  "kernelspec": {
   "display_name": "Python 2",
   "language": "python",
   "name": "python2"
  },
  "language_info": {
   "codemirror_mode": {
    "name": "ipython",
    "version": 2
   },
   "file_extension": ".py",
   "mimetype": "text/x-python",
   "name": "python",
   "nbconvert_exporter": "python",
   "pygments_lexer": "ipython2",
   "version": "2.7.13"
  }
 },
 "nbformat": 4,
 "nbformat_minor": 1
}
