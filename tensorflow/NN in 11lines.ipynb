{
 "cells": [
  {
   "cell_type": "code",
   "execution_count": 32,
   "metadata": {
    "collapsed": false
   },
   "outputs": [
    {
     "name": "stdout",
     "output_type": "stream",
     "text": [
      "l1:  [[ 0.2689864 ]\n",
      " [ 0.36375058]\n",
      " [ 0.23762817]\n",
      " [ 0.3262757 ]]\n",
      "error:  [[-0.2689864 ]\n",
      " [-0.36375058]\n",
      " [ 0.76237183]\n",
      " [ 0.6737243 ]]\n",
      "sigmoid:  [[ 0.24553187]\n",
      " [ 0.24190935]\n",
      " [ 0.24650375]\n",
      " [ 0.24346281]]\n",
      "l1_delta:  [[-0.06604473]\n",
      " [-0.08799467]\n",
      " [ 0.18792752]\n",
      " [ 0.16402681]]\n",
      "l1:  [[ 0.30962857]\n",
      " [ 0.42918547]\n",
      " [ 0.35072407]\n",
      " [ 0.47522609]]\n",
      "error:  [[-0.30962857]\n",
      " [-0.42918547]\n",
      " [ 0.64927593]\n",
      " [ 0.52477391]]\n",
      "sigmoid:  [[ 0.24410259]\n",
      " [ 0.23883192]\n",
      " [ 0.24246695]\n",
      " [ 0.23639979]]\n",
      "l1_delta:  [[-0.07558114]\n",
      " [-0.10250319]\n",
      " [ 0.15742795]\n",
      " [ 0.12405644]]\n",
      "l1:  [[ 0.33215458]\n",
      " [ 0.46003   ]\n",
      " [ 0.44251197]\n",
      " [ 0.57621653]]\n",
      "error:  [[-0.33215458]\n",
      " [-0.46003   ]\n",
      " [ 0.55748803]\n",
      " [ 0.42378347]]\n",
      "sigmoid:  [[ 0.24322942]\n",
      " [ 0.23722619]\n",
      " [ 0.23815006]\n",
      " [ 0.23034498]]\n",
      "l1_delta:  [[-0.08078977]\n",
      " [-0.10913116]\n",
      " [ 0.13276581]\n",
      " [ 0.0976164 ]]\n",
      "l1:  [[ 0.34119015]\n",
      " [ 0.46722821]\n",
      " [ 0.50996617]\n",
      " [ 0.63797586]]\n",
      "error:  [[-0.34119015]\n",
      " [-0.46722821]\n",
      " [ 0.49003383]\n",
      " [ 0.36202414]]\n",
      "sigmoid:  [[ 0.2428632 ]\n",
      " [ 0.2368376 ]\n",
      " [ 0.23442532]\n",
      " [ 0.22619282]]\n",
      "l1_delta:  [[-0.08286253]\n",
      " [-0.11065721]\n",
      " [ 0.11487634]\n",
      " [ 0.08188726]]\n",
      "l1:  [[ 0.34191968]\n",
      " [ 0.46087976]\n",
      " [ 0.55968344]\n",
      " [ 0.67652052]]\n",
      "error:  [[-0.34191968]\n",
      " [-0.46087976]\n",
      " [ 0.44031656]\n",
      " [ 0.32347948]]\n",
      "sigmoid:  [[ 0.24283323]\n",
      " [ 0.23718058]\n",
      " [ 0.23140069]\n",
      " [ 0.22344349]]\n",
      "l1_delta:  [[-0.08302946]\n",
      " [-0.10931173]\n",
      " [ 0.10188956]\n",
      " [ 0.07227939]]\n",
      "l1:  [[ 0.33784256]\n",
      " [ 0.44719612]\n",
      " [ 0.59769597]\n",
      " [ 0.70198986]]\n",
      "error:  [[-0.33784256]\n",
      " [-0.44719612]\n",
      " [ 0.40230403]\n",
      " [ 0.29801014]]\n",
      "sigmoid:  [[ 0.24299994]\n",
      " [ 0.23790608]\n",
      " [ 0.22893757]\n",
      " [ 0.22156433]]\n",
      "l1_delta:  [[-0.08209572]\n",
      " [-0.10639067]\n",
      " [ 0.09210251]\n",
      " [ 0.06602842]]\n",
      "l1:  [[ 0.33108567]\n",
      " [ 0.42978613]\n",
      " [ 0.62800076]\n",
      " [ 0.71994819]]\n",
      "error:  [[-0.33108567]\n",
      " [-0.42978613]\n",
      " [ 0.37199924]\n",
      " [ 0.28005181]]\n",
      "sigmoid:  [[ 0.24327214]\n",
      " [ 0.23880158]\n",
      " [ 0.22688505]\n",
      " [ 0.22021076]]\n",
      "l1_delta:  [[-0.08054392]\n",
      " [-0.10263361]\n",
      " [ 0.08440107]\n",
      " [ 0.06167042]]\n",
      "l1:  [[ 0.32291999]\n",
      " [ 0.41076762]\n",
      " [ 0.65308217]\n",
      " [ 0.73345182]]\n",
      "error:  [[-0.32291999]\n",
      " [-0.41076762]\n",
      " [ 0.34691783]\n",
      " [ 0.26654818]]\n",
      "sigmoid:  [[ 0.24359429]\n",
      " [ 0.239744  ]\n",
      " [ 0.22512923]\n",
      " [ 0.21917788]]\n",
      "l1_delta:  [[-0.07866146]\n",
      " [-0.09847907]\n",
      " [ 0.07810134]\n",
      " [ 0.05842147]]\n",
      "l1:  [[ 0.31410384]\n",
      " [ 0.39139115]\n",
      " [ 0.67448043]\n",
      " [ 0.74422674]]\n",
      "error:  [[-0.31410384]\n",
      " [-0.39139115]\n",
      " [ 0.32551957]\n",
      " [ 0.25577326]]\n",
      "sigmoid:  [[ 0.24393367]\n",
      " [ 0.24066505]\n",
      " [ 0.22359191]\n",
      " [ 0.21834467]]\n",
      "l1_delta:  [[-0.0766205 ]\n",
      " [-0.09419417]\n",
      " [ 0.07278354]\n",
      " [ 0.05584673]]\n",
      "l1:  [[ 0.30508757]\n",
      " [ 0.37238465]\n",
      " [ 0.69316671]\n",
      " [ 0.7532744 ]]\n",
      "error:  [[-0.30508757]\n",
      " [-0.37238465]\n",
      " [ 0.30683329]\n",
      " [ 0.2467256 ]]\n",
      "sigmoid:  [[ 0.24427167]\n",
      " [ 0.24152955]\n",
      " [ 0.22222078]\n",
      " [ 0.21763896]]\n",
      "l1_delta:  [[-0.07452425]\n",
      " [-0.08994189]\n",
      " [ 0.06818473]\n",
      " [ 0.0536971 ]]\n",
      "Output After Training:\n",
      "[[ 0.30508757]\n",
      " [ 0.37238465]\n",
      " [ 0.69316671]\n",
      " [ 0.7532744 ]]\n"
     ]
    }
   ],
   "source": [
    "\n",
    "#https://iamtrask.github.io/2015/07/12/basic-python-network/\n",
    "\n",
    "import numpy as np\n",
    "\n",
    "# sigmoid function\n",
    "def nonlin(x,deriv=False):\n",
    "    if(deriv==True):\n",
    "        #return x*(1-x)\n",
    "        return (1/(1+np.exp(-x)))*(1-(1/(1+np.exp(-x))))\n",
    "    return 1/(1+np.exp(-x))\n",
    "\n",
    "#RELU\n",
    "#def nonlin(x,deriv=False):\n",
    "##    if(deriv==True):\n",
    "#        return 1/(1+np.exp(-x))\n",
    "#    return np.log2(1+np.exp(x))\n",
    "\n",
    "# input dataset\n",
    "X = np.array([  [0,0,1],\n",
    "                [0,1,1],\n",
    "                [1,0,1],\n",
    "                [1,1,1] ])\n",
    "    \n",
    "# output dataset            \n",
    "y = np.array([[0,0,1,1]]).T\n",
    "\n",
    "# seed random numbers to make calculation\n",
    "# deterministic (just a good practice)\n",
    "np.random.seed(1)\n",
    "\n",
    "# initialize weights randomly with mean 0\n",
    "syn0 = 2*np.random.random((3,1)) - 1\n",
    "\n",
    "for iter in xrange(10):\n",
    "\n",
    "    # forward propagation\n",
    "    l0 = X\n",
    "    l1 = nonlin(np.dot(l0,syn0))\n",
    "    #print iter\n",
    "    # how much did we miss?\n",
    "    l1_error = y - l1\n",
    "\n",
    "    # multiply how much we missed by the \n",
    "    # slope of the sigmoid at the values in l1\n",
    "    l1_delta = l1_error * nonlin(l1,True)\n",
    "    print 'l1: ', l1\n",
    "    print 'error: ', l1_error\n",
    "    print 'sigmoid: ',nonlin(l1,True)\n",
    "    print 'l1_delta: ', l1_delta\n",
    "    # update weights\n",
    "    syn0 += np.dot(l0.T,l1_delta)\n",
    "\n",
    "print \"Output After Training:\"\n",
    "print l1\n"
   ]
  },
  {
   "cell_type": "code",
   "execution_count": 10,
   "metadata": {
    "collapsed": false
   },
   "outputs": [
    {
     "data": {
      "text/plain": [
       "array([[-0.5910955 ],\n",
       "       [ 0.75623487],\n",
       "       [-0.94522481]])"
      ]
     },
     "execution_count": 10,
     "metadata": {},
     "output_type": "execute_result"
    }
   ],
   "source": [
    "2*np.random.random((3,1))-1"
   ]
  },
  {
   "cell_type": "code",
   "execution_count": 18,
   "metadata": {
    "collapsed": false
   },
   "outputs": [
    {
     "data": {
      "text/plain": [
       "(array([[0],\n",
       "        [0],\n",
       "        [1],\n",
       "        [1]]), ':', array([[ 0.5       ],\n",
       "        [ 0.5       ],\n",
       "        [ 0.73105858],\n",
       "        [ 0.73105858]]))"
      ]
     },
     "execution_count": 18,
     "metadata": {},
     "output_type": "execute_result"
    }
   ],
   "source": [
    "y, ':', nonlin(y)"
   ]
  },
  {
   "cell_type": "code",
   "execution_count": 19,
   "metadata": {
    "collapsed": false
   },
   "outputs": [
    {
     "data": {
      "text/plain": [
       "array([[0],\n",
       "       [0],\n",
       "       [0],\n",
       "       [0]])"
      ]
     },
     "execution_count": 19,
     "metadata": {},
     "output_type": "execute_result"
    }
   ],
   "source": [
    "nonlin(y, True)"
   ]
  },
  {
   "cell_type": "code",
   "execution_count": 20,
   "metadata": {
    "collapsed": false
   },
   "outputs": [
    {
     "data": {
      "text/plain": [
       "array([[ 0.03176745],\n",
       "       [ 0.02575143],\n",
       "       [ 0.97907779],\n",
       "       [ 0.97416005]])"
      ]
     },
     "execution_count": 20,
     "metadata": {},
     "output_type": "execute_result"
    }
   ],
   "source": [
    "nonlin(np.dot(X,syn0))"
   ]
  },
  {
   "cell_type": "markdown",
   "metadata": {
    "collapsed": true
   },
   "source": [
    "## 3 layer network"
   ]
  },
  {
   "cell_type": "code",
   "execution_count": null,
   "metadata": {
    "collapsed": true
   },
   "outputs": [],
   "source": []
  }
 ],
 "metadata": {
  "kernelspec": {
   "display_name": "Python 2",
   "language": "python",
   "name": "python2"
  },
  "language_info": {
   "codemirror_mode": {
    "name": "ipython",
    "version": 2
   },
   "file_extension": ".py",
   "mimetype": "text/x-python",
   "name": "python",
   "nbconvert_exporter": "python",
   "pygments_lexer": "ipython2",
   "version": "2.7.13"
  }
 },
 "nbformat": 4,
 "nbformat_minor": 2
}
