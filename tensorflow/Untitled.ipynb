{
 "cells": [
  {
   "cell_type": "markdown",
   "metadata": {},
   "source": [
    "building input functions with tf.contrib.learn\n",
    "https://www.tensorflow.org/get_started/input_fn\n",
    "\n",
    "\n",
    "Preprocess and feed data into tensorflow models"
   ]
  },
  {
   "cell_type": "code",
   "execution_count": 5,
   "metadata": {
    "collapsed": true
   },
   "outputs": [],
   "source": [
    "from __future__ import absolute_import\n",
    "from __future__ import division\n",
    "from __future__ import print_function\n",
    "\n",
    "import itertools\n",
    "\n",
    "import pandas as pd\n",
    "import tensorflow as tf\n",
    "\n",
    "tf.logging.set_verbosity(tf.logging.INFO)\n"
   ]
  },
  {
   "cell_type": "code",
   "execution_count": 3,
   "metadata": {
    "collapsed": false
   },
   "outputs": [
    {
     "data": {
      "text/plain": [
       "<tf.Tensor 'Const_1:0' shape=(6,) dtype=float32>"
      ]
     },
     "execution_count": 3,
     "metadata": {},
     "output_type": "execute_result"
    }
   ],
   "source": [
    "feature_column_data = [1, 2.4, 0, 9.9, 3, 120]\n",
    "feature_tensor = tf.constant(feature_column_data)\n",
    "feature_tensor\n"
   ]
  },
  {
   "cell_type": "markdown",
   "metadata": {},
   "source": [
    "Practice with Boston host dataset"
   ]
  },
  {
   "cell_type": "code",
   "execution_count": 6,
   "metadata": {
    "collapsed": true
   },
   "outputs": [],
   "source": [
    "data_train = '/tmp/data/boston_train.csv'\n",
    "data_test = '/tmp/data/boston_test.csv'\n",
    "prediction = '/tmp/data/boston_predict.csv'\n",
    "\n",
    "COLUMNS = [\"crim\", \"zn\", \"indus\", \"nox\", \"rm\", \"age\",\n",
    "           \"dis\", \"tax\", \"ptratio\", \"medv\"]\n",
    "FEATURES = [\"crim\", \"zn\", \"indus\", \"nox\", \"rm\",\n",
    "            \"age\", \"dis\", \"tax\", \"ptratio\"]\n",
    "LABEL = \"medv\"\n",
    "\n",
    "training_set = pd.read_csv(data_train, skipinitialspace=True,\n",
    "                           skiprows=1, names=COLUMNS)\n",
    "test_set = pd.read_csv(data_test, skipinitialspace=True,\n",
    "                       skiprows=1, names=COLUMNS)\n",
    "prediction_set = pd.read_csv(prediction, skipinitialspace=True,\n",
    "                             skiprows=1, names=COLUMNS)\n",
    "\n"
   ]
  },
  {
   "cell_type": "markdown",
   "metadata": {},
   "source": [
    "    Create featureColumns for input data"
   ]
  },
  {
   "cell_type": "code",
   "execution_count": 9,
   "metadata": {
    "collapsed": false
   },
   "outputs": [],
   "source": [
    "feature_cols = [tf.contrib.layers.real_valued_column(k) for k in FEATURES]"
   ]
  },
  {
   "cell_type": "code",
   "execution_count": 10,
   "metadata": {
    "collapsed": false
   },
   "outputs": [
    {
     "name": "stdout",
     "output_type": "stream",
     "text": [
      "INFO:tensorflow:Using default config.\n",
      "INFO:tensorflow:Using config: {'_save_checkpoints_secs': 600, '_num_ps_replicas': 0, '_keep_checkpoint_max': 5, '_task_type': None, '_is_chief': True, '_cluster_spec': <tensorflow.python.training.server_lib.ClusterSpec object at 0x11fcbfa90>, '_model_dir': '/tmp/boston_model', '_save_checkpoints_steps': None, '_keep_checkpoint_every_n_hours': 10000, '_session_config': None, '_tf_random_seed': None, '_environment': 'local', '_num_worker_replicas': 0, '_task_id': 0, '_save_summary_steps': 100, '_tf_config': gpu_options {\n",
      "  per_process_gpu_memory_fraction: 1\n",
      "}\n",
      ", '_evaluation_master': '', '_master': ''}\n"
     ]
    }
   ],
   "source": [
    "regressor = tf.contrib.learn.DNNRegressor(feature_columns=feature_cols,\n",
    "                                         hidden_units=[10,10],\n",
    "                                         model_dir='/tmp/boston_model')"
   ]
  },
  {
   "cell_type": "markdown",
   "metadata": {},
   "source": [
    "    to pass input to regressor, create a function which accepts a pandas df and returns a feature column and label values as Tensor s"
   ]
  },
  {
   "cell_type": "code",
   "execution_count": 11,
   "metadata": {
    "collapsed": true
   },
   "outputs": [],
   "source": [
    "def input_fn(data_set):\n",
    "    feature_cols = {k:tf.constant(data_set[k].values)\n",
    "                   for k in FEATURES}\n",
    "    labels = tf.constant(data_set[LABEL].values)\n",
    "    return feature_cols, labels\n"
   ]
  },
  {
   "cell_type": "code",
   "execution_count": 12,
   "metadata": {
    "collapsed": false
   },
   "outputs": [
    {
     "data": {
      "text/plain": [
       "({'age': <tf.Tensor 'Const_7:0' shape=(100,) dtype=float64>,\n",
       "  'crim': <tf.Tensor 'Const_2:0' shape=(100,) dtype=float64>,\n",
       "  'dis': <tf.Tensor 'Const_8:0' shape=(100,) dtype=float64>,\n",
       "  'indus': <tf.Tensor 'Const_4:0' shape=(100,) dtype=float64>,\n",
       "  'nox': <tf.Tensor 'Const_5:0' shape=(100,) dtype=float64>,\n",
       "  'ptratio': <tf.Tensor 'Const_10:0' shape=(100,) dtype=float64>,\n",
       "  'rm': <tf.Tensor 'Const_6:0' shape=(100,) dtype=float64>,\n",
       "  'tax': <tf.Tensor 'Const_9:0' shape=(100,) dtype=int64>,\n",
       "  'zn': <tf.Tensor 'Const_3:0' shape=(100,) dtype=float64>},\n",
       " <tf.Tensor 'Const_11:0' shape=(100,) dtype=float64>)"
      ]
     },
     "execution_count": 12,
     "metadata": {},
     "output_type": "execute_result"
    }
   ],
   "source": [
    "input_fn(test_set)"
   ]
  },
  {
   "cell_type": "code",
   "execution_count": 13,
   "metadata": {
    "collapsed": false
   },
   "outputs": [
    {
     "name": "stdout",
     "output_type": "stream",
     "text": [
      "WARNING:tensorflow:Rank of input Tensor (1) should be the same as output_rank (2) for column. Will attempt to expand dims. It is highly recommended that you resize your input, as this behavior may change.\n",
      "WARNING:tensorflow:Rank of input Tensor (1) should be the same as output_rank (2) for column. Will attempt to expand dims. It is highly recommended that you resize your input, as this behavior may change.\n",
      "WARNING:tensorflow:Rank of input Tensor (1) should be the same as output_rank (2) for column. Will attempt to expand dims. It is highly recommended that you resize your input, as this behavior may change.\n",
      "WARNING:tensorflow:Rank of input Tensor (1) should be the same as output_rank (2) for column. Will attempt to expand dims. It is highly recommended that you resize your input, as this behavior may change.\n",
      "WARNING:tensorflow:Rank of input Tensor (1) should be the same as output_rank (2) for column. Will attempt to expand dims. It is highly recommended that you resize your input, as this behavior may change.\n",
      "WARNING:tensorflow:Rank of input Tensor (1) should be the same as output_rank (2) for column. Will attempt to expand dims. It is highly recommended that you resize your input, as this behavior may change.\n",
      "WARNING:tensorflow:Rank of input Tensor (1) should be the same as output_rank (2) for column. Will attempt to expand dims. It is highly recommended that you resize your input, as this behavior may change.\n",
      "WARNING:tensorflow:Rank of input Tensor (1) should be the same as output_rank (2) for column. Will attempt to expand dims. It is highly recommended that you resize your input, as this behavior may change.\n",
      "WARNING:tensorflow:Rank of input Tensor (1) should be the same as output_rank (2) for column. Will attempt to expand dims. It is highly recommended that you resize your input, as this behavior may change.\n",
      "WARNING:tensorflow:From /Users/momori/anaconda/lib/python2.7/site-packages/tensorflow/contrib/learn/python/learn/estimators/head.py:625: scalar_summary (from tensorflow.python.ops.logging_ops) is deprecated and will be removed after 2016-11-30.\n",
      "Instructions for updating:\n",
      "Please switch to tf.summary.scalar. Note that tf.summary.scalar uses the node name instead of the tag. This means that TensorFlow will automatically de-duplicate summary names based on the scope they are created in. Also, passing a tensor or list of tags to a scalar summary op is no longer supported.\n",
      "INFO:tensorflow:Create CheckpointSaverHook.\n",
      "INFO:tensorflow:Saving checkpoints for 1 into /tmp/boston_model/model.ckpt.\n",
      "INFO:tensorflow:loss = 1613.15, step = 1\n",
      "INFO:tensorflow:global_step/sec: 1387.58\n",
      "INFO:tensorflow:loss = 100.575, step = 101 (0.073 sec)\n",
      "INFO:tensorflow:global_step/sec: 1772.3\n",
      "INFO:tensorflow:loss = 85.1315, step = 201 (0.056 sec)\n",
      "INFO:tensorflow:global_step/sec: 1789.07\n",
      "INFO:tensorflow:loss = 78.1854, step = 301 (0.056 sec)\n",
      "INFO:tensorflow:global_step/sec: 1587.48\n",
      "INFO:tensorflow:loss = 73.497, step = 401 (0.063 sec)\n",
      "INFO:tensorflow:global_step/sec: 1684.32\n",
      "INFO:tensorflow:loss = 70.4283, step = 501 (0.059 sec)\n",
      "INFO:tensorflow:global_step/sec: 1722.45\n",
      "INFO:tensorflow:loss = 68.0469, step = 601 (0.058 sec)\n",
      "INFO:tensorflow:global_step/sec: 1774.21\n",
      "INFO:tensorflow:loss = 66.0829, step = 701 (0.056 sec)\n",
      "INFO:tensorflow:global_step/sec: 1569.51\n",
      "INFO:tensorflow:loss = 63.9423, step = 801 (0.064 sec)\n",
      "INFO:tensorflow:global_step/sec: 1760.16\n",
      "INFO:tensorflow:loss = 61.5661, step = 901 (0.057 sec)\n",
      "INFO:tensorflow:global_step/sec: 1499.23\n",
      "INFO:tensorflow:loss = 59.9388, step = 1001 (0.067 sec)\n",
      "INFO:tensorflow:global_step/sec: 1772.14\n",
      "INFO:tensorflow:loss = 56.2421, step = 1101 (0.056 sec)\n",
      "INFO:tensorflow:global_step/sec: 1670.25\n",
      "INFO:tensorflow:loss = 53.7884, step = 1201 (0.060 sec)\n",
      "INFO:tensorflow:global_step/sec: 1743.86\n",
      "INFO:tensorflow:loss = 52.1929, step = 1301 (0.057 sec)\n",
      "INFO:tensorflow:global_step/sec: 1714.21\n",
      "INFO:tensorflow:loss = 50.278, step = 1401 (0.058 sec)\n",
      "INFO:tensorflow:global_step/sec: 1750.61\n",
      "INFO:tensorflow:loss = 48.3561, step = 1501 (0.057 sec)\n",
      "INFO:tensorflow:global_step/sec: 1742.13\n",
      "INFO:tensorflow:loss = 46.6949, step = 1601 (0.058 sec)\n",
      "INFO:tensorflow:global_step/sec: 1649.81\n",
      "INFO:tensorflow:loss = 45.0962, step = 1701 (0.060 sec)\n",
      "INFO:tensorflow:global_step/sec: 1777.4\n",
      "INFO:tensorflow:loss = 42.6362, step = 1801 (0.056 sec)\n",
      "INFO:tensorflow:global_step/sec: 1773.93\n",
      "INFO:tensorflow:loss = 41.0887, step = 1901 (0.056 sec)\n",
      "INFO:tensorflow:global_step/sec: 1773.84\n",
      "INFO:tensorflow:loss = 40.8769, step = 2001 (0.056 sec)\n",
      "INFO:tensorflow:global_step/sec: 1602.21\n",
      "INFO:tensorflow:loss = 39.623, step = 2101 (0.062 sec)\n",
      "INFO:tensorflow:global_step/sec: 1756.79\n",
      "INFO:tensorflow:loss = 39.6197, step = 2201 (0.057 sec)\n",
      "INFO:tensorflow:global_step/sec: 1746.42\n",
      "INFO:tensorflow:loss = 37.3487, step = 2301 (0.057 sec)\n",
      "INFO:tensorflow:global_step/sec: 1780.66\n",
      "INFO:tensorflow:loss = 37.004, step = 2401 (0.056 sec)\n",
      "INFO:tensorflow:global_step/sec: 1622.3\n",
      "INFO:tensorflow:loss = 35.8004, step = 2501 (0.062 sec)\n",
      "INFO:tensorflow:global_step/sec: 1784.09\n",
      "INFO:tensorflow:loss = 35.9284, step = 2601 (0.056 sec)\n",
      "INFO:tensorflow:global_step/sec: 1656.37\n",
      "INFO:tensorflow:loss = 34.9274, step = 2701 (0.060 sec)\n",
      "INFO:tensorflow:global_step/sec: 1790.32\n",
      "INFO:tensorflow:loss = 34.5229, step = 2801 (0.056 sec)\n",
      "INFO:tensorflow:global_step/sec: 1631.54\n",
      "INFO:tensorflow:loss = 34.0258, step = 2901 (0.062 sec)\n",
      "INFO:tensorflow:global_step/sec: 1734.42\n",
      "INFO:tensorflow:loss = 33.5744, step = 3001 (0.057 sec)\n",
      "INFO:tensorflow:global_step/sec: 1710.93\n",
      "INFO:tensorflow:loss = 33.0886, step = 3101 (0.058 sec)\n",
      "INFO:tensorflow:global_step/sec: 1749.96\n",
      "INFO:tensorflow:loss = 32.7205, step = 3201 (0.057 sec)\n",
      "INFO:tensorflow:global_step/sec: 1721.79\n",
      "INFO:tensorflow:loss = 32.3615, step = 3301 (0.058 sec)\n",
      "INFO:tensorflow:global_step/sec: 1568.21\n",
      "INFO:tensorflow:loss = 32.0812, step = 3401 (0.064 sec)\n",
      "INFO:tensorflow:global_step/sec: 1633.11\n",
      "INFO:tensorflow:loss = 31.8598, step = 3501 (0.061 sec)\n",
      "INFO:tensorflow:global_step/sec: 1780.38\n",
      "INFO:tensorflow:loss = 31.5603, step = 3601 (0.056 sec)\n",
      "INFO:tensorflow:global_step/sec: 1766.41\n",
      "INFO:tensorflow:loss = 31.3242, step = 3701 (0.057 sec)\n",
      "INFO:tensorflow:global_step/sec: 1646.01\n",
      "INFO:tensorflow:loss = 31.1036, step = 3801 (0.061 sec)\n",
      "INFO:tensorflow:global_step/sec: 1762.08\n",
      "INFO:tensorflow:loss = 30.875, step = 3901 (0.057 sec)\n",
      "INFO:tensorflow:global_step/sec: 1767.79\n",
      "INFO:tensorflow:loss = 30.692, step = 4001 (0.057 sec)\n",
      "INFO:tensorflow:global_step/sec: 1790.35\n",
      "INFO:tensorflow:loss = 30.4811, step = 4101 (0.056 sec)\n",
      "INFO:tensorflow:global_step/sec: 1668.42\n",
      "INFO:tensorflow:loss = 30.3131, step = 4201 (0.060 sec)\n",
      "INFO:tensorflow:global_step/sec: 1789.97\n",
      "INFO:tensorflow:loss = 30.1972, step = 4301 (0.056 sec)\n",
      "INFO:tensorflow:global_step/sec: 1772.42\n",
      "INFO:tensorflow:loss = 29.9607, step = 4401 (0.057 sec)\n",
      "INFO:tensorflow:global_step/sec: 1786.26\n",
      "INFO:tensorflow:loss = 29.855, step = 4501 (0.056 sec)\n",
      "INFO:tensorflow:global_step/sec: 1778.79\n",
      "INFO:tensorflow:loss = 29.7564, step = 4601 (0.056 sec)\n",
      "INFO:tensorflow:global_step/sec: 1479.07\n",
      "INFO:tensorflow:loss = 29.6689, step = 4701 (0.068 sec)\n",
      "INFO:tensorflow:global_step/sec: 1722.18\n",
      "INFO:tensorflow:loss = 29.635, step = 4801 (0.058 sec)\n",
      "INFO:tensorflow:global_step/sec: 1726.7\n",
      "INFO:tensorflow:loss = 29.5342, step = 4901 (0.058 sec)\n",
      "INFO:tensorflow:Saving checkpoints for 5000 into /tmp/boston_model/model.ckpt.\n",
      "INFO:tensorflow:Loss for final step: 29.3639.\n"
     ]
    },
    {
     "data": {
      "text/plain": [
       "DNNRegressor(params={'head': <tensorflow.contrib.learn.python.learn.estimators.head._RegressionHead object at 0x11fcbff90>, 'hidden_units': [10, 10], 'feature_columns': (_RealValuedColumn(column_name='crim', dimension=1, default_value=None, dtype=tf.float32, normalizer=None), _RealValuedColumn(column_name='zn', dimension=1, default_value=None, dtype=tf.float32, normalizer=None), _RealValuedColumn(column_name='indus', dimension=1, default_value=None, dtype=tf.float32, normalizer=None), _RealValuedColumn(column_name='nox', dimension=1, default_value=None, dtype=tf.float32, normalizer=None), _RealValuedColumn(column_name='rm', dimension=1, default_value=None, dtype=tf.float32, normalizer=None), _RealValuedColumn(column_name='age', dimension=1, default_value=None, dtype=tf.float32, normalizer=None), _RealValuedColumn(column_name='dis', dimension=1, default_value=None, dtype=tf.float32, normalizer=None), _RealValuedColumn(column_name='tax', dimension=1, default_value=None, dtype=tf.float32, normalizer=None), _RealValuedColumn(column_name='ptratio', dimension=1, default_value=None, dtype=tf.float32, normalizer=None)), 'embedding_lr_multipliers': None, 'optimizer': None, 'dropout': None, 'gradient_clip_norm': None, 'activation_fn': <function relu at 0x11902bb18>, 'input_layer_min_slice_size': None})"
      ]
     },
     "execution_count": 13,
     "metadata": {},
     "output_type": "execute_result"
    }
   ],
   "source": [
    "regressor.fit(input_fn=lambda: input_fn(training_set), steps=5000)"
   ]
  },
  {
   "cell_type": "code",
   "execution_count": 15,
   "metadata": {
    "collapsed": false
   },
   "outputs": [
    {
     "name": "stdout",
     "output_type": "stream",
     "text": [
      "WARNING:tensorflow:Rank of input Tensor (1) should be the same as output_rank (2) for column. Will attempt to expand dims. It is highly recommended that you resize your input, as this behavior may change.\n",
      "WARNING:tensorflow:Rank of input Tensor (1) should be the same as output_rank (2) for column. Will attempt to expand dims. It is highly recommended that you resize your input, as this behavior may change.\n",
      "WARNING:tensorflow:Rank of input Tensor (1) should be the same as output_rank (2) for column. Will attempt to expand dims. It is highly recommended that you resize your input, as this behavior may change.\n",
      "WARNING:tensorflow:Rank of input Tensor (1) should be the same as output_rank (2) for column. Will attempt to expand dims. It is highly recommended that you resize your input, as this behavior may change.\n",
      "WARNING:tensorflow:Rank of input Tensor (1) should be the same as output_rank (2) for column. Will attempt to expand dims. It is highly recommended that you resize your input, as this behavior may change.\n",
      "WARNING:tensorflow:Rank of input Tensor (1) should be the same as output_rank (2) for column. Will attempt to expand dims. It is highly recommended that you resize your input, as this behavior may change.\n",
      "WARNING:tensorflow:Rank of input Tensor (1) should be the same as output_rank (2) for column. Will attempt to expand dims. It is highly recommended that you resize your input, as this behavior may change.\n",
      "WARNING:tensorflow:Rank of input Tensor (1) should be the same as output_rank (2) for column. Will attempt to expand dims. It is highly recommended that you resize your input, as this behavior may change.\n",
      "WARNING:tensorflow:Rank of input Tensor (1) should be the same as output_rank (2) for column. Will attempt to expand dims. It is highly recommended that you resize your input, as this behavior may change.\n",
      "WARNING:tensorflow:From /Users/momori/anaconda/lib/python2.7/site-packages/tensorflow/contrib/learn/python/learn/estimators/head.py:625: scalar_summary (from tensorflow.python.ops.logging_ops) is deprecated and will be removed after 2016-11-30.\n",
      "Instructions for updating:\n",
      "Please switch to tf.summary.scalar. Note that tf.summary.scalar uses the node name instead of the tag. This means that TensorFlow will automatically de-duplicate summary names based on the scope they are created in. Also, passing a tensor or list of tags to a scalar summary op is no longer supported.\n",
      "INFO:tensorflow:Starting evaluation at 2017-07-30-00:58:24\n",
      "INFO:tensorflow:Restoring parameters from /tmp/boston_model/model.ckpt-5000\n",
      "INFO:tensorflow:Evaluation [1/1]\n",
      "INFO:tensorflow:Finished evaluation at 2017-07-30-00:58:25\n",
      "INFO:tensorflow:Saving dict for global step 5000: global_step = 5000, loss = 13.8922\n"
     ]
    }
   ],
   "source": [
    "#evaluate\n",
    "ev = regressor.evaluate(input_fn=lambda: input_fn(test_set), steps=1)"
   ]
  },
  {
   "cell_type": "code",
   "execution_count": 17,
   "metadata": {
    "collapsed": false
   },
   "outputs": [
    {
     "name": "stdout",
     "output_type": "stream",
     "text": [
      "Loss: 13.892195\n"
     ]
    }
   ],
   "source": [
    "loss_score = ev['loss']\n",
    "print(\"Loss: {0:f}\".format(loss_score))"
   ]
  },
  {
   "cell_type": "code",
   "execution_count": 18,
   "metadata": {
    "collapsed": false
   },
   "outputs": [
    {
     "data": {
      "text/plain": [
       "13.892195"
      ]
     },
     "execution_count": 18,
     "metadata": {},
     "output_type": "execute_result"
    }
   ],
   "source": [
    "loss_score"
   ]
  },
  {
   "cell_type": "code",
   "execution_count": 20,
   "metadata": {
    "collapsed": false
   },
   "outputs": [
    {
     "name": "stdout",
     "output_type": "stream",
     "text": [
      "WARNING:tensorflow:From /Users/momori/anaconda/lib/python2.7/site-packages/tensorflow/python/util/deprecation.py:347: calling predict (from tensorflow.contrib.learn.python.learn.estimators.dnn) with outputs=None is deprecated and will be removed after 2017-03-01.\n",
      "Instructions for updating:\n",
      "Please switch to predict_scores, or set `outputs` argument.\n",
      "WARNING:tensorflow:Rank of input Tensor (1) should be the same as output_rank (2) for column. Will attempt to expand dims. It is highly recommended that you resize your input, as this behavior may change.\n",
      "WARNING:tensorflow:Rank of input Tensor (1) should be the same as output_rank (2) for column. Will attempt to expand dims. It is highly recommended that you resize your input, as this behavior may change.\n",
      "WARNING:tensorflow:Rank of input Tensor (1) should be the same as output_rank (2) for column. Will attempt to expand dims. It is highly recommended that you resize your input, as this behavior may change.\n",
      "WARNING:tensorflow:Rank of input Tensor (1) should be the same as output_rank (2) for column. Will attempt to expand dims. It is highly recommended that you resize your input, as this behavior may change.\n",
      "WARNING:tensorflow:Rank of input Tensor (1) should be the same as output_rank (2) for column. Will attempt to expand dims. It is highly recommended that you resize your input, as this behavior may change.\n",
      "WARNING:tensorflow:Rank of input Tensor (1) should be the same as output_rank (2) for column. Will attempt to expand dims. It is highly recommended that you resize your input, as this behavior may change.\n",
      "WARNING:tensorflow:Rank of input Tensor (1) should be the same as output_rank (2) for column. Will attempt to expand dims. It is highly recommended that you resize your input, as this behavior may change.\n",
      "WARNING:tensorflow:Rank of input Tensor (1) should be the same as output_rank (2) for column. Will attempt to expand dims. It is highly recommended that you resize your input, as this behavior may change.\n",
      "WARNING:tensorflow:Rank of input Tensor (1) should be the same as output_rank (2) for column. Will attempt to expand dims. It is highly recommended that you resize your input, as this behavior may change.\n",
      "INFO:tensorflow:Restoring parameters from /tmp/boston_model/model.ckpt-5000\n",
      "predictions: [34.460438, 17.228466, 21.150135, 35.438984, 15.545377, 18.189079]\n"
     ]
    }
   ],
   "source": [
    "#predict using prediction set\n",
    "y = regressor.predict(input_fn=lambda: input_fn(prediction_set))\n",
    "predictions=list(itertools.islice(y,6))\n",
    "print ('predictions: {}'.format(str(predictions)))"
   ]
  },
  {
   "cell_type": "code",
   "execution_count": null,
   "metadata": {
    "collapsed": true
   },
   "outputs": [],
   "source": []
  }
 ],
 "metadata": {
  "kernelspec": {
   "display_name": "Python 2",
   "language": "python",
   "name": "python2"
  },
  "language_info": {
   "codemirror_mode": {
    "name": "ipython",
    "version": 2
   },
   "file_extension": ".py",
   "mimetype": "text/x-python",
   "name": "python",
   "nbconvert_exporter": "python",
   "pygments_lexer": "ipython2",
   "version": "2.7.13"
  }
 },
 "nbformat": 4,
 "nbformat_minor": 2
}
