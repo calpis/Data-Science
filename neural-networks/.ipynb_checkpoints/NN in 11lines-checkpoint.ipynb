{
 "cells": [
  {
   "cell_type": "code",
   "execution_count": 24,
   "metadata": {
    "collapsed": false
   },
   "outputs": [
    {
     "name": "stdout",
     "output_type": "stream",
     "text": [
      "l1:  [[ 0.2689864 ]\n",
      " [ 0.36375058]\n",
      " [ 0.23762817]\n",
      " [ 0.3262757 ]]\n",
      "error:  [[-0.2689864 ]\n",
      " [-0.36375058]\n",
      " [ 4.76237183]\n",
      " [ 4.6737243 ]]\n",
      "sigmoid:  [[ 0.24553187]\n",
      " [ 0.24190935]\n",
      " [ 0.24650375]\n",
      " [ 0.24346281]]\n",
      "l1_delta:  [[-0.06604473]\n",
      " [-0.08799467]\n",
      " [ 1.17394253]\n",
      " [ 1.13787803]]\n",
      "l1:  [[ 0.76097092]\n",
      " [ 0.93392109]\n",
      " [ 0.96456149]\n",
      " [ 0.99179202]]\n",
      "error:  [[-0.76097092]\n",
      " [-0.93392109]\n",
      " [ 4.03543851]\n",
      " [ 4.00820798]]\n",
      "sigmoid:  [[ 0.21703433]\n",
      " [ 0.20253261]\n",
      " [ 0.19980869]\n",
      " [ 0.19735649]]\n",
      "l1_delta:  [[-0.16515682]\n",
      " [-0.18914948]\n",
      " [ 0.8063157 ]\n",
      " [ 0.79104586]]\n",
      "l1:  [[ 0.91690849]\n",
      " [ 0.98894214]\n",
      " [ 0.9978589 ]\n",
      " [ 0.99973532]]\n",
      "error:  [[-0.91690849]\n",
      " [-0.98894214]\n",
      " [ 4.0021411 ]\n",
      " [ 4.00026468]]\n",
      "sigmoid:  [[ 0.20402759]\n",
      " [ 0.19761444]\n",
      " [ 0.19680639]\n",
      " [ 0.19663598]]\n",
      "l1_delta:  [[-0.18707463]\n",
      " [-0.19542924]\n",
      " [ 0.78764693]\n",
      " [ 0.78659597]]\n",
      "l1:  [[ 0.97321607]\n",
      " [ 0.99812337]\n",
      " [ 0.99986502]\n",
      " [ 0.99999078]]\n",
      "error:  [[-0.97321607]\n",
      " [-0.99812337]\n",
      " [ 4.00013498]\n",
      " [ 4.00000922]]\n",
      "sigmoid:  [[ 0.19903239]\n",
      " [ 0.19678238]\n",
      " [ 0.1966242 ]\n",
      " [ 0.19661277]]\n",
      "l1_delta:  [[-0.19370152]\n",
      " [-0.19641309]\n",
      " [ 0.78652333]\n",
      " [ 0.7864529 ]]\n",
      "l1:  [[ 0.99163804]\n",
      " [ 0.99968078]\n",
      " [ 0.99999142]\n",
      " [ 0.99999968]]\n",
      "error:  [[-0.99163804]\n",
      " [-0.99968078]\n",
      " [ 4.00000858]\n",
      " [ 4.00000032]]\n",
      "sigmoid:  [[ 0.19737043]\n",
      " [ 0.19664094]\n",
      " [ 0.19661271]\n",
      " [ 0.19661196]]\n",
      "l1_delta:  [[-0.19572003]\n",
      " [-0.19657816]\n",
      " [ 0.78645254]\n",
      " [ 0.78644791]]\n",
      "l1:  [[ 0.99741713]\n",
      " [ 0.99994564]\n",
      " [ 0.99999945]\n",
      " [ 0.99999999]]\n",
      "error:  [[-0.99741713]\n",
      " [-0.99994564]\n",
      " [ 4.00000055]\n",
      " [ 4.00000001]]\n",
      "sigmoid:  [[ 0.19684649]\n",
      " [ 0.19661687]\n",
      " [ 0.19661198]\n",
      " [ 0.19661193]]\n",
      "l1_delta:  [[-0.19633806]\n",
      " [-0.19660618]\n",
      " [ 0.78644804]\n",
      " [ 0.78644774]]\n",
      "l1:  [[ 0.99920488]\n",
      " [ 0.99999074]\n",
      " [ 0.99999997]\n",
      " [ 1.        ]]\n",
      "error:  [[-0.99920488]\n",
      " [-0.99999074]\n",
      " [ 4.00000003]\n",
      " [ 4.        ]]\n",
      "sigmoid:  [[ 0.19668417]\n",
      " [ 0.19661277]\n",
      " [ 0.19661194]\n",
      " [ 0.19661193]]\n",
      "l1_delta:  [[-0.19652778]\n",
      " [-0.19661095]\n",
      " [ 0.78644775]\n",
      " [ 0.78644773]]\n",
      "l1:  [[ 0.99975548]\n",
      " [ 0.99999842]\n",
      " [ 1.        ]\n",
      " [ 1.        ]]\n",
      "error:  [[-0.99975548]\n",
      " [-0.99999842]\n",
      " [ 4.        ]\n",
      " [ 4.        ]]\n",
      "sigmoid:  [[ 0.19663415]\n",
      " [ 0.19661208]\n",
      " [ 0.19661193]\n",
      " [ 0.19661193]]\n",
      "l1_delta:  [[-0.19658607]\n",
      " [-0.19661177]\n",
      " [ 0.78644773]\n",
      " [ 0.78644773]]\n",
      "l1:  [[ 0.99992483]\n",
      " [ 0.99999973]\n",
      " [ 1.        ]\n",
      " [ 1.        ]]\n",
      "error:  [[-0.99992483]\n",
      " [-0.99999973]\n",
      " [ 4.        ]\n",
      " [ 4.        ]]\n",
      "sigmoid:  [[ 0.19661876]\n",
      " [ 0.19661196]\n",
      " [ 0.19661193]\n",
      " [ 0.19661193]]\n",
      "l1_delta:  [[-0.19660398]\n",
      " [-0.1966119 ]\n",
      " [ 0.78644773]\n",
      " [ 0.78644773]]\n",
      "l1:  [[ 0.99997689]\n",
      " [ 0.99999995]\n",
      " [ 1.        ]\n",
      " [ 1.        ]]\n",
      "error:  [[-0.99997689]\n",
      " [-0.99999995]\n",
      " [ 4.        ]\n",
      " [ 4.        ]]\n",
      "sigmoid:  [[ 0.19661403]\n",
      " [ 0.19661194]\n",
      " [ 0.19661193]\n",
      " [ 0.19661193]]\n",
      "l1_delta:  [[-0.19660949]\n",
      " [-0.19661193]\n",
      " [ 0.78644773]\n",
      " [ 0.78644773]]\n",
      "Output After Training:\n",
      "[[ 0.99997689]\n",
      " [ 0.99999995]\n",
      " [ 1.        ]\n",
      " [ 1.        ]]\n"
     ]
    }
   ],
   "source": [
    "\n",
    "#https://iamtrask.github.io/2015/07/12/basic-python-network/\n",
    "\n",
    "import numpy as np\n",
    "\n",
    "# sigmoid function\n",
    "def nonlin(x,deriv=False):\n",
    "    if(deriv==True):\n",
    "        #return x*(1-x)\n",
    "        return (1/(1+np.exp(-x)))*(1-(1/(1+np.exp(-x))))\n",
    "    return 1/(1+np.exp(-x))\n",
    "    \n",
    "# input dataset\n",
    "X = np.array([  [0,0,1],\n",
    "                [0,1,1],\n",
    "                [1,0,1],\n",
    "                [1,1,1] ])\n",
    "    \n",
    "# output dataset            \n",
    "y = np.array([[0,0,1,1]]).T\n",
    "\n",
    "# seed random numbers to make calculation\n",
    "# deterministic (just a good practice)\n",
    "np.random.seed(1)\n",
    "\n",
    "# initialize weights randomly with mean 0\n",
    "syn0 = 2*np.random.random((3,1)) - 1\n",
    "\n",
    "for iter in xrange(10):\n",
    "\n",
    "    # forward propagation\n",
    "    l0 = X\n",
    "    l1 = nonlin(np.dot(l0,syn0))\n",
    "    #print iter\n",
    "    # how much did we miss?\n",
    "    l1_error = y - l1\n",
    "\n",
    "    # multiply how much we missed by the \n",
    "    # slope of the sigmoid at the values in l1\n",
    "    l1_delta = l1_error * nonlin(l1,True)\n",
    "    print 'l1: ', l1\n",
    "    print 'error: ', l1_error\n",
    "    print 'sigmoid: ',nonlin(l1,True)\n",
    "    print 'l1_delta: ', l1_delta\n",
    "    # update weights\n",
    "    syn0 += np.dot(l0.T,l1_delta)\n",
    "\n",
    "print \"Output After Training:\"\n",
    "print l1\n"
   ]
  },
  {
   "cell_type": "code",
   "execution_count": 10,
   "metadata": {
    "collapsed": false
   },
   "outputs": [
    {
     "data": {
      "text/plain": [
       "array([[-0.5910955 ],\n",
       "       [ 0.75623487],\n",
       "       [-0.94522481]])"
      ]
     },
     "execution_count": 10,
     "metadata": {},
     "output_type": "execute_result"
    }
   ],
   "source": [
    "2*np.random.random((3,1))-1"
   ]
  },
  {
   "cell_type": "code",
   "execution_count": 18,
   "metadata": {
    "collapsed": false
   },
   "outputs": [
    {
     "data": {
      "text/plain": [
       "(array([[0],\n",
       "        [0],\n",
       "        [1],\n",
       "        [1]]), ':', array([[ 0.5       ],\n",
       "        [ 0.5       ],\n",
       "        [ 0.73105858],\n",
       "        [ 0.73105858]]))"
      ]
     },
     "execution_count": 18,
     "metadata": {},
     "output_type": "execute_result"
    }
   ],
   "source": [
    "y, ':', nonlin(y)"
   ]
  },
  {
   "cell_type": "code",
   "execution_count": 19,
   "metadata": {
    "collapsed": false
   },
   "outputs": [
    {
     "data": {
      "text/plain": [
       "array([[0],\n",
       "       [0],\n",
       "       [0],\n",
       "       [0]])"
      ]
     },
     "execution_count": 19,
     "metadata": {},
     "output_type": "execute_result"
    }
   ],
   "source": [
    "nonlin(y, True)"
   ]
  },
  {
   "cell_type": "code",
   "execution_count": 20,
   "metadata": {
    "collapsed": false
   },
   "outputs": [
    {
     "data": {
      "text/plain": [
       "array([[ 0.03176745],\n",
       "       [ 0.02575143],\n",
       "       [ 0.97907779],\n",
       "       [ 0.97416005]])"
      ]
     },
     "execution_count": 20,
     "metadata": {},
     "output_type": "execute_result"
    }
   ],
   "source": [
    "nonlin(np.dot(X,syn0))"
   ]
  },
  {
   "cell_type": "code",
   "execution_count": null,
   "metadata": {
    "collapsed": true
   },
   "outputs": [],
   "source": []
  }
 ],
 "metadata": {
  "kernelspec": {
   "display_name": "Python 2",
   "language": "python",
   "name": "python2"
  },
  "language_info": {
   "codemirror_mode": {
    "name": "ipython",
    "version": 2
   },
   "file_extension": ".py",
   "mimetype": "text/x-python",
   "name": "python",
   "nbconvert_exporter": "python",
   "pygments_lexer": "ipython2",
   "version": "2.7.13"
  }
 },
 "nbformat": 4,
 "nbformat_minor": 2
}
