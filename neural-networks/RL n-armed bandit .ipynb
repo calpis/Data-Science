{
 "cells": [
  {
   "cell_type": "markdown",
   "metadata": {},
   "source": [
    "http://outlace.com/rlpart1.html"
   ]
  },
  {
   "cell_type": "code",
   "execution_count": 3,
   "metadata": {
    "collapsed": true
   },
   "outputs": [],
   "source": [
    "import numpy as np\n",
    "from scipy import stats\n",
    "import random\n",
    "import matplotlib.pyplot as plt\n",
    "%matplotlib inline"
   ]
  },
  {
   "cell_type": "code",
   "execution_count": 58,
   "metadata": {
    "collapsed": true
   },
   "outputs": [],
   "source": [
    "#armed bandits\n",
    "n = 10\n",
    "arms = np.random.rand(n)\n",
    "eps=0.2\n"
   ]
  },
  {
   "cell_type": "code",
   "execution_count": 5,
   "metadata": {},
   "outputs": [
    {
     "data": {
      "text/plain": [
       "array([ 0.35803352,  0.17123821,  0.75499325,  0.07901743,  0.24266824,\n",
       "        0.83398918,  0.41605065,  0.8245212 ,  0.38547032,  0.85752985])"
      ]
     },
     "execution_count": 5,
     "metadata": {},
     "output_type": "execute_result"
    }
   ],
   "source": [
    "arms"
   ]
  },
  {
   "cell_type": "code",
   "execution_count": 6,
   "metadata": {
    "collapsed": true
   },
   "outputs": [],
   "source": [
    "def reward(prob): #pretty convoluted way of doing expected dollar output\n",
    "    reward = 0\n",
    "    for i in range(10):\n",
    "        if random.random() < prob:\n",
    "            reward+=1\n",
    "    return reward"
   ]
  },
  {
   "cell_type": "code",
   "execution_count": 41,
   "metadata": {},
   "outputs": [
    {
     "data": {
      "text/plain": [
       "array([[3, 0],\n",
       "       [3, 1],\n",
       "       [3, 2]])"
      ]
     },
     "execution_count": 41,
     "metadata": {},
     "output_type": "execute_result"
    }
   ],
   "source": [
    "av"
   ]
  },
  {
   "cell_type": "code",
   "execution_count": 42,
   "metadata": {},
   "outputs": [
    {
     "name": "stdout",
     "output_type": "stream",
     "text": [
      "[[3 0]\n",
      " [3 1]\n",
      " [3 2]]\n",
      "[[3 0]\n",
      " [3 1]\n",
      " [3 2]]\n",
      "[[3 0]\n",
      " [3 1]\n",
      " [3 2]]\n"
     ]
    }
   ],
   "source": [
    "av\n",
    "a = av\n",
    "for u in a:\n",
    "    print (a[np.where(a[:,0] == u[0])])"
   ]
  },
  {
   "cell_type": "code",
   "execution_count": 45,
   "metadata": {},
   "outputs": [],
   "source": [
    "#greedy method to select best arm based on memory array\n",
    "def bestArm(a):\n",
    "    bestArm, bestMean = 0, 0\n",
    "    for u in a:\n",
    "        avg = np.mean(a[np.where(a[:,0] == u[0])][:,1]) #calc mean reward for each iteration\n",
    "            #u[0] is the most recent slot that has been pulled. we want to find the \n",
    "            #mean reward for choosing that slot from our history array\n",
    "        if bestMean < avg:\n",
    "            bestMean = avg\n",
    "            bestArm = u[0]\n",
    "    return bestArm\n",
    "                      "
   ]
  },
  {
   "cell_type": "code",
   "execution_count": 59,
   "metadata": {},
   "outputs": [
    {
     "name": "stdout",
     "output_type": "stream",
     "text": [
      "initial choice: 8\n"
     ]
    },
    {
     "data": {
      "image/png": "[encoded data removed]",
      "text/plain": [
       "<matplotlib.figure.Figure at 0x1a1b9dcf10>"
      ]
     },
     "metadata": {},
     "output_type": "display_data"
    }
   ],
   "source": [
    "plt.xlabel(\"plays\")\n",
    "plt.ylabel('avg reward')\n",
    "#initialize memory array with 1 row defaulted to random action index\n",
    "av = np.array([np.random.randint(0,(n+1)),0]).reshape(1,2) #av = action value\n",
    "print 'initial choice:', av[0][0]\n",
    "for i in range(200):\n",
    "    if i % 50 == 0:\n",
    "        #print i,\n",
    "        pass\n",
    "    if random.random() > eps: #greedy arm selection\n",
    "        choice = bestArm(av)\n",
    "        thisAV = np.array([[choice, reward(arms[choice])]])\n",
    "        #print thisAV,\n",
    "        av = np.concatenate((av, thisAV), axis=0)\n",
    "    else:\n",
    "        choice = np.where(arms == np.random.choice(arms))[0][0]\n",
    "        thisAV = np.array([[choice, reward(arms[choice])]])\n",
    "        #rint thisAV,\n",
    "        av = np.concatenate((av, thisAV), axis=0)\n",
    "        pass\n",
    "    #calc percentage the correct arm is chosen\n",
    "    percCorret = 100*(len(av[np.where(av[:,0] == np.argmax(arms))])/len(av))\n",
    "    \n",
    "    #calc mean reward\n",
    "    runningMean = np.mean(av[:,1])\n",
    "    plt.scatter(i, runningMean)"
   ]
  },
  {
   "cell_type": "code",
   "execution_count": null,
   "metadata": {
    "collapsed": true
   },
   "outputs": [],
   "source": []
  },
  {
   "cell_type": "code",
   "execution_count": null,
   "metadata": {
    "collapsed": true
   },
   "outputs": [],
   "source": []
  }
 ],
 "metadata": {
  "kernelspec": {
   "display_name": "Python 2",
   "language": "python",
   "name": "python2"
  }
 },
 "nbformat": 4,
 "nbformat_minor": 2
}
