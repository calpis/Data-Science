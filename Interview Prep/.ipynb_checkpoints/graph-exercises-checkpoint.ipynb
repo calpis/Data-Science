{
 "cells": [
  {
   "cell_type": "code",
   "execution_count": 23,
   "metadata": {},
   "outputs": [],
   "source": [
    "from collections import defaultdict\n",
    "from collections import deque\n",
    "import numpy as np\n",
    "import random\n"
   ]
  },
  {
   "cell_type": "code",
   "execution_count": 132,
   "metadata": {},
   "outputs": [
    {
     "name": "stdout",
     "output_type": "stream",
     "text": [
      "0 set([4])\n",
      "1 set([9])\n",
      "2 set([0, 9])\n",
      "3 set([4])\n",
      "4 set([8, 9, 3])\n",
      "5 set([3])\n",
      "6 set([8, 5, 7])\n",
      "7 set([0])\n",
      "8 set([6])\n",
      "9 set([0])\n"
     ]
    }
   ],
   "source": [
    "##create arbitrary graph where there are edges between the key and each value\n",
    "num_nodes = 10\n",
    "dict_graph = {}\n",
    "\n",
    "for i in range(num_nodes):\n",
    "    dict_graph[i] = set(np.random.choice([j for j in range(num_nodes) if i!=j], random.randint(1, num_nodes/3)))\n",
    "for k,v in dict_graph.iteritems():\n",
    "    print k,v\n",
    "    \n",
    "#function to return childnodes\n",
    "def get_children(value):\n",
    "    print 'found children:', dict_graph[value]\n",
    "    return dict_graph[value]\n",
    "\n",
    "#arbitrary condition function which returns true when the right node is selected\n",
    "def cond(value):\n",
    "    if value==0:\n",
    "        return False\n",
    "    if value%7 == 0:\n",
    "        return True\n",
    "    return False"
   ]
  },
  {
   "cell_type": "code",
   "execution_count": 125,
   "metadata": {
    "collapsed": true
   },
   "outputs": [],
   "source": [
    "def bfs(node, cond):\n",
    "    visited = set()\n",
    "    if cond(node):\n",
    "        return node\n",
    "    node_queue = deque(get_children(node))\n",
    "    print node_queue\n",
    "    while node_queue:\n",
    "        n = node_queue.popleft() #FIFO\n",
    "        print 'popped:', n\n",
    "\n",
    "        if n not in visited:\n",
    "            visited.add(n)\n",
    "        else:\n",
    "            print 'found cycle with:', n\n",
    "            continue\n",
    "        if cond(n):\n",
    "            return n\n",
    "        node_queue.extend(get_children(n))\n",
    "        print node_queue"
   ]
  },
  {
   "cell_type": "code",
   "execution_count": 124,
   "metadata": {},
   "outputs": [
    {
     "name": "stdout",
     "output_type": "stream",
     "text": [
      "found children: set([0])\n",
      "deque([0])\n",
      "popped: 0\n",
      "found children: set([9, 2])\n",
      "deque([9, 2])\n",
      "popped: 9\n",
      "found children: set([0, 6])\n",
      "deque([2, 0, 6])\n",
      "popped: 2\n",
      "found children: set([9])\n",
      "deque([0, 6, 9])\n",
      "popped: 0\n",
      "found cycle with: 0\n",
      "popped: 6\n",
      "found children: set([2, 3])\n",
      "deque([9, 2, 3])\n",
      "popped: 9\n",
      "found cycle with: 9\n",
      "popped: 2\n",
      "found cycle with: 2\n",
      "popped: 3\n",
      "found children: set([8, 4, 5])\n",
      "deque([8, 4, 5])\n",
      "popped: 8\n",
      "found children: set([9, 2, 6])\n",
      "deque([4, 5, 9, 2, 6])\n",
      "popped: 4\n",
      "found children: set([0])\n",
      "deque([5, 9, 2, 6, 0])\n",
      "popped: 5\n",
      "found children: set([2, 4, 6])\n",
      "deque([9, 2, 6, 0, 2, 4, 6])\n",
      "popped: 9\n",
      "found cycle with: 9\n",
      "popped: 2\n",
      "found cycle with: 2\n",
      "popped: 6\n",
      "found cycle with: 6\n",
      "popped: 0\n",
      "found cycle with: 0\n",
      "popped: 2\n",
      "found cycle with: 2\n",
      "popped: 4\n",
      "found cycle with: 4\n",
      "popped: 6\n",
      "found cycle with: 6\n"
     ]
    }
   ],
   "source": [
    "bfs(4, cond)"
   ]
  },
  {
   "cell_type": "code",
   "execution_count": 140,
   "metadata": {
    "collapsed": true
   },
   "outputs": [],
   "source": [
    "adjacency_matrix = {1: [2, 3], 2: [4, 5],\n",
    "                    3: [5], 4: [6], 5: [6],\n",
    "                    6: [7], 7: []}\n",
    "#function to return childnodes\n",
    "def get_children(value):\n",
    "    print 'found children:', adjacency_matrix[value]\n",
    "    return adjacency_matrix[value]\n",
    "\n",
    "#arbitrary condition function which returns true when the right node is selected\n",
    "def cond(value):\n",
    "    if value==0:\n",
    "        return False\n",
    "    if value%7 == 0:\n",
    "        print 'found'\n",
    "        return True\n",
    "    return False"
   ]
  },
  {
   "cell_type": "code",
   "execution_count": 144,
   "metadata": {
    "collapsed": true
   },
   "outputs": [],
   "source": [
    "#utilize a stack (which is a list with append, pop. LIFO structure) \n",
    "def dfs(node, cond=None):\n",
    "    stack, visited = [node], {}\n",
    "    while stack:\n",
    "        print 'begin', stack\n",
    "        vert = stack.pop()\n",
    "        print 'visiting', vert\n",
    "        visited[vert] = 1\n",
    "        if cond:\n",
    "            if cond(vert):\n",
    "                return vert\n",
    "        children = get_children(vert)\n",
    "        for child in children:\n",
    "            if child in visited:\n",
    "                continue\n",
    "            stack.append(child)\n",
    "        "
   ]
  },
  {
   "cell_type": "code",
   "execution_count": 145,
   "metadata": {},
   "outputs": [
    {
     "name": "stdout",
     "output_type": "stream",
     "text": [
      "begin [1]\n",
      "visiting 1\n",
      "found children: [2, 3]\n",
      "begin [2, 3]\n",
      "visiting 3\n",
      "found children: [5]\n",
      "begin [2, 5]\n",
      "visiting 5\n",
      "found children: [6]\n",
      "begin [2, 6]\n",
      "visiting 6\n",
      "found children: [7]\n",
      "begin [2, 7]\n",
      "visiting 7\n",
      "found children: []\n",
      "begin [2]\n",
      "visiting 2\n",
      "found children: [4, 5]\n",
      "begin [4]\n",
      "visiting 4\n",
      "found children: [6]\n"
     ]
    }
   ],
   "source": [
    "dfs(1)"
   ]
  },
  {
   "cell_type": "code",
   "execution_count": null,
   "metadata": {
    "collapsed": true
   },
   "outputs": [],
   "source": []
  }
 ],
 "metadata": {
  "kernelspec": {
   "display_name": "Python 2",
   "language": "python",
   "name": "python2"
  },
  "language_info": {
   "codemirror_mode": {
    "name": "ipython",
    "version": 2
   },
   "file_extension": ".py",
   "mimetype": "text/x-python",
   "name": "python",
   "nbconvert_exporter": "python",
   "pygments_lexer": "ipython2",
   "version": "2.7.13"
  }
 },
 "nbformat": 4,
 "nbformat_minor": 2
}
