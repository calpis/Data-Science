{
 "cells": [
  {
   "cell_type": "code",
   "execution_count": 2,
   "metadata": {
    "collapsed": true
   },
   "outputs": [],
   "source": [
    "from collections import defaultdict\n",
    "from collections import deque\n",
    "import numpy as np\n",
    "import random\n"
   ]
  },
  {
   "cell_type": "code",
   "execution_count": 34,
   "metadata": {},
   "outputs": [
    {
     "name": "stdout",
     "output_type": "stream",
     "text": [
      "1 set([2, 4, 5])\n",
      "2 set([9, 4, 6])\n",
      "3 set([10, 7])\n",
      "4 set([7])\n",
      "5 set([1, 2, 6])\n",
      "6 set([9, 2, 4])\n",
      "7 set([1])\n",
      "8 set([1])\n",
      "9 set([2, 3])\n",
      "10 set([1, 2])\n"
     ]
    }
   ],
   "source": [
    "##create arbitrary graph where there are edges between the key and each value\n",
    "num_nodes = 10\n",
    "dict_graph = {}\n",
    "\n",
    "for i in range(1, num_nodes+1):\n",
    "    dict_graph[i] = set(np.random.choice([j for j in range(1, num_nodes+1) if i!=j], random.randint(1, num_nodes/3)))\n",
    "for k,v in dict_graph.iteritems():\n",
    "    print k,v\n",
    "    \n",
    "#function to return childnodes\n",
    "def get_children(value):\n",
    "    return dict_graph[value]\n",
    "\n",
    "#arbitrary condition function which returns true when the right node is selected\n",
    "def cond(value):\n",
    "    if value%7 == 0:\n",
    "        return True\n",
    "    return False"
   ]
  },
  {
   "cell_type": "code",
   "execution_count": 40,
   "metadata": {
    "collapsed": true
   },
   "outputs": [],
   "source": [
    "def bfs(node):\n",
    "    print 'initial node:', node\n",
    "    visited = set()\n",
    "    if cond(node):\n",
    "        return node\n",
    "    node_queue = deque(get_children(node))\n",
    "    while node_queue:\n",
    "        n = node_queue.popleft()\n",
    "        if n in visited:\n",
    "            continue\n",
    "        print 'popped:', n\n",
    "        if n not in visited:\n",
    "            visited.add(n)\n",
    "        node_queue.extend(get_children(n))\n"
   ]
  },
  {
   "cell_type": "code",
   "execution_count": 41,
   "metadata": {},
   "outputs": [
    {
     "name": "stdout",
     "output_type": "stream",
     "text": [
      "initial node: 1\n",
      "popped: 2\n",
      "popped: 3\n",
      "popped: 4\n",
      "popped: 5\n",
      "popped: 6\n",
      "popped: 7\n"
     ]
    }
   ],
   "source": [
    "bfs(1)"
   ]
  },
  {
   "cell_type": "code",
   "execution_count": 39,
   "metadata": {
    "collapsed": true
   },
   "outputs": [],
   "source": [
    "adjacency_matrix = {1: [2, 3], 2: [4, 5],\n",
    "                    3: [5], 4: [6], 5: [6],\n",
    "                    6: [7], 7: []}\n",
    "#function to return childnodes\n",
    "def get_children(value):\n",
    "    return adjacency_matrix[value]\n",
    "\n",
    "#arbitrary condition function which returns true when the right node is selected\n",
    "def cond(value):\n",
    "    if value==0:\n",
    "        return False\n",
    "    if value%7 == 0:\n",
    "        print 'found'\n",
    "        return True\n",
    "    return False"
   ]
  },
  {
   "cell_type": "code",
   "execution_count": 42,
   "metadata": {
    "collapsed": true
   },
   "outputs": [],
   "source": [
    "#utilize a stack (which is a list with append, pop. LIFO structure) \n",
    "def dfs(node, cond=None):\n",
    "    stack, visited = [node], {}\n",
    "    while stack:\n",
    "        vert = stack.pop()\n",
    "        print 'visiting', vert\n",
    "        visited[vert] = 1\n",
    "        if cond:\n",
    "            if cond(vert):\n",
    "                return vert\n",
    "        children = get_children(vert)\n",
    "        for child in children:\n",
    "            if child in visited:\n",
    "                continue\n",
    "            stack.append(child)\n",
    "        "
   ]
  },
  {
   "cell_type": "code",
   "execution_count": 43,
   "metadata": {},
   "outputs": [
    {
     "name": "stdout",
     "output_type": "stream",
     "text": [
      "visiting 1\n",
      "visiting 3\n",
      "visiting 5\n",
      "visiting 6\n",
      "visiting 7\n",
      "visiting 2\n",
      "visiting 4\n"
     ]
    }
   ],
   "source": [
    "dfs(1)"
   ]
  },
  {
   "cell_type": "code",
   "execution_count": null,
   "metadata": {
    "collapsed": true
   },
   "outputs": [],
   "source": []
  }
 ],
 "metadata": {
  "kernelspec": {
   "display_name": "Python 2",
   "language": "python",
   "name": "python2"
  },
  "language_info": {
   "codemirror_mode": {
    "name": "ipython",
    "version": 2
   },
   "file_extension": ".py",
   "mimetype": "text/x-python",
   "name": "python",
   "nbconvert_exporter": "python",
   "pygments_lexer": "ipython2",
   "version": "2.7.13"
  }
 },
 "nbformat": 4,
 "nbformat_minor": 2
}
