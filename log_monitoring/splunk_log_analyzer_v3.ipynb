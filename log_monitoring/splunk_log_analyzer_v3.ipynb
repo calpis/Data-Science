{
 "cells": [
  {
   "cell_type": "code",
   "execution_count": 2,
   "metadata": {},
   "outputs": [
    {
     "name": "stdout",
     "output_type": "stream",
     "text": [
      "Importing Jupyter notebook from functions.ipynb\n"
     ]
    }
   ],
   "source": [
    "import nbimporter\n",
    "import functions\n",
    "reload(functions)\n",
    "import pandas as pd\n",
    "from sklearn.cluster import KMeans, MiniBatchKMeans\n",
    "from sklearn.feature_extraction.text import TfidfVectorizer\n",
    "from collections import OrderedDict\n",
    "import numpy as np\n",
    "import itertools\n",
    "#viz\n",
    "from datetime import date\n",
    "from random import randint\n",
    "import math\n",
    "\n",
    "from bokeh.models import ColumnDataSource\n",
    "from bokeh.models.widgets import DataTable, DateFormatter, TableColumn\n",
    "from bokeh.io import output_file, show\n",
    "\n",
    "from sklearn import ensemble\n",
    "from sklearn.metrics.pairwise import linear_kernel\n",
    "from dateutil import parser\n",
    "\n",
    "from statsmodels.tsa.arima_model import ARIMA\n",
    "from statsmodels.tsa.stattools import arma_order_select_ic\n",
    "from matplotlib import pyplot\n",
    "\n",
    "#from bokeh.io import vform"
   ]
  },
  {
   "cell_type": "code",
   "execution_count": 3,
   "metadata": {
    "collapsed": true
   },
   "outputs": [],
   "source": [
    "import splunklib.client as client\n",
    "import httplib\n",
    "import urllib\n",
    "from xml.etree import ElementTree\n",
    "import ssl"
   ]
  },
  {
   "cell_type": "code",
   "execution_count": 4,
   "metadata": {
    "collapsed": true
   },
   "outputs": [],
   "source": [
    "from splunklib.binding import HTTPError\n",
    "import splunklib.client as client\n"
   ]
  },
  {
   "cell_type": "code",
   "execution_count": 5,
   "metadata": {
    "scrolled": true
   },
   "outputs": [
    {
     "name": "stdout",
     "output_type": "stream",
     "text": [
      "connecting\n",
      "closing\n",
      "closed\n"
     ]
    },
    {
     "ename": "gaierror",
     "evalue": "[Errno 8] nodename nor servname provided, or not known",
     "output_type": "error",
     "traceback": [
      "\u001b[0;31m---------------------------------------------------------------------------\u001b[0m",
      "\u001b[0;31mgaierror\u001b[0m                                  Traceback (most recent call last)",
      "\u001b[0;32m<ipython-input-5-9391f45177c4>\u001b[0m in \u001b[0;36m<module>\u001b[0;34m()\u001b[0m\n\u001b[1;32m     18\u001b[0m \u001b[0;34m\u001b[0m\u001b[0m\n\u001b[1;32m     19\u001b[0m \u001b[0;32mtry\u001b[0m\u001b[0;34m:\u001b[0m\u001b[0;34m\u001b[0m\u001b[0m\n\u001b[0;32m---> 20\u001b[0;31m     \u001b[0mconnection\u001b[0m\u001b[0;34m.\u001b[0m\u001b[0mrequest\u001b[0m\u001b[0;34m(\u001b[0m\u001b[0;34m\"POST\"\u001b[0m\u001b[0;34m,\u001b[0m \u001b[0;34m\"/services/auth/login\"\u001b[0m\u001b[0;34m,\u001b[0m \u001b[0mbody\u001b[0m\u001b[0;34m,\u001b[0m \u001b[0mheaders\u001b[0m\u001b[0;34m)\u001b[0m\u001b[0;34m\u001b[0m\u001b[0m\n\u001b[0m\u001b[1;32m     21\u001b[0m     \u001b[0;32mprint\u001b[0m \u001b[0;34m'here'\u001b[0m\u001b[0;34m\u001b[0m\u001b[0m\n\u001b[1;32m     22\u001b[0m     \u001b[0mresponse\u001b[0m \u001b[0;34m=\u001b[0m \u001b[0mconnection\u001b[0m\u001b[0;34m.\u001b[0m\u001b[0mgetresponse\u001b[0m\u001b[0;34m(\u001b[0m\u001b[0;34m)\u001b[0m\u001b[0;34m\u001b[0m\u001b[0m\n",
      "\u001b[0;32m/Users/momori/anaconda2/lib/python2.7/httplib.pyc\u001b[0m in \u001b[0;36mrequest\u001b[0;34m(self, method, url, body, headers)\u001b[0m\n\u001b[1;32m   1040\u001b[0m     \u001b[0;32mdef\u001b[0m \u001b[0mrequest\u001b[0m\u001b[0;34m(\u001b[0m\u001b[0mself\u001b[0m\u001b[0;34m,\u001b[0m \u001b[0mmethod\u001b[0m\u001b[0;34m,\u001b[0m \u001b[0murl\u001b[0m\u001b[0;34m,\u001b[0m \u001b[0mbody\u001b[0m\u001b[0;34m=\u001b[0m\u001b[0mNone\u001b[0m\u001b[0;34m,\u001b[0m \u001b[0mheaders\u001b[0m\u001b[0;34m=\u001b[0m\u001b[0;34m{\u001b[0m\u001b[0;34m}\u001b[0m\u001b[0;34m)\u001b[0m\u001b[0;34m:\u001b[0m\u001b[0;34m\u001b[0m\u001b[0m\n\u001b[1;32m   1041\u001b[0m         \u001b[0;34m\"\"\"Send a complete request to the server.\"\"\"\u001b[0m\u001b[0;34m\u001b[0m\u001b[0m\n\u001b[0;32m-> 1042\u001b[0;31m         \u001b[0mself\u001b[0m\u001b[0;34m.\u001b[0m\u001b[0m_send_request\u001b[0m\u001b[0;34m(\u001b[0m\u001b[0mmethod\u001b[0m\u001b[0;34m,\u001b[0m \u001b[0murl\u001b[0m\u001b[0;34m,\u001b[0m \u001b[0mbody\u001b[0m\u001b[0;34m,\u001b[0m \u001b[0mheaders\u001b[0m\u001b[0;34m)\u001b[0m\u001b[0;34m\u001b[0m\u001b[0m\n\u001b[0m\u001b[1;32m   1043\u001b[0m \u001b[0;34m\u001b[0m\u001b[0m\n\u001b[1;32m   1044\u001b[0m     \u001b[0;32mdef\u001b[0m \u001b[0m_set_content_length\u001b[0m\u001b[0;34m(\u001b[0m\u001b[0mself\u001b[0m\u001b[0;34m,\u001b[0m \u001b[0mbody\u001b[0m\u001b[0;34m,\u001b[0m \u001b[0mmethod\u001b[0m\u001b[0;34m)\u001b[0m\u001b[0;34m:\u001b[0m\u001b[0;34m\u001b[0m\u001b[0m\n",
      "\u001b[0;32m/Users/momori/anaconda2/lib/python2.7/httplib.pyc\u001b[0m in \u001b[0;36m_send_request\u001b[0;34m(self, method, url, body, headers)\u001b[0m\n\u001b[1;32m   1080\u001b[0m         \u001b[0;32mfor\u001b[0m \u001b[0mhdr\u001b[0m\u001b[0;34m,\u001b[0m \u001b[0mvalue\u001b[0m \u001b[0;32min\u001b[0m \u001b[0mheaders\u001b[0m\u001b[0;34m.\u001b[0m\u001b[0miteritems\u001b[0m\u001b[0;34m(\u001b[0m\u001b[0;34m)\u001b[0m\u001b[0;34m:\u001b[0m\u001b[0;34m\u001b[0m\u001b[0m\n\u001b[1;32m   1081\u001b[0m             \u001b[0mself\u001b[0m\u001b[0;34m.\u001b[0m\u001b[0mputheader\u001b[0m\u001b[0;34m(\u001b[0m\u001b[0mhdr\u001b[0m\u001b[0;34m,\u001b[0m \u001b[0mvalue\u001b[0m\u001b[0;34m)\u001b[0m\u001b[0;34m\u001b[0m\u001b[0m\n\u001b[0;32m-> 1082\u001b[0;31m         \u001b[0mself\u001b[0m\u001b[0;34m.\u001b[0m\u001b[0mendheaders\u001b[0m\u001b[0;34m(\u001b[0m\u001b[0mbody\u001b[0m\u001b[0;34m)\u001b[0m\u001b[0;34m\u001b[0m\u001b[0m\n\u001b[0m\u001b[1;32m   1083\u001b[0m \u001b[0;34m\u001b[0m\u001b[0m\n\u001b[1;32m   1084\u001b[0m     \u001b[0;32mdef\u001b[0m \u001b[0mgetresponse\u001b[0m\u001b[0;34m(\u001b[0m\u001b[0mself\u001b[0m\u001b[0;34m,\u001b[0m \u001b[0mbuffering\u001b[0m\u001b[0;34m=\u001b[0m\u001b[0mFalse\u001b[0m\u001b[0;34m)\u001b[0m\u001b[0;34m:\u001b[0m\u001b[0;34m\u001b[0m\u001b[0m\n",
      "\u001b[0;32m/Users/momori/anaconda2/lib/python2.7/httplib.pyc\u001b[0m in \u001b[0;36mendheaders\u001b[0;34m(self, message_body)\u001b[0m\n\u001b[1;32m   1036\u001b[0m         \u001b[0;32melse\u001b[0m\u001b[0;34m:\u001b[0m\u001b[0;34m\u001b[0m\u001b[0m\n\u001b[1;32m   1037\u001b[0m             \u001b[0;32mraise\u001b[0m \u001b[0mCannotSendHeader\u001b[0m\u001b[0;34m(\u001b[0m\u001b[0;34m)\u001b[0m\u001b[0;34m\u001b[0m\u001b[0m\n\u001b[0;32m-> 1038\u001b[0;31m         \u001b[0mself\u001b[0m\u001b[0;34m.\u001b[0m\u001b[0m_send_output\u001b[0m\u001b[0;34m(\u001b[0m\u001b[0mmessage_body\u001b[0m\u001b[0;34m)\u001b[0m\u001b[0;34m\u001b[0m\u001b[0m\n\u001b[0m\u001b[1;32m   1039\u001b[0m \u001b[0;34m\u001b[0m\u001b[0m\n\u001b[1;32m   1040\u001b[0m     \u001b[0;32mdef\u001b[0m \u001b[0mrequest\u001b[0m\u001b[0;34m(\u001b[0m\u001b[0mself\u001b[0m\u001b[0;34m,\u001b[0m \u001b[0mmethod\u001b[0m\u001b[0;34m,\u001b[0m \u001b[0murl\u001b[0m\u001b[0;34m,\u001b[0m \u001b[0mbody\u001b[0m\u001b[0;34m=\u001b[0m\u001b[0mNone\u001b[0m\u001b[0;34m,\u001b[0m \u001b[0mheaders\u001b[0m\u001b[0;34m=\u001b[0m\u001b[0;34m{\u001b[0m\u001b[0;34m}\u001b[0m\u001b[0;34m)\u001b[0m\u001b[0;34m:\u001b[0m\u001b[0;34m\u001b[0m\u001b[0m\n",
      "\u001b[0;32m/Users/momori/anaconda2/lib/python2.7/httplib.pyc\u001b[0m in \u001b[0;36m_send_output\u001b[0;34m(self, message_body)\u001b[0m\n\u001b[1;32m    880\u001b[0m             \u001b[0mmsg\u001b[0m \u001b[0;34m+=\u001b[0m \u001b[0mmessage_body\u001b[0m\u001b[0;34m\u001b[0m\u001b[0m\n\u001b[1;32m    881\u001b[0m             \u001b[0mmessage_body\u001b[0m \u001b[0;34m=\u001b[0m \u001b[0mNone\u001b[0m\u001b[0;34m\u001b[0m\u001b[0m\n\u001b[0;32m--> 882\u001b[0;31m         \u001b[0mself\u001b[0m\u001b[0;34m.\u001b[0m\u001b[0msend\u001b[0m\u001b[0;34m(\u001b[0m\u001b[0mmsg\u001b[0m\u001b[0;34m)\u001b[0m\u001b[0;34m\u001b[0m\u001b[0m\n\u001b[0m\u001b[1;32m    883\u001b[0m         \u001b[0;32mif\u001b[0m \u001b[0mmessage_body\u001b[0m \u001b[0;32mis\u001b[0m \u001b[0;32mnot\u001b[0m \u001b[0mNone\u001b[0m\u001b[0;34m:\u001b[0m\u001b[0;34m\u001b[0m\u001b[0m\n\u001b[1;32m    884\u001b[0m             \u001b[0;31m#message_body was not a string (i.e. it is a file) and\u001b[0m\u001b[0;34m\u001b[0m\u001b[0;34m\u001b[0m\u001b[0m\n",
      "\u001b[0;32m/Users/momori/anaconda2/lib/python2.7/httplib.pyc\u001b[0m in \u001b[0;36msend\u001b[0;34m(self, data)\u001b[0m\n\u001b[1;32m    842\u001b[0m         \u001b[0;32mif\u001b[0m \u001b[0mself\u001b[0m\u001b[0;34m.\u001b[0m\u001b[0msock\u001b[0m \u001b[0;32mis\u001b[0m \u001b[0mNone\u001b[0m\u001b[0;34m:\u001b[0m\u001b[0;34m\u001b[0m\u001b[0m\n\u001b[1;32m    843\u001b[0m             \u001b[0;32mif\u001b[0m \u001b[0mself\u001b[0m\u001b[0;34m.\u001b[0m\u001b[0mauto_open\u001b[0m\u001b[0;34m:\u001b[0m\u001b[0;34m\u001b[0m\u001b[0m\n\u001b[0;32m--> 844\u001b[0;31m                 \u001b[0mself\u001b[0m\u001b[0;34m.\u001b[0m\u001b[0mconnect\u001b[0m\u001b[0;34m(\u001b[0m\u001b[0;34m)\u001b[0m\u001b[0;34m\u001b[0m\u001b[0m\n\u001b[0m\u001b[1;32m    845\u001b[0m             \u001b[0;32melse\u001b[0m\u001b[0;34m:\u001b[0m\u001b[0;34m\u001b[0m\u001b[0m\n\u001b[1;32m    846\u001b[0m                 \u001b[0;32mraise\u001b[0m \u001b[0mNotConnected\u001b[0m\u001b[0;34m(\u001b[0m\u001b[0;34m)\u001b[0m\u001b[0;34m\u001b[0m\u001b[0m\n",
      "\u001b[0;32m/Users/momori/anaconda2/lib/python2.7/httplib.pyc\u001b[0m in \u001b[0;36mconnect\u001b[0;34m(self)\u001b[0m\n\u001b[1;32m   1253\u001b[0m             \u001b[0;34m\"Connect to a host on a given (SSL) port.\"\u001b[0m\u001b[0;34m\u001b[0m\u001b[0m\n\u001b[1;32m   1254\u001b[0m \u001b[0;34m\u001b[0m\u001b[0m\n\u001b[0;32m-> 1255\u001b[0;31m             \u001b[0mHTTPConnection\u001b[0m\u001b[0;34m.\u001b[0m\u001b[0mconnect\u001b[0m\u001b[0;34m(\u001b[0m\u001b[0mself\u001b[0m\u001b[0;34m)\u001b[0m\u001b[0;34m\u001b[0m\u001b[0m\n\u001b[0m\u001b[1;32m   1256\u001b[0m \u001b[0;34m\u001b[0m\u001b[0m\n\u001b[1;32m   1257\u001b[0m             \u001b[0;32mif\u001b[0m \u001b[0mself\u001b[0m\u001b[0;34m.\u001b[0m\u001b[0m_tunnel_host\u001b[0m\u001b[0;34m:\u001b[0m\u001b[0;34m\u001b[0m\u001b[0m\n",
      "\u001b[0;32m/Users/momori/anaconda2/lib/python2.7/httplib.pyc\u001b[0m in \u001b[0;36mconnect\u001b[0;34m(self)\u001b[0m\n\u001b[1;32m    819\u001b[0m         \u001b[0;34m\"\"\"Connect to the host and port specified in __init__.\"\"\"\u001b[0m\u001b[0;34m\u001b[0m\u001b[0m\n\u001b[1;32m    820\u001b[0m         self.sock = self._create_connection((self.host,self.port),\n\u001b[0;32m--> 821\u001b[0;31m                                            self.timeout, self.source_address)\n\u001b[0m\u001b[1;32m    822\u001b[0m \u001b[0;34m\u001b[0m\u001b[0m\n\u001b[1;32m    823\u001b[0m         \u001b[0;32mif\u001b[0m \u001b[0mself\u001b[0m\u001b[0;34m.\u001b[0m\u001b[0m_tunnel_host\u001b[0m\u001b[0;34m:\u001b[0m\u001b[0;34m\u001b[0m\u001b[0m\n",
      "\u001b[0;32m/Users/momori/anaconda2/lib/python2.7/socket.pyc\u001b[0m in \u001b[0;36mcreate_connection\u001b[0;34m(address, timeout, source_address)\u001b[0m\n\u001b[1;32m    555\u001b[0m     \u001b[0mhost\u001b[0m\u001b[0;34m,\u001b[0m \u001b[0mport\u001b[0m \u001b[0;34m=\u001b[0m \u001b[0maddress\u001b[0m\u001b[0;34m\u001b[0m\u001b[0m\n\u001b[1;32m    556\u001b[0m     \u001b[0merr\u001b[0m \u001b[0;34m=\u001b[0m \u001b[0mNone\u001b[0m\u001b[0;34m\u001b[0m\u001b[0m\n\u001b[0;32m--> 557\u001b[0;31m     \u001b[0;32mfor\u001b[0m \u001b[0mres\u001b[0m \u001b[0;32min\u001b[0m \u001b[0mgetaddrinfo\u001b[0m\u001b[0;34m(\u001b[0m\u001b[0mhost\u001b[0m\u001b[0;34m,\u001b[0m \u001b[0mport\u001b[0m\u001b[0;34m,\u001b[0m \u001b[0;36m0\u001b[0m\u001b[0;34m,\u001b[0m \u001b[0mSOCK_STREAM\u001b[0m\u001b[0;34m)\u001b[0m\u001b[0;34m:\u001b[0m\u001b[0;34m\u001b[0m\u001b[0m\n\u001b[0m\u001b[1;32m    558\u001b[0m         \u001b[0maf\u001b[0m\u001b[0;34m,\u001b[0m \u001b[0msocktype\u001b[0m\u001b[0;34m,\u001b[0m \u001b[0mproto\u001b[0m\u001b[0;34m,\u001b[0m \u001b[0mcanonname\u001b[0m\u001b[0;34m,\u001b[0m \u001b[0msa\u001b[0m \u001b[0;34m=\u001b[0m \u001b[0mres\u001b[0m\u001b[0;34m\u001b[0m\u001b[0m\n\u001b[1;32m    559\u001b[0m         \u001b[0msock\u001b[0m \u001b[0;34m=\u001b[0m \u001b[0mNone\u001b[0m\u001b[0;34m\u001b[0m\u001b[0m\n",
      "\u001b[0;31mgaierror\u001b[0m: [Errno 8] nodename nor servname provided, or not known"
     ]
    }
   ],
   "source": [
    "HOST = \"oprdebshe300.corp.intuit.net\"\n",
    "PORT = 8089\n",
    "USERNAME = \"ebs_rest\"\n",
    "PASSWORD = \"ebs_rest\"\n",
    "\n",
    "# Present credentials to Splunk and retrieve the session key\n",
    "connection = httplib.HTTPSConnection(HOST, PORT,context=ssl._create_unverified_context())\n",
    "body = urllib.urlencode({'username': USERNAME, 'password': PASSWORD})\n",
    "headers = { \n",
    "    'Content-Type': \"application/x-www-form-urlencoded\", \n",
    "    'Content-Length': str(len(body)),\n",
    "    'Host': HOST,\n",
    "    'User-Agent': \"a.py/1.0\",\n",
    "    'Accept': \"*/*\"\n",
    "}\n",
    "\n",
    "print 'connecting'\n",
    "\n",
    "try:\n",
    "    connection.request(\"POST\", \"/services/auth/login\", body, headers)\n",
    "    print 'here'\n",
    "    response = connection.getresponse()\n",
    "finally:\n",
    "    print 'closing'\n",
    "    connection.close()\n",
    "    print 'closed'\n",
    "if response.status != 200:\n",
    "    raise Exception, \"%d (%s)\" % (response.status, response.reason)\n",
    "print 'reading'\n",
    "body = response.read()\n",
    "print 'read'\n",
    "#sessionKey = ElementTree.XML(body).findtext(\"./sessionKey\")\n"
   ]
  },
  {
   "cell_type": "code",
   "execution_count": null,
   "metadata": {},
   "outputs": [],
   "source": [
    "import splunklib.results as results\n",
    "import splunklib.client as client\n",
    "\n",
    "service = client.Service(host=HOST, port=PORT, username=USERNAME, password=PASSWORD)\n",
    "service.login()\n",
    "# Run a one-shot search and display the results using the results reader\n",
    "\n",
    "# Set the parameters for the search:\n",
    "# - Search everything in a 24-hour time range starting June 19, 12:00pm\n",
    "# - Display the first 10 results\n",
    "kwargs_oneshot = {\"earliest_time\": \"2017-06-19T12:00:00.000-07:00\",\n",
    "                  \"latest_time\": \"2017-06-19T12:02:00.000-07:00\"}\n",
    "searchquery_oneshot = \"search * | head 10\"\n",
    "\n",
    "oneshotsearch_results = service.jobs.oneshot(searchquery_oneshot, **kwargs_oneshot)\n",
    "\n",
    "# Get the results and display them using the ResultsReader\n",
    "reader = results.ResultsReader(oneshotsearch_results)\n",
    "for item in reader:\n",
    "    print(item)"
   ]
  },
  {
   "cell_type": "code",
   "execution_count": 17,
   "metadata": {
    "collapsed": true
   },
   "outputs": [],
   "source": [
    "##variables\n",
    "look_back = 1"
   ]
  },
  {
   "cell_type": "code",
   "execution_count": 7,
   "metadata": {},
   "outputs": [
    {
     "data": {
      "text/plain": [
       "'test1'"
      ]
     },
     "execution_count": 7,
     "metadata": {},
     "output_type": "execute_result"
    }
   ],
   "source": [
    "functions.test()"
   ]
  },
  {
   "cell_type": "code",
   "execution_count": 8,
   "metadata": {},
   "outputs": [
    {
     "data": {
      "text/html": [
       "<div>\n",
       "<style>\n",
       "    .dataframe thead tr:only-child th {\n",
       "        text-align: right;\n",
       "    }\n",
       "\n",
       "    .dataframe thead th {\n",
       "        text-align: left;\n",
       "    }\n",
       "\n",
       "    .dataframe tbody tr th {\n",
       "        vertical-align: top;\n",
       "    }\n",
       "</style>\n",
       "<table border=\"1\" class=\"dataframe\">\n",
       "  <thead>\n",
       "    <tr style=\"text-align: right;\">\n",
       "      <th></th>\n",
       "      <th>Unnamed: 0</th>\n",
       "      <th>_time</th>\n",
       "      <th>_raw</th>\n",
       "    </tr>\n",
       "  </thead>\n",
       "  <tbody>\n",
       "    <tr>\n",
       "      <th>0</th>\n",
       "      <td>0</td>\n",
       "      <td>2017-08-14 02:59:24.194 PDT</td>\n",
       "      <td>ERROR 2017-08-14 02:59:24,194 [[commerce-order...</td>\n",
       "    </tr>\n",
       "    <tr>\n",
       "      <th>1</th>\n",
       "      <td>1</td>\n",
       "      <td>2017-08-14 02:53:20.465 PDT</td>\n",
       "      <td>ERROR 2017-08-14 02:53:20,465 [[commerce-order...</td>\n",
       "    </tr>\n",
       "    <tr>\n",
       "      <th>2</th>\n",
       "      <td>2</td>\n",
       "      <td>2017-08-14 02:52:40.441 PDT</td>\n",
       "      <td>ERROR 2017-08-14 02:52:40,441 [[commerce-order...</td>\n",
       "    </tr>\n",
       "    <tr>\n",
       "      <th>3</th>\n",
       "      <td>3</td>\n",
       "      <td>2017-08-14 02:52:06.904 PDT</td>\n",
       "      <td>ERROR 2017-08-14 02:52:06,904 [[commerce-order...</td>\n",
       "    </tr>\n",
       "    <tr>\n",
       "      <th>4</th>\n",
       "      <td>4</td>\n",
       "      <td>2017-08-14 02:46:45.124 PDT</td>\n",
       "      <td>ERROR 2017-08-14 02:46:45,124 [[commerce-entit...</td>\n",
       "    </tr>\n",
       "  </tbody>\n",
       "</table>\n",
       "</div>"
      ],
      "text/plain": [
       "   Unnamed: 0                        _time  \\\n",
       "0           0  2017-08-14 02:59:24.194 PDT   \n",
       "1           1  2017-08-14 02:53:20.465 PDT   \n",
       "2           2  2017-08-14 02:52:40.441 PDT   \n",
       "3           3  2017-08-14 02:52:06.904 PDT   \n",
       "4           4  2017-08-14 02:46:45.124 PDT   \n",
       "\n",
       "                                                _raw  \n",
       "0  ERROR 2017-08-14 02:59:24,194 [[commerce-order...  \n",
       "1  ERROR 2017-08-14 02:53:20,465 [[commerce-order...  \n",
       "2  ERROR 2017-08-14 02:52:40,441 [[commerce-order...  \n",
       "3  ERROR 2017-08-14 02:52:06,904 [[commerce-order...  \n",
       "4  ERROR 2017-08-14 02:46:45,124 [[commerce-entit...  "
      ]
     },
     "execution_count": 8,
     "metadata": {},
     "output_type": "execute_result"
    }
   ],
   "source": [
    "new_file = 'new_logs'\n",
    "\n",
    "df_new = pd.read_csv(new_file)\n",
    "df_new.head()"
   ]
  },
  {
   "cell_type": "code",
   "execution_count": 9,
   "metadata": {},
   "outputs": [
    {
     "name": "stderr",
     "output_type": "stream",
     "text": [
      "/Users/momori/anaconda2/lib/python2.7/site-packages/IPython/core/interactiveshell.py:2717: DtypeWarning: Columns (0,1,2,4,5,6,7,8,10,11,12,13,14,15,18,19,20,21,22,23,25,26,28,29,30,31,33,34,36,38,40,41,42,45,46,48,49,50,52,53,54,55,56,57,59,60,63,64,65,68,69,70,72,73,74,75,76,77,79,80,81,82,83,87,89,90,91,100,101,102,105,107,108,109,110,111,112,114,115,116,117,119,122,123,124,126,127,128,129,130,131,133,135,136,137,139,142,143,144,145,146,148,149,150,154,155,156,158,159,160,161,169,171,172,173,174,175,176,177,178,179,181,183,184,185,186,194,196,198,200,201,202,204,209,214,217,218,219,220,224,225,227,229,230,231,232,233,234,235,238,242,243) have mixed types. Specify dtype option on import or set low_memory=False.\n",
      "  interactivity=interactivity, compiler=compiler, result=result)\n"
     ]
    }
   ],
   "source": [
    "log_file = '/Users/momori/Documents/projects/log_monitoring/muleprep_app_ERROR.csv'\n",
    "log_file1 = '/Users/momori/Documents/projects/log_monitoring/muleprod_app_aug_7.csv'\n",
    "log_file2 = '/Users/momori/Documents/projects/log_monitoring/muleprod_app_aug_1.csv'\n",
    "log_file3 = '/Users/momori/Documents/projects/log_monitoring/muleprep_app_ERROR.csv'\n",
    "log_file4 = '/Users/momori/Documents/projects/log_monitoring/muleprep_app_ERROR.csv'\n",
    "\n",
    "\n",
    "\n",
    "df_test = pd.read_csv(log_file)\n",
    "df_train1 = pd.read_csv(log_file)#1)\n",
    "df_train2 = pd.read_csv(log_file)#2)"
   ]
  },
  {
   "cell_type": "code",
   "execution_count": 10,
   "metadata": {
    "collapsed": true
   },
   "outputs": [],
   "source": [
    "train_df = [df_train1, df_train2]\n",
    "train_df = [df_new]"
   ]
  },
  {
   "cell_type": "markdown",
   "metadata": {},
   "source": [
    "## Functions"
   ]
  },
  {
   "cell_type": "code",
   "execution_count": 11,
   "metadata": {
    "collapsed": true
   },
   "outputs": [],
   "source": [
    "##km: clustering model\n",
    "##vecetorizer: document vectorizer\n",
    "##document: document to cluster\n",
    "def predict_document_cluster(km, vectorizer, document):\n",
    "    doc = vectorizer.transform([document])\n",
    "    return km.predict(doc)\n",
    "\n",
    "def format_df(df):\n",
    "    r_df = df.dropna(axis=1)\n",
    "    r_df.loc[:,'_time'] = r_df['_time'].apply(lambda x: format_time(x))\n",
    "    return r_df\n",
    "\n",
    "def format_time(string):\n",
    "    ##may need smarter logic. seems slow\n",
    "    return parser.parse(string)\n",
    "\n",
    "##step_time in minutes\n",
    "##\n",
    "## returns: dict. key is timestamp, value is dataframe\n",
    "def split_by_time(df, step_time=30):\n",
    "    r_dict = {}\n",
    "    t=str(step_time)+'Min'\n",
    "    \n",
    "    #set _time to index\n",
    "    tmp = df.set_index(1)\n",
    "    tmp = tmp.groupby(pd.TimeGrouper(freq=t))\n",
    "    for key, item in tmp:\n",
    "        try:\n",
    "            r_dict[str(key)] = tmp.get_group(key)\n",
    "        except:\n",
    "            r_dict[str(key)] = None\n",
    "    return r_dict\n",
    "        \n",
    "def show_top_words(km, vect, show=False, save=True, out_filename='output'):\n",
    "    dcluster_words = {}\n",
    "    if show:\n",
    "        print(\"Top terms per cluster:\")\n",
    "\n",
    "    order_centroids = km.cluster_centers_.argsort()[:, ::-1]\n",
    "\n",
    "    terms = vect.get_feature_names()\n",
    "    for i in range(k):\n",
    "        if show:\n",
    "            print(\"Cluster %d:\" % i)\n",
    "            for ind in order_centroids[i, :10]:\n",
    "                print(' %s' % terms[ind])\n",
    "        if save:\n",
    "            words = []\n",
    "            for ind in order_centroids[i, :10]:\n",
    "                words.append(terms[ind])\n",
    "            dcluster_words[i] = words\n",
    "    if save:\n",
    "        np.save(out_filename, dcluster_words)\n"
   ]
  },
  {
   "cell_type": "code",
   "execution_count": 12,
   "metadata": {
    "collapsed": true
   },
   "outputs": [],
   "source": [
    "# d = np.load('output.npy').item()\n",
    "# for k,v1 in d.iteritems():\n",
    "#     print k,v1"
   ]
  },
  {
   "cell_type": "code",
   "execution_count": 13,
   "metadata": {
    "collapsed": true
   },
   "outputs": [],
   "source": [
    "llogs_train = []\n",
    "llogs_train.append(df_new['_raw'].tolist())"
   ]
  },
  {
   "cell_type": "code",
   "execution_count": 16,
   "metadata": {},
   "outputs": [
    {
     "data": {
      "text/plain": [
       "1"
      ]
     },
     "execution_count": 16,
     "metadata": {},
     "output_type": "execute_result"
    }
   ],
   "source": [
    "len(train_df)"
   ]
  },
  {
   "cell_type": "code",
   "execution_count": 18,
   "metadata": {},
   "outputs": [],
   "source": [
    "llogs_train = []\n",
    "for i in range(look_back):\n",
    "    llogs_train.append(train_df[i]['_raw'].tolist())\n",
    "logs_test = df_test['_raw'].tolist()\n",
    "\n",
    "\n",
    "#logs_train1 = df_train1['_raw'].tolist()\n",
    "#logs_train2 = df_train2['_raw'].tolist()\n",
    "#logs_test = df_test['_raw'].tolist()"
   ]
  },
  {
   "cell_type": "code",
   "execution_count": 19,
   "metadata": {},
   "outputs": [
    {
     "data": {
      "text/plain": [
       "[1, 2, 3, 4]"
      ]
     },
     "execution_count": 19,
     "metadata": {},
     "output_type": "execute_result"
    }
   ],
   "source": [
    "m = [[1,2],[3,4]]\n",
    "list(itertools.chain(*m))"
   ]
  },
  {
   "cell_type": "code",
   "execution_count": 38,
   "metadata": {
    "collapsed": true
   },
   "outputs": [],
   "source": [
    "##Fit a vectorizer\n",
    "vect = TfidfVectorizer(max_df = 0.5, min_df = 2, stop_words='english')\n",
    "\n",
    "#v is base vectorizer, can be used to transform other logs.\n",
    "v = vect.fit(list(itertools.chain(*llogs_train)))\n",
    "\n",
    "#x is the tfidf sparse matrix created for this set of logs\n",
    "l_vectors = []\n",
    "for i in range(min(look_back, len(llogs_train))):\n",
    "    l_vectors.append(ve.transform(llogs_train[i]))\n",
    "#x1 = v.transform(logs_train1)\n",
    "#x2 = v.transform(logs_train2)\n",
    "\n",
    "#make a matrix using all data\n",
    "input_matrix = ve.transform(list(itertools.chain(*llogs_train)))\n"
   ]
  },
  {
   "cell_type": "code",
   "execution_count": 21,
   "metadata": {},
   "outputs": [
    {
     "data": {
      "text/plain": [
       "MiniBatchKMeans(batch_size=1000, compute_labels=True, init='k-means++',\n",
       "        init_size=1000, max_iter=100, max_no_improvement=10, n_clusters=20,\n",
       "        n_init=1, random_state=None, reassignment_ratio=0.01, tol=0.0,\n",
       "        verbose=0)"
      ]
     },
     "execution_count": 21,
     "metadata": {},
     "output_type": "execute_result"
    }
   ],
   "source": [
    "##create kmeans model and fit\n",
    "k=20\n",
    "km = MiniBatchKMeans(n_clusters=k, init='k-means++', n_init=1,\n",
    "                         init_size=1000, batch_size=1000)\n",
    "km.fit(input_matrix)"
   ]
  },
  {
   "cell_type": "code",
   "execution_count": 22,
   "metadata": {
    "scrolled": true
   },
   "outputs": [
    {
     "name": "stdout",
     "output_type": "stream",
     "text": [
      "Top terms per cluster:\n",
      "Cluster 0:\n",
      " 320bbec0\n",
      " 55\n",
      " b667\n",
      " 42ff\n",
      " d7c5e8e7d50a\n",
      " f96e\n",
      " 29\n",
      " 6335\n",
      " account\n",
      " enterpriseaccount\n",
      "Cluster 1:\n",
      " order\n",
      " avs\n",
      " auth\n",
      " payment\n",
      " service\n",
      " errors\n",
      " code\n",
      " failed\n",
      " type\n",
      " invalid\n",
      "Cluster 2:\n",
      " entitlement\n",
      " entitlementofferingrestransformer\n",
      " entitledoffering\n",
      " transformer\n",
      " 5266\n",
      " received\n",
      " 46\n",
      " connectorwithoutmulesession\n",
      " 45\n",
      " 02\n",
      "Cluster 3:\n",
      " provided\n",
      " customeraccountnumber\n",
      " invalid\n",
      " moreinfo\n",
      " errors\n",
      " code\n",
      " type\n",
      " 202106\n",
      " ent\n",
      " entitledofferings\n",
      "Cluster 4:\n",
      " java\n",
      " org\n",
      " mule\n",
      " extendedschemavalidationfilter\n",
      " runtimeexception\n",
      " wrapper\n",
      " 222\n",
      " lang\n",
      " exceptions\n",
      " schemavalidation\n",
      "Cluster 5:\n",
      " 00\n",
      " currency\n",
      " usd\n",
      " ns1\n",
      " globalsalestax\n",
      " productclass\n",
      " totalcredit\n",
      " salestaxheader\n",
      " documentid\n",
      " taxtype\n",
      "Cluster 6:\n",
      " licensenumber\n",
      " missing\n",
      " parameter\n",
      " required\n",
      " errors\n",
      " 202103\n",
      " code\n",
      " type\n",
      " ent\n",
      " entitledofferings\n",
      "Cluster 7:\n",
      " multiple\n",
      " schemavalidationfilter\n",
      " rejected\n",
      " validate\n",
      " apparently\n",
      " globalsalestax\n",
      " schemavalidation\n",
      " extendedschemavalidationfilter\n",
      " 2823\n",
      " failed\n",
      "Cluster 8:\n",
      " 6dc10132\n",
      " 78dc\n",
      " 50ad\n",
      " 4448\n",
      " 37\n",
      " 350253329de3\n",
      " 6335\n",
      " account\n",
      " 27\n",
      " enterpriseaccount\n",
      "Cluster 9:\n",
      " net\n",
      " java\n",
      " org\n",
      " true\n",
      " 80\n",
      " factory\n",
      " endpoint\n",
      " session\n",
      " transport\n",
      " false\n",
      "Cluster 10:\n",
      " payment\n",
      " information\n",
      " auth\n",
      " service\n",
      " order\n",
      " invalid\n",
      " failed\n",
      " errors\n",
      " code\n",
      " type\n",
      "Cluster 11:\n",
      " rps\n",
      " restrictions\n",
      " ebcs\n",
      " httpnosessionconnector\n",
      " 4628\n",
      " 09\n",
      " 25\n",
      " 031\n",
      " postalcode\n",
      " country\n",
      "Cluster 12:\n",
      " 6323\n",
      " 304\n",
      " 31\n",
      " billingprofiles\n",
      " 10\n",
      " jettyconnector\n",
      " 02\n",
      " util\n",
      " transformer\n",
      " service\n",
      "Cluster 13:\n",
      " 619\n",
      " 35\n",
      " 5296\n",
      " 40\n",
      " processor\n",
      " loggermessageprocessor\n",
      " service\n",
      " org\n",
      " api\n",
      " connectorwithoutmulesession\n",
      "Cluster 14:\n",
      " entitlement\n",
      " entitlementofferingrestransformer\n",
      " entitledoffering\n",
      " transformer\n",
      " received\n",
      " connectorwithoutmulesession\n",
      " cas\n",
      " 45\n",
      " 02\n",
      " 5309\n",
      "Cluster 15:\n",
      " code\n",
      " order\n",
      " errors\n",
      " type\n",
      " jettyconnector\n",
      " invalid\n",
      " 49\n",
      " server\n",
      " standalone\n",
      " yes\n",
      "Cluster 16:\n",
      " b8f0da82\n",
      " 6568\n",
      " 371b\n",
      " 695c\n",
      " 9bd2\n",
      " f8f30e8ad4bd\n",
      " account\n",
      " 29\n",
      " 27\n",
      " enterpriseaccount\n",
      "Cluster 17:\n",
      " failure\n",
      " mdm\n",
      " mule\n",
      " processor\n",
      " loggermessageprocessor\n",
      " enterpriseaccount\n",
      " received\n",
      " api\n",
      " org\n",
      " 53\n",
      "Cluster 18:\n",
      " rejected\n",
      " multiple\n",
      " 15\n",
      " schemavalidationfilter\n",
      " validate\n",
      " apparently\n",
      " 36\n",
      " globalsalestax\n",
      " schemavalidation\n",
      " extendedschemavalidationfilter\n",
      "Cluster 19:\n",
      " 1b6f2c45d63d\n",
      " 870a\n",
      " 6355\n",
      " fdc2\n",
      " a5f1\n",
      " 51\n",
      " 3b01a6a7\n",
      " 34\n",
      " account\n",
      " enterpriseaccount\n"
     ]
    }
   ],
   "source": [
    "##Let's use cluster 6 as it shows '500' as one of the top words\n",
    "show_top_words(km, vect, show=True, save=True)"
   ]
  },
  {
   "cell_type": "code",
   "execution_count": 23,
   "metadata": {
    "collapsed": true
   },
   "outputs": [],
   "source": [
    "#for i in range(20):\n",
    "#    print i, len(df_predict1[df_predict1[2]==i]), len(df_predict2[df_predict2[2]==i])"
   ]
  },
  {
   "cell_type": "code",
   "execution_count": null,
   "metadata": {
    "collapsed": true
   },
   "outputs": [],
   "source": []
  },
  {
   "cell_type": "code",
   "execution_count": 24,
   "metadata": {
    "collapsed": true
   },
   "outputs": [],
   "source": [
    "#goal: create df with columns [logs, times, labels] for each \n",
    "l_formatted_df = []\n",
    "for i in range(min(look_back, len(llogs_train))):\n",
    "    formatted_df = format_df(train_df[i])\n",
    "    times = formatted_df['_time'].tolist()\n",
    "    mat = ve.transform(llogs_train[i])\n",
    "    labels = km.predict(mat)\n",
    "    lst = zip(llogs_train[i], times, labels.tolist())\n",
    "    tmp_df = pd.DataFrame(lst)\n",
    "    l_formatted_df.append(tmp_df)\n",
    "    "
   ]
  },
  {
   "cell_type": "code",
   "execution_count": 25,
   "metadata": {
    "collapsed": true
   },
   "outputs": [],
   "source": [
    "l_formatted_df[0].to_csv('new_df_formatted')"
   ]
  },
  {
   "cell_type": "markdown",
   "metadata": {},
   "source": [
    "# Need to add some logic so if no results in a given 30 minute interval, will put a 0 count\n",
    "\n",
    "maybe done with the try/except clause change"
   ]
  },
  {
   "cell_type": "code",
   "execution_count": 26,
   "metadata": {
    "collapsed": true
   },
   "outputs": [],
   "source": [
    "#split by cluster number\n",
    "d_cluster_to_od = {}\n",
    "for cluster_num in range(k):\n",
    "    l_df = []\n",
    "    for i in range(look_back):\n",
    "        filtered_df = l_formatted_df[i][l_formatted_df[i][2]==cluster_num]\n",
    "        l_df.append(OrderedDict(sorted(split_by_time(filtered_df).items())))\n",
    "    d_cluster_to_od[cluster_num] = l_df"
   ]
  },
  {
   "cell_type": "code",
   "execution_count": 27,
   "metadata": {
    "collapsed": true
   },
   "outputs": [],
   "source": [
    "##from the ordered dict, get the counts\n",
    "##d_counts is a dictionary of dictionary. {cluster_num: {timestamp: [count]}}\n",
    "d_counts = {}\n",
    "for cluster_num in range(k):\n",
    "    for odict in d_cluster_to_od[cluster_num]:\n",
    "        for timestamp, df in odict.iteritems():\n",
    "            inner_dict = OrderedDict()\n",
    "            try: \n",
    "                count = df.shape[0]\n",
    "            except:\n",
    "                count = 0\n",
    "            if cluster_num not in d_counts.keys():\n",
    "                #new entry in d_counts. Create inner dict\n",
    "                inner_dict[timestamp] = [count]\n",
    "                d_counts[cluster_num] = inner_dict\n",
    "            elif timestamp not in d_counts[cluster_num].keys():\n",
    "                #inner dict is there. add new key/value pair\n",
    "                d_counts[cluster_num][timestamp] = [count]\n",
    "            else:\n",
    "                #cluster num is there and timestamp is there. then we append\n",
    "                d_counts[cluster_num][timestamp].append(count)\n",
    "\n",
    "            "
   ]
  },
  {
   "cell_type": "code",
   "execution_count": 28,
   "metadata": {},
   "outputs": [
    {
     "name": "stdout",
     "output_type": "stream",
     "text": [
      "2017-08-14 01:00:00-07:00 [2]\n",
      "2017-08-14 01:00:00-07:00 [3]\n",
      "2017-08-14 01:30:00-07:00 [0]\n",
      "2017-08-14 02:00:00-07:00 [3]\n",
      "2017-08-14 02:00:00-07:00 [1]\n",
      "2017-08-14 02:30:00-07:00 [2]\n",
      "2017-08-14 00:00:00-07:00 [1]\n",
      "2017-08-14 00:30:00-07:00 [1]\n",
      "2017-08-14 01:00:00-07:00 [1]\n",
      "2017-08-14 01:30:00-07:00 [1]\n",
      "2017-08-14 02:00:00-07:00 [4]\n",
      "2017-08-14 00:00:00-07:00 [1]\n",
      "2017-08-14 00:30:00-07:00 [2]\n",
      "2017-08-14 01:00:00-07:00 [2]\n",
      "2017-08-14 01:30:00-07:00 [2]\n",
      "2017-08-14 00:30:00-07:00 [2]\n",
      "2017-08-14 01:00:00-07:00 [2]\n",
      "2017-08-14 01:30:00-07:00 [2]\n",
      "2017-08-14 01:00:00-07:00 [1]\n",
      "2017-08-14 01:30:00-07:00 [0]\n",
      "2017-08-14 02:00:00-07:00 [0]\n",
      "2017-08-14 02:30:00-07:00 [3]\n",
      "2017-08-14 00:30:00-07:00 [2]\n",
      "2017-08-14 01:00:00-07:00 [2]\n",
      "2017-08-14 01:00:00-07:00 [2]\n",
      "2017-08-14 00:00:00-07:00 [1]\n",
      "2017-08-14 00:30:00-07:00 [0]\n",
      "2017-08-14 01:00:00-07:00 [0]\n",
      "2017-08-14 01:30:00-07:00 [0]\n",
      "2017-08-14 02:00:00-07:00 [0]\n",
      "2017-08-14 02:30:00-07:00 [1]\n",
      "2017-08-14 01:00:00-07:00 [2]\n",
      "2017-08-14 01:30:00-07:00 [0]\n",
      "2017-08-14 02:00:00-07:00 [1]\n",
      "2017-08-14 02:30:00-07:00 [4]\n",
      "2017-08-14 00:00:00-07:00 [3]\n",
      "2017-08-14 02:30:00-07:00 [2]\n",
      "2017-08-14 02:30:00-07:00 [1]\n",
      "2017-08-14 00:00:00-07:00 [1]\n",
      "2017-08-14 00:30:00-07:00 [0]\n",
      "2017-08-14 01:00:00-07:00 [2]\n",
      "2017-08-14 01:30:00-07:00 [0]\n",
      "2017-08-14 02:00:00-07:00 [1]\n",
      "2017-08-14 02:30:00-07:00 [3]\n",
      "2017-08-14 01:00:00-07:00 [1]\n",
      "2017-08-14 01:30:00-07:00 [0]\n",
      "2017-08-14 02:00:00-07:00 [1]\n",
      "2017-08-14 01:00:00-07:00 [2]\n",
      "2017-08-14 01:30:00-07:00 [1]\n",
      "2017-08-14 02:00:00-07:00 [1]\n",
      "2017-08-14 01:30:00-07:00 [2]\n",
      "2017-08-14 02:30:00-07:00 [2]\n"
     ]
    }
   ],
   "source": [
    "##now for each cluster_num, can use ARIMA model to predict.\n",
    "for cluster_num in range(k):\n",
    "    d_timestamp_counts = d_counts[cluster_num]\n",
    "    for time, counts in d_timestamp_counts.iteritems():\n",
    "        print time, counts"
   ]
  },
  {
   "cell_type": "code",
   "execution_count": 29,
   "metadata": {
    "collapsed": true
   },
   "outputs": [],
   "source": [
    "# #for each cluster, make a dictionary of counts. eg {0:[100,150,125]}\n",
    "# d_counts = {}\n",
    "# for cluster_num in range(k):\n",
    "#     l_cluster_df = d_cluster_to_df[cluster_num]\n",
    "#     lst = []\n",
    "#     for df in l_cluster_df:\n",
    "#         print df.shape[0]\n",
    "        \n",
    "\n"
   ]
  },
  {
   "cell_type": "code",
   "execution_count": 30,
   "metadata": {},
   "outputs": [
    {
     "name": "stdout",
     "output_type": "stream",
     "text": [
      "20\n"
     ]
    }
   ],
   "source": [
    "print k"
   ]
  },
  {
   "cell_type": "code",
   "execution_count": null,
   "metadata": {
    "collapsed": true
   },
   "outputs": [],
   "source": []
  },
  {
   "cell_type": "code",
   "execution_count": null,
   "metadata": {
    "collapsed": true
   },
   "outputs": [],
   "source": []
  },
  {
   "cell_type": "code",
   "execution_count": null,
   "metadata": {
    "collapsed": true
   },
   "outputs": [],
   "source": []
  },
  {
   "cell_type": "code",
   "execution_count": 39,
   "metadata": {},
   "outputs": [
    {
     "data": {
      "text/html": [
       "<div>\n",
       "<style>\n",
       "    .dataframe thead tr:only-child th {\n",
       "        text-align: right;\n",
       "    }\n",
       "\n",
       "    .dataframe thead th {\n",
       "        text-align: left;\n",
       "    }\n",
       "\n",
       "    .dataframe tbody tr th {\n",
       "        vertical-align: top;\n",
       "    }\n",
       "</style>\n",
       "<table border=\"1\" class=\"dataframe\">\n",
       "  <thead>\n",
       "    <tr style=\"text-align: right;\">\n",
       "      <th></th>\n",
       "      <th>0</th>\n",
       "      <th>1</th>\n",
       "      <th>2</th>\n",
       "    </tr>\n",
       "  </thead>\n",
       "  <tbody>\n",
       "    <tr>\n",
       "      <th>0</th>\n",
       "      <td>INFO  2017-08-19 14:18:11,732 [[ebcs-restricti...</td>\n",
       "      <td>2017-08-19 14:18:11.732000-07:00</td>\n",
       "      <td>11</td>\n",
       "    </tr>\n",
       "    <tr>\n",
       "      <th>1</th>\n",
       "      <td>2017-08-19 14:18:09,124 | level=ERROR| thread=...</td>\n",
       "      <td>2017-08-19 14:18:09.124000-07:00</td>\n",
       "      <td>4</td>\n",
       "    </tr>\n",
       "    <tr>\n",
       "      <th>2</th>\n",
       "      <td>2017-08-19 14:17:48,122 | level=ERROR| thread=...</td>\n",
       "      <td>2017-08-19 14:17:48.122000-07:00</td>\n",
       "      <td>4</td>\n",
       "    </tr>\n",
       "    <tr>\n",
       "      <th>3</th>\n",
       "      <td>INFO  2017-08-19 14:17:47,376 [[webs-pub-conve...</td>\n",
       "      <td>2017-08-19 14:17:47.376000-07:00</td>\n",
       "      <td>17</td>\n",
       "    </tr>\n",
       "    <tr>\n",
       "      <th>4</th>\n",
       "      <td>INFO  2017-08-19 14:17:47,374 [[webs-pub-conve...</td>\n",
       "      <td>2017-08-19 14:17:47.374000-07:00</td>\n",
       "      <td>17</td>\n",
       "    </tr>\n",
       "  </tbody>\n",
       "</table>\n",
       "</div>"
      ],
      "text/plain": [
       "                                                   0  \\\n",
       "0  INFO  2017-08-19 14:18:11,732 [[ebcs-restricti...   \n",
       "1  2017-08-19 14:18:09,124 | level=ERROR| thread=...   \n",
       "2  2017-08-19 14:17:48,122 | level=ERROR| thread=...   \n",
       "3  INFO  2017-08-19 14:17:47,376 [[webs-pub-conve...   \n",
       "4  INFO  2017-08-19 14:17:47,374 [[webs-pub-conve...   \n",
       "\n",
       "                                 1   2  \n",
       "0 2017-08-19 14:18:11.732000-07:00  11  \n",
       "1 2017-08-19 14:18:09.124000-07:00   4  \n",
       "2 2017-08-19 14:17:48.122000-07:00   4  \n",
       "3 2017-08-19 14:17:47.376000-07:00  17  \n",
       "4 2017-08-19 14:17:47.374000-07:00  17  "
      ]
     },
     "execution_count": 39,
     "metadata": {},
     "output_type": "execute_result"
    }
   ],
   "source": [
    "# ##get predictions for a subset of the logs and create df with _raw, _time, and label\n",
    "formatted_df = format_df(df_train1)\n",
    "\n",
    "logs = formatted_df['_raw'].tolist()\n",
    "times = formatted_df['_time'].tolist()\n",
    "test_x1 = v.transform(logs)\n",
    "\n",
    "labels = km.predict(test_x1)\n",
    "lst = zip(logs, times, labels.tolist())\n",
    "df_predict1 = pd.DataFrame(lst)\n",
    "df_predict1.head()\n",
    "\n",
    "##do same for second train set\n",
    "formatted_df = format_df(df_train2)\n",
    "\n",
    "logs = formatted_df['_raw'].tolist()\n",
    "times = formatted_df['_time'].tolist()\n",
    "test_x2 = v.transform(logs)\n",
    "labels = km.predict(test_x2)\n",
    "lst = zip(logs, times, labels.tolist())\n",
    "df_predict2 = pd.DataFrame(lst)\n",
    "df_predict2.head()\n"
   ]
  },
  {
   "cell_type": "code",
   "execution_count": 40,
   "metadata": {},
   "outputs": [
    {
     "data": {
      "text/plain": [
       "(118716, 3)"
      ]
     },
     "execution_count": 40,
     "metadata": {},
     "output_type": "execute_result"
    }
   ],
   "source": [
    "df_predict1.shape"
   ]
  },
  {
   "cell_type": "code",
   "execution_count": null,
   "metadata": {
    "collapsed": true
   },
   "outputs": [],
   "source": []
  },
  {
   "cell_type": "code",
   "execution_count": 41,
   "metadata": {},
   "outputs": [
    {
     "ename": "TypeError",
     "evalue": "'NoneType' object is not iterable",
     "output_type": "error",
     "traceback": [
      "\u001b[0;31m---------------------------------------------------------------------------\u001b[0m",
      "\u001b[0;31mTypeError\u001b[0m                                 Traceback (most recent call last)",
      "\u001b[0;32m<ipython-input-41-487f6aafc8d8>\u001b[0m in \u001b[0;36m<module>\u001b[0;34m()\u001b[0m\n\u001b[1;32m      1\u001b[0m \u001b[0;31m##for each cluster number, create a dt\u001b[0m\u001b[0;34m\u001b[0m\u001b[0;34m\u001b[0m\u001b[0m\n\u001b[0;32m----> 2\u001b[0;31m \u001b[0mdf_clusters1\u001b[0m\u001b[0;34m,\u001b[0m \u001b[0mdf_clusters2\u001b[0m \u001b[0;34m=\u001b[0m \u001b[0mNone\u001b[0m\u001b[0;34m\u001b[0m\u001b[0m\n\u001b[0m",
      "\u001b[0;31mTypeError\u001b[0m: 'NoneType' object is not iterable"
     ]
    }
   ],
   "source": [
    "##for each cluster number, create a dt\n",
    "df_clusters1, df_clusters2 = None\n"
   ]
  },
  {
   "cell_type": "code",
   "execution_count": 42,
   "metadata": {},
   "outputs": [
    {
     "data": {
      "text/html": [
       "<div>\n",
       "<style>\n",
       "    .dataframe thead tr:only-child th {\n",
       "        text-align: right;\n",
       "    }\n",
       "\n",
       "    .dataframe thead th {\n",
       "        text-align: left;\n",
       "    }\n",
       "\n",
       "    .dataframe tbody tr th {\n",
       "        vertical-align: top;\n",
       "    }\n",
       "</style>\n",
       "<table border=\"1\" class=\"dataframe\">\n",
       "  <thead>\n",
       "    <tr style=\"text-align: right;\">\n",
       "      <th></th>\n",
       "      <th>0</th>\n",
       "      <th>1</th>\n",
       "      <th>2</th>\n",
       "    </tr>\n",
       "  </thead>\n",
       "  <tbody>\n",
       "    <tr>\n",
       "      <th>2418</th>\n",
       "      <td>2017-08-19 13:37:48,462 | level=INFO | thread=...</td>\n",
       "      <td>2017-08-19 13:37:48.462000-07:00</td>\n",
       "      <td>8</td>\n",
       "    </tr>\n",
       "    <tr>\n",
       "      <th>2436</th>\n",
       "      <td>INFO  2017-08-19 13:37:47,705 [[webs-pub-accou...</td>\n",
       "      <td>2017-08-19 13:37:47.705000-07:00</td>\n",
       "      <td>8</td>\n",
       "    </tr>\n",
       "    <tr>\n",
       "      <th>2469</th>\n",
       "      <td>INFO  2017-08-19 13:37:19,973 [[webs-tbt-brm-r...</td>\n",
       "      <td>2017-08-19 13:37:19.973000-07:00</td>\n",
       "      <td>8</td>\n",
       "    </tr>\n",
       "    <tr>\n",
       "      <th>2470</th>\n",
       "      <td>INFO  2017-08-19 13:37:19,973 [[webs-tbt-brm-r...</td>\n",
       "      <td>2017-08-19 13:37:19.973000-07:00</td>\n",
       "      <td>8</td>\n",
       "    </tr>\n",
       "    <tr>\n",
       "      <th>2471</th>\n",
       "      <td>INFO  2017-08-19 13:37:19,622 [[webs-tbt-brm-r...</td>\n",
       "      <td>2017-08-19 13:37:19.622000-07:00</td>\n",
       "      <td>8</td>\n",
       "    </tr>\n",
       "  </tbody>\n",
       "</table>\n",
       "</div>"
      ],
      "text/plain": [
       "                                                      0  \\\n",
       "2418  2017-08-19 13:37:48,462 | level=INFO | thread=...   \n",
       "2436  INFO  2017-08-19 13:37:47,705 [[webs-pub-accou...   \n",
       "2469  INFO  2017-08-19 13:37:19,973 [[webs-tbt-brm-r...   \n",
       "2470  INFO  2017-08-19 13:37:19,973 [[webs-tbt-brm-r...   \n",
       "2471  INFO  2017-08-19 13:37:19,622 [[webs-tbt-brm-r...   \n",
       "\n",
       "                                    1  2  \n",
       "2418 2017-08-19 13:37:48.462000-07:00  8  \n",
       "2436 2017-08-19 13:37:47.705000-07:00  8  \n",
       "2469 2017-08-19 13:37:19.973000-07:00  8  \n",
       "2470 2017-08-19 13:37:19.973000-07:00  8  \n",
       "2471 2017-08-19 13:37:19.622000-07:00  8  "
      ]
     },
     "execution_count": 42,
     "metadata": {},
     "output_type": "execute_result"
    }
   ],
   "source": [
    "cluster_num = 8\n",
    "f_df1 = df_predict1[df_predict1[2]==cluster_num]\n",
    "f_df2 = df_predict2[df_predict2[2]==cluster_num]\n",
    "#f_df1 = df_predict1\n",
    "#f_df2 = df_predict2\n",
    "f_df1.head()"
   ]
  },
  {
   "cell_type": "code",
   "execution_count": 43,
   "metadata": {
    "collapsed": true
   },
   "outputs": [],
   "source": [
    "check_logs = f_df1[0].tolist()"
   ]
  },
  {
   "cell_type": "code",
   "execution_count": 44,
   "metadata": {},
   "outputs": [
    {
     "data": {
      "text/plain": [
       "['2017-08-19 13:37:48,462 | level=INFO | thread=[webs-pub-subscription-subscriptions-id-api-3.7.0.1].HTTP_Listener_Configuration.worker.03 | class=com.intuit.platform.webs.subscription.rest.GetSubscriptionService | intuit_app=PubGetSubscription | intuit_appid=Intuit.platform.ebseasqaservicestestframework.ebseasqatestclient | intuit_assetalias=Intuit.platform.ebseasqaservicestestframework.ebseasqatestclient | intuit_originatingip=10.137.86.167 | intuit_tid=ktf-b0a67bc7-a973-498a-b21b-058706be3c5e | intuit_realmid=123146590353669 | intuit_subscriptionid=100100699 | intuit_userid=123146590353664 | responseObj:::{\"error\":[{\"code\":\"SUBSCR-004\",\"type\":\"CLIENT\",\"message\":\"The request was not authorized\",\"detail\":\"<![CDATA[com.intuit.platform.common.exception.ForbiddenException: AccountID does not match RealmID]]>\",\"moreInfo\":null}]}',\n",
       " 'INFO  2017-08-19 13:37:47,705 [[webs-pub-account-api-1.5.0.0].connector.http.mule.default.receiver.05] org.mule.api.processor.LoggerMessageProcessor: flow=webs-accounts-accountdetails-invokeOrchestration, app=webs-pub-account-api, txId=ktf-b0a67bc7-a973-498a-b21b-058706be3c5e, payload=com.intuit.schema.platform.common.error.v2.Errors@13e2b06d[error={com.intuit.schema.platform.common.error.v2.Error@fe15350[code=ACCT-006, type=CLIENT, message=Requested resource does not exist., detail=Requested resource does not exist., moreInfo=<null>]}] Returning Error to the Browser',\n",
       " 'INFO  2017-08-19 13:37:19,973 [[webs-tbt-brm-router-service-internal-1.2.1.0].httpsConnector.receiver.4619] org.mule.transport.http.HttpClientMessageDispatcher: Received a redirect, but followRedirects=false. Response code: 500 Internal Server Error',\n",
       " 'INFO  2017-08-19 13:37:19,973 [[webs-tbt-brm-router-service-internal-1.2.1.0].httpsConnector.receiver.4619] org.mule.transport.http.HttpClientMessageDispatcher: Received a redirect, but followRedirects=false. Response code: 500 Internal Server Error',\n",
       " 'INFO  2017-08-19 13:37:19,622 [[webs-tbt-brm-router-service-internal-1.2.1.0].httpsConnector.receiver.4619] org.mule.transport.http.HttpClientMessageDispatcher: Received a redirect, but followRedirects=false. Response code: 500 Internal Server Error',\n",
       " 'INFO  2017-08-19 13:37:19,622 [[webs-tbt-brm-router-service-internal-1.2.1.0].httpsConnector.receiver.4619] org.mule.transport.http.HttpClientMessageDispatcher: Received a redirect, but followRedirects=false. Response code: 500 Internal Server Error',\n",
       " '2017-08-19 13:25:27,999 WrapperListener_start_runner DEBUG Invalid AsyncLoggerConfig.ExceptionHandler value: error creating org.mule.module.launcher.log4j2.AsyncLoggerExceptionHandler: ',\n",
       " 'ERROR 2017-08-19 13:24:37,982 [WrapperListener_start_runner] com.intuit.platform.webs.common.validation.config.ValidatorFactory: INVALID Resource Keys [Ljava.lang.String;@30ad6893',\n",
       " '2017-08-19 13:23:37,420 WrapperListener_start_runner DEBUG Invalid AsyncLoggerConfig.ExceptionHandler value: error creating org.mule.module.launcher.log4j2.AsyncLoggerExceptionHandler: ',\n",
       " '2017-08-19 13:21:37,929 | level=ERROR| thread=pool-1236-thread-1 | class=IDPS-SDK | com.intuit.idps.service.rest.IdpsCommunicationException: com.intuit.idps.swagger.ApiException: java.io.InterruptedIOException: timeout',\n",
       " '2017-08-19 13:21:37,929 | level=ERROR| thread=pool-1236-thread-1 | class=IDPS-SDK | health check failed. Request-ID: b0c27ca0-5m32kvn',\n",
       " 'INFO  2017-08-19 12:37:19,971 [[webs-tbt-brm-router-service-internal-1.2.1.0].httpsConnector.receiver.4607] org.mule.transport.http.HttpClientMessageDispatcher: Received a redirect, but followRedirects=false. Response code: 500 Internal Server Error',\n",
       " 'INFO  2017-08-19 12:37:19,971 [[webs-tbt-brm-router-service-internal-1.2.1.0].httpsConnector.receiver.4607] org.mule.transport.http.HttpClientMessageDispatcher: Received a redirect, but followRedirects=false. Response code: 500 Internal Server Error',\n",
       " 'INFO  2017-08-19 12:37:19,622 [[webs-tbt-brm-router-service-internal-1.2.1.0].httpsConnector.receiver.4607] org.mule.transport.http.HttpClientMessageDispatcher: Received a redirect, but followRedirects=false. Response code: 500 Internal Server Error',\n",
       " 'INFO  2017-08-19 12:37:19,622 [[webs-tbt-brm-router-service-internal-1.2.1.0].httpsConnector.receiver.4607] org.mule.transport.http.HttpClientMessageDispatcher: Received a redirect, but followRedirects=false. Response code: 500 Internal Server Error',\n",
       " '\\t<rids>\\t  <rid update_id=\"1503168213349\">139388</rid></rids>\\n</qdbapi>\\n<query><table fields=\\'3.18  .28  .10  .13  .37 .42  \\' qur=\\'{34 .GT.0}AND{50.EX.4600}\\' type = \\'Offer\\'>bjgvik7dc\\t</table></query>\\ntransformMessage\\nactiondata\\nreq_xml<qdbapi><usertoken>b2fjw5_k_bj2mpi94a7u3rb4fxrkvcbk8hdv</usertoken><clist>3.18  .28  .10  .13  .37 .42  </clist><query>{34 .GT.0}AND{50.EX.4600}</query><apptoken>b4cbqduc56uxywnfjf84cn96pks</apptoken><options>csv</options><fmt>structured</fmt></qdbapi>\\nresStreamorg.apache.http.conn.EofSensorInputStream@489ab0a5\\ni am repeating second\\ncsvFields are[Ljava.lang.String;@61da8e7d\\n3,25000002,22000000,QBO_SIMPLE_START,QuickBooks Online Simple Start,Active,QBO_SIMPLE_START\\ntest\\ntransformMessage\\nactionlogs\\nreq_xml<?xml version=\\'1.0\\' encoding=\\'ISO-8859-1\\'  ?>\\n<qdbapi>\\n <usertoken>b2fjw5_k_bj2mpi94a7u3rb4fxrkvcbk8hdv</usertoken>\\n<apptoken>b4cbqduc56uxywnfjf84cn96pks</apptoken>\\n <records_csv>\\n  <![CDATA[\\n  CAS,3,  Insert into WEBSITEM.FEATURE_SET (FEATURE_SET_IDcommaPRODUCT_IDcommaNAMEcommaDESCRIPTIONcommaSTATUScommaCODE) values (\\'25000002\\'comma\\'22000000\\'comma\\'QBO_SIMPLE_START\\'comma\\'QuickBooks Online Simple Start\\'comma\\'Active\\'comma\\'QBO_SIMPLE_START\\'),  db7f46d0-01e2-40da-b733-9a51873bd000\\n  ]]>\\n </records_csv>\\n<clist>6.27.14.80</clist></qdbapi>\\nresStreamorg.apache.http.conn.EofSensorInputStream@80763cb\\n<qdbapi>\\n\\t<action>API_ImportFromCSV</action>\\n\\t<errcode>0</errcode>\\n\\t<errtext>No error</errtext>\\n\\t<num_recs_input>1</num_recs_input>\\n\\t<num_recs_added>1</num_recs_added>',\n",
       " '\\t<rids>\\t  <rid update_id=\"1503168212942\">139386</rid></rids>\\n</qdbapi>\\n<query><table fields=\\'3.33.34\\' qur=\\'{37 .GT.0}AND{8 .EX.4600}\\' type = \\'Offer\\'>bjgvik7tj</table></query>\\ntransformMessage\\nactiondata\\nreq_xml<qdbapi><usertoken>b2fjw5_k_bj2mpi94a7u3rb4fxrkvcbk8hdv</usertoken><clist>3.33.34</clist><query>{37 .GT.0}AND{8 .EX.4600}</query><apptoken>b4cbqduc56uxywnfjf84cn96pks</apptoken><options>csv</options><fmt>structured</fmt></qdbapi>\\nresStreamorg.apache.http.conn.EofSensorInputStream@21dc606f\\ni am repeating second\\ncsvFields are[Ljava.lang.String;@208d0289\\n4604,20004599,21005201\\ntest\\ntransformMessage\\nactionlogs\\nreq_xml<?xml version=\\'1.0\\' encoding=\\'ISO-8859-1\\'  ?>\\n<qdbapi>\\n <usertoken>b2fjw5_k_bj2mpi94a7u3rb4fxrkvcbk8hdv</usertoken>\\n<apptoken>b4cbqduc56uxywnfjf84cn96pks</apptoken>\\n <records_csv>\\n  <![CDATA[\\n  CAS,4604,  Insert into WEBSITEM.OFFER_COMPONENT (OFFER_IDcommaPACKAGE_ID) values (20004599comma21005201),  db7f46d0-01e2-40da-b733-9a51873bd000\\n  ]]>\\n </records_csv>\\n<clist>6.10.14.80</clist></qdbapi>\\nresStreamorg.apache.http.conn.EofSensorInputStream@617eb8da\\n<qdbapi>\\n\\t<action>API_ImportFromCSV</action>\\n\\t<errcode>0</errcode>\\n\\t<errtext>No error</errtext>\\n\\t<num_recs_input>1</num_recs_input>\\n\\t<num_recs_added>1</num_recs_added>',\n",
       " '\\t<rids>\\t  <rid update_id=\"1503168212708\">139385</rid></rids>\\n</qdbapi>\\n<query><table fields=\\'3.31 .6 .39 .17 .18 .19 .41 .9 \\' qur=\\'{37.GT.0}AND{42.EX.4600}\\' type = \\'Offer\\'>bjgvik7ez\\t</table></query>\\ntransformMessage\\nactiondata\\nreq_xml<qdbapi><usertoken>b2fjw5_k_bj2mpi94a7u3rb4fxrkvcbk8hdv</usertoken><clist>3.31 .6 .39 .17 .18 .19 .41 .9 </clist><query>{37.GT.0}AND{42.EX.4600}</query><apptoken>b4cbqduc56uxywnfjf84cn96pks</apptoken><options>csv</options><fmt>structured</fmt></qdbapi>\\nresStreamorg.apache.http.conn.EofSensorInputStream@dffe1af\\ni am repeating second\\ncsvFields are[Ljava.lang.String;@2faf71c5\\n3,25000002,Simple Start,SIMPLE_START,,,,,Feature Set\\ntest\\ntransformMessage\\nactionlogs\\nreq_xml<?xml version=\\'1.0\\' encoding=\\'ISO-8859-1\\'  ?>\\n<qdbapi>\\n <usertoken>b2fjw5_k_bj2mpi94a7u3rb4fxrkvcbk8hdv</usertoken>\\n<apptoken>b4cbqduc56uxywnfjf84cn96pks</apptoken>\\n <records_csv>\\n  <![CDATA[\\n  CAS,3,  Insert into WEBSITEM.FEATURE (FEATURE_SET_IDcommaATTR_CODEcommaATTR_TYPEcommaATTR_NAMEcommaLIMIT_UNIT_VALUEcommaLIMIT_UPGRADE_RULEcommaLIMIT_EXPIRE_PERIODcommaLIMIT_EXPIRE_DATE) values (25000002comma\\'SIMPLE_START\\'comma\\'Feature Set\\'comma\\'Simple Start\\'comma\\'\\'comma\\'\\'comma\\'\\'comma\\'\\'),  db7f46d0-01e2-40da-b733-9a51873bd000\\n  ]]>\\n </records_csv>\\n<clist>6.29.14.80</clist></qdbapi>\\nresStreamorg.apache.http.conn.EofSensorInputStream@4ee35202\\n<qdbapi>\\n\\t<action>API_ImportFromCSV</action>\\n\\t<errcode>0</errcode>\\n\\t<errtext>No error</errtext>\\n\\t<num_recs_input>1</num_recs_input>\\n\\t<num_recs_added>1</num_recs_added>',\n",
       " '\\t<rids>\\t  <rid update_id=\"1503168131121\">139322</rid></rids>\\n</qdbapi>\\n<query><table fields=\\'3.18  .28  .10  .13  .37 .42  \\' qur=\\'{34 .GT.0}AND{50.EX.4597}\\' type = \\'Offer\\'>bjgvik7dc\\t</table></query>\\ntransformMessage\\nactiondata\\nreq_xml<qdbapi><usertoken>b2fjw5_k_bj2mpi94a7u3rb4fxrkvcbk8hdv</usertoken><clist>3.18  .28  .10  .13  .37 .42  </clist><query>{34 .GT.0}AND{50.EX.4597}</query><apptoken>b4cbqduc56uxywnfjf84cn96pks</apptoken><options>csv</options><fmt>structured</fmt></qdbapi>\\nresStreamorg.apache.http.conn.EofSensorInputStream@2979052f\\ni am repeating second\\ncsvFields are[Ljava.lang.String;@2f5af268\\n3,25000002,22000000,QBO_SIMPLE_START,QuickBooks Online Simple Start,Active,QBO_SIMPLE_START\\ntest\\ntransformMessage\\nactionlogs\\nreq_xml<?xml version=\\'1.0\\' encoding=\\'ISO-8859-1\\'  ?>\\n<qdbapi>\\n <usertoken>b2fjw5_k_bj2mpi94a7u3rb4fxrkvcbk8hdv</usertoken>\\n<apptoken>b4cbqduc56uxywnfjf84cn96pks</apptoken>\\n <records_csv>\\n  <![CDATA[\\n  CAS,3,  Insert into WEBSITEM.FEATURE_SET (FEATURE_SET_IDcommaPRODUCT_IDcommaNAMEcommaDESCRIPTIONcommaSTATUScommaCODE) values (\\'25000002\\'comma\\'22000000\\'comma\\'QBO_SIMPLE_START\\'comma\\'QuickBooks Online Simple Start\\'comma\\'Active\\'comma\\'QBO_SIMPLE_START\\'),  f27e4976-76af-4e07-aa09-33a1413590bd\\n  ]]>\\n </records_csv>\\n<clist>6.27.14.80</clist></qdbapi>\\nresStreamorg.apache.http.conn.EofSensorInputStream@7535bb88\\n<qdbapi>\\n\\t<action>API_ImportFromCSV</action>\\n\\t<errcode>0</errcode>\\n\\t<errtext>No error</errtext>\\n\\t<num_recs_input>1</num_recs_input>\\n\\t<num_recs_added>1</num_recs_added>',\n",
       " '\\t<rids>\\t  <rid update_id=\"1503168128228\">139319</rid></rids>\\n</qdbapi>\\n<query><table fields=\\'3.31 .6 .39 .17 .18 .19 .41 .9 \\' qur=\\'{37.GT.0}AND{42.EX.4597}\\' type = \\'Offer\\'>bjgvik7ez\\t</table></query>\\ntransformMessage\\nactiondata\\nreq_xml<qdbapi><usertoken>b2fjw5_k_bj2mpi94a7u3rb4fxrkvcbk8hdv</usertoken><clist>3.31 .6 .39 .17 .18 .19 .41 .9 </clist><query>{37.GT.0}AND{42.EX.4597}</query><apptoken>b4cbqduc56uxywnfjf84cn96pks</apptoken><options>csv</options><fmt>structured</fmt></qdbapi>\\nresStreamorg.apache.http.conn.EofSensorInputStream@79d8088f\\ni am repeating second\\ncsvFields are[Ljava.lang.String;@594a029b\\n3,25000002,Simple Start,SIMPLE_START,,,,,Feature Set\\ntest\\ntransformMessage\\nactionlogs\\nreq_xml<?xml version=\\'1.0\\' encoding=\\'ISO-8859-1\\'  ?>\\n<qdbapi>\\n <usertoken>b2fjw5_k_bj2mpi94a7u3rb4fxrkvcbk8hdv</usertoken>\\n<apptoken>b4cbqduc56uxywnfjf84cn96pks</apptoken>\\n <records_csv>\\n  <![CDATA[\\n  CAS,3,  Insert into WEBSITEM.FEATURE (FEATURE_SET_IDcommaATTR_CODEcommaATTR_TYPEcommaATTR_NAMEcommaLIMIT_UNIT_VALUEcommaLIMIT_UPGRADE_RULEcommaLIMIT_EXPIRE_PERIODcommaLIMIT_EXPIRE_DATE) values (25000002comma\\'SIMPLE_START\\'comma\\'Feature Set\\'comma\\'Simple Start\\'comma\\'\\'comma\\'\\'comma\\'\\'comma\\'\\'),  f27e4976-76af-4e07-aa09-33a1413590bd\\n  ]]>\\n </records_csv>\\n<clist>6.29.14.80</clist></qdbapi>\\nresStreamorg.apache.http.conn.EofSensorInputStream@fdb3530\\n<qdbapi>\\n\\t<action>API_ImportFromCSV</action>\\n\\t<errcode>0</errcode>\\n\\t<errtext>No error</errtext>\\n\\t<num_recs_input>1</num_recs_input>\\n\\t<num_recs_added>1</num_recs_added>',\n",
       " '\\t<rids>\\t  <rid update_id=\"1503168090937\">139256</rid></rids>\\n</qdbapi>\\n<query><table fields=\\'3.18  .28  .10  .13  .37 .42  \\' qur=\\'{34 .GT.0}AND{50.EX.4594}\\' type = \\'Offer\\'>bjgvik7dc\\t</table></query>\\ntransformMessage\\nactiondata\\nreq_xml<qdbapi><usertoken>b2fjw5_k_bj2mpi94a7u3rb4fxrkvcbk8hdv</usertoken><clist>3.18  .28  .10  .13  .37 .42  </clist><query>{34 .GT.0}AND{50.EX.4594}</query><apptoken>b4cbqduc56uxywnfjf84cn96pks</apptoken><options>csv</options><fmt>structured</fmt></qdbapi>\\nresStreamorg.apache.http.conn.EofSensorInputStream@6f8c7a7f\\ni am repeating second\\ncsvFields are[Ljava.lang.String;@29ca5dd2\\n3,25000002,22000000,QBO_SIMPLE_START,QuickBooks Online Simple Start,Active,QBO_SIMPLE_START\\ntest\\ntransformMessage\\nactionlogs\\nreq_xml<?xml version=\\'1.0\\' encoding=\\'ISO-8859-1\\'  ?>\\n<qdbapi>\\n <usertoken>b2fjw5_k_bj2mpi94a7u3rb4fxrkvcbk8hdv</usertoken>\\n<apptoken>b4cbqduc56uxywnfjf84cn96pks</apptoken>\\n <records_csv>\\n  <![CDATA[\\n  CAS,3,  Insert into WEBSITEM.FEATURE_SET (FEATURE_SET_IDcommaPRODUCT_IDcommaNAMEcommaDESCRIPTIONcommaSTATUScommaCODE) values (\\'25000002\\'comma\\'22000000\\'comma\\'QBO_SIMPLE_START\\'comma\\'QuickBooks Online Simple Start\\'comma\\'Active\\'comma\\'QBO_SIMPLE_START\\'),  aefdd97e-4fbe-4531-b407-32cbaa5d2062\\n  ]]>\\n </records_csv>\\n<clist>6.27.14.80</clist></qdbapi>\\nresStreamorg.apache.http.conn.EofSensorInputStream@7cb7597\\n<qdbapi>\\n\\t<action>API_ImportFromCSV</action>\\n\\t<errcode>0</errcode>\\n\\t<errtext>No error</errtext>\\n\\t<num_recs_input>1</num_recs_input>\\n\\t<num_recs_added>1</num_recs_added>',\n",
       " '\\t<rids>\\t  <rid update_id=\"1503168090546\">139254</rid></rids>\\n</qdbapi>\\n<query><table fields=\\'3.33.34\\' qur=\\'{37 .GT.0}AND{8 .EX.4594}\\' type = \\'Offer\\'>bjgvik7tj</table></query>\\ntransformMessage\\nactiondata\\nreq_xml<qdbapi><usertoken>b2fjw5_k_bj2mpi94a7u3rb4fxrkvcbk8hdv</usertoken><clist>3.33.34</clist><query>{37 .GT.0}AND{8 .EX.4594}</query><apptoken>b4cbqduc56uxywnfjf84cn96pks</apptoken><options>csv</options><fmt>structured</fmt></qdbapi>\\nresStreamorg.apache.http.conn.EofSensorInputStream@3d2f6951\\ni am repeating second\\ncsvFields are[Ljava.lang.String;@7cfc6c13\\n4598,20004593,21005195\\ntest\\ntransformMessage\\nactionlogs\\nreq_xml<?xml version=\\'1.0\\' encoding=\\'ISO-8859-1\\'  ?>\\n<qdbapi>\\n <usertoken>b2fjw5_k_bj2mpi94a7u3rb4fxrkvcbk8hdv</usertoken>\\n<apptoken>b4cbqduc56uxywnfjf84cn96pks</apptoken>\\n <records_csv>\\n  <![CDATA[\\n  CAS,4598,  Insert into WEBSITEM.OFFER_COMPONENT (OFFER_IDcommaPACKAGE_ID) values (20004593comma21005195),  aefdd97e-4fbe-4531-b407-32cbaa5d2062\\n  ]]>\\n </records_csv>\\n<clist>6.10.14.80</clist></qdbapi>\\nresStreamorg.apache.http.conn.EofSensorInputStream@2aa2e208\\n<qdbapi>\\n\\t<action>API_ImportFromCSV</action>\\n\\t<errcode>0</errcode>\\n\\t<errtext>No error</errtext>\\n\\t<num_recs_input>1</num_recs_input>\\n\\t<num_recs_added>1</num_recs_added>',\n",
       " '\\t<rids>\\t  <rid update_id=\"1503168090327\">139253</rid></rids>\\n</qdbapi>\\n<query><table fields=\\'3.31 .6 .39 .17 .18 .19 .41 .9 \\' qur=\\'{37.GT.0}AND{42.EX.4594}\\' type = \\'Offer\\'>bjgvik7ez\\t</table></query>\\ntransformMessage\\nactiondata\\nreq_xml<qdbapi><usertoken>b2fjw5_k_bj2mpi94a7u3rb4fxrkvcbk8hdv</usertoken><clist>3.31 .6 .39 .17 .18 .19 .41 .9 </clist><query>{37.GT.0}AND{42.EX.4594}</query><apptoken>b4cbqduc56uxywnfjf84cn96pks</apptoken><options>csv</options><fmt>structured</fmt></qdbapi>\\nresStreamorg.apache.http.conn.EofSensorInputStream@83b0b49\\ni am repeating second\\ncsvFields are[Ljava.lang.String;@1764f960\\n3,25000002,Simple Start,SIMPLE_START,,,,,Feature Set\\ntest\\ntransformMessage\\nactionlogs\\nreq_xml<?xml version=\\'1.0\\' encoding=\\'ISO-8859-1\\'  ?>\\n<qdbapi>\\n <usertoken>b2fjw5_k_bj2mpi94a7u3rb4fxrkvcbk8hdv</usertoken>\\n<apptoken>b4cbqduc56uxywnfjf84cn96pks</apptoken>\\n <records_csv>\\n  <![CDATA[\\n  CAS,3,  Insert into WEBSITEM.FEATURE (FEATURE_SET_IDcommaATTR_CODEcommaATTR_TYPEcommaATTR_NAMEcommaLIMIT_UNIT_VALUEcommaLIMIT_UPGRADE_RULEcommaLIMIT_EXPIRE_PERIODcommaLIMIT_EXPIRE_DATE) values (25000002comma\\'SIMPLE_START\\'comma\\'Feature Set\\'comma\\'Simple Start\\'comma\\'\\'comma\\'\\'comma\\'\\'comma\\'\\'),  aefdd97e-4fbe-4531-b407-32cbaa5d2062\\n  ]]>\\n </records_csv>\\n<clist>6.29.14.80</clist></qdbapi>\\nresStreamorg.apache.http.conn.EofSensorInputStream@2afe0c4b\\n<qdbapi>\\n\\t<action>API_ImportFromCSV</action>\\n\\t<errcode>0</errcode>\\n\\t<errtext>No error</errtext>\\n\\t<num_recs_input>1</num_recs_input>\\n\\t<num_recs_added>1</num_recs_added>',\n",
       " '\\t<rids>\\t  <rid update_id=\"1503168046978\">139190</rid></rids>\\n</qdbapi>\\n<query><table fields=\\'3.18  .28  .10  .13  .37 .42  \\' qur=\\'{34 .GT.0}AND{50.EX.4591}\\' type = \\'Offer\\'>bjgvik7dc\\t</table></query>\\ntransformMessage\\nactiondata\\nreq_xml<qdbapi><usertoken>b2fjw5_k_bj2mpi94a7u3rb4fxrkvcbk8hdv</usertoken><clist>3.18  .28  .10  .13  .37 .42  </clist><query>{34 .GT.0}AND{50.EX.4591}</query><apptoken>b4cbqduc56uxywnfjf84cn96pks</apptoken><options>csv</options><fmt>structured</fmt></qdbapi>\\nresStreamorg.apache.http.conn.EofSensorInputStream@22a9b2e\\ni am repeating second\\ncsvFields are[Ljava.lang.String;@1ebbc7c4\\n3,25000002,22000000,QBO_SIMPLE_START,QuickBooks Online Simple Start,Active,QBO_SIMPLE_START\\ntest\\ntransformMessage\\nactionlogs\\nreq_xml<?xml version=\\'1.0\\' encoding=\\'ISO-8859-1\\'  ?>\\n<qdbapi>\\n <usertoken>b2fjw5_k_bj2mpi94a7u3rb4fxrkvcbk8hdv</usertoken>\\n<apptoken>b4cbqduc56uxywnfjf84cn96pks</apptoken>\\n <records_csv>\\n  <![CDATA[\\n  CAS,3,  Insert into WEBSITEM.FEATURE_SET (FEATURE_SET_IDcommaPRODUCT_IDcommaNAMEcommaDESCRIPTIONcommaSTATUScommaCODE) values (\\'25000002\\'comma\\'22000000\\'comma\\'QBO_SIMPLE_START\\'comma\\'QuickBooks Online Simple Start\\'comma\\'Active\\'comma\\'QBO_SIMPLE_START\\'),  9f09c6c9-6d39-4bca-b200-37d228023b6d\\n  ]]>\\n </records_csv>\\n<clist>6.27.14.80</clist></qdbapi>\\nresStreamorg.apache.http.conn.EofSensorInputStream@5dfb9de4\\n<qdbapi>\\n\\t<action>API_ImportFromCSV</action>\\n\\t<errcode>0</errcode>\\n\\t<errtext>No error</errtext>\\n\\t<num_recs_input>1</num_recs_input>\\n\\t<num_recs_added>1</num_recs_added>',\n",
       " '\\t<rids>\\t  <rid update_id=\"1503168046400\">139188</rid></rids>\\n</qdbapi>\\n<query><table fields=\\'3.33.34\\' qur=\\'{37 .GT.0}AND{8 .EX.4591}\\' type = \\'Offer\\'>bjgvik7tj</table></query>\\ntransformMessage\\nactiondata\\nreq_xml<qdbapi><usertoken>b2fjw5_k_bj2mpi94a7u3rb4fxrkvcbk8hdv</usertoken><clist>3.33.34</clist><query>{37 .GT.0}AND{8 .EX.4591}</query><apptoken>b4cbqduc56uxywnfjf84cn96pks</apptoken><options>csv</options><fmt>structured</fmt></qdbapi>\\nresStreamorg.apache.http.conn.EofSensorInputStream@6395722c\\ni am repeating second\\ncsvFields are[Ljava.lang.String;@3f009234\\n4593,20004590,21005192\\ntest\\ntransformMessage\\nactionlogs\\nreq_xml<?xml version=\\'1.0\\' encoding=\\'ISO-8859-1\\'  ?>\\n<qdbapi>\\n <usertoken>b2fjw5_k_bj2mpi94a7u3rb4fxrkvcbk8hdv</usertoken>\\n<apptoken>b4cbqduc56uxywnfjf84cn96pks</apptoken>\\n <records_csv>\\n  <![CDATA[\\n  CAS,4593,  Insert into WEBSITEM.OFFER_COMPONENT (OFFER_IDcommaPACKAGE_ID) values (20004590comma21005192),  9f09c6c9-6d39-4bca-b200-37d228023b6d\\n  ]]>\\n </records_csv>\\n<clist>6.10.14.80</clist></qdbapi>\\nresStreamorg.apache.http.conn.EofSensorInputStream@b838cdd\\n<qdbapi>\\n\\t<action>API_ImportFromCSV</action>\\n\\t<errcode>0</errcode>\\n\\t<errtext>No error</errtext>\\n\\t<num_recs_input>1</num_recs_input>\\n\\t<num_recs_added>1</num_recs_added>',\n",
       " '\\t<rids>\\t  <rid update_id=\"1503168046181\">139187</rid></rids>\\n</qdbapi>\\n<query><table fields=\\'3.31 .6 .39 .17 .18 .19 .41 .9 \\' qur=\\'{37.GT.0}AND{42.EX.4591}\\' type = \\'Offer\\'>bjgvik7ez\\t</table></query>\\ntransformMessage\\nactiondata\\nreq_xml<qdbapi><usertoken>b2fjw5_k_bj2mpi94a7u3rb4fxrkvcbk8hdv</usertoken><clist>3.31 .6 .39 .17 .18 .19 .41 .9 </clist><query>{37.GT.0}AND{42.EX.4591}</query><apptoken>b4cbqduc56uxywnfjf84cn96pks</apptoken><options>csv</options><fmt>structured</fmt></qdbapi>\\nresStreamorg.apache.http.conn.EofSensorInputStream@59dd1fb4\\ni am repeating second\\ncsvFields are[Ljava.lang.String;@4b5012f3\\n3,25000002,Simple Start,SIMPLE_START,,,,,Feature Set\\ntest\\ntransformMessage\\nactionlogs\\nreq_xml<?xml version=\\'1.0\\' encoding=\\'ISO-8859-1\\'  ?>\\n<qdbapi>\\n <usertoken>b2fjw5_k_bj2mpi94a7u3rb4fxrkvcbk8hdv</usertoken>\\n<apptoken>b4cbqduc56uxywnfjf84cn96pks</apptoken>\\n <records_csv>\\n  <![CDATA[\\n  CAS,3,  Insert into WEBSITEM.FEATURE (FEATURE_SET_IDcommaATTR_CODEcommaATTR_TYPEcommaATTR_NAMEcommaLIMIT_UNIT_VALUEcommaLIMIT_UPGRADE_RULEcommaLIMIT_EXPIRE_PERIODcommaLIMIT_EXPIRE_DATE) values (25000002comma\\'SIMPLE_START\\'comma\\'Feature Set\\'comma\\'Simple Start\\'comma\\'\\'comma\\'\\'comma\\'\\'comma\\'\\'),  9f09c6c9-6d39-4bca-b200-37d228023b6d\\n  ]]>\\n </records_csv>\\n<clist>6.29.14.80</clist></qdbapi>\\nresStreamorg.apache.http.conn.EofSensorInputStream@18ca3a72\\n<qdbapi>\\n\\t<action>API_ImportFromCSV</action>\\n\\t<errcode>0</errcode>\\n\\t<errtext>No error</errtext>\\n\\t<num_recs_input>1</num_recs_input>\\n\\t<num_recs_added>1</num_recs_added>',\n",
       " '\\t<rids>\\t  <rid update_id=\"1503167996267\">139125</rid></rids>\\n</qdbapi>\\n<query><table fields=\\'3.18  .28  .10  .13  .37 .42  \\' qur=\\'{34 .GT.0}AND{50.EX.4588}\\' type = \\'Offer\\'>bjgvik7dc\\t</table></query>\\ntransformMessage\\nactiondata\\nreq_xml<qdbapi><usertoken>b2fjw5_k_bj2mpi94a7u3rb4fxrkvcbk8hdv</usertoken><clist>3.18  .28  .10  .13  .37 .42  </clist><query>{34 .GT.0}AND{50.EX.4588}</query><apptoken>b4cbqduc56uxywnfjf84cn96pks</apptoken><options>csv</options><fmt>structured</fmt></qdbapi>\\nresStreamorg.apache.http.conn.EofSensorInputStream@1f921c3b\\ni am repeating second\\ncsvFields are[Ljava.lang.String;@67b1b441\\n3,25000002,22000000,QBO_SIMPLE_START,QuickBooks Online Simple Start,Active,QBO_SIMPLE_START\\ntest\\ntransformMessage\\nactionlogs\\nreq_xml<?xml version=\\'1.0\\' encoding=\\'ISO-8859-1\\'  ?>\\n<qdbapi>\\n <usertoken>b2fjw5_k_bj2mpi94a7u3rb4fxrkvcbk8hdv</usertoken>\\n<apptoken>b4cbqduc56uxywnfjf84cn96pks</apptoken>\\n <records_csv>\\n  <![CDATA[\\n  CAS,3,  Insert into WEBSITEM.FEATURE_SET (FEATURE_SET_IDcommaPRODUCT_IDcommaNAMEcommaDESCRIPTIONcommaSTATUScommaCODE) values (\\'25000002\\'comma\\'22000000\\'comma\\'QBO_SIMPLE_START\\'comma\\'QuickBooks Online Simple Start\\'comma\\'Active\\'comma\\'QBO_SIMPLE_START\\'),  007b0ce9-fd04-4cb6-857a-1679f388560a\\n  ]]>\\n </records_csv>\\n<clist>6.27.14.80</clist></qdbapi>\\nresStreamorg.apache.http.conn.EofSensorInputStream@18a90ab2\\n<qdbapi>\\n\\t<action>API_ImportFromCSV</action>\\n\\t<errcode>0</errcode>\\n\\t<errtext>No error</errtext>\\n\\t<num_recs_input>1</num_recs_input>\\n\\t<num_recs_added>1</num_recs_added>',\n",
       " '\\t<rids>\\t  <rid update_id=\"1503167995846\">139123</rid></rids>\\n</qdbapi>\\n<query><table fields=\\'3.33.34\\' qur=\\'{37 .GT.0}AND{8 .EX.4588}\\' type = \\'Offer\\'>bjgvik7tj</table></query>\\ntransformMessage\\nactiondata\\nreq_xml<qdbapi><usertoken>b2fjw5_k_bj2mpi94a7u3rb4fxrkvcbk8hdv</usertoken><clist>3.33.34</clist><query>{37 .GT.0}AND{8 .EX.4588}</query><apptoken>b4cbqduc56uxywnfjf84cn96pks</apptoken><options>csv</options><fmt>structured</fmt></qdbapi>\\nresStreamorg.apache.http.conn.EofSensorInputStream@3aa0dca4\\ni am repeating second\\ncsvFields are[Ljava.lang.String;@71b19a87\\n4592,20004587,21005189\\ntest\\ntransformMessage\\nactionlogs\\nreq_xml<?xml version=\\'1.0\\' encoding=\\'ISO-8859-1\\'  ?>\\n<qdbapi>\\n <usertoken>b2fjw5_k_bj2mpi94a7u3rb4fxrkvcbk8hdv</usertoken>\\n<apptoken>b4cbqduc56uxywnfjf84cn96pks</apptoken>\\n <records_csv>\\n  <![CDATA[\\n  CAS,4592,  Insert into WEBSITEM.OFFER_COMPONENT (OFFER_IDcommaPACKAGE_ID) values (20004587comma21005189),  007b0ce9-fd04-4cb6-857a-1679f388560a\\n  ]]>\\n </records_csv>\\n<clist>6.10.14.80</clist></qdbapi>\\nresStreamorg.apache.http.conn.EofSensorInputStream@a9be0e2\\n<qdbapi>\\n\\t<action>API_ImportFromCSV</action>\\n\\t<errcode>0</errcode>\\n\\t<errtext>No error</errtext>\\n\\t<num_recs_input>1</num_recs_input>\\n\\t<num_recs_added>1</num_recs_added>',\n",
       " '\\t  <rid update_id=\"1503167995611\">139122</rid>\\n\\t</rids>\\n</qdbapi>\\n<query><table fields=\\'3.31 .6 .39 .17 .18 .19 .41 .9 \\' qur=\\'{37.GT.0}AND{42.EX.4588}\\' type = \\'Offer\\'>bjgvik7ez\\t</table></query>\\ntransformMessage\\nactiondata\\nreq_xml<qdbapi><usertoken>b2fjw5_k_bj2mpi94a7u3rb4fxrkvcbk8hdv</usertoken><clist>3.31 .6 .39 .17 .18 .19 .41 .9 </clist><query>{37.GT.0}AND{42.EX.4588}</query><apptoken>b4cbqduc56uxywnfjf84cn96pks</apptoken><options>csv</options><fmt>structured</fmt></qdbapi>\\nresStreamorg.apache.http.conn.EofSensorInputStream@326eec02\\ni am repeating second\\ncsvFields are[Ljava.lang.String;@3578c3d4\\n3,25000002,Simple Start,SIMPLE_START,,,,,Feature Set\\ntest\\ntransformMessage\\nactionlogs\\nreq_xml<?xml version=\\'1.0\\' encoding=\\'ISO-8859-1\\'  ?>\\n<qdbapi>\\n <usertoken>b2fjw5_k_bj2mpi94a7u3rb4fxrkvcbk8hdv</usertoken>\\n<apptoken>b4cbqduc56uxywnfjf84cn96pks</apptoken>\\n <records_csv>\\n  <![CDATA[\\n  CAS,3,  Insert into WEBSITEM.FEATURE (FEATURE_SET_IDcommaATTR_CODEcommaATTR_TYPEcommaATTR_NAMEcommaLIMIT_UNIT_VALUEcommaLIMIT_UPGRADE_RULEcommaLIMIT_EXPIRE_PERIODcommaLIMIT_EXPIRE_DATE) values (25000002comma\\'SIMPLE_START\\'comma\\'Feature Set\\'comma\\'Simple Start\\'comma\\'\\'comma\\'\\'comma\\'\\'comma\\'\\'),  007b0ce9-fd04-4cb6-857a-1679f388560a\\n  ]]>\\n </records_csv>\\n<clist>6.29.14.80</clist></qdbapi>\\nresStreamorg.apache.http.conn.EofSensorInputStream@5784501d\\n<qdbapi>\\n\\t<action>API_ImportFromCSV</action>\\n\\t<errcode>0</errcode>\\n\\t<errtext>No error</errtext>\\n\\t<num_recs_input>1</num_recs_input>\\n\\t<num_recs_added>1</num_recs_added>',\n",
       " '\\t<rids>\\t  <rid update_id=\"1503167895390\">139055</rid></rids>\\n</qdbapi>\\n<query><table fields=\\'3.18  .28  .10  .13  .37 .42  \\' qur=\\'{34 .GT.0}AND{50.EX.4603}\\' type = \\'Offer\\'>bjgvik7dc\\t</table></query>\\ntransformMessage\\nactiondata\\nreq_xml<qdbapi><usertoken>b2fjw5_k_bj2mpi94a7u3rb4fxrkvcbk8hdv</usertoken><clist>3.18  .28  .10  .13  .37 .42  </clist><query>{34 .GT.0}AND{50.EX.4603}</query><apptoken>b4cbqduc56uxywnfjf84cn96pks</apptoken><options>csv</options><fmt>structured</fmt></qdbapi>\\nresStreamorg.apache.http.conn.EofSensorInputStream@5c18029d\\ni am repeating second\\ncsvFields are[Ljava.lang.String;@599e3822\\n3,25000002,22000000,QBO_SIMPLE_START,QuickBooks Online Simple Start,Active,QBO_SIMPLE_START\\ntest\\ntransformMessage\\nactionlogs\\nreq_xml<?xml version=\\'1.0\\' encoding=\\'ISO-8859-1\\'  ?>\\n<qdbapi>\\n <usertoken>b2fjw5_k_bj2mpi94a7u3rb4fxrkvcbk8hdv</usertoken>\\n<apptoken>b4cbqduc56uxywnfjf84cn96pks</apptoken>\\n <records_csv>\\n  <![CDATA[\\n  CAS,3,  Insert into WEBSITEM.FEATURE_SET (FEATURE_SET_IDcommaPRODUCT_IDcommaNAMEcommaDESCRIPTIONcommaSTATUScommaCODE) values (\\'25000002\\'comma\\'22000000\\'comma\\'QBO_SIMPLE_START\\'comma\\'QuickBooks Online Simple Start\\'comma\\'Active\\'comma\\'QBO_SIMPLE_START\\'),  9389b926-7b33-47c0-92a7-57850a991743\\n  ]]>\\n </records_csv>\\n<clist>6.27.14.80</clist></qdbapi>\\nresStreamorg.apache.http.conn.EofSensorInputStream@2575ef15\\n<qdbapi>\\n\\t<action>API_ImportFromCSV</action>\\n\\t<errcode>0</errcode>\\n\\t<errtext>No error</errtext>\\n\\t<num_recs_input>1</num_recs_input>\\n\\t<num_recs_added>1</num_recs_added>',\n",
       " '\\t<rids>\\t  <rid update_id=\"1503167894968\">139053</rid></rids>\\n</qdbapi>\\n<query><table fields=\\'3.33.34\\' qur=\\'{37 .GT.0}AND{8 .EX.4603}\\' type = \\'Offer\\'>bjgvik7tj</table></query>\\ntransformMessage\\nactiondata\\nreq_xml<qdbapi><usertoken>b2fjw5_k_bj2mpi94a7u3rb4fxrkvcbk8hdv</usertoken><clist>3.33.34</clist><query>{37 .GT.0}AND{8 .EX.4603}</query><apptoken>b4cbqduc56uxywnfjf84cn96pks</apptoken><options>csv</options><fmt>structured</fmt></qdbapi>\\nresStreamorg.apache.http.conn.EofSensorInputStream@865aefd\\ni am repeating second\\ncsvFields are[Ljava.lang.String;@5a3ee158\\n4589,20004602,21005186\\ntest\\ntransformMessage\\nactionlogs\\nreq_xml<?xml version=\\'1.0\\' encoding=\\'ISO-8859-1\\'  ?>\\n<qdbapi>\\n <usertoken>b2fjw5_k_bj2mpi94a7u3rb4fxrkvcbk8hdv</usertoken>\\n<apptoken>b4cbqduc56uxywnfjf84cn96pks</apptoken>\\n <records_csv>\\n  <![CDATA[\\n  CAS,4589,  Insert into WEBSITEM.OFFER_COMPONENT (OFFER_IDcommaPACKAGE_ID) values (20004602comma21005186),  9389b926-7b33-47c0-92a7-57850a991743\\n  ]]>\\n </records_csv>\\n<clist>6.10.14.80</clist></qdbapi>\\nresStreamorg.apache.http.conn.EofSensorInputStream@24f8ead\\n<qdbapi>\\n\\t<action>API_ImportFromCSV</action>\\n\\t<errcode>0</errcode>\\n\\t<errtext>No error</errtext>\\n\\t<num_recs_input>1</num_recs_input>\\n\\t<num_recs_added>1</num_recs_added>',\n",
       " '\\t<rids>\\t  <rid update_id=\"1503167894703\">139052</rid></rids>\\n</qdbapi>\\n<query><table fields=\\'3.31 .6 .39 .17 .18 .19 .41 .9 \\' qur=\\'{37.GT.0}AND{42.EX.4603}\\' type = \\'Offer\\'>bjgvik7ez\\t</table></query>\\ntransformMessage\\nactiondata\\nreq_xml<qdbapi><usertoken>b2fjw5_k_bj2mpi94a7u3rb4fxrkvcbk8hdv</usertoken><clist>3.31 .6 .39 .17 .18 .19 .41 .9 </clist><query>{37.GT.0}AND{42.EX.4603}</query><apptoken>b4cbqduc56uxywnfjf84cn96pks</apptoken><options>csv</options><fmt>structured</fmt></qdbapi>\\nresStreamorg.apache.http.conn.EofSensorInputStream@751a7367\\ni am repeating second\\ncsvFields are[Ljava.lang.String;@5f32f718\\n3,25000002,Simple Start,SIMPLE_START,,,,,Feature Set\\ntest\\ntransformMessage\\nactionlogs\\nreq_xml<?xml version=\\'1.0\\' encoding=\\'ISO-8859-1\\'  ?>\\n<qdbapi>\\n <usertoken>b2fjw5_k_bj2mpi94a7u3rb4fxrkvcbk8hdv</usertoken>\\n<apptoken>b4cbqduc56uxywnfjf84cn96pks</apptoken>\\n <records_csv>\\n  <![CDATA[\\n  CAS,3,  Insert into WEBSITEM.FEATURE (FEATURE_SET_IDcommaATTR_CODEcommaATTR_TYPEcommaATTR_NAMEcommaLIMIT_UNIT_VALUEcommaLIMIT_UPGRADE_RULEcommaLIMIT_EXPIRE_PERIODcommaLIMIT_EXPIRE_DATE) values (25000002comma\\'SIMPLE_START\\'comma\\'Feature Set\\'comma\\'Simple Start\\'comma\\'\\'comma\\'\\'comma\\'\\'comma\\'\\'),  9389b926-7b33-47c0-92a7-57850a991743\\n  ]]>\\n </records_csv>\\n<clist>6.29.14.80</clist></qdbapi>\\nresStreamorg.apache.http.conn.EofSensorInputStream@5f818f29\\n<qdbapi>\\n\\t<action>API_ImportFromCSV</action>\\n\\t<errcode>0</errcode>\\n\\t<errtext>No error</errtext>\\n\\t<num_recs_input>1</num_recs_input>\\n\\t<num_recs_added>1</num_recs_added>',\n",
       " '\\t<rids>\\t  <rid update_id=\"1503167843990\">138991</rid></rids>\\n</qdbapi>\\n<query><table fields=\\'3.18  .28  .10  .13  .37 .42  \\' qur=\\'{34 .GT.0}AND{50.EX.4585}\\' type = \\'Offer\\'>bjgvik7dc\\t</table></query>\\ntransformMessage\\nactiondata\\nreq_xml<qdbapi><usertoken>b2fjw5_k_bj2mpi94a7u3rb4fxrkvcbk8hdv</usertoken><clist>3.18  .28  .10  .13  .37 .42  </clist><query>{34 .GT.0}AND{50.EX.4585}</query><apptoken>b4cbqduc56uxywnfjf84cn96pks</apptoken><options>csv</options><fmt>structured</fmt></qdbapi>\\nresStreamorg.apache.http.conn.EofSensorInputStream@41a75ac\\ni am repeating second\\ncsvFields are[Ljava.lang.String;@7fd1f02b\\n3,25000002,22000000,QBO_SIMPLE_START,QuickBooks Online Simple Start,Active,QBO_SIMPLE_START\\ntest\\ntransformMessage\\nactionlogs\\nreq_xml<?xml version=\\'1.0\\' encoding=\\'ISO-8859-1\\'  ?>\\n<qdbapi>\\n <usertoken>b2fjw5_k_bj2mpi94a7u3rb4fxrkvcbk8hdv</usertoken>\\n<apptoken>b4cbqduc56uxywnfjf84cn96pks</apptoken>\\n <records_csv>\\n  <![CDATA[\\n  CAS,3,  Insert into WEBSITEM.FEATURE_SET (FEATURE_SET_IDcommaPRODUCT_IDcommaNAMEcommaDESCRIPTIONcommaSTATUScommaCODE) values (\\'25000002\\'comma\\'22000000\\'comma\\'QBO_SIMPLE_START\\'comma\\'QuickBooks Online Simple Start\\'comma\\'Active\\'comma\\'QBO_SIMPLE_START\\'),  68413034-f9af-4c15-bf9c-7ab2e71582e2\\n  ]]>\\n </records_csv>\\n<clist>6.27.14.80</clist></qdbapi>\\nresStreamorg.apache.http.conn.EofSensorInputStream@77a0e85a\\n<qdbapi>\\n\\t<action>API_ImportFromCSV</action>\\n\\t<errcode>0</errcode>\\n\\t<errtext>No error</errtext>\\n\\t<num_recs_input>1</num_recs_input>\\n\\t<num_recs_added>1</num_recs_added>',\n",
       " '\\t<rids>\\t  <rid update_id=\"1503167843615\">138989</rid></rids>\\n</qdbapi>\\n<query><table fields=\\'3.33.34\\' qur=\\'{37 .GT.0}AND{8 .EX.4585}\\' type = \\'Offer\\'>bjgvik7tj</table></query>\\ntransformMessage\\nactiondata\\nreq_xml<qdbapi><usertoken>b2fjw5_k_bj2mpi94a7u3rb4fxrkvcbk8hdv</usertoken><clist>3.33.34</clist><query>{37 .GT.0}AND{8 .EX.4585}</query><apptoken>b4cbqduc56uxywnfjf84cn96pks</apptoken><options>csv</options><fmt>structured</fmt></qdbapi>\\nresStreamorg.apache.http.conn.EofSensorInputStream@77310ef6\\ni am repeating second\\ncsvFields are[Ljava.lang.String;@72dcc450\\n4586,20004584,21005185\\ntest\\ntransformMessage\\nactionlogs\\nreq_xml<?xml version=\\'1.0\\' encoding=\\'ISO-8859-1\\'  ?>\\n<qdbapi>\\n <usertoken>b2fjw5_k_bj2mpi94a7u3rb4fxrkvcbk8hdv</usertoken>\\n<apptoken>b4cbqduc56uxywnfjf84cn96pks</apptoken>\\n <records_csv>\\n  <![CDATA[\\n  CAS,4586,  Insert into WEBSITEM.OFFER_COMPONENT (OFFER_IDcommaPACKAGE_ID) values (20004584comma21005185),  68413034-f9af-4c15-bf9c-7ab2e71582e2\\n  ]]>\\n </records_csv>\\n<clist>6.10.14.80</clist></qdbapi>\\nresStreamorg.apache.http.conn.EofSensorInputStream@68438ad3\\n<qdbapi>\\n\\t<action>API_ImportFromCSV</action>\\n\\t<errcode>0</errcode>\\n\\t<errtext>No error</errtext>\\n\\t<num_recs_input>1</num_recs_input>\\n\\t<num_recs_added>1</num_recs_added>',\n",
       " '\\t<rids>\\t  <rid update_id=\"1503167841927\">138988</rid></rids>\\n</qdbapi>\\n<query><table fields=\\'3.31 .6 .39 .17 .18 .19 .41 .9 \\' qur=\\'{37.GT.0}AND{42.EX.4585}\\' type = \\'Offer\\'>bjgvik7ez\\t</table></query>\\ntransformMessage\\nactiondata\\nreq_xml<qdbapi><usertoken>b2fjw5_k_bj2mpi94a7u3rb4fxrkvcbk8hdv</usertoken><clist>3.31 .6 .39 .17 .18 .19 .41 .9 </clist><query>{37.GT.0}AND{42.EX.4585}</query><apptoken>b4cbqduc56uxywnfjf84cn96pks</apptoken><options>csv</options><fmt>structured</fmt></qdbapi>\\nresStreamorg.apache.http.conn.EofSensorInputStream@11743361\\ni am repeating second\\ncsvFields are[Ljava.lang.String;@5d87aa0a\\n3,25000002,Simple Start,SIMPLE_START,,,,,Feature Set\\ntest\\ntransformMessage\\nactionlogs\\nreq_xml<?xml version=\\'1.0\\' encoding=\\'ISO-8859-1\\'  ?>\\n<qdbapi>\\n <usertoken>b2fjw5_k_bj2mpi94a7u3rb4fxrkvcbk8hdv</usertoken>\\n<apptoken>b4cbqduc56uxywnfjf84cn96pks</apptoken>\\n <records_csv>\\n  <![CDATA[\\n  CAS,3,  Insert into WEBSITEM.FEATURE (FEATURE_SET_IDcommaATTR_CODEcommaATTR_TYPEcommaATTR_NAMEcommaLIMIT_UNIT_VALUEcommaLIMIT_UPGRADE_RULEcommaLIMIT_EXPIRE_PERIODcommaLIMIT_EXPIRE_DATE) values (25000002comma\\'SIMPLE_START\\'comma\\'Feature Set\\'comma\\'Simple Start\\'comma\\'\\'comma\\'\\'comma\\'\\'comma\\'\\'),  68413034-f9af-4c15-bf9c-7ab2e71582e2\\n  ]]>\\n </records_csv>\\n<clist>6.29.14.80</clist></qdbapi>\\nresStreamorg.apache.http.conn.EofSensorInputStream@4e123e41\\n<qdbapi>\\n\\t<action>API_ImportFromCSV</action>\\n\\t<errcode>0</errcode>\\n\\t<errtext>No error</errtext>\\n\\t<num_recs_input>1</num_recs_input>\\n\\t<num_recs_added>1</num_recs_added>',\n",
       " '\\t<rids>\\t  <rid update_id=\"1503167739310\">138926</rid></rids>\\n</qdbapi>\\n<query><table fields=\\'3.18  .28  .10  .13  .37 .42  \\' qur=\\'{34 .GT.0}AND{50.EX.4601}\\' type = \\'Offer\\'>bjgvik7dc\\t</table></query>\\ntransformMessage\\nactiondata\\nreq_xml<qdbapi><usertoken>b2fjw5_k_bj2mpi94a7u3rb4fxrkvcbk8hdv</usertoken><clist>3.18  .28  .10  .13  .37 .42  </clist><query>{34 .GT.0}AND{50.EX.4601}</query><apptoken>b4cbqduc56uxywnfjf84cn96pks</apptoken><options>csv</options><fmt>structured</fmt></qdbapi>\\nresStreamorg.apache.http.conn.EofSensorInputStream@53e7ffe5\\ni am repeating second\\ncsvFields are[Ljava.lang.String;@fcba9af\\n2,25000001,22000000,QBO_ESSENTIALS,QuickBooks Online Essentials,Active,QBO_ESSENTIALS\\ntest\\ntransformMessage\\nactionlogs\\nreq_xml<?xml version=\\'1.0\\' encoding=\\'ISO-8859-1\\'  ?>\\n<qdbapi>\\n <usertoken>b2fjw5_k_bj2mpi94a7u3rb4fxrkvcbk8hdv</usertoken>\\n<apptoken>b4cbqduc56uxywnfjf84cn96pks</apptoken>\\n <records_csv>\\n  <![CDATA[\\n  CAS,2,  Insert into WEBSITEM.FEATURE_SET (FEATURE_SET_IDcommaPRODUCT_IDcommaNAMEcommaDESCRIPTIONcommaSTATUScommaCODE) values (\\'25000001\\'comma\\'22000000\\'comma\\'QBO_ESSENTIALS\\'comma\\'QuickBooks Online Essentials\\'comma\\'Active\\'comma\\'QBO_ESSENTIALS\\'),  296349c7-bfb3-43bf-8694-17ec266651f1\\n  ]]>\\n </records_csv>\\n<clist>6.27.14.80</clist></qdbapi>\\nresStreamorg.apache.http.conn.EofSensorInputStream@801659b\\n<qdbapi>\\n\\t<action>API_ImportFromCSV</action>\\n\\t<errcode>0</errcode>\\n\\t<errtext>No error</errtext>\\n\\t<num_recs_input>1</num_recs_input>\\n\\t<num_recs_added>1</num_recs_added>',\n",
       " '\\t<rids>\\t  <rid update_id=\"1503167738935\">138924</rid></rids>\\n</qdbapi>\\n<query><table fields=\\'3.33.34\\' qur=\\'{37 .GT.0}AND{8 .EX.4601}\\' type = \\'Offer\\'>bjgvik7tj</table></query>\\ntransformMessage\\nactiondata\\nreq_xml<qdbapi><usertoken>b2fjw5_k_bj2mpi94a7u3rb4fxrkvcbk8hdv</usertoken><clist>3.33.34</clist><query>{37 .GT.0}AND{8 .EX.4601}</query><apptoken>b4cbqduc56uxywnfjf84cn96pks</apptoken><options>csv</options><fmt>structured</fmt></qdbapi>\\nresStreamorg.apache.http.conn.EofSensorInputStream@7637da5d\\ni am repeating second\\ncsvFields are[Ljava.lang.String;@26099f76\\n4603,20004600,21005202\\ntest\\ntransformMessage\\nactionlogs\\nreq_xml<?xml version=\\'1.0\\' encoding=\\'ISO-8859-1\\'  ?>\\n<qdbapi>\\n <usertoken>b2fjw5_k_bj2mpi94a7u3rb4fxrkvcbk8hdv</usertoken>\\n<apptoken>b4cbqduc56uxywnfjf84cn96pks</apptoken>\\n <records_csv>\\n  <![CDATA[\\n  CAS,4603,  Insert into WEBSITEM.OFFER_COMPONENT (OFFER_IDcommaPACKAGE_ID) values (20004600comma21005202),  296349c7-bfb3-43bf-8694-17ec266651f1\\n  ]]>\\n </records_csv>\\n<clist>6.10.14.80</clist></qdbapi>\\nresStreamorg.apache.http.conn.EofSensorInputStream@aada14b\\n<qdbapi>\\n\\t<action>API_ImportFromCSV</action>\\n\\t<errcode>0</errcode>\\n\\t<errtext>No error</errtext>\\n\\t<num_recs_input>1</num_recs_input>\\n\\t<num_recs_added>1</num_recs_added>',\n",
       " '\\t<rids>\\t  <rid update_id=\"1503167659784\">138861</rid></rids>\\n</qdbapi>\\n<query><table fields=\\'3.18  .28  .10  .13  .37 .42  \\' qur=\\'{34 .GT.0}AND{50.EX.4598}\\' type = \\'Offer\\'>bjgvik7dc\\t</table></query>\\ntransformMessage\\nactiondata\\nreq_xml<qdbapi><usertoken>b2fjw5_k_bj2mpi94a7u3rb4fxrkvcbk8hdv</usertoken><clist>3.18  .28  .10  .13  .37 .42  </clist><query>{34 .GT.0}AND{50.EX.4598}</query><apptoken>b4cbqduc56uxywnfjf84cn96pks</apptoken><options>csv</options><fmt>structured</fmt></qdbapi>\\nresStreamorg.apache.http.conn.EofSensorInputStream@107b9e53\\ni am repeating second\\ncsvFields are[Ljava.lang.String;@753bf718\\n2,25000001,22000000,QBO_ESSENTIALS,QuickBooks Online Essentials,Active,QBO_ESSENTIALS\\ntest\\ntransformMessage\\nactionlogs\\nreq_xml<?xml version=\\'1.0\\' encoding=\\'ISO-8859-1\\'  ?>\\n<qdbapi>\\n <usertoken>b2fjw5_k_bj2mpi94a7u3rb4fxrkvcbk8hdv</usertoken>\\n<apptoken>b4cbqduc56uxywnfjf84cn96pks</apptoken>\\n <records_csv>\\n  <![CDATA[\\n  CAS,2,  Insert into WEBSITEM.FEATURE_SET (FEATURE_SET_IDcommaPRODUCT_IDcommaNAMEcommaDESCRIPTIONcommaSTATUScommaCODE) values (\\'25000001\\'comma\\'22000000\\'comma\\'QBO_ESSENTIALS\\'comma\\'QuickBooks Online Essentials\\'comma\\'Active\\'comma\\'QBO_ESSENTIALS\\'),  31145c00-b82a-47c5-9899-9c942fd14292\\n  ]]>\\n </records_csv>\\n<clist>6.27.14.80</clist></qdbapi>\\nresStreamorg.apache.http.conn.EofSensorInputStream@3cfa22e5\\n<qdbapi>\\n\\t<action>API_ImportFromCSV</action>\\n\\t<errcode>0</errcode>\\n\\t<errtext>No error</errtext>\\n\\t<num_recs_input>1</num_recs_input>\\n\\t<num_recs_added>1</num_recs_added>',\n",
       " '\\t<rids>\\t  <rid update_id=\"1503167659425\">138859</rid></rids>\\n</qdbapi>\\n<query><table fields=\\'3.33.34\\' qur=\\'{37 .GT.0}AND{8 .EX.4598}\\' type = \\'Offer\\'>bjgvik7tj</table></query>\\ntransformMessage\\nactiondata\\nreq_xml<qdbapi><usertoken>b2fjw5_k_bj2mpi94a7u3rb4fxrkvcbk8hdv</usertoken><clist>3.33.34</clist><query>{37 .GT.0}AND{8 .EX.4598}</query><apptoken>b4cbqduc56uxywnfjf84cn96pks</apptoken><options>csv</options><fmt>structured</fmt></qdbapi>\\nresStreamorg.apache.http.conn.EofSensorInputStream@433d29f7\\ni am repeating second\\ncsvFields are[Ljava.lang.String;@202280ef\\n4600,20004597,21005199\\ntest\\ntransformMessage\\nactionlogs\\nreq_xml<?xml version=\\'1.0\\' encoding=\\'ISO-8859-1\\'  ?>\\n<qdbapi>\\n <usertoken>b2fjw5_k_bj2mpi94a7u3rb4fxrkvcbk8hdv</usertoken>\\n<apptoken>b4cbqduc56uxywnfjf84cn96pks</apptoken>\\n <records_csv>\\n  <![CDATA[\\n  CAS,4600,  Insert into WEBSITEM.OFFER_COMPONENT (OFFER_IDcommaPACKAGE_ID) values (20004597comma21005199),  31145c00-b82a-47c5-9899-9c942fd14292\\n  ]]>\\n </records_csv>\\n<clist>6.10.14.80</clist></qdbapi>\\nresStreamorg.apache.http.conn.EofSensorInputStream@5af802f6\\n<qdbapi>\\n\\t<action>API_ImportFromCSV</action>\\n\\t<errcode>0</errcode>\\n\\t<errtext>No error</errtext>\\n\\t<num_recs_input>1</num_recs_input>\\n\\t<num_recs_added>1</num_recs_added>',\n",
       " '\\t<rids>\\t  <rid update_id=\"1503167607686\">138796</rid></rids>\\n</qdbapi>\\n<query><table fields=\\'3.18  .28  .10  .13  .37 .42  \\' qur=\\'{34 .GT.0}AND{50.EX.4595}\\' type = \\'Offer\\'>bjgvik7dc\\t</table></query>\\ntransformMessage\\nactiondata\\nreq_xml<qdbapi><usertoken>b2fjw5_k_bj2mpi94a7u3rb4fxrkvcbk8hdv</usertoken><clist>3.18  .28  .10  .13  .37 .42  </clist><query>{34 .GT.0}AND{50.EX.4595}</query><apptoken>b4cbqduc56uxywnfjf84cn96pks</apptoken><options>csv</options><fmt>structured</fmt></qdbapi>\\nresStreamorg.apache.http.conn.EofSensorInputStream@3bc72887\\ni am repeating second\\ncsvFields are[Ljava.lang.String;@6e50d77\\n2,25000001,22000000,QBO_ESSENTIALS,QuickBooks Online Essentials,Active,QBO_ESSENTIALS\\ntest\\ntransformMessage\\nactionlogs\\nreq_xml<?xml version=\\'1.0\\' encoding=\\'ISO-8859-1\\'  ?>\\n<qdbapi>\\n <usertoken>b2fjw5_k_bj2mpi94a7u3rb4fxrkvcbk8hdv</usertoken>\\n<apptoken>b4cbqduc56uxywnfjf84cn96pks</apptoken>\\n <records_csv>\\n  <![CDATA[\\n  CAS,2,  Insert into WEBSITEM.FEATURE_SET (FEATURE_SET_IDcommaPRODUCT_IDcommaNAMEcommaDESCRIPTIONcommaSTATUScommaCODE) values (\\'25000001\\'comma\\'22000000\\'comma\\'QBO_ESSENTIALS\\'comma\\'QuickBooks Online Essentials\\'comma\\'Active\\'comma\\'QBO_ESSENTIALS\\'),  d1e3acb0-955e-440c-8a64-57c1b53c9763\\n  ]]>\\n </records_csv>\\n<clist>6.27.14.80</clist></qdbapi>\\nresStreamorg.apache.http.conn.EofSensorInputStream@1a9e5308\\n<qdbapi>\\n\\t<action>API_ImportFromCSV</action>\\n\\t<errcode>0</errcode>\\n\\t<errtext>No error</errtext>\\n\\t<num_recs_input>1</num_recs_input>\\n\\t<num_recs_added>1</num_recs_added>',\n",
       " '\\t<rids>\\t  <rid update_id=\"1503167607326\">138794</rid></rids>\\n</qdbapi>\\n<query><table fields=\\'3.33.34\\' qur=\\'{37 .GT.0}AND{8 .EX.4595}\\' type = \\'Offer\\'>bjgvik7tj</table></query>\\ntransformMessage\\nactiondata\\nreq_xml<qdbapi><usertoken>b2fjw5_k_bj2mpi94a7u3rb4fxrkvcbk8hdv</usertoken><clist>3.33.34</clist><query>{37 .GT.0}AND{8 .EX.4595}</query><apptoken>b4cbqduc56uxywnfjf84cn96pks</apptoken><options>csv</options><fmt>structured</fmt></qdbapi>\\nresStreamorg.apache.http.conn.EofSensorInputStream@1223b542\\ni am repeating second\\ncsvFields are[Ljava.lang.String;@60cefdb9\\n4597,20004594,21005196\\ntest\\ntransformMessage\\nactionlogs\\nreq_xml<?xml version=\\'1.0\\' encoding=\\'ISO-8859-1\\'  ?>\\n<qdbapi>\\n <usertoken>b2fjw5_k_bj2mpi94a7u3rb4fxrkvcbk8hdv</usertoken>\\n<apptoken>b4cbqduc56uxywnfjf84cn96pks</apptoken>\\n <records_csv>\\n  <![CDATA[\\n  CAS,4597,  Insert into WEBSITEM.OFFER_COMPONENT (OFFER_IDcommaPACKAGE_ID) values (20004594comma21005196),  d1e3acb0-955e-440c-8a64-57c1b53c9763\\n  ]]>\\n </records_csv>\\n<clist>6.10.14.80</clist></qdbapi>\\nresStreamorg.apache.http.conn.EofSensorInputStream@c648ccc\\n<qdbapi>\\n\\t<action>API_ImportFromCSV</action>\\n\\t<errcode>0</errcode>\\n\\t<errtext>No error</errtext>\\n\\t<num_recs_input>1</num_recs_input>\\n\\t<num_recs_added>1</num_recs_added>',\n",
       " '\\t<rids>\\t  <rid update_id=\"1503167455862\">138731</rid></rids>\\n</qdbapi>\\n<query><table fields=\\'3.18  .28  .10  .13  .37 .42  \\' qur=\\'{34 .GT.0}AND{50.EX.4592}\\' type = \\'Offer\\'>bjgvik7dc\\t</table></query>\\ntransformMessage\\nactiondata\\nreq_xml<qdbapi><usertoken>b2fjw5_k_bj2mpi94a7u3rb4fxrkvcbk8hdv</usertoken><clist>3.18  .28  .10  .13  .37 .42  </clist><query>{34 .GT.0}AND{50.EX.4592}</query><apptoken>b4cbqduc56uxywnfjf84cn96pks</apptoken><options>csv</options><fmt>structured</fmt></qdbapi>\\nresStreamorg.apache.http.conn.EofSensorInputStream@59c3b00d\\ni am repeating second\\ncsvFields are[Ljava.lang.String;@35d71b53\\n2,25000001,22000000,QBO_ESSENTIALS,QuickBooks Online Essentials,Active,QBO_ESSENTIALS\\ntest\\ntransformMessage\\nactionlogs\\nreq_xml<?xml version=\\'1.0\\' encoding=\\'ISO-8859-1\\'  ?>\\n<qdbapi>\\n <usertoken>b2fjw5_k_bj2mpi94a7u3rb4fxrkvcbk8hdv</usertoken>\\n<apptoken>b4cbqduc56uxywnfjf84cn96pks</apptoken>\\n <records_csv>\\n  <![CDATA[\\n  CAS,2,  Insert into WEBSITEM.FEATURE_SET (FEATURE_SET_IDcommaPRODUCT_IDcommaNAMEcommaDESCRIPTIONcommaSTATUScommaCODE) values (\\'25000001\\'comma\\'22000000\\'comma\\'QBO_ESSENTIALS\\'comma\\'QuickBooks Online Essentials\\'comma\\'Active\\'comma\\'QBO_ESSENTIALS\\'),  cb09fd6c-0448-40b8-8eef-df491840fd8e\\n  ]]>\\n </records_csv>\\n<clist>6.27.14.80</clist></qdbapi>\\nresStreamorg.apache.http.conn.EofSensorInputStream@2f9eb518\\n<qdbapi>\\n\\t<action>API_ImportFromCSV</action>\\n\\t<errcode>0</errcode>\\n\\t<errtext>No error</errtext>\\n\\t<num_recs_input>1</num_recs_input>\\n\\t<num_recs_added>1</num_recs_added>',\n",
       " '\\t<rids>\\t  <rid update_id=\"1503167455518\">138729</rid></rids>\\n</qdbapi>\\n<query><table fields=\\'3.33.34\\' qur=\\'{37 .GT.0}AND{8 .EX.4592}\\' type = \\'Offer\\'>bjgvik7tj</table></query>\\ntransformMessage\\nactiondata\\nreq_xml<qdbapi><usertoken>b2fjw5_k_bj2mpi94a7u3rb4fxrkvcbk8hdv</usertoken><clist>3.33.34</clist><query>{37 .GT.0}AND{8 .EX.4592}</query><apptoken>b4cbqduc56uxywnfjf84cn96pks</apptoken><options>csv</options><fmt>structured</fmt></qdbapi>\\nresStreamorg.apache.http.conn.EofSensorInputStream@407b0bcc\\ni am repeating second\\ncsvFields are[Ljava.lang.String;@7026c125\\n4594,20004591,21005193\\ntest\\ntransformMessage\\nactionlogs\\nreq_xml<?xml version=\\'1.0\\' encoding=\\'ISO-8859-1\\'  ?>\\n<qdbapi>\\n <usertoken>b2fjw5_k_bj2mpi94a7u3rb4fxrkvcbk8hdv</usertoken>\\n<apptoken>b4cbqduc56uxywnfjf84cn96pks</apptoken>\\n <records_csv>\\n  <![CDATA[\\n  CAS,4594,  Insert into WEBSITEM.OFFER_COMPONENT (OFFER_IDcommaPACKAGE_ID) values (20004591comma21005193),  cb09fd6c-0448-40b8-8eef-df491840fd8e\\n  ]]>\\n </records_csv>\\n<clist>6.10.14.80</clist></qdbapi>\\nresStreamorg.apache.http.conn.EofSensorInputStream@1d1d9d62\\n<qdbapi>\\n\\t<action>API_ImportFromCSV</action>\\n\\t<errcode>0</errcode>\\n\\t<errtext>No error</errtext>\\n\\t<num_recs_input>1</num_recs_input>\\n\\t<num_recs_added>1</num_recs_added>',\n",
       " '\\t<rids>\\t  <rid update_id=\"1503167364946\">138667</rid></rids>\\n</qdbapi>\\n<query><table fields=\\'3.18  .28  .10  .13  .37 .42  \\' qur=\\'{34 .GT.0}AND{50.EX.4589}\\' type = \\'Offer\\'>bjgvik7dc\\t</table></query>\\ntransformMessage\\nactiondata\\nreq_xml<qdbapi><usertoken>b2fjw5_k_bj2mpi94a7u3rb4fxrkvcbk8hdv</usertoken><clist>3.18  .28  .10  .13  .37 .42  </clist><query>{34 .GT.0}AND{50.EX.4589}</query><apptoken>b4cbqduc56uxywnfjf84cn96pks</apptoken><options>csv</options><fmt>structured</fmt></qdbapi>\\nresStreamorg.apache.http.conn.EofSensorInputStream@110f2c3d\\ni am repeating second\\ncsvFields are[Ljava.lang.String;@2047397d\\n2,25000001,22000000,QBO_ESSENTIALS,QuickBooks Online Essentials,Active,QBO_ESSENTIALS\\ntest\\ntransformMessage\\nactionlogs\\nreq_xml<?xml version=\\'1.0\\' encoding=\\'ISO-8859-1\\'  ?>\\n<qdbapi>\\n <usertoken>b2fjw5_k_bj2mpi94a7u3rb4fxrkvcbk8hdv</usertoken>\\n<apptoken>b4cbqduc56uxywnfjf84cn96pks</apptoken>\\n <records_csv>\\n  <![CDATA[\\n  CAS,2,  Insert into WEBSITEM.FEATURE_SET (FEATURE_SET_IDcommaPRODUCT_IDcommaNAMEcommaDESCRIPTIONcommaSTATUScommaCODE) values (\\'25000001\\'comma\\'22000000\\'comma\\'QBO_ESSENTIALS\\'comma\\'QuickBooks Online Essentials\\'comma\\'Active\\'comma\\'QBO_ESSENTIALS\\'),  9312f966-f4ac-406e-b431-fe484aa41585\\n  ]]>\\n </records_csv>\\n<clist>6.27.14.80</clist></qdbapi>\\nresStreamorg.apache.http.conn.EofSensorInputStream@451d7a5e\\n<qdbapi>\\n\\t<action>API_ImportFromCSV</action>\\n\\t<errcode>0</errcode>\\n\\t<errtext>No error</errtext>\\n\\t<num_recs_input>1</num_recs_input>\\n\\t<num_recs_added>1</num_recs_added>',\n",
       " '\\t<rids>\\t  <rid update_id=\"1503167364446\">138665</rid></rids>\\n</qdbapi>\\n<query><table fields=\\'3.33.34\\' qur=\\'{37 .GT.0}AND{8 .EX.4589}\\' type = \\'Offer\\'>bjgvik7tj</table></query>\\ntransformMessage\\nactiondata\\nreq_xml<qdbapi><usertoken>b2fjw5_k_bj2mpi94a7u3rb4fxrkvcbk8hdv</usertoken><clist>3.33.34</clist><query>{37 .GT.0}AND{8 .EX.4589}</query><apptoken>b4cbqduc56uxywnfjf84cn96pks</apptoken><options>csv</options><fmt>structured</fmt></qdbapi>\\nresStreamorg.apache.http.conn.EofSensorInputStream@7e1f4eaa\\ni am repeating second\\ncsvFields are[Ljava.lang.String;@7645e4c9\\n4591,20004588,21005190\\ntest\\ntransformMessage\\nactionlogs\\nreq_xml<?xml version=\\'1.0\\' encoding=\\'ISO-8859-1\\'  ?>\\n<qdbapi>\\n <usertoken>b2fjw5_k_bj2mpi94a7u3rb4fxrkvcbk8hdv</usertoken>\\n<apptoken>b4cbqduc56uxywnfjf84cn96pks</apptoken>\\n <records_csv>\\n  <![CDATA[\\n  CAS,4591,  Insert into WEBSITEM.OFFER_COMPONENT (OFFER_IDcommaPACKAGE_ID) values (20004588comma21005190),  9312f966-f4ac-406e-b431-fe484aa41585\\n  ]]>\\n </records_csv>\\n<clist>6.10.14.80</clist></qdbapi>\\nresStreamorg.apache.http.conn.EofSensorInputStream@12c14c6c\\n<qdbapi>\\n\\t<action>API_ImportFromCSV</action>\\n\\t<errcode>0</errcode>\\n\\t<errtext>No error</errtext>\\n\\t<num_recs_input>1</num_recs_input>\\n\\t<num_recs_added>1</num_recs_added>',\n",
       " '\\t<rids>\\t  <rid update_id=\"1503167234969\">138599</rid></rids>\\n</qdbapi>\\n<query><table fields=\\'3.18  .28  .10  .13  .37 .42  \\' qur=\\'{34 .GT.0}AND{50.EX.4604}\\' type = \\'Offer\\'>bjgvik7dc\\t</table></query>\\ntransformMessage\\nactiondata\\nreq_xml<qdbapi><usertoken>b2fjw5_k_bj2mpi94a7u3rb4fxrkvcbk8hdv</usertoken><clist>3.18  .28  .10  .13  .37 .42  </clist><query>{34 .GT.0}AND{50.EX.4604}</query><apptoken>b4cbqduc56uxywnfjf84cn96pks</apptoken><options>csv</options><fmt>structured</fmt></qdbapi>\\nresStreamorg.apache.http.conn.EofSensorInputStream@2391ea45\\ni am repeating second\\ncsvFields are[Ljava.lang.String;@42ffc6b3\\n2,25000001,22000000,QBO_ESSENTIALS,QuickBooks Online Essentials,Active,QBO_ESSENTIALS\\ntest\\ntransformMessage\\nactionlogs\\nreq_xml<?xml version=\\'1.0\\' encoding=\\'ISO-8859-1\\'  ?>\\n<qdbapi>\\n <usertoken>b2fjw5_k_bj2mpi94a7u3rb4fxrkvcbk8hdv</usertoken>\\n<apptoken>b4cbqduc56uxywnfjf84cn96pks</apptoken>\\n <records_csv>\\n  <![CDATA[\\n  CAS,2,  Insert into WEBSITEM.FEATURE_SET (FEATURE_SET_IDcommaPRODUCT_IDcommaNAMEcommaDESCRIPTIONcommaSTATUScommaCODE) values (\\'25000001\\'comma\\'22000000\\'comma\\'QBO_ESSENTIALS\\'comma\\'QuickBooks Online Essentials\\'comma\\'Active\\'comma\\'QBO_ESSENTIALS\\'),  b09bc8b0-3a6e-4c1a-b6e5-83e6d5d086a6\\n  ]]>\\n </records_csv>\\n<clist>6.27.14.80</clist></qdbapi>\\nresStreamorg.apache.http.conn.EofSensorInputStream@3f4e216e\\n<qdbapi>\\n\\t<action>API_ImportFromCSV</action>\\n\\t<errcode>0</errcode>\\n\\t<errtext>No error</errtext>\\n\\t<num_recs_input>1</num_recs_input>\\n\\t<num_recs_added>1</num_recs_added>',\n",
       " '\\t<rids>\\t  <rid update_id=\"1503167120296\">138536</rid></rids>\\n</qdbapi>\\n<query><table fields=\\'3.18  .28  .10  .13  .37 .42  \\' qur=\\'{34 .GT.0}AND{50.EX.4586}\\' type = \\'Offer\\'>bjgvik7dc\\t</table></query>\\ntransformMessage\\nactiondata\\nreq_xml<qdbapi><usertoken>b2fjw5_k_bj2mpi94a7u3rb4fxrkvcbk8hdv</usertoken><clist>3.18  .28  .10  .13  .37 .42  </clist><query>{34 .GT.0}AND{50.EX.4586}</query><apptoken>b4cbqduc56uxywnfjf84cn96pks</apptoken><options>csv</options><fmt>structured</fmt></qdbapi>\\nresStreamorg.apache.http.conn.EofSensorInputStream@781674c6\\ni am repeating second\\ncsvFields are[Ljava.lang.String;@5bdd8fae\\n2,25000001,22000000,QBO_ESSENTIALS,QuickBooks Online Essentials,Active,QBO_ESSENTIALS\\ntest\\ntransformMessage\\nactionlogs\\nreq_xml<?xml version=\\'1.0\\' encoding=\\'ISO-8859-1\\'  ?>\\n<qdbapi>\\n <usertoken>b2fjw5_k_bj2mpi94a7u3rb4fxrkvcbk8hdv</usertoken>\\n<apptoken>b4cbqduc56uxywnfjf84cn96pks</apptoken>\\n <records_csv>\\n  <![CDATA[\\n  CAS,2,  Insert into WEBSITEM.FEATURE_SET (FEATURE_SET_IDcommaPRODUCT_IDcommaNAMEcommaDESCRIPTIONcommaSTATUScommaCODE) values (\\'25000001\\'comma\\'22000000\\'comma\\'QBO_ESSENTIALS\\'comma\\'QuickBooks Online Essentials\\'comma\\'Active\\'comma\\'QBO_ESSENTIALS\\'),  e47ba45b-9a87-4a55-90ee-91221d410b1c\\n  ]]>\\n </records_csv>\\n<clist>6.27.14.80</clist></qdbapi>\\nresStreamorg.apache.http.conn.EofSensorInputStream@a87e22a\\n<qdbapi>\\n\\t<action>API_ImportFromCSV</action>\\n\\t<errcode>0</errcode>\\n\\t<errtext>No error</errtext>\\n\\t<num_recs_input>1</num_recs_input>\\n\\t<num_recs_added>1</num_recs_added>',\n",
       " '\\t<rids>\\t  <rid update_id=\"1503167119593\">138534</rid></rids>\\n</qdbapi>\\n<query><table fields=\\'3.33.34\\' qur=\\'{37 .GT.0}AND{8 .EX.4586}\\' type = \\'Offer\\'>bjgvik7tj</table></query>\\ntransformMessage\\nactiondata\\nreq_xml<qdbapi><usertoken>b2fjw5_k_bj2mpi94a7u3rb4fxrkvcbk8hdv</usertoken><clist>3.33.34</clist><query>{37 .GT.0}AND{8 .EX.4586}</query><apptoken>b4cbqduc56uxywnfjf84cn96pks</apptoken><options>csv</options><fmt>structured</fmt></qdbapi>\\nresStreamorg.apache.http.conn.EofSensorInputStream@2d9e00a6\\ni am repeating second\\ncsvFields are[Ljava.lang.String;@4c0f32c2\\n4585,20004585,21005184\\ntest\\ntransformMessage\\nactionlogs\\nreq_xml<?xml version=\\'1.0\\' encoding=\\'ISO-8859-1\\'  ?>\\n<qdbapi>\\n <usertoken>b2fjw5_k_bj2mpi94a7u3rb4fxrkvcbk8hdv</usertoken>\\n<apptoken>b4cbqduc56uxywnfjf84cn96pks</apptoken>\\n <records_csv>\\n  <![CDATA[\\n  CAS,4585,  Insert into WEBSITEM.OFFER_COMPONENT (OFFER_IDcommaPACKAGE_ID) values (20004585comma21005184),  e47ba45b-9a87-4a55-90ee-91221d410b1c\\n  ]]>\\n </records_csv>\\n<clist>6.10.14.80</clist></qdbapi>\\nresStreamorg.apache.http.conn.EofSensorInputStream@292b529f\\n<qdbapi>\\n\\t<action>API_ImportFromCSV</action>\\n\\t<errcode>0</errcode>\\n\\t<errtext>No error</errtext>\\n\\t<num_recs_input>1</num_recs_input>\\n\\t<num_recs_added>1</num_recs_added>',\n",
       " '\\t<rids>\\t  <rid update_id=\"1503167006909\">138473</rid></rids>\\n</qdbapi>\\n<query><table fields=\\'3.18  .28  .10  .13  .37 .42  \\' qur=\\'{34 .GT.0}AND{50.EX.4590}\\' type = \\'Offer\\'>bjgvik7dc\\t</table></query>\\ntransformMessage\\nactiondata\\nreq_xml<qdbapi><usertoken>b2fjw5_k_bj2mpi94a7u3rb4fxrkvcbk8hdv</usertoken><clist>3.18  .28  .10  .13  .37 .42  </clist><query>{34 .GT.0}AND{50.EX.4590}</query><apptoken>b4cbqduc56uxywnfjf84cn96pks</apptoken><options>csv</options><fmt>structured</fmt></qdbapi>\\nresStreamorg.apache.http.conn.EofSensorInputStream@10b01bd8\\ni am repeating second\\ncsvFields are[Ljava.lang.String;@1360dc0e\\n1,25000000,22000000,QBO_PLUS,QuickBooks Online Plus,Active,QBO_PLUS\\ntest\\ntransformMessage\\nactionlogs\\nreq_xml<?xml version=\\'1.0\\' encoding=\\'ISO-8859-1\\'  ?>\\n<qdbapi>\\n <usertoken>b2fjw5_k_bj2mpi94a7u3rb4fxrkvcbk8hdv</usertoken>\\n<apptoken>b4cbqduc56uxywnfjf84cn96pks</apptoken>\\n <records_csv>\\n  <![CDATA[\\n  CAS,1,  Insert into WEBSITEM.FEATURE_SET (FEATURE_SET_IDcommaPRODUCT_IDcommaNAMEcommaDESCRIPTIONcommaSTATUScommaCODE) values (\\'25000000\\'comma\\'22000000\\'comma\\'QBO_PLUS\\'comma\\'QuickBooks Online Plus\\'comma\\'Active\\'comma\\'QBO_PLUS\\'),  0ace86df-83cf-437c-9c8c-bfd671ba4485\\n  ]]>\\n </records_csv>\\n<clist>6.27.14.80</clist></qdbapi>\\nresStreamorg.apache.http.conn.EofSensorInputStream@67c0acff\\n<qdbapi>\\n\\t<action>API_ImportFromCSV</action>\\n\\t<errcode>0</errcode>\\n\\t<errtext>No error</errtext>\\n\\t<num_recs_input>1</num_recs_input>\\n\\t<num_recs_added>1</num_recs_added>',\n",
       " '\\t<rids>\\t  <rid update_id=\"1503167006424\">138471</rid></rids>\\n</qdbapi>\\n<query><table fields=\\'3.33.34\\' qur=\\'{37 .GT.0}AND{8 .EX.4590}\\' type = \\'Offer\\'>bjgvik7tj</table></query>\\ntransformMessage\\nactiondata\\nreq_xml<qdbapi><usertoken>b2fjw5_k_bj2mpi94a7u3rb4fxrkvcbk8hdv</usertoken><clist>3.33.34</clist><query>{37 .GT.0}AND{8 .EX.4590}</query><apptoken>b4cbqduc56uxywnfjf84cn96pks</apptoken><options>csv</options><fmt>structured</fmt></qdbapi>\\nresStreamorg.apache.http.conn.EofSensorInputStream@30e71dbd\\ni am repeating second\\ncsvFields are[Ljava.lang.String;@67c46d41\\n4590,20004589,21005191\\ntest\\ntransformMessage\\nactionlogs\\nreq_xml<?xml version=\\'1.0\\' encoding=\\'ISO-8859-1\\'  ?>\\n<qdbapi>\\n <usertoken>b2fjw5_k_bj2mpi94a7u3rb4fxrkvcbk8hdv</usertoken>\\n<apptoken>b4cbqduc56uxywnfjf84cn96pks</apptoken>\\n <records_csv>\\n  <![CDATA[\\n  CAS,4590,  Insert into WEBSITEM.OFFER_COMPONENT (OFFER_IDcommaPACKAGE_ID) values (20004589comma21005191),  0ace86df-83cf-437c-9c8c-bfd671ba4485\\n  ]]>\\n </records_csv>\\n<clist>6.10.14.80</clist></qdbapi>\\nresStreamorg.apache.http.conn.EofSensorInputStream@5f565f0\\n<qdbapi>\\n\\t<action>API_ImportFromCSV</action>\\n\\t<errcode>0</errcode>\\n\\t<errtext>No error</errtext>\\n\\t<num_recs_input>1</num_recs_input>\\n\\t<num_recs_added>1</num_recs_added>',\n",
       " '\\t<rids>\\t  <rid update_id=\"1503166953522\">138406</rid></rids>\\n</qdbapi>\\n<query><table fields=\\'3.18  .28  .10  .13  .37 .42  \\' qur=\\'{34 .GT.0}AND{50.EX.4602}\\' type = \\'Offer\\'>bjgvik7dc\\t</table></query>\\ntransformMessage\\nactiondata\\nreq_xml<qdbapi><usertoken>b2fjw5_k_bj2mpi94a7u3rb4fxrkvcbk8hdv</usertoken><clist>3.18  .28  .10  .13  .37 .42  </clist><query>{34 .GT.0}AND{50.EX.4602}</query><apptoken>b4cbqduc56uxywnfjf84cn96pks</apptoken><options>csv</options><fmt>structured</fmt></qdbapi>\\nresStreamorg.apache.http.conn.EofSensorInputStream@3180d9d3\\ni am repeating second\\ncsvFields are[Ljava.lang.String;@359a09ba\\n1,25000000,22000000,QBO_PLUS,QuickBooks Online Plus,Active,QBO_PLUS\\ntest\\ntransformMessage\\nactionlogs\\nreq_xml<?xml version=\\'1.0\\' encoding=\\'ISO-8859-1\\'  ?>\\n<qdbapi>\\n <usertoken>b2fjw5_k_bj2mpi94a7u3rb4fxrkvcbk8hdv</usertoken>\\n<apptoken>b4cbqduc56uxywnfjf84cn96pks</apptoken>\\n <records_csv>\\n  <![CDATA[\\n  CAS,1,  Insert into WEBSITEM.FEATURE_SET (FEATURE_SET_IDcommaPRODUCT_IDcommaNAMEcommaDESCRIPTIONcommaSTATUScommaCODE) values (\\'25000000\\'comma\\'22000000\\'comma\\'QBO_PLUS\\'comma\\'QuickBooks Online Plus\\'comma\\'Active\\'comma\\'QBO_PLUS\\'),  67fd2276-2e6a-4240-acc0-7c3ff536078a\\n  ]]>\\n </records_csv>\\n<clist>6.27.14.80</clist></qdbapi>\\nresStreamorg.apache.http.conn.EofSensorInputStream@14d66f51\\n<qdbapi>\\n\\t<action>API_ImportFromCSV</action>\\n\\t<errcode>0</errcode>\\n\\t<errtext>No error</errtext>\\n\\t<num_recs_input>1</num_recs_input>\\n\\t<num_recs_added>1</num_recs_added>',\n",
       " '\\t<rids>\\t  <rid update_id=\"1503166953116\">138404</rid></rids>\\n</qdbapi>\\n<query><table fields=\\'3.33.34\\' qur=\\'{37 .GT.0}AND{8 .EX.4602}\\' type = \\'Offer\\'>bjgvik7tj</table></query>\\ntransformMessage\\nactiondata\\nreq_xml<qdbapi><usertoken>b2fjw5_k_bj2mpi94a7u3rb4fxrkvcbk8hdv</usertoken><clist>3.33.34</clist><query>{37 .GT.0}AND{8 .EX.4602}</query><apptoken>b4cbqduc56uxywnfjf84cn96pks</apptoken><options>csv</options><fmt>structured</fmt></qdbapi>\\nresStreamorg.apache.http.conn.EofSensorInputStream@109cfec4\\ni am repeating second\\ncsvFields are[Ljava.lang.String;@544aef83\\n4602,20004601,21005203\\ntest\\ntransformMessage\\nactionlogs\\nreq_xml<?xml version=\\'1.0\\' encoding=\\'ISO-8859-1\\'  ?>\\n<qdbapi>\\n <usertoken>b2fjw5_k_bj2mpi94a7u3rb4fxrkvcbk8hdv</usertoken>\\n<apptoken>b4cbqduc56uxywnfjf84cn96pks</apptoken>\\n <records_csv>\\n  <![CDATA[\\n  CAS,4602,  Insert into WEBSITEM.OFFER_COMPONENT (OFFER_IDcommaPACKAGE_ID) values (20004601comma21005203),  67fd2276-2e6a-4240-acc0-7c3ff536078a\\n  ]]>\\n </records_csv>\\n<clist>6.10.14.80</clist></qdbapi>\\nresStreamorg.apache.http.conn.EofSensorInputStream@3c4499c3\\n<qdbapi>\\n\\t<action>API_ImportFromCSV</action>\\n\\t<errcode>0</errcode>\\n\\t<errtext>No error</errtext>\\n\\t<num_recs_input>1</num_recs_input>\\n\\t<num_recs_added>1</num_recs_added>',\n",
       " '\\t<rids>\\t  <rid update_id=\"1503166913182\">138340</rid></rids>\\n</qdbapi>\\n<query><table fields=\\'3.33.34\\' qur=\\'{37 .GT.0}AND{8 .EX.4599}\\' type = \\'Offer\\'>bjgvik7tj</table></query>\\ntransformMessage\\nactiondata\\nreq_xml<qdbapi><usertoken>b2fjw5_k_bj2mpi94a7u3rb4fxrkvcbk8hdv</usertoken><clist>3.33.34</clist><query>{37 .GT.0}AND{8 .EX.4599}</query><apptoken>b4cbqduc56uxywnfjf84cn96pks</apptoken><options>csv</options><fmt>structured</fmt></qdbapi>\\nresStreamorg.apache.http.conn.EofSensorInputStream@58c94685\\ni am repeating second\\ncsvFields are[Ljava.lang.String;@47e58b5b\\n4601,20004598,21005200\\ntest\\ntransformMessage\\nactionlogs\\nreq_xml<?xml version=\\'1.0\\' encoding=\\'ISO-8859-1\\'  ?>\\n<qdbapi>\\n <usertoken>b2fjw5_k_bj2mpi94a7u3rb4fxrkvcbk8hdv</usertoken>\\n<apptoken>b4cbqduc56uxywnfjf84cn96pks</apptoken>\\n <records_csv>\\n  <![CDATA[\\n  CAS,4601,  Insert into WEBSITEM.OFFER_COMPONENT (OFFER_IDcommaPACKAGE_ID) values (20004598comma21005200),  82bdb39a-058f-4d20-82fc-996718e59f6a\\n  ]]>\\n </records_csv>\\n<clist>6.10.14.80</clist></qdbapi>\\nresStreamorg.apache.http.conn.EofSensorInputStream@c2cca32\\n<qdbapi>\\n\\t<action>API_ImportFromCSV</action>\\n\\t<errcode>0</errcode>\\n\\t<errtext>No error</errtext>\\n\\t<num_recs_input>1</num_recs_input>\\n\\t<num_recs_added>1</num_recs_added>',\n",
       " '\\t<rids>\\t  <rid update_id=\"1503166824482\">138278</rid></rids>\\n</qdbapi>\\n<query><table fields=\\'3.18  .28  .10  .13  .37 .42  \\' qur=\\'{34 .GT.0}AND{50.EX.4596}\\' type = \\'Offer\\'>bjgvik7dc\\t</table></query>\\ntransformMessage\\nactiondata\\nreq_xml<qdbapi><usertoken>b2fjw5_k_bj2mpi94a7u3rb4fxrkvcbk8hdv</usertoken><clist>3.18  .28  .10  .13  .37 .42  </clist><query>{34 .GT.0}AND{50.EX.4596}</query><apptoken>b4cbqduc56uxywnfjf84cn96pks</apptoken><options>csv</options><fmt>structured</fmt></qdbapi>\\nresStreamorg.apache.http.conn.EofSensorInputStream@2d9e2aff\\ni am repeating second\\ncsvFields are[Ljava.lang.String;@30e8642b\\n1,25000000,22000000,QBO_PLUS,QuickBooks Online Plus,Active,QBO_PLUS\\ntest\\ntransformMessage\\nactionlogs\\nreq_xml<?xml version=\\'1.0\\' encoding=\\'ISO-8859-1\\'  ?>\\n<qdbapi>\\n <usertoken>b2fjw5_k_bj2mpi94a7u3rb4fxrkvcbk8hdv</usertoken>\\n<apptoken>b4cbqduc56uxywnfjf84cn96pks</apptoken>\\n <records_csv>\\n  <![CDATA[\\n  CAS,1,  Insert into WEBSITEM.FEATURE_SET (FEATURE_SET_IDcommaPRODUCT_IDcommaNAMEcommaDESCRIPTIONcommaSTATUScommaCODE) values (\\'25000000\\'comma\\'22000000\\'comma\\'QBO_PLUS\\'comma\\'QuickBooks Online Plus\\'comma\\'Active\\'comma\\'QBO_PLUS\\'),  5e31e360-53f6-4237-964c-1ca55bbf4ccb\\n  ]]>\\n </records_csv>\\n<clist>6.27.14.80</clist></qdbapi>\\nresStreamorg.apache.http.conn.EofSensorInputStream@c2d547b\\n<qdbapi>\\n\\t<action>API_ImportFromCSV</action>\\n\\t<errcode>0</errcode>\\n\\t<errtext>No error</errtext>\\n\\t<num_recs_input>1</num_recs_input>\\n\\t<num_recs_added>1</num_recs_added>',\n",
       " '\\t<rids>\\t  <rid update_id=\"1503166824029\">138276</rid></rids>\\n</qdbapi>\\n<query><table fields=\\'3.33.34\\' qur=\\'{37 .GT.0}AND{8 .EX.4596}\\' type = \\'Offer\\'>bjgvik7tj</table></query>\\ntransformMessage\\nactiondata\\nreq_xml<qdbapi><usertoken>b2fjw5_k_bj2mpi94a7u3rb4fxrkvcbk8hdv</usertoken><clist>3.33.34</clist><query>{37 .GT.0}AND{8 .EX.4596}</query><apptoken>b4cbqduc56uxywnfjf84cn96pks</apptoken><options>csv</options><fmt>structured</fmt></qdbapi>\\nresStreamorg.apache.http.conn.EofSensorInputStream@3f20a2e4\\ni am repeating second\\ncsvFields are[Ljava.lang.String;@5392aec6\\n4596,20004595,21005197\\ntest\\ntransformMessage\\nactionlogs\\nreq_xml<?xml version=\\'1.0\\' encoding=\\'ISO-8859-1\\'  ?>\\n<qdbapi>\\n <usertoken>b2fjw5_k_bj2mpi94a7u3rb4fxrkvcbk8hdv</usertoken>\\n<apptoken>b4cbqduc56uxywnfjf84cn96pks</apptoken>\\n <records_csv>\\n  <![CDATA[\\n  CAS,4596,  Insert into WEBSITEM.OFFER_COMPONENT (OFFER_IDcommaPACKAGE_ID) values (20004595comma21005197),  5e31e360-53f6-4237-964c-1ca55bbf4ccb\\n  ]]>\\n </records_csv>\\n<clist>6.10.14.80</clist></qdbapi>\\nresStreamorg.apache.http.conn.EofSensorInputStream@3f39a0d6\\n<qdbapi>\\n\\t<action>API_ImportFromCSV</action>\\n\\t<errcode>0</errcode>\\n\\t<errtext>No error</errtext>\\n\\t<num_recs_input>1</num_recs_input>\\n\\t<num_recs_added>1</num_recs_added>',\n",
       " '\\t<rids>\\t  <rid update_id=\"1503166747923\">138214</rid></rids>\\n</qdbapi>\\n<query><table fields=\\'3.18  .28  .10  .13  .37 .42  \\' qur=\\'{34 .GT.0}AND{50.EX.4593}\\' type = \\'Offer\\'>bjgvik7dc\\t</table></query>\\ntransformMessage\\nactiondata\\nreq_xml<qdbapi><usertoken>b2fjw5_k_bj2mpi94a7u3rb4fxrkvcbk8hdv</usertoken><clist>3.18  .28  .10  .13  .37 .42  </clist><query>{34 .GT.0}AND{50.EX.4593}</query><apptoken>b4cbqduc56uxywnfjf84cn96pks</apptoken><options>csv</options><fmt>structured</fmt></qdbapi>\\nresStreamorg.apache.http.conn.EofSensorInputStream@174d3355\\ni am repeating second\\ncsvFields are[Ljava.lang.String;@324165fc\\n1,25000000,22000000,QBO_PLUS,QuickBooks Online Plus,Active,QBO_PLUS\\ntest\\ntransformMessage\\nactionlogs\\nreq_xml<?xml version=\\'1.0\\' encoding=\\'ISO-8859-1\\'  ?>\\n<qdbapi>\\n <usertoken>b2fjw5_k_bj2mpi94a7u3rb4fxrkvcbk8hdv</usertoken>\\n<apptoken>b4cbqduc56uxywnfjf84cn96pks</apptoken>\\n <records_csv>\\n  <![CDATA[\\n  CAS,1,  Insert into WEBSITEM.FEATURE_SET (FEATURE_SET_IDcommaPRODUCT_IDcommaNAMEcommaDESCRIPTIONcommaSTATUScommaCODE) values (\\'25000000\\'comma\\'22000000\\'comma\\'QBO_PLUS\\'comma\\'QuickBooks Online Plus\\'comma\\'Active\\'comma\\'QBO_PLUS\\'),  5e4843b3-6de5-44a1-9289-b0c7484ecf65\\n  ]]>\\n </records_csv>\\n<clist>6.27.14.80</clist></qdbapi>\\nresStreamorg.apache.http.conn.EofSensorInputStream@5d82cd57\\n<qdbapi>\\n\\t<action>API_ImportFromCSV</action>\\n\\t<errcode>0</errcode>\\n\\t<errtext>No error</errtext>\\n\\t<num_recs_input>1</num_recs_input>\\n\\t<num_recs_added>1</num_recs_added>',\n",
       " '\\t<rids>\\t  <rid update_id=\"1503166747533\">138212</rid></rids>\\n</qdbapi>\\n<query><table fields=\\'3.33.34\\' qur=\\'{37 .GT.0}AND{8 .EX.4593}\\' type = \\'Offer\\'>bjgvik7tj</table></query>\\ntransformMessage\\nactiondata\\nreq_xml<qdbapi><usertoken>b2fjw5_k_bj2mpi94a7u3rb4fxrkvcbk8hdv</usertoken><clist>3.33.34</clist><query>{37 .GT.0}AND{8 .EX.4593}</query><apptoken>b4cbqduc56uxywnfjf84cn96pks</apptoken><options>csv</options><fmt>structured</fmt></qdbapi>\\nresStreamorg.apache.http.conn.EofSensorInputStream@1fbf4358\\ni am repeating second\\ncsvFields are[Ljava.lang.String;@33a12033\\n4595,20004592,21005194\\ntest\\ntransformMessage\\nactionlogs\\nreq_xml<?xml version=\\'1.0\\' encoding=\\'ISO-8859-1\\'  ?>\\n<qdbapi>\\n <usertoken>b2fjw5_k_bj2mpi94a7u3rb4fxrkvcbk8hdv</usertoken>\\n<apptoken>b4cbqduc56uxywnfjf84cn96pks</apptoken>\\n <records_csv>\\n  <![CDATA[\\n  CAS,4595,  Insert into WEBSITEM.OFFER_COMPONENT (OFFER_IDcommaPACKAGE_ID) values (20004592comma21005194),  5e4843b3-6de5-44a1-9289-b0c7484ecf65\\n  ]]>\\n </records_csv>\\n<clist>6.10.14.80</clist></qdbapi>\\nresStreamorg.apache.http.conn.EofSensorInputStream@47eb5b9a\\n<qdbapi>\\n\\t<action>API_ImportFromCSV</action>\\n\\t<errcode>0</errcode>\\n\\t<errtext>No error</errtext>\\n\\t<num_recs_input>1</num_recs_input>\\n\\t<num_recs_added>1</num_recs_added>',\n",
       " '\\t<rids>\\t  <rid update_id=\"1503166690922\">138151</rid></rids>\\n</qdbapi>\\n<query><table fields=\\'3.18  .28  .10  .13  .37 .42  \\' qur=\\'{34 .GT.0}AND{50.EX.4605}\\' type = \\'Offer\\'>bjgvik7dc\\t</table></query>\\ntransformMessage\\nactiondata\\nreq_xml<qdbapi><usertoken>b2fjw5_k_bj2mpi94a7u3rb4fxrkvcbk8hdv</usertoken><clist>3.18  .28  .10  .13  .37 .42  </clist><query>{34 .GT.0}AND{50.EX.4605}</query><apptoken>b4cbqduc56uxywnfjf84cn96pks</apptoken><options>csv</options><fmt>structured</fmt></qdbapi>\\nresStreamorg.apache.http.conn.EofSensorInputStream@1847c5b7\\ni am repeating second\\ncsvFields are[Ljava.lang.String;@3d9b2aa1\\n1,25000000,22000000,QBO_PLUS,QuickBooks Online Plus,Active,QBO_PLUS\\ntest\\ntransformMessage\\nactionlogs\\nreq_xml<?xml version=\\'1.0\\' encoding=\\'ISO-8859-1\\'  ?>\\n<qdbapi>\\n <usertoken>b2fjw5_k_bj2mpi94a7u3rb4fxrkvcbk8hdv</usertoken>\\n<apptoken>b4cbqduc56uxywnfjf84cn96pks</apptoken>\\n <records_csv>\\n  <![CDATA[\\n  CAS,1,  Insert into WEBSITEM.FEATURE_SET (FEATURE_SET_IDcommaPRODUCT_IDcommaNAMEcommaDESCRIPTIONcommaSTATUScommaCODE) values (\\'25000000\\'comma\\'22000000\\'comma\\'QBO_PLUS\\'comma\\'QuickBooks Online Plus\\'comma\\'Active\\'comma\\'QBO_PLUS\\'),  f55a7dd9-6520-4d68-aded-ca1e5a9e05cb\\n  ]]>\\n </records_csv>\\n<clist>6.27.14.80</clist></qdbapi>\\nresStreamorg.apache.http.conn.EofSensorInputStream@294e4993\\n<qdbapi>\\n\\t<action>API_ImportFromCSV</action>\\n\\t<errcode>0</errcode>\\n\\t<errtext>No error</errtext>\\n\\t<num_recs_input>1</num_recs_input>\\n\\t<num_recs_added>1</num_recs_added>',\n",
       " '\\t<rids>\\t  <rid update_id=\"1503166690531\">138149</rid></rids>\\n</qdbapi>\\n<query><table fields=\\'3.33.34\\' qur=\\'{37 .GT.0}AND{8 .EX.4605}\\' type = \\'Offer\\'>bjgvik7tj</table></query>\\ntransformMessage\\nactiondata\\nreq_xml<qdbapi><usertoken>b2fjw5_k_bj2mpi94a7u3rb4fxrkvcbk8hdv</usertoken><clist>3.33.34</clist><query>{37 .GT.0}AND{8 .EX.4605}</query><apptoken>b4cbqduc56uxywnfjf84cn96pks</apptoken><options>csv</options><fmt>structured</fmt></qdbapi>\\nresStreamorg.apache.http.conn.EofSensorInputStream@a27071e\\ni am repeating second\\ncsvFields are[Ljava.lang.String;@348ee6fc\\n4587,20004604,21005188\\ntest\\ntransformMessage\\nactionlogs\\nreq_xml<?xml version=\\'1.0\\' encoding=\\'ISO-8859-1\\'  ?>\\n<qdbapi>\\n <usertoken>b2fjw5_k_bj2mpi94a7u3rb4fxrkvcbk8hdv</usertoken>\\n<apptoken>b4cbqduc56uxywnfjf84cn96pks</apptoken>\\n <records_csv>\\n  <![CDATA[\\n  CAS,4587,  Insert into WEBSITEM.OFFER_COMPONENT (OFFER_IDcommaPACKAGE_ID) values (20004604comma21005188),  f55a7dd9-6520-4d68-aded-ca1e5a9e05cb\\n  ]]>\\n </records_csv>\\n<clist>6.10.14.80</clist></qdbapi>\\nresStreamorg.apache.http.conn.EofSensorInputStream@7fa78465\\n<qdbapi>\\n\\t<action>API_ImportFromCSV</action>\\n\\t<errcode>0</errcode>\\n\\t<errtext>No error</errtext>\\n\\t<num_recs_input>1</num_recs_input>\\n\\t<num_recs_added>1</num_recs_added>',\n",
       " '\\t<rids>\\t  <rid update_id=\"1503166500890\">138089</rid></rids>\\n</qdbapi>\\n<query><table fields=\\'3.18  .28  .10  .13  .37 .42  \\' qur=\\'{34 .GT.0}AND{50.EX.4587}\\' type = \\'Offer\\'>bjgvik7dc\\t</table></query>\\ntransformMessage\\nactiondata\\nreq_xml<qdbapi><usertoken>b2fjw5_k_bj2mpi94a7u3rb4fxrkvcbk8hdv</usertoken><clist>3.18  .28  .10  .13  .37 .42  </clist><query>{34 .GT.0}AND{50.EX.4587}</query><apptoken>b4cbqduc56uxywnfjf84cn96pks</apptoken><options>csv</options><fmt>structured</fmt></qdbapi>\\nresStreamorg.apache.http.conn.EofSensorInputStream@69706621\\ni am repeating second\\ncsvFields are[Ljava.lang.String;@1f18d66e\\n1,25000000,22000000,QBO_PLUS,QuickBooks Online Plus,Active,QBO_PLUS\\ntest\\ntransformMessage\\nactionlogs\\nreq_xml<?xml version=\\'1.0\\' encoding=\\'ISO-8859-1\\'  ?>\\n<qdbapi>\\n <usertoken>b2fjw5_k_bj2mpi94a7u3rb4fxrkvcbk8hdv</usertoken>\\n<apptoken>b4cbqduc56uxywnfjf84cn96pks</apptoken>\\n <records_csv>\\n  <![CDATA[\\n  CAS,1,  Insert into WEBSITEM.FEATURE_SET (FEATURE_SET_IDcommaPRODUCT_IDcommaNAMEcommaDESCRIPTIONcommaSTATUScommaCODE) values (\\'25000000\\'comma\\'22000000\\'comma\\'QBO_PLUS\\'comma\\'QuickBooks Online Plus\\'comma\\'Active\\'comma\\'QBO_PLUS\\'),  d86004a4-26e5-4980-8721-0d8377bcaab0\\n  ]]>\\n </records_csv>\\n<clist>6.27.14.80</clist></qdbapi>\\nresStreamorg.apache.http.conn.EofSensorInputStream@7bfca05b\\n<qdbapi>\\n\\t<action>API_ImportFromCSV</action>\\n\\t<errcode>0</errcode>\\n\\t<errtext>No error</errtext>\\n\\t<num_recs_input>1</num_recs_input>\\n\\t<num_recs_added>1</num_recs_added>',\n",
       " '\\t<rids>\\t  <rid update_id=\"1503166500437\">138087</rid></rids>\\n</qdbapi>\\n<query><table fields=\\'3.33.34\\' qur=\\'{37 .GT.0}AND{8 .EX.4587}\\' type = \\'Offer\\'>bjgvik7tj</table></query>\\ntransformMessage\\nactiondata\\nreq_xml<qdbapi><usertoken>b2fjw5_k_bj2mpi94a7u3rb4fxrkvcbk8hdv</usertoken><clist>3.33.34</clist><query>{37 .GT.0}AND{8 .EX.4587}</query><apptoken>b4cbqduc56uxywnfjf84cn96pks</apptoken><options>csv</options><fmt>structured</fmt></qdbapi>\\nresStreamorg.apache.http.conn.EofSensorInputStream@6891bf6\\ni am repeating second\\ncsvFields are[Ljava.lang.String;@656118e0\\n4584,20004586,21005183\\ntest\\ntransformMessage\\nactionlogs\\nreq_xml<?xml version=\\'1.0\\' encoding=\\'ISO-8859-1\\'  ?>\\n<qdbapi>\\n <usertoken>b2fjw5_k_bj2mpi94a7u3rb4fxrkvcbk8hdv</usertoken>\\n<apptoken>b4cbqduc56uxywnfjf84cn96pks</apptoken>\\n <records_csv>\\n  <![CDATA[\\n  CAS,4584,  Insert into WEBSITEM.OFFER_COMPONENT (OFFER_IDcommaPACKAGE_ID) values (20004586comma21005183),  d86004a4-26e5-4980-8721-0d8377bcaab0\\n  ]]>\\n </records_csv>\\n<clist>6.10.14.80</clist></qdbapi>\\nresStreamorg.apache.http.conn.EofSensorInputStream@3b59626f\\n<qdbapi>\\n\\t<action>API_ImportFromCSV</action>\\n\\t<errcode>0</errcode>\\n\\t<errtext>No error</errtext>\\n\\t<num_recs_input>1</num_recs_input>\\n\\t<num_recs_added>1</num_recs_added>',\n",
       " '\\t<rids>\\t  <rid update_id=\"1503164882282\">138026</rid></rids>\\n</qdbapi>\\n<query><table fields=\\'3.18  .28  .10  .13  .37 .42  \\' qur=\\'{34 .GT.0}AND{50.EX.4587}\\' type = \\'Offer\\'>bjgvik7dc\\t</table></query>\\ntransformMessage\\nactiondata\\nreq_xml<qdbapi><usertoken>b2fjw5_k_bj2mpi94a7u3rb4fxrkvcbk8hdv</usertoken><clist>3.18  .28  .10  .13  .37 .42  </clist><query>{34 .GT.0}AND{50.EX.4587}</query><apptoken>b4cbqduc56uxywnfjf84cn96pks</apptoken><options>csv</options><fmt>structured</fmt></qdbapi>\\nresStreamorg.apache.http.conn.EofSensorInputStream@229f1b\\ni am repeating second\\ncsvFields are[Ljava.lang.String;@f52a367\\n1,25000000,22000000,QBO_PLUS,QuickBooks Online Plus,Active,QBO_PLUS\\ntest\\ntransformMessage\\nactionlogs\\nreq_xml<?xml version=\\'1.0\\' encoding=\\'ISO-8859-1\\'  ?>\\n<qdbapi>\\n <usertoken>b2fjw5_k_bj2mpi94a7u3rb4fxrkvcbk8hdv</usertoken>\\n<apptoken>b4cbqduc56uxywnfjf84cn96pks</apptoken>\\n <records_csv>\\n  <![CDATA[\\n  CAS,1,  Insert into WEBSITEM.FEATURE_SET (FEATURE_SET_IDcommaPRODUCT_IDcommaNAMEcommaDESCRIPTIONcommaSTATUScommaCODE) values (\\'25000000\\'comma\\'22000000\\'comma\\'QBO_PLUS\\'comma\\'QuickBooks Online Plus\\'comma\\'Active\\'comma\\'QBO_PLUS\\'),  bc1064f6-4fed-46ff-9c81-504891f05409\\n  ]]>\\n </records_csv>\\n<clist>6.27.14.80</clist></qdbapi>\\nresStreamorg.apache.http.conn.EofSensorInputStream@4c6c42f2\\n<qdbapi>\\n\\t<action>API_ImportFromCSV</action>\\n\\t<errcode>0</errcode>\\n\\t<errtext>No error</errtext>\\n\\t<num_recs_input>1</num_recs_input>\\n\\t<num_recs_added>1</num_recs_added>',\n",
       " '\\t<rids>\\t  <rid update_id=\"1503164881844\">138024</rid></rids>\\n</qdbapi>\\n<query><table fields=\\'3.33.34\\' qur=\\'{37 .GT.0}AND{8 .EX.4587}\\' type = \\'Offer\\'>bjgvik7tj</table></query>\\ntransformMessage\\nactiondata\\nreq_xml<qdbapi><usertoken>b2fjw5_k_bj2mpi94a7u3rb4fxrkvcbk8hdv</usertoken><clist>3.33.34</clist><query>{37 .GT.0}AND{8 .EX.4587}</query><apptoken>b4cbqduc56uxywnfjf84cn96pks</apptoken><options>csv</options><fmt>structured</fmt></qdbapi>\\nresStreamorg.apache.http.conn.EofSensorInputStream@5119a192\\ni am repeating second\\ncsvFields are[Ljava.lang.String;@7691a0b0\\n4584,20004586,21005183\\ntest\\ntransformMessage\\nactionlogs\\nreq_xml<?xml version=\\'1.0\\' encoding=\\'ISO-8859-1\\'  ?>\\n<qdbapi>\\n <usertoken>b2fjw5_k_bj2mpi94a7u3rb4fxrkvcbk8hdv</usertoken>\\n<apptoken>b4cbqduc56uxywnfjf84cn96pks</apptoken>\\n <records_csv>\\n  <![CDATA[\\n  CAS,4584,  Insert into WEBSITEM.OFFER_COMPONENT (OFFER_IDcommaPACKAGE_ID) values (20004586comma21005183),  bc1064f6-4fed-46ff-9c81-504891f05409\\n  ]]>\\n </records_csv>\\n<clist>6.10.14.80</clist></qdbapi>\\nresStreamorg.apache.http.conn.EofSensorInputStream@1b0bdc3b\\n<qdbapi>\\n\\t<action>API_ImportFromCSV</action>\\n\\t<errcode>0</errcode>\\n\\t<errtext>No error</errtext>\\n\\t<num_recs_input>1</num_recs_input>\\n\\t<num_recs_added>1</num_recs_added>',\n",
       " 'INFO  2017-08-19 09:37:19,651 [[webs-tbt-brm-router-service-internal-1.2.1.0].httpsConnector.receiver.4570] org.mule.transport.http.HttpClientMessageDispatcher: Received a redirect, but followRedirects=false. Response code: 500 Internal Server Error',\n",
       " 'INFO  2017-08-19 09:37:19,651 [[webs-tbt-brm-router-service-internal-1.2.1.0].httpsConnector.receiver.4570] org.mule.transport.http.HttpClientMessageDispatcher: Received a redirect, but followRedirects=false. Response code: 500 Internal Server Error',\n",
       " 'INFO  2017-08-19 08:37:20,013 [[webs-tbt-brm-router-service-internal-1.2.1.0].httpsConnector.receiver.4557] org.mule.transport.http.HttpClientMessageDispatcher: Received a redirect, but followRedirects=false. Response code: 500 Internal Server Error',\n",
       " 'INFO  2017-08-19 08:37:20,013 [[webs-tbt-brm-router-service-internal-1.2.1.0].httpsConnector.receiver.4557] org.mule.transport.http.HttpClientMessageDispatcher: Received a redirect, but followRedirects=false. Response code: 500 Internal Server Error',\n",
       " 'INFO  2017-08-19 08:37:19,656 [[webs-tbt-brm-router-service-internal-1.2.1.0].httpsConnector.receiver.4557] org.mule.transport.http.HttpClientMessageDispatcher: Received a redirect, but followRedirects=false. Response code: 500 Internal Server Error',\n",
       " 'INFO  2017-08-19 08:37:19,656 [[webs-tbt-brm-router-service-internal-1.2.1.0].httpsConnector.receiver.4557] org.mule.transport.http.HttpClientMessageDispatcher: Received a redirect, but followRedirects=false. Response code: 500 Internal Server Error',\n",
       " '\\t<rids>\\t  <rid update_id=\"1503156427741\">137963</rid></rids>\\n</qdbapi>\\n<query><table fields=\\'3.18  .28  .10  .13  .37 .42  \\' qur=\\'{34 .GT.0}AND{50.EX.4587}\\' type = \\'Offer\\'>bjgvik7dc\\t</table></query>\\ntransformMessage\\nactiondata\\nreq_xml<qdbapi><usertoken>b2fjw5_k_bj2mpi94a7u3rb4fxrkvcbk8hdv</usertoken><clist>3.18  .28  .10  .13  .37 .42  </clist><query>{34 .GT.0}AND{50.EX.4587}</query><apptoken>b4cbqduc56uxywnfjf84cn96pks</apptoken><options>csv</options><fmt>structured</fmt></qdbapi>\\nresStreamorg.apache.http.conn.EofSensorInputStream@3c72e677\\ni am repeating second\\ncsvFields are[Ljava.lang.String;@27e5754d\\n1,25000000,22000000,QBO_PLUS,QuickBooks Online Plus,Active,QBO_PLUS\\ntest\\ntransformMessage\\nactionlogs\\nreq_xml<?xml version=\\'1.0\\' encoding=\\'ISO-8859-1\\'  ?>\\n<qdbapi>\\n <usertoken>b2fjw5_k_bj2mpi94a7u3rb4fxrkvcbk8hdv</usertoken>\\n<apptoken>b4cbqduc56uxywnfjf84cn96pks</apptoken>\\n <records_csv>\\n  <![CDATA[\\n  CAS,1,  Insert into WEBSITEM.FEATURE_SET (FEATURE_SET_IDcommaPRODUCT_IDcommaNAMEcommaDESCRIPTIONcommaSTATUScommaCODE) values (\\'25000000\\'comma\\'22000000\\'comma\\'QBO_PLUS\\'comma\\'QuickBooks Online Plus\\'comma\\'Active\\'comma\\'QBO_PLUS\\'),  8e316d65-9a13-41ba-93f0-3e50065fd609\\n  ]]>\\n </records_csv>\\n<clist>6.27.14.80</clist></qdbapi>\\nresStreamorg.apache.http.conn.EofSensorInputStream@3e61d00d\\n<qdbapi>\\n\\t<action>API_ImportFromCSV</action>\\n\\t<errcode>0</errcode>\\n\\t<errtext>No error</errtext>\\n\\t<num_recs_input>1</num_recs_input>\\n\\t<num_recs_added>1</num_recs_added>',\n",
       " '\\t<rids>\\t  <rid update_id=\"1503156285745\">137900</rid></rids>\\n</qdbapi>\\n<query><table fields=\\'3.18  .28  .10  .13  .37 .42  \\' qur=\\'{34 .GT.0}AND{50.EX.4586}\\' type = \\'Offer\\'>bjgvik7dc\\t</table></query>\\ntransformMessage\\nactiondata\\nreq_xml<qdbapi><usertoken>b2fjw5_k_bj2mpi94a7u3rb4fxrkvcbk8hdv</usertoken><clist>3.18  .28  .10  .13  .37 .42  </clist><query>{34 .GT.0}AND{50.EX.4586}</query><apptoken>b4cbqduc56uxywnfjf84cn96pks</apptoken><options>csv</options><fmt>structured</fmt></qdbapi>\\nresStreamorg.apache.http.conn.EofSensorInputStream@594cb380\\ni am repeating second\\ncsvFields are[Ljava.lang.String;@6057b9a7\\n2,25000001,22000000,QBO_ESSENTIALS,QuickBooks Online Essentials,Active,QBO_ESSENTIALS\\ntest\\ntransformMessage\\nactionlogs\\nreq_xml<?xml version=\\'1.0\\' encoding=\\'ISO-8859-1\\'  ?>\\n<qdbapi>\\n <usertoken>b2fjw5_k_bj2mpi94a7u3rb4fxrkvcbk8hdv</usertoken>\\n<apptoken>b4cbqduc56uxywnfjf84cn96pks</apptoken>\\n <records_csv>\\n  <![CDATA[\\n  CAS,2,  Insert into WEBSITEM.FEATURE_SET (FEATURE_SET_IDcommaPRODUCT_IDcommaNAMEcommaDESCRIPTIONcommaSTATUScommaCODE) values (\\'25000001\\'comma\\'22000000\\'comma\\'QBO_ESSENTIALS\\'comma\\'QuickBooks Online Essentials\\'comma\\'Active\\'comma\\'QBO_ESSENTIALS\\'),  9f567b04-02dc-4941-8e7d-cda1ebf0ac79\\n  ]]>\\n </records_csv>\\n<clist>6.27.14.80</clist></qdbapi>\\nresStreamorg.apache.http.conn.EofSensorInputStream@5d7cabea\\n<qdbapi>\\n\\t<action>API_ImportFromCSV</action>\\n\\t<errcode>0</errcode>\\n\\t<errtext>No error</errtext>\\n\\t<num_recs_input>1</num_recs_input>\\n\\t<num_recs_added>1</num_recs_added>',\n",
       " '\\t<rids>\\t  <rid update_id=\"1503156285292\">137898</rid></rids>\\n</qdbapi>\\n<query><table fields=\\'3.33.34\\' qur=\\'{37 .GT.0}AND{8 .EX.4586}\\' type = \\'Offer\\'>bjgvik7tj</table></query>\\ntransformMessage\\nactiondata\\nreq_xml<qdbapi><usertoken>b2fjw5_k_bj2mpi94a7u3rb4fxrkvcbk8hdv</usertoken><clist>3.33.34</clist><query>{37 .GT.0}AND{8 .EX.4586}</query><apptoken>b4cbqduc56uxywnfjf84cn96pks</apptoken><options>csv</options><fmt>structured</fmt></qdbapi>\\nresStreamorg.apache.http.conn.EofSensorInputStream@5bcc173c\\ni am repeating second\\ncsvFields are[Ljava.lang.String;@4d55c108\\n4585,20004585,21005184\\ntest\\ntransformMessage\\nactionlogs\\nreq_xml<?xml version=\\'1.0\\' encoding=\\'ISO-8859-1\\'  ?>\\n<qdbapi>\\n <usertoken>b2fjw5_k_bj2mpi94a7u3rb4fxrkvcbk8hdv</usertoken>\\n<apptoken>b4cbqduc56uxywnfjf84cn96pks</apptoken>\\n <records_csv>\\n  <![CDATA[\\n  CAS,4585,  Insert into WEBSITEM.OFFER_COMPONENT (OFFER_IDcommaPACKAGE_ID) values (20004585comma21005184),  9f567b04-02dc-4941-8e7d-cda1ebf0ac79\\n  ]]>\\n </records_csv>\\n<clist>6.10.14.80</clist></qdbapi>\\nresStreamorg.apache.http.conn.EofSensorInputStream@33a020ff\\n<qdbapi>\\n\\t<action>API_ImportFromCSV</action>\\n\\t<errcode>0</errcode>\\n\\t<errtext>No error</errtext>\\n\\t<num_recs_input>1</num_recs_input>\\n\\t<num_recs_added>1</num_recs_added>',\n",
       " '\\t<rids>\\t  <rid update_id=\"1503156248194\">137837</rid></rids>\\n</qdbapi>\\n<query><table fields=\\'3.18  .28  .10  .13  .37 .42  \\' qur=\\'{34 .GT.0}AND{50.EX.4585}\\' type = \\'Offer\\'>bjgvik7dc\\t</table></query>\\ntransformMessage\\nactiondata\\nreq_xml<qdbapi><usertoken>b2fjw5_k_bj2mpi94a7u3rb4fxrkvcbk8hdv</usertoken><clist>3.18  .28  .10  .13  .37 .42  </clist><query>{34 .GT.0}AND{50.EX.4585}</query><apptoken>b4cbqduc56uxywnfjf84cn96pks</apptoken><options>csv</options><fmt>structured</fmt></qdbapi>\\nresStreamorg.apache.http.conn.EofSensorInputStream@54c9f452\\ni am repeating second\\ncsvFields are[Ljava.lang.String;@1a582b69\\n3,25000002,22000000,QBO_SIMPLE_START,QuickBooks Online Simple Start,Active,QBO_SIMPLE_START\\ntest\\ntransformMessage\\nactionlogs\\nreq_xml<?xml version=\\'1.0\\' encoding=\\'ISO-8859-1\\'  ?>\\n<qdbapi>\\n <usertoken>b2fjw5_k_bj2mpi94a7u3rb4fxrkvcbk8hdv</usertoken>\\n<apptoken>b4cbqduc56uxywnfjf84cn96pks</apptoken>\\n <records_csv>\\n  <![CDATA[\\n  CAS,3,  Insert into WEBSITEM.FEATURE_SET (FEATURE_SET_IDcommaPRODUCT_IDcommaNAMEcommaDESCRIPTIONcommaSTATUScommaCODE) values (\\'25000002\\'comma\\'22000000\\'comma\\'QBO_SIMPLE_START\\'comma\\'QuickBooks Online Simple Start\\'comma\\'Active\\'comma\\'QBO_SIMPLE_START\\'),  7a9729fb-73c2-42ea-ab26-44e68107eb18\\n  ]]>\\n </records_csv>\\n<clist>6.27.14.80</clist></qdbapi>\\nresStreamorg.apache.http.conn.EofSensorInputStream@5c30dc53\\n<qdbapi>\\n\\t<action>API_ImportFromCSV</action>\\n\\t<errcode>0</errcode>\\n\\t<errtext>No error</errtext>\\n\\t<num_recs_input>1</num_recs_input>\\n\\t<num_recs_added>1</num_recs_added>',\n",
       " '\\t<rids>\\t  <rid update_id=\"1503156247648\">137835</rid></rids>\\n</qdbapi>\\n<query><table fields=\\'3.33.34\\' qur=\\'{37 .GT.0}AND{8 .EX.4585}\\' type = \\'Offer\\'>bjgvik7tj</table></query>\\ntransformMessage\\nactiondata\\nreq_xml<qdbapi><usertoken>b2fjw5_k_bj2mpi94a7u3rb4fxrkvcbk8hdv</usertoken><clist>3.33.34</clist><query>{37 .GT.0}AND{8 .EX.4585}</query><apptoken>b4cbqduc56uxywnfjf84cn96pks</apptoken><options>csv</options><fmt>structured</fmt></qdbapi>\\nresStreamorg.apache.http.conn.EofSensorInputStream@7badd945\\ni am repeating second\\ncsvFields are[Ljava.lang.String;@217d88a6\\n4586,20004584,21005185\\ntest\\ntransformMessage\\nactionlogs\\nreq_xml<?xml version=\\'1.0\\' encoding=\\'ISO-8859-1\\'  ?>\\n<qdbapi>\\n <usertoken>b2fjw5_k_bj2mpi94a7u3rb4fxrkvcbk8hdv</usertoken>\\n<apptoken>b4cbqduc56uxywnfjf84cn96pks</apptoken>\\n <records_csv>\\n  <![CDATA[\\n  CAS,4586,  Insert into WEBSITEM.OFFER_COMPONENT (OFFER_IDcommaPACKAGE_ID) values (20004584comma21005185),  7a9729fb-73c2-42ea-ab26-44e68107eb18\\n  ]]>\\n </records_csv>\\n<clist>6.10.14.80</clist></qdbapi>\\nresStreamorg.apache.http.conn.EofSensorInputStream@9245efc\\n<qdbapi>\\n\\t<action>API_ImportFromCSV</action>\\n\\t<errcode>0</errcode>\\n\\t<errtext>No error</errtext>\\n\\t<num_recs_input>1</num_recs_input>\\n\\t<num_recs_added>1</num_recs_added>',\n",
       " '\\t<rids>\\t  <rid update_id=\"1503156247413\">137834</rid></rids>\\n</qdbapi>\\n<query><table fields=\\'3.31 .6 .39 .17 .18 .19 .41 .9 \\' qur=\\'{37.GT.0}AND{42.EX.4585}\\' type = \\'Offer\\'>bjgvik7ez\\t</table></query>\\ntransformMessage\\nactiondata\\nreq_xml<qdbapi><usertoken>b2fjw5_k_bj2mpi94a7u3rb4fxrkvcbk8hdv</usertoken><clist>3.31 .6 .39 .17 .18 .19 .41 .9 </clist><query>{37.GT.0}AND{42.EX.4585}</query><apptoken>b4cbqduc56uxywnfjf84cn96pks</apptoken><options>csv</options><fmt>structured</fmt></qdbapi>\\nresStreamorg.apache.http.conn.EofSensorInputStream@58dc706c\\ni am repeating second\\ncsvFields are[Ljava.lang.String;@384e4e6d\\n3,25000002,Simple Start,SIMPLE_START,,,,,Feature Set\\ntest\\ntransformMessage\\nactionlogs\\nreq_xml<?xml version=\\'1.0\\' encoding=\\'ISO-8859-1\\'  ?>\\n<qdbapi>\\n <usertoken>b2fjw5_k_bj2mpi94a7u3rb4fxrkvcbk8hdv</usertoken>\\n<apptoken>b4cbqduc56uxywnfjf84cn96pks</apptoken>\\n <records_csv>\\n  <![CDATA[\\n  CAS,3,  Insert into WEBSITEM.FEATURE (FEATURE_SET_IDcommaATTR_CODEcommaATTR_TYPEcommaATTR_NAMEcommaLIMIT_UNIT_VALUEcommaLIMIT_UPGRADE_RULEcommaLIMIT_EXPIRE_PERIODcommaLIMIT_EXPIRE_DATE) values (25000002comma\\'SIMPLE_START\\'comma\\'Feature Set\\'comma\\'Simple Start\\'comma\\'\\'comma\\'\\'comma\\'\\'comma\\'\\'),  7a9729fb-73c2-42ea-ab26-44e68107eb18\\n  ]]>\\n </records_csv>\\n<clist>6.29.14.80</clist></qdbapi>\\nresStreamorg.apache.http.conn.EofSensorInputStream@2640b6fc\\n<qdbapi>\\n\\t<action>API_ImportFromCSV</action>\\n\\t<errcode>0</errcode>\\n\\t<errtext>No error</errtext>\\n\\t<num_recs_input>1</num_recs_input>\\n\\t<num_recs_added>1</num_recs_added>',\n",
       " 'INFO  2017-08-19 07:37:34,921 [ActiveMQ Session Task-1693] com.intuit.platform.webs.subscription.processsubscription.TransformProcessSubscriptionToOrderFallout: **************process subscription request intuit_tid=334b6f22-1862-4497-979b-c70683e54074transactionId=3abaa6ef-6a96-4010-af84-f62e7bbc3edf errorMessage**********************Max retry attemps exceeded during operational error when calling BRM. Sent message to Order Fallout table.',\n",
       " 'INFO  2017-08-19 05:37:19,965 [[webs-tbt-brm-router-service-internal-1.2.1.0].httpsConnector.receiver.4518] org.mule.transport.http.HttpClientMessageDispatcher: Received a redirect, but followRedirects=false. Response code: 500 Internal Server Error',\n",
       " 'INFO  2017-08-19 05:37:19,965 [[webs-tbt-brm-router-service-internal-1.2.1.0].httpsConnector.receiver.4518] org.mule.transport.http.HttpClientMessageDispatcher: Received a redirect, but followRedirects=false. Response code: 500 Internal Server Error',\n",
       " 'INFO  2017-08-19 05:37:19,608 [[webs-tbt-brm-router-service-internal-1.2.1.0].httpsConnector.receiver.4518] org.mule.transport.http.HttpClientMessageDispatcher: Received a redirect, but followRedirects=false. Response code: 500 Internal Server Error',\n",
       " 'INFO  2017-08-19 05:37:19,608 [[webs-tbt-brm-router-service-internal-1.2.1.0].httpsConnector.receiver.4518] org.mule.transport.http.HttpClientMessageDispatcher: Received a redirect, but followRedirects=false. Response code: 500 Internal Server Error',\n",
       " 'INFO  2017-08-19 05:00:37,680 [[webs-tbt-brm-router-service-internal-1.2.0].httpsConnector.receiver.1561] org.mule.transport.http.HttpClientMessageDispatcher: Received a redirect, but followRedirects=false. Response code: 500 Internal Server Error',\n",
       " 'INFO  2017-08-19 05:00:37,680 [[webs-tbt-brm-router-service-internal-1.2.0].httpsConnector.receiver.1561] org.mule.transport.http.HttpClientMessageDispatcher: Received a redirect, but followRedirects=false. Response code: 500 Internal Server Error',\n",
       " 'ERROR 2017-08-19 04:45:37,492 [okhttp-eventsource-1484] com.launchdarkly.client.StreamProcessor: Encountered EventSource error: Connection reset',\n",
       " '2017-08-19 04:44:37,553 | level=ERROR| thread=okhttp-eventsource-1309 | class=com.launchdarkly.client.StreamProcessor | Encountered EventSource error: Connection reset',\n",
       " '2017-08-19 04:41:37,814 | level=ERROR| thread=pool-1226-thread-1 | class=IDPS-SDK | com.intuit.idps.service.rest.IdpsCommunicationException: com.intuit.idps.swagger.ApiException: java.io.InterruptedIOException: timeout',\n",
       " '2017-08-19 04:41:37,814 | level=ERROR| thread=pool-1226-thread-1 | class=IDPS-SDK | report_usage failed. Request-ID: ec469140-42shpqqs',\n",
       " '2017-08-19 04:41:37,543 | level=ERROR| thread=pool-1140-thread-1 | class=IDPS-SDK | Failed health check',\n",
       " '2017-08-19 04:41:37,543 | level=ERROR| thread=pool-1140-thread-1 | class=IDPS-SDK | com.intuit.idps.service.rest.IdpsCommunicationException: com.intuit.idps.swagger.ApiException: java.io.InterruptedIOException: timeout',\n",
       " '2017-08-19 04:41:37,543 | level=ERROR| thread=pool-1140-thread-1 | class=IDPS-SDK | health check failed. Request-ID: 5b05f757-kp2itvhs',\n",
       " '2017-08-19 04:41:37,316 | level=ERROR| thread=pool-1226-thread-1 | class=IDPS-SDK | Failed health check',\n",
       " '2017-08-19 04:41:37,316 | level=ERROR| thread=pool-1226-thread-1 | class=IDPS-SDK | com.intuit.idps.service.rest.IdpsCommunicationException: com.intuit.idps.swagger.ApiException: java.io.InterruptedIOException: timeout',\n",
       " '2017-08-19 04:41:37,316 | level=ERROR| thread=pool-1226-thread-1 | class=IDPS-SDK | health check failed. Request-ID: ec469140-e7g1h0n',\n",
       " 'INFO  2017-08-19 04:37:19,945 [[webs-tbt-brm-router-service-internal-1.2.1.0].httpsConnector.receiver.4506] org.mule.transport.http.HttpClientMessageDispatcher: Received a redirect, but followRedirects=false. Response code: 500 Internal Server Error',\n",
       " 'INFO  2017-08-19 04:37:19,945 [[webs-tbt-brm-router-service-internal-1.2.1.0].httpsConnector.receiver.4506] org.mule.transport.http.HttpClientMessageDispatcher: Received a redirect, but followRedirects=false. Response code: 500 Internal Server Error',\n",
       " 'INFO  2017-08-19 04:37:19,594 [[webs-tbt-brm-router-service-internal-1.2.1.0].httpsConnector.receiver.4506] org.mule.transport.http.HttpClientMessageDispatcher: Received a redirect, but followRedirects=false. Response code: 500 Internal Server Error',\n",
       " 'INFO  2017-08-19 04:37:19,594 [[webs-tbt-brm-router-service-internal-1.2.1.0].httpsConnector.receiver.4506] org.mule.transport.http.HttpClientMessageDispatcher: Received a redirect, but followRedirects=false. Response code: 500 Internal Server Error',\n",
       " \"ERROR 20170819.043437 - [eis-10.1-3.2.0].entitlementEnrichService.stage1.928 LogInputComponent Exception in entitlementEnrichService.  ExceptionMessage{payload=com.intuit.iep.customerasset.intuitcustomerassetabo.v1.SyncCustomerAssetDataAreaType@78fda7bf, context={MULE_CORRELATION_ID=bpel://localhost/default/IntuitProvisionCustomerAssetOrchestration~1.0/127191991-BpInv5-BpSwt5.8-1, MULE_CORRELATION_GROUP_SIZE=-1, MULE_CORRELATION_SEQUENCE=-1}exception=org.mule.component.ComponentException: Component that caused exception is: DefaultJavaComponent{entitlementEnrichService.component.168057374}. Message payload is of type: SyncCustomerAssetDataAreaType, componentName='entitlementEnrichService', endpointUri=vm://vm.EntitlementInterfaces, timeStamp=Sat Aug 19 04:34:37 PDT 2017}\",\n",
       " 'ERROR 20170819.034610 - [eis-10.1-3.2.0].entitlementEnrichService.stage1.902 EntitlementInterfacesImpl End of Processing: Dropping message due to: No assets found that have a caci and are registered with EIS SyncCustomerAssetDataAreaType[AccountNumberType[value=686873788],AssetType[ContactIdType[value=],ItemIdType.Id[value=1101903],OrderInfoType[orderNumber=400079800985518,orderSource=CAS,orderDate=2017-08-19T03:37:37.243-07:00],LicenseIdType[value=561727193565038]]] intuit_offeringid=Intuit.platform.services.eis intuit_tid=e0accfd6-cce0-4b42-a5df-d8988f4ed531',\n",
       " 'ERROR 20170819.034609 - [eis-10.1-3.2.0].entitlementEnrichService.stage1.901 EntitlementInterfacesImpl End of Processing: Dropping message due to: No assets found that have a caci and are registered with EIS SyncCustomerAssetDataAreaType[AccountNumberType[value=417358315],AssetType[ContactIdType[value=],ItemIdType.Id[value=1101903],OrderInfoType[orderNumber=400079801196450,orderSource=CAS,orderDate=2017-08-19T03:37:58.642-07:00],LicenseIdType[value=856573366683270]]] intuit_offeringid=Intuit.platform.services.eis intuit_tid=711bb0a7-e615-438f-a6ff-992b5f60236a',\n",
       " 'INFO  2017-08-19 03:37:37,694 [[commerce-enterpriseaccount-2.1.0].connector.http.mule.default.receiver.1542] tickeyauth_VerifyTicket_success_response_message: 7e234797-32ae-4500-ab7f-f032d07daaaa:7e234797-32ae-4500-ab7f-f032d07daaaa :: Finishing Ticket Auth Flow :: \\norg.mule.DefaultMuleMessage\\n{\\n  id=6b5237a0-84ca-11e7-b2e8-005056b5639b\\n  payload=com.intuit.platform.services.common.ticketauthentication.ius.domain.IamTicket\\n  correlationId=<not set>\\n  correlationGroup=-1\\n  correlationSeq=-1\\n  encoding=UTF-8\\n  exceptionPayload=<not set>\\nMessage properties:\\n  INVOCATION scoped properties:\\n    exceptionOnMessageError=true\\n    http.method=GET\\n    intuit_appid=Intuit.smallbusiness.qbse\\n    intuit_realmid=123146589901874\\n    intuit_token=V1-156-b3zjvbh0b8imo439zp729r\\n    intuit_token_type=IAM-Ticket\\n    intuit_userid=123146589901834\\n    realm_id=123146589901874\\n    source=EBPi\\n    startTime=1503139057642\\n    txid=not-set-yet\\n    user_id=123146589901834\\n  INBOUND scoped properties:\\n    Cache-Control=no-cache, no-store\\n    Connection=true\\n    Content-Length=434\\n    Content-Type=application/json\\n    Date=Sat, 19 Aug 2017 10:37:37 GMT\\n    Keep-Alive=true\\n    Pragma=no-cache\\n    Server=nginx\\n    Strict-Transport-Security=max-age=15552000\\n    http.headers={Keep-Alive=true, Strict-Transport-Security=max-age=15552000, Cache-Control=no-cache, no-store, Server=nginx, intuit_tid=7e234797-32ae-4500-ab7f-f032d07daaaa, Connection=true, Pragma=no-cache, Content-Length=434, Date=Sat, 19 Aug 2017 10:37:37 GMT, Content-Type=application/json}\\n    http.method=GET\\n    http.query.params={user_id=123146589901834, realm_id=123146589901874}\\n    http.query.string=user_id=123146589901834&realm_id=123146589901874\\n    http.request=https://accounts-e2e.platform.intuit.net/v1/iamtickets/V1-156-b3zjvbh0b8imo439zp729r?user_id=123146589901834&realm_id=123146589901874\\n    http.status=200\\n    http.version=HTTP/1.1\\n    intuit_tid=7e234797-32ae-4500-ab7f-f032d07daaaa\\n    realm_id=123146589901874\\n    user_id=123146589901834\\n  OUTBOUND scoped properties:\\n    MULE_SESSION=rO0ABXNyACNvcmcubXVsZS5zZXNzaW9uLkRlZmF1bHRNdWxlU2Vzc2lvbi7rdtEW7GGKAwAFWgAFdmFsaWRMAA1mbG93Q29uc3RydWN0dAAmTG9yZy9tdWxlL2FwaS9jb25zdHJ1Y3QvRmxvd0NvbnN0cnVjdDtMAAJpZHQAEkxqYXZhL2xhbmcvU3RyaW5nO0wACnByb3BlcnRpZXN0AA9MamF2YS91dGlsL01hcDtMAA9zZWN1cml0eUNvbnRleHR0ACdMb3JnL211bGUvYXBpL3NlY3VyaXR5L1NlY3VyaXR5Q29udGV4dDt4cAFwdAAkNmI0YWJkOTEtODRjYS0xMWU3LWIyZTgtMDA1MDU2YjU2Mzlic3IAJWphdmEudXRpbC5Db2xsZWN0aW9ucyRTeW5jaHJvbml6ZWRNYXAbc/kJS0s5ewMAAkwAAW1xAH4AA0wABW11dGV4dAASTGphdmEvbGFuZy9PYmplY3Q7eHBzcgAkb3JnLm11bGUudXRpbC5DYXNlSW5zZW5zaXRpdmVIYXNoTWFwndHZ72dFzgADAAB4cHcMP0AAAAAAABAAAAAFdAAIZWJwaVN0ZXBzcgAlb3JnLm11bGUudHJhbnNmb3JtZXIudHlwZXMuVHlwZWRWYWx1ZV3H0/K9P3rLAgACTAAIZGF0YVR5cGV0ACNMb3JnL211bGUvYXBpL3RyYW5zZm9ybWVyL0RhdGFUeXBlO0wABXZhbHVlcQB+AAh4cHNyAClvcmcubXVsZS50cmFuc2Zvcm1lci50eXBlcy5TaW1wbGVEYXRhVHlwZQozJ7mmIP0pAgADTAAIZW5jb2RpbmdxAH4AAkwACG1pbWVUeXBlcQB+AAJMAAR0eXBldAARTGphdmEvbGFuZy9DbGFzczt4cHB0AAMqLyp2cgAQamF2YS5sYW5nLlN0cmluZ6DwpDh6O7NCAgAAeHB0ABplYnBpLmFjY291bnQudGlkQ2hlY2tFcnJvcnQAE1RpY2tldFZhbGlkYXRpb25VUkxzcQB+AA1zcQB+ABBwdAADKi8qcQB+ABV0ACgxMjMxNDY1ODk5MDE4MzQmcmVhbG1faWQ9MTIzMTQ2NTg5OTAxODc0dAAKaW50dWl0X3RpZHNxAH4ADXNxAH4AEHB0AAMqLypxAH4AFXQAJDdlMjM0Nzk3LTMyYWUtNDUwMC1hYjdmLWYwMzJkMDdkYWFhYXQACWFwcC5waGFzZXNxAH4ADXNxAH4AEHB0AAMqLypxAH4AFXQAF0FDQ09VTlRTX09VVEJPVU5EX0VSUk9SdAAJb3BlcmF0aW9uc3EAfgANc3EAfgAQcHQAAyovKnEAfgAVdAAQQ3VzdG9tZXJBY2NvdW50c3hxAH4ACXhweA==\\n  SESSION scoped properties:\\n    TicketValidationURL=123146589901834&realm_id=123146589901874\\n    app.phase=ACCOUNTS_RESPONSE_TRANSFORMER_ERROR\\n    authenticationResult=SUCCESS\\n    ebpiStep=ebpi.account.tidCheckError\\n    intuit_tid=7e234797-32ae-4500-ab7f-f032d07daaaa\\n    operation=CustomerAccounts\\n    ticketResultObject=[ticket: V1-156-b3zjvbh0b8imo439zp729r, userId: 123146589901834, realmId: 123146589901874, role: [[roleType: BUSINESS, name: ADMIN]], authenticationLevel: 25]\\n}',\n",
       " 'INFO  2017-08-19 03:37:19,951 [[webs-tbt-brm-router-service-internal-1.2.1.0].httpsConnector.receiver.4494] org.mule.transport.http.HttpClientMessageDispatcher: Received a redirect, but followRedirects=false. Response code: 500 Internal Server Error',\n",
       " 'INFO  2017-08-19 03:37:19,951 [[webs-tbt-brm-router-service-internal-1.2.1.0].httpsConnector.receiver.4494] org.mule.transport.http.HttpClientMessageDispatcher: Received a redirect, but followRedirects=false. Response code: 500 Internal Server Error',\n",
       " 'INFO  2017-08-19 03:37:19,597 [[webs-tbt-brm-router-service-internal-1.2.1.0].httpsConnector.receiver.4494] org.mule.transport.http.HttpClientMessageDispatcher: Received a redirect, but followRedirects=false. Response code: 500 Internal Server Error',\n",
       " 'INFO  2017-08-19 03:37:19,597 [[webs-tbt-brm-router-service-internal-1.2.1.0].httpsConnector.receiver.4494] org.mule.transport.http.HttpClientMessageDispatcher: Received a redirect, but followRedirects=false. Response code: 500 Internal Server Error',\n",
       " '2017-08-19 03:28:37,531 WrapperListener_start_runner DEBUG Invalid AsyncLoggerConfig.ExceptionHandler value: error creating org.mule.module.launcher.log4j2.AsyncLoggerExceptionHandler: ',\n",
       " 'ERROR 2017-08-19 03:27:37,119 [WrapperListener_start_runner] com.intuit.platform.webs.common.validation.config.ValidatorFactory: INVALID Resource Keys [Ljava.lang.String;@3cf60f1a',\n",
       " '0    [main] INFO  com.intuit.platform.webs.subscription.processfallout.sim.OrderProcessing  - Welcome -- Order Processing!\\n37   [main] INFO  com.intuit.platform.webs.subscription.processfallout.sim.OrderProcessing  - Order Fallout automatic cron job - Re-Processing all operational failure orders.\\n203  [main] INFO  com.intuit.platform.webs.subscription.processfallout.service.impl.FalloutOrderRecoveryService  - No Orders to process for state=NEW and error category = OP_FAIL',\n",
       " 'ERROR 2017-08-19 01:37:36,250 [ActiveMQ Session Task-53] org.mule.api.processor.LoggerMessageProcessor: intuit_tid=8aec620a-f39f-4d3a-955b-08129efc375f flowName=common-pri-internal-process-tax-validation Data-ProcessTaxValidationIntAPI-Exception=Invalid request. Internal API=ProcessTaxValidation Internal API. Error detail=ACCT-010:GST_HST taxidentifier type is not supported Account-URI=pdevcasas301.corp.intuit.net:8080/webs-pri-account-api/v1/accounts/123146589785084/process-tax-identifier',\n",
       " 'INFO  2017-08-19 01:37:27,454 [[commerce-enterpriseaccount-2.1.0].connector.http.mule.default.receiver.1543] tickeyauth_VerifyTicket_success_response_message: 99787bd0-20dc-4fd4-b1fd-50d122f1fed6:99787bd0-20dc-4fd4-b1fd-50d122f1fed6 :: Finishing Ticket Auth Flow :: \\norg.mule.DefaultMuleMessage\\n{\\n  id=a1af0eb0-84b9-11e7-94c3-005056b56147\\n  payload=com.intuit.platform.services.common.ticketauthentication.ius.domain.IamTicket\\n  correlationId=<not set>\\n  correlationGroup=-1\\n  correlationSeq=-1\\n  encoding=UTF-8\\n  exceptionPayload=<not set>\\nMessage properties:\\n  INVOCATION scoped properties:\\n    TicketAuthTransactionStartTime=1503131847339\\n    exceptionOnMessageError=true\\n    http.method=GET\\n    intuit_appid=Intuit.tax.ito.services\\n    intuit_realmid=123146589782789\\n    intuit_token=V1-97-a30ijbxodqmojifi0kiwzg\\n    intuit_token_type=IAM-Ticket\\n    intuit_userid=123146589782769\\n    realm_id=123146589782789\\n    source=EBPi\\n    startTime=1503131847334\\n    txid=not-set-yet\\n    user_id=123146589782769\\n  INBOUND scoped properties:\\n    Cache-Control=no-cache, no-store\\n    Connection=true\\n    Content-Length=958\\n    Content-Type=application/json\\n    Date=Sat, 19 Aug 2017 08:37:27 GMT\\n    Keep-Alive=true\\n    Pragma=no-cache\\n    Server=nginx\\n    Strict-Transport-Security=max-age=15552000\\n    http.headers={Keep-Alive=true, Strict-Transport-Security=max-age=15552000, Cache-Control=no-cache, no-store, Server=nginx, intuit_tid=99787bd0-20dc-4fd4-b1fd-50d122f1fed6, Connection=true, Pragma=no-cache, Content-Length=958, Date=Sat, 19 Aug 2017 08:37:27 GMT, Content-Type=application/json}\\n    http.method=GET\\n    http.query.params={user_id=123146589782769, realm_id=123146589782789}\\n    http.query.string=user_id=123146589782769&realm_id=123146589782789\\n    http.request=https://accounts-e2e.platform.intuit.net/v1/iamtickets/V1-97-a30ijbxodqmojifi0kiwzg?user_id=123146589782769&realm_id=123146589782789\\n    http.status=200\\n    http.version=HTTP/1.1\\n    intuit_tid=99787bd0-20dc-4fd4-b1fd-50d122f1fed6\\n    realm_id=123146589782789\\n    user_id=123146589782769\\n  OUTBOUND scoped properties:\\n    MULE_SESSION=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\\n  SESSION scoped properties:\\n    Accept=application/json\\n    Authorization=Intuit_IAM_Authentication intuit_token_type=\"IAM-Ticket\",intuit_appid=\"Intuit.tax.ito.services\",intuit_token=\"V1-97-a30ijbxodqmojifi0kiwzg\",intuit_userid=\"123146589782769\",intuit_realmid=\"123146589782789\"\\n    CanRealmMappingServiceMoreInfo=IAMTicket Validation Failed\\n    CanRealmMappingServiceStep=ebpi.account.CANRealmMapingService.IAMTicket.Validation\\n    TicketValidationURL=123146589782769&realm_id=123146589782789\\n    app.phase=ACCOUNTS_RESPONSE_TRANSFORMER_ERROR\\n    authenticationResult=SUCCESS\\n    callingClient=customer\\n    ebpiStep=ebpi.account.tidCheckError\\n    intuitAppId=Intuit.tax.ito.services\\n    intuitAppName=Intuit.tax.ito.services\\n    intuitAssetAlias=Intuit.tax.ito.services\\n    intuitLocale=en_US\\n    intuit_tid=99787bd0-20dc-4fd4-b1fd-50d122f1fed6\\n    logStatus=OP_FAIL\\n    operation=CanRealmMappingService\\n    requestRealmId=123146589782789\\n    serviceTimeMap={}\\n    startTime=1503131847336\\n    ticketResultObject=[ticket: V1-97-a30ijbxodqmojifi0kiwzg, userId: 123146589782769, realmId: 123146589782789, role: [[roleType: BUSINESS, name: ADMIN]], authenticationLevel: 25]\\n}',\n",
       " 'INFO  2017-08-19 01:37:19,934 [[webs-tbt-brm-router-service-internal-1.2.1.0].httpsConnector.receiver.4468] org.mule.transport.http.HttpClientMessageDispatcher: Received a redirect, but followRedirects=false. Response code: 500 Internal Server Error',\n",
       " 'INFO  2017-08-19 01:37:19,934 [[webs-tbt-brm-router-service-internal-1.2.1.0].httpsConnector.receiver.4468] org.mule.transport.http.HttpClientMessageDispatcher: Received a redirect, but followRedirects=false. Response code: 500 Internal Server Error',\n",
       " 'INFO  2017-08-19 01:37:19,583 [[webs-tbt-brm-router-service-internal-1.2.1.0].httpsConnector.receiver.4468] org.mule.transport.http.HttpClientMessageDispatcher: Received a redirect, but followRedirects=false. Response code: 500 Internal Server Error',\n",
       " 'INFO  2017-08-19 01:37:19,583 [[webs-tbt-brm-router-service-internal-1.2.1.0].httpsConnector.receiver.4468] org.mule.transport.http.HttpClientMessageDispatcher: Received a redirect, but followRedirects=false. Response code: 500 Internal Server Error',\n",
       " 'INFO  2017-08-19 01:16:37,939 [[webs-tbt-brm-router-service-internal-1.2.1.0].httpsConnector.receiver.2805] org.mule.transport.http.HttpClientMessageDispatcher: Received a redirect, but followRedirects=false. Response code: 500 Internal Server Error',\n",
       " 'INFO  2017-08-19 01:16:37,939 [[webs-tbt-brm-router-service-internal-1.2.1.0].httpsConnector.receiver.2805] org.mule.transport.http.HttpClientMessageDispatcher: Received a redirect, but followRedirects=false. Response code: 500 Internal Server Error',\n",
       " 'ERROR 2017-08-19 00:37:59,838 [[webs-pub-account-api-1.5.0.0].connector.http.mule.default.receiver.1374] com.intuit.platform.webs.account.service.impl.WebsAccountsServiceImpl: UnauthorizedExceptionInvalid ticket: {\"responseCode\":\"INVALID_REALM_ID\",\"responseMessage\":\"Invalid realmId\",\"responseDetail\":null,\"responseObject\":null}',\n",
       " 'ERROR 2017-08-19 00:37:59,838 [[webs-pub-account-api-1.5.0.0].connector.http.mule.default.receiver.1374] com.intuit.platform.common.security.access.AccessVerifyTicketIntegration: intuit_tid=d83730db-f9a9-4783-beb8-d5a1332da701, InvalidTicket Exception occurred when invoking Accounts Verify Ticket: Invalid ticket: {\"responseCode\":\"INVALID_REALM_ID\",\"responseMessage\":\"Invalid realmId\",\"responseDetail\":null,\"responseObject\":null}',\n",
       " 'ERROR 20170819.003746 - [eis-10.1-3.2.0].entitlementEnrichService.stage1.898 EntitlementInterfacesImpl End of Processing: Dropping message due to: No assets found that have a caci and are registered with EIS SyncCustomerAssetDataAreaType[AccountNumberType[value=512271630],AssetType[ContactIdType[value=],ItemIdType.Id[value=1300320],OrderInfoType[orderNumber=300100284800,orderSource=ACS,orderDate=2017-08-19T07:37:40.139Z],LicenseIdType[value=832477420485416]],AssetType[ContactIdType[value=],ItemIdType.Id[value=1300322],OrderInfoType[orderNumber=300100284800,orderSource=ACS,orderDate=2017-08-19T07:37:40.139Z],LicenseIdType[value=832477420485416]],AssetType[ContactIdType[value=],ItemIdType.Id[value=1300321],OrderInfoType[orderNumber=300100284800,orderSource=ACS,orderDate=2017-08-19T07:37:40.139Z],LicenseIdType[value=832477420485416]]] intuit_offeringid=Intuit.platform.services.eis intuit_tid=81326bb3-f4d4-4df9-8636-d1b25445b5ef',\n",
       " 'ERROR 2017-08-19 00:37:41,697 [[webs-pub-account-api-1.5.0.0].connector.http.mule.default.receiver.1374] com.intuit.platform.webs.account.service.impl.WebsAccountsServiceImpl: UnauthorizedExceptionInvalid ticket: {\"responseCode\":\"INVALID_REALM_ID\",\"responseMessage\":\"Invalid realmId\",\"responseDetail\":null,\"responseObject\":null}',\n",
       " 'ERROR 2017-08-19 00:37:41,697 [[webs-pub-account-api-1.5.0.0].connector.http.mule.default.receiver.1374] com.intuit.platform.common.security.access.AccessVerifyTicketIntegration: intuit_tid=52f0a1d9-35fe-4ec9-be25-837e0027b3c5, InvalidTicket Exception occurred when invoking Accounts Verify Ticket: Invalid ticket: {\"responseCode\":\"INVALID_REALM_ID\",\"responseMessage\":\"Invalid realmId\",\"responseDetail\":null,\"responseObject\":null}',\n",
       " 'ERROR 2017-08-19 00:37:25,103 [[webs-pub-account-api-1.5.0.0].connector.http.mule.default.receiver.1374] com.intuit.platform.webs.account.service.impl.WebsAccountsServiceImpl: UnauthorizedExceptionInvalid ticket: {\"responseCode\":\"INVALID_REALM_ID\",\"responseMessage\":\"Invalid realmId\",\"responseDetail\":null,\"responseObject\":null}',\n",
       " 'ERROR 2017-08-19 00:37:25,103 [[webs-pub-account-api-1.5.0.0].connector.http.mule.default.receiver.1374] com.intuit.platform.common.security.access.AccessVerifyTicketIntegration: intuit_tid=5acce786-0431-48fa-af98-a0835d851da7, InvalidTicket Exception occurred when invoking Accounts Verify Ticket: Invalid ticket: {\"responseCode\":\"INVALID_REALM_ID\",\"responseMessage\":\"Invalid realmId\",\"responseDetail\":null,\"responseObject\":null}',\n",
       " 'INFO  2017-08-19 00:37:20,036 [[webs-tbt-brm-router-service-internal-1.2.1.0].httpsConnector.receiver.4454] org.mule.transport.http.HttpClientMessageDispatcher: Received a redirect, but followRedirects=false. Response code: 500 Internal Server Error',\n",
       " 'INFO  2017-08-19 00:37:20,036 [[webs-tbt-brm-router-service-internal-1.2.1.0].httpsConnector.receiver.4454] org.mule.transport.http.HttpClientMessageDispatcher: Received a redirect, but followRedirects=false. Response code: 500 Internal Server Error',\n",
       " 'INFO  2017-08-19 00:37:19,683 [[webs-tbt-brm-router-service-internal-1.2.1.0].httpsConnector.receiver.4454] org.mule.transport.http.HttpClientMessageDispatcher: Received a redirect, but followRedirects=false. Response code: 500 Internal Server Error',\n",
       " 'INFO  2017-08-19 00:37:19,683 [[webs-tbt-brm-router-service-internal-1.2.1.0].httpsConnector.receiver.4454] org.mule.transport.http.HttpClientMessageDispatcher: Received a redirect, but followRedirects=false. Response code: 500 Internal Server Error',\n",
       " 'ERROR 2017-08-19 00:37:07,494 [[webs-pub-account-api-1.5.0.0].connector.http.mule.default.receiver.1374] com.intuit.platform.webs.account.service.impl.WebsAccountsServiceImpl: UnauthorizedExceptionInvalid ticket: {\"responseCode\":\"INVALID_REALM_ID\",\"responseMessage\":\"Invalid realmId\",\"responseDetail\":null,\"responseObject\":null}',\n",
       " 'ERROR 2017-08-19 00:37:07,494 [[webs-pub-account-api-1.5.0.0].connector.http.mule.default.receiver.1374] com.intuit.platform.common.security.access.AccessVerifyTicketIntegration: intuit_tid=815f65f1-52ce-44f1-8a40-c97ed5658432, InvalidTicket Exception occurred when invoking Accounts Verify Ticket: Invalid ticket: {\"responseCode\":\"INVALID_REALM_ID\",\"responseMessage\":\"Invalid realmId\",\"responseDetail\":null,\"responseObject\":null}',\n",
       " 'ERROR 2017-08-18 22:56:37,067 [WrapperListener_start_runner] com.intuit.platform.webs.common.validation.config.ValidatorFactory: INVALID Resource Keys [Ljava.lang.String;@18348d2d',\n",
       " 'ERROR 2017-08-18 22:54:37,972 [WrapperListener_start_runner] com.intuit.platform.webs.common.validation.config.ValidatorFactory: INVALID Resource Keys [Ljava.lang.String;@40d3d1cd',\n",
       " '2017-08-18 22:53:37,703 WrapperListener_start_runner DEBUG Invalid AsyncLoggerConfig.ExceptionHandler value: error creating org.mule.module.launcher.log4j2.AsyncLoggerExceptionHandler: ',\n",
       " 'ERROR 2017-08-18 21:37:48,037 [[webs-pub-subscription-clientsignup-api-3.6.9.0].HTTP_Listener_Configuration.worker.62] com.intuit.platform.webs.subscription.rest.ClientSignupResource: UnauthorizedExceptionnull',\n",
       " 'ERROR 2017-08-18 21:37:48,037 [[webs-pub-subscription-clientsignup-api-3.6.9.0].HTTP_Listener_Configuration.worker.62] com.intuit.platform.common.security.access.AccessVerifyTicketIntegration: InvalidTicket Exception occurred when invoking Accounts Verify Ticket: Invalid ticket: {\"responseCode\":\"USER_NOT_REALM_MEMBER\",\"responseMessage\":\"User is not a member of the specified Realm\",\"responseDetail\":null,\"responseObject\":null}',\n",
       " 'ERROR 2017-08-18 21:37:47,588 [[webs-pub-account-api-1.5.0.0].connector.http.mule.default.receiver.1332] com.intuit.platform.webs.account.service.impl.WebsAccountsServiceImpl: UnauthorizedExceptionInvalid ticket: {\"responseCode\":\"USER_NOT_REALM_MEMBER\",\"responseMessage\":\"User is not a member of the specified Realm\",\"responseDetail\":null,\"responseObject\":null}',\n",
       " 'ERROR 2017-08-18 21:37:47,588 [[webs-pub-account-api-1.5.0.0].connector.http.mule.default.receiver.1332] com.intuit.platform.common.security.access.AccessVerifyTicketIntegration: intuit_tid=ktf-ff2bfdbd-b18a-4dc2-9134-5bd0266f664f, InvalidTicket Exception occurred when invoking Accounts Verify Ticket: Invalid ticket: {\"responseCode\":\"USER_NOT_REALM_MEMBER\",\"responseMessage\":\"User is not a member of the specified Realm\",\"responseDetail\":null,\"responseObject\":null}',\n",
       " '2017-08-18 21:37:46,154 | level=ERROR| thread=[webs-pub-subscription-subscriptions-id-api-3.7.0.1].HTTP_Listener_Configuration.worker.454 | class=com.intuit.platform.webs.subscription.rest.GetSubscriptionResource | intuit_app=PubGetSubscription | intuit_appid=Intuit.platform.ebseasqaservicestestframework.ebseasqatestclient | intuit_assetalias=Intuit.platform.ebseasqaservicestestframework.ebseasqatestclient | intuit_originatingip=10.137.86.162 | intuit_tid=ktf-ff2bfdbd-b18a-4dc2-9134-5bd0266f664f | intuit_realmid=123146589465629 | intuit_subscriptionid=100100603 | intuit_userid=123146525624409 | UnauthorizedException: null',\n",
       " 'INFO  2017-08-18 21:37:19,956 [[webs-tbt-brm-router-service-internal-1.2.1.0].httpsConnector.receiver.4413] org.mule.transport.http.HttpClientMessageDispatcher: Received a redirect, but followRedirects=false. Response code: 500 Internal Server Error',\n",
       " 'INFO  2017-08-18 21:37:19,956 [[webs-tbt-brm-router-service-internal-1.2.1.0].httpsConnector.receiver.4413] org.mule.transport.http.HttpClientMessageDispatcher: Received a redirect, but followRedirects=false. Response code: 500 Internal Server Error',\n",
       " 'INFO  2017-08-18 21:37:19,609 [[webs-tbt-brm-router-service-internal-1.2.1.0].httpsConnector.receiver.4413] org.mule.transport.http.HttpClientMessageDispatcher: Received a redirect, but followRedirects=false. Response code: 500 Internal Server Error',\n",
       " 'INFO  2017-08-18 21:37:19,609 [[webs-tbt-brm-router-service-internal-1.2.1.0].httpsConnector.receiver.4413] org.mule.transport.http.HttpClientMessageDispatcher: Received a redirect, but followRedirects=false. Response code: 500 Internal Server Error',\n",
       " 'INFO  2017-08-18 20:37:19,955 [[webs-tbt-brm-router-service-internal-1.2.1.0].httpsConnector.receiver.4401] org.mule.transport.http.HttpClientMessageDispatcher: Received a redirect, but followRedirects=false. Response code: 500 Internal Server Error',\n",
       " 'INFO  2017-08-18 20:37:19,955 [[webs-tbt-brm-router-service-internal-1.2.1.0].httpsConnector.receiver.4401] org.mule.transport.http.HttpClientMessageDispatcher: Received a redirect, but followRedirects=false. Response code: 500 Internal Server Error',\n",
       " 'INFO  2017-08-18 20:37:19,603 [[webs-tbt-brm-router-service-internal-1.2.1.0].httpsConnector.receiver.4401] org.mule.transport.http.HttpClientMessageDispatcher: Received a redirect, but followRedirects=false. Response code: 500 Internal Server Error',\n",
       " 'INFO  2017-08-18 20:37:19,603 [[webs-tbt-brm-router-service-internal-1.2.1.0].httpsConnector.receiver.4401] org.mule.transport.http.HttpClientMessageDispatcher: Received a redirect, but followRedirects=false. Response code: 500 Internal Server Error',\n",
       " '\\t<rids>\\t  <rid update_id=\"1503112616008\">137817</rid></rids>\\n</qdbapi>\\n<query><table fields=\\'3.18  .28  .10  .13  .37 .42  \\' qur=\\'{34 .GT.0}AND{50.EX.10281}\\' type = \\'Offer\\'>bjgvik7dc\\t</table></query>\\ntransformMessage\\nactiondata\\nreq_xml<qdbapi><usertoken>b2fjw5_k_bj2mpi94a7u3rb4fxrkvcbk8hdv</usertoken><clist>3.18  .28  .10  .13  .37 .42  </clist><query>{34 .GT.0}AND{50.EX.10281}</query><apptoken>b4cbqduc56uxywnfjf84cn96pks</apptoken><options>csv</options><fmt>structured</fmt></qdbapi>\\nresStreamorg.apache.http.conn.EofSensorInputStream@6ee89dc7\\ni am repeating second\\ncsvFields are[Ljava.lang.String;@7a94f14e\\n1,25000000,22000000,QBO_PLUS,QuickBooks Online Plus,Active,QBO_PLUS\\ntest\\ntransformMessage\\nactionlogs\\nreq_xml<?xml version=\\'1.0\\' encoding=\\'ISO-8859-1\\'  ?>\\n<qdbapi>\\n <usertoken>b2fjw5_k_bj2mpi94a7u3rb4fxrkvcbk8hdv</usertoken>\\n<apptoken>b4cbqduc56uxywnfjf84cn96pks</apptoken>\\n <records_csv>\\n  <![CDATA[\\n  CAS,1,  Insert into WEBSITEM.FEATURE_SET (FEATURE_SET_IDcommaPRODUCT_IDcommaNAMEcommaDESCRIPTIONcommaSTATUScommaCODE) values (\\'25000000\\'comma\\'22000000\\'comma\\'QBO_PLUS\\'comma\\'QuickBooks Online Plus\\'comma\\'Active\\'comma\\'QBO_PLUS\\'),  1008e3db-068f-4a52-bc47-f59358d7a762\\n  ]]>\\n </records_csv>\\n<clist>6.27.14.80</clist></qdbapi>\\nresStreamorg.apache.http.conn.EofSensorInputStream@1108feb9\\n<qdbapi>\\n\\t<action>API_ImportFromCSV</action>\\n\\t<errcode>0</errcode>\\n\\t<errtext>No error</errtext>\\n\\t<num_recs_input>1</num_recs_input>\\n\\t<num_recs_added>1</num_recs_added>',\n",
       " '\\t<rids>\\t  <rid update_id=\"1503112615618\">137815</rid></rids>\\n</qdbapi>\\n<query><table fields=\\'3.33.34\\' qur=\\'{37 .GT.0}AND{8 .EX.10281}\\' type = \\'Offer\\'>bjgvik7tj</table></query>\\ntransformMessage\\nactiondata\\nreq_xml<qdbapi><usertoken>b2fjw5_k_bj2mpi94a7u3rb4fxrkvcbk8hdv</usertoken><clist>3.33.34</clist><query>{37 .GT.0}AND{8 .EX.10281}</query><apptoken>b4cbqduc56uxywnfjf84cn96pks</apptoken><options>csv</options><fmt>structured</fmt></qdbapi>\\nresStreamorg.apache.http.conn.EofSensorInputStream@1671d019\\ni am repeating second\\ncsvFields are[Ljava.lang.String;@b7a8d90\\n10281,20010280,21010879\\ntest\\ntransformMessage\\nactionlogs\\nreq_xml<?xml version=\\'1.0\\' encoding=\\'ISO-8859-1\\'  ?>\\n<qdbapi>\\n <usertoken>b2fjw5_k_bj2mpi94a7u3rb4fxrkvcbk8hdv</usertoken>\\n<apptoken>b4cbqduc56uxywnfjf84cn96pks</apptoken>\\n <records_csv>\\n  <![CDATA[\\n  CAS,10281,  Insert into WEBSITEM.OFFER_COMPONENT (OFFER_IDcommaPACKAGE_ID) values (20010280comma21010879),  1008e3db-068f-4a52-bc47-f59358d7a762\\n  ]]>\\n </records_csv>\\n<clist>6.10.14.80</clist></qdbapi>\\nresStreamorg.apache.http.conn.EofSensorInputStream@4879553f\\n<qdbapi>\\n\\t<action>API_ImportFromCSV</action>\\n\\t<errcode>0</errcode>\\n\\t<errtext>No error</errtext>\\n\\t<num_recs_input>1</num_recs_input>\\n\\t<num_recs_added>1</num_recs_added>',\n",
       " '\\t<rids>\\t  <rid update_id=\"1503112510787\">137797</rid></rids>\\n</qdbapi>\\n<query><table fields=\\'3.18  .28  .10  .13  .37 .42  \\' qur=\\'{34 .GT.0}AND{50.EX.5271}\\' type = \\'Offer\\'>bjgvik7dc\\t</table></query>\\ntransformMessage\\nactiondata\\nreq_xml<qdbapi><usertoken>b2fjw5_k_bj2mpi94a7u3rb4fxrkvcbk8hdv</usertoken><clist>3.18  .28  .10  .13  .37 .42  </clist><query>{34 .GT.0}AND{50.EX.5271}</query><apptoken>b4cbqduc56uxywnfjf84cn96pks</apptoken><options>csv</options><fmt>structured</fmt></qdbapi>\\nresStreamorg.apache.http.conn.EofSensorInputStream@119af565\\ni am repeating second\\ncsvFields are[Ljava.lang.String;@26e7183d\\n1,25000000,22000000,QBO_PLUS,QuickBooks Online Plus,Active,QBO_PLUS\\ntest\\ntransformMessage\\nactionlogs\\nreq_xml<?xml version=\\'1.0\\' encoding=\\'ISO-8859-1\\'  ?>\\n<qdbapi>\\n <usertoken>b2fjw5_k_bj2mpi94a7u3rb4fxrkvcbk8hdv</usertoken>\\n<apptoken>b4cbqduc56uxywnfjf84cn96pks</apptoken>\\n <records_csv>\\n  <![CDATA[\\n  CAS,1,  Insert into WEBSITEM.FEATURE_SET (FEATURE_SET_IDcommaPRODUCT_IDcommaNAMEcommaDESCRIPTIONcommaSTATUScommaCODE) values (\\'25000000\\'comma\\'22000000\\'comma\\'QBO_PLUS\\'comma\\'QuickBooks Online Plus\\'comma\\'Active\\'comma\\'QBO_PLUS\\'),  3dc3733e-08f8-44e4-8c0c-35525237e8f1\\n  ]]>\\n </records_csv>\\n<clist>6.27.14.80</clist></qdbapi>\\nresStreamorg.apache.http.conn.EofSensorInputStream@3a188396\\n<qdbapi>\\n\\t<action>API_ImportFromCSV</action>\\n\\t<errcode>0</errcode>\\n\\t<errtext>No error</errtext>\\n\\t<num_recs_input>1</num_recs_input>\\n\\t<num_recs_added>1</num_recs_added>',\n",
       " '\\t<rids>\\t  <rid update_id=\"1503112510287\">137795</rid></rids>\\n</qdbapi>\\n<query><table fields=\\'3.33.34\\' qur=\\'{37 .GT.0}AND{8 .EX.5271}\\' type = \\'Offer\\'>bjgvik7tj</table></query>\\ntransformMessage\\nactiondata\\nreq_xml<qdbapi><usertoken>b2fjw5_k_bj2mpi94a7u3rb4fxrkvcbk8hdv</usertoken><clist>3.33.34</clist><query>{37 .GT.0}AND{8 .EX.5271}</query><apptoken>b4cbqduc56uxywnfjf84cn96pks</apptoken><options>csv</options><fmt>structured</fmt></qdbapi>\\nresStreamorg.apache.http.conn.EofSensorInputStream@6a86958f\\ni am repeating second\\ncsvFields are[Ljava.lang.String;@6549b1ea\\n5272,20005270,21005860\\ntest\\ntransformMessage\\nactionlogs\\nreq_xml<?xml version=\\'1.0\\' encoding=\\'ISO-8859-1\\'  ?>\\n<qdbapi>\\n <usertoken>b2fjw5_k_bj2mpi94a7u3rb4fxrkvcbk8hdv</usertoken>\\n<apptoken>b4cbqduc56uxywnfjf84cn96pks</apptoken>\\n <records_csv>\\n  <![CDATA[\\n  CAS,5272,  Insert into WEBSITEM.OFFER_COMPONENT (OFFER_IDcommaPACKAGE_ID) values (20005270comma21005860),  3dc3733e-08f8-44e4-8c0c-35525237e8f1\\n  ]]>\\n </records_csv>\\n<clist>6.10.14.80</clist></qdbapi>\\nresStreamorg.apache.http.conn.EofSensorInputStream@1528eb16\\n<qdbapi>\\n\\t<action>API_ImportFromCSV</action>\\n\\t<errcode>0</errcode>\\n\\t<errtext>No error</errtext>\\n\\t<num_recs_input>1</num_recs_input>\\n\\t<num_recs_added>1</num_recs_added>',\n",
       " 'INFO  2017-08-18 19:37:19,932 [[webs-tbt-brm-router-service-internal-1.2.1.0].httpsConnector.receiver.4385] org.mule.transport.http.HttpClientMessageDispatcher: Received a redirect, but followRedirects=false. Response code: 500 Internal Server Error',\n",
       " 'INFO  2017-08-18 19:37:19,932 [[webs-tbt-brm-router-service-internal-1.2.1.0].httpsConnector.receiver.4385] org.mule.transport.http.HttpClientMessageDispatcher: Received a redirect, but followRedirects=false. Response code: 500 Internal Server Error',\n",
       " 'INFO  2017-08-18 19:37:19,579 [[webs-tbt-brm-router-service-internal-1.2.1.0].httpsConnector.receiver.4385] org.mule.transport.http.HttpClientMessageDispatcher: Received a redirect, but followRedirects=false. Response code: 500 Internal Server Error',\n",
       " 'INFO  2017-08-18 19:37:19,579 [[webs-tbt-brm-router-service-internal-1.2.1.0].httpsConnector.receiver.4385] org.mule.transport.http.HttpClientMessageDispatcher: Received a redirect, but followRedirects=false. Response code: 500 Internal Server Error',\n",
       " '\\t<rids>\\t  <rid update_id=\"1503110028523\">137782</rid></rids>\\n</qdbapi>\\n<query><table fields=\\'3.18  .28  .10  .13  .37 .42  \\' qur=\\'{34 .GT.0}AND{50.EX.1267}\\' type = \\'Offer\\'>bjgvik7dc\\t</table></query>\\ntransformMessage\\nactiondata\\nreq_xml<qdbapi><usertoken>b2fjw5_k_bj2mpi94a7u3rb4fxrkvcbk8hdv</usertoken><clist>3.18  .28  .10  .13  .37 .42  </clist><query>{34 .GT.0}AND{50.EX.1267}</query><apptoken>b4cbqduc56uxywnfjf84cn96pks</apptoken><options>csv</options><fmt>structured</fmt></qdbapi>\\nresStreamorg.apache.http.conn.EofSensorInputStream@45009b17\\ni am repeating second\\ncsvFields are[Ljava.lang.String;@fd5fd33\\n538,25000537,22000154,QBOP_ENHANCED,Quickbooks Payroll Enhanced,Active,QBOP_ENHANCED\\ntest\\ntransformMessage\\nactionlogs\\nreq_xml<?xml version=\\'1.0\\' encoding=\\'ISO-8859-1\\'  ?>\\n<qdbapi>\\n <usertoken>b2fjw5_k_bj2mpi94a7u3rb4fxrkvcbk8hdv</usertoken>\\n<apptoken>b4cbqduc56uxywnfjf84cn96pks</apptoken>\\n <records_csv>\\n  <![CDATA[\\n  CAS,538,  Insert into WEBSITEM.FEATURE_SET (FEATURE_SET_IDcommaPRODUCT_IDcommaNAMEcommaDESCRIPTIONcommaSTATUScommaCODE) values (\\'25000537\\'comma\\'22000154\\'comma\\'QBOP_ENHANCED\\'comma\\'Quickbooks Payroll Enhanced\\'comma\\'Active\\'comma\\'QBOP_ENHANCED\\'),  9c6e47a7-d76e-48dc-b54c-da5b545015ba\\n  ]]>\\n </records_csv>\\n<clist>6.27.14.80</clist></qdbapi>\\nresStreamorg.apache.http.conn.EofSensorInputStream@20fc0247\\n<qdbapi>\\n\\t<action>API_ImportFromCSV</action>\\n\\t<errcode>0</errcode>\\n\\t<errtext>No error</errtext>\\n\\t<num_recs_input>1</num_recs_input>\\n\\t<num_recs_added>1</num_recs_added>',\n",
       " '\\t<rids>\\t  <rid update_id=\"1503110028086\">137780</rid></rids>\\n</qdbapi>\\n<query><table fields=\\'3.33.34\\' qur=\\'{37 .GT.0}AND{8 .EX.1267}\\' type = \\'Offer\\'>bjgvik7tj</table></query>\\ntransformMessage\\nactiondata\\nreq_xml<qdbapi><usertoken>b2fjw5_k_bj2mpi94a7u3rb4fxrkvcbk8hdv</usertoken><clist>3.33.34</clist><query>{37 .GT.0}AND{8 .EX.1267}</query><apptoken>b4cbqduc56uxywnfjf84cn96pks</apptoken><options>csv</options><fmt>structured</fmt></qdbapi>\\nresStreamorg.apache.http.conn.EofSensorInputStream@531bf3c5\\ni am repeating second\\ncsvFields are[Ljava.lang.String;@7a19e17d\\n1216,20001266,21001786\\ntest\\ntransformMessage\\nactionlogs\\nreq_xml<?xml version=\\'1.0\\' encoding=\\'ISO-8859-1\\'  ?>\\n<qdbapi>\\n <usertoken>b2fjw5_k_bj2mpi94a7u3rb4fxrkvcbk8hdv</usertoken>\\n<apptoken>b4cbqduc56uxywnfjf84cn96pks</apptoken>\\n <records_csv>\\n  <![CDATA[\\n  CAS,1216,  Insert into WEBSITEM.OFFER_COMPONENT (OFFER_IDcommaPACKAGE_ID) values (20001266comma21001786),  9c6e47a7-d76e-48dc-b54c-da5b545015ba\\n  ]]>\\n </records_csv>\\n<clist>6.10.14.80</clist></qdbapi>\\nresStreamorg.apache.http.conn.EofSensorInputStream@23564757\\n<qdbapi>\\n\\t<action>API_ImportFromCSV</action>\\n\\t<errcode>0</errcode>\\n\\t<errtext>No error</errtext>\\n\\t<num_recs_input>1</num_recs_input>\\n\\t<num_recs_added>1</num_recs_added>',\n",
       " '\\t<rids>\\t  <rid update_id=\"1503109947218\">137769</rid></rids>\\n</qdbapi>\\n<query><table fields=\\'3.18  .28  .10  .13  .37 .42  \\' qur=\\'{34 .GT.0}AND{50.EX.1266}\\' type = \\'Offer\\'>bjgvik7dc\\t</table></query>\\ntransformMessage\\nactiondata\\nreq_xml<qdbapi><usertoken>b2fjw5_k_bj2mpi94a7u3rb4fxrkvcbk8hdv</usertoken><clist>3.18  .28  .10  .13  .37 .42  </clist><query>{34 .GT.0}AND{50.EX.1266}</query><apptoken>b4cbqduc56uxywnfjf84cn96pks</apptoken><options>csv</options><fmt>structured</fmt></qdbapi>\\nresStreamorg.apache.http.conn.EofSensorInputStream@292fefad\\ni am repeating second\\ncsvFields are[Ljava.lang.String;@3f7d22a9\\n1,25000000,22000000,QBO_PLUS,QuickBooks Online Plus,Active,QBO_PLUS\\ntest\\ntransformMessage\\nactionlogs\\nreq_xml<?xml version=\\'1.0\\' encoding=\\'ISO-8859-1\\'  ?>\\n<qdbapi>\\n <usertoken>b2fjw5_k_bj2mpi94a7u3rb4fxrkvcbk8hdv</usertoken>\\n<apptoken>b4cbqduc56uxywnfjf84cn96pks</apptoken>\\n <records_csv>\\n  <![CDATA[\\n  CAS,1,  Insert into WEBSITEM.FEATURE_SET (FEATURE_SET_IDcommaPRODUCT_IDcommaNAMEcommaDESCRIPTIONcommaSTATUScommaCODE) values (\\'25000000\\'comma\\'22000000\\'comma\\'QBO_PLUS\\'comma\\'QuickBooks Online Plus\\'comma\\'Active\\'comma\\'QBO_PLUS\\'),  3168bf9c-7df0-4ca0-9998-a3cd7ee6925c\\n  ]]>\\n </records_csv>\\n<clist>6.27.14.80</clist></qdbapi>\\nresStreamorg.apache.http.conn.EofSensorInputStream@1a871b7b\\n<qdbapi>\\n\\t<action>API_ImportFromCSV</action>\\n\\t<errcode>0</errcode>\\n\\t<errtext>No error</errtext>\\n\\t<num_recs_input>1</num_recs_input>\\n\\t<num_recs_added>1</num_recs_added>',\n",
       " '\\t<rids>\\t  <rid update_id=\"1503109946718\">137767</rid></rids>\\n</qdbapi>\\n<query><table fields=\\'3.33.34\\' qur=\\'{37 .GT.0}AND{8 .EX.1266}\\' type = \\'Offer\\'>bjgvik7tj</table></query>\\ntransformMessage\\nactiondata\\nreq_xml<qdbapi><usertoken>b2fjw5_k_bj2mpi94a7u3rb4fxrkvcbk8hdv</usertoken><clist>3.33.34</clist><query>{37 .GT.0}AND{8 .EX.1266}</query><apptoken>b4cbqduc56uxywnfjf84cn96pks</apptoken><options>csv</options><fmt>structured</fmt></qdbapi>\\nresStreamorg.apache.http.conn.EofSensorInputStream@6560945f\\ni am repeating second\\ncsvFields are[Ljava.lang.String;@14fbcdaa\\n1215,20001265,21001785\\ntest\\ntransformMessage\\nactionlogs\\nreq_xml<?xml version=\\'1.0\\' encoding=\\'ISO-8859-1\\'  ?>\\n<qdbapi>\\n <usertoken>b2fjw5_k_bj2mpi94a7u3rb4fxrkvcbk8hdv</usertoken>\\n<apptoken>b4cbqduc56uxywnfjf84cn96pks</apptoken>\\n <records_csv>\\n  <![CDATA[\\n  CAS,1215,  Insert into WEBSITEM.OFFER_COMPONENT (OFFER_IDcommaPACKAGE_ID) values (20001265comma21001785),  3168bf9c-7df0-4ca0-9998-a3cd7ee6925c\\n  ]]>\\n </records_csv>\\n<clist>6.10.14.80</clist></qdbapi>\\nresStreamorg.apache.http.conn.EofSensorInputStream@6946c553\\n<qdbapi>\\n\\t<action>API_ImportFromCSV</action>\\n\\t<errcode>0</errcode>\\n\\t<errtext>No error</errtext>\\n\\t<num_recs_input>1</num_recs_input>\\n\\t<num_recs_added>1</num_recs_added>',\n",
       " '\\t<rids>\\t  <rid update_id=\"1503109807647\">137756</rid></rids>\\n</qdbapi>\\n<query><table fields=\\'3.18  .28  .10  .13  .37 .42  \\' qur=\\'{34 .GT.0}AND{50.EX.4583}\\' type = \\'Offer\\'>bjgvik7dc\\t</table></query>\\ntransformMessage\\nactiondata\\nreq_xml<qdbapi><usertoken>b2fjw5_k_bj2mpi94a7u3rb4fxrkvcbk8hdv</usertoken><clist>3.18  .28  .10  .13  .37 .42  </clist><query>{34 .GT.0}AND{50.EX.4583}</query><apptoken>b4cbqduc56uxywnfjf84cn96pks</apptoken><options>csv</options><fmt>structured</fmt></qdbapi>\\nresStreamorg.apache.http.conn.EofSensorInputStream@2a862807\\ni am repeating second\\ncsvFields are[Ljava.lang.String;@70355ca2\\n1,25000000,22000000,QBO_PLUS,QuickBooks Online Plus,Active,QBO_PLUS\\ntest\\ntransformMessage\\nactionlogs\\nreq_xml<?xml version=\\'1.0\\' encoding=\\'ISO-8859-1\\'  ?>\\n<qdbapi>\\n <usertoken>b2fjw5_k_bj2mpi94a7u3rb4fxrkvcbk8hdv</usertoken>\\n<apptoken>b4cbqduc56uxywnfjf84cn96pks</apptoken>\\n <records_csv>\\n  <![CDATA[\\n  CAS,1,  Insert into WEBSITEM.FEATURE_SET (FEATURE_SET_IDcommaPRODUCT_IDcommaNAMEcommaDESCRIPTIONcommaSTATUScommaCODE) values (\\'25000000\\'comma\\'22000000\\'comma\\'QBO_PLUS\\'comma\\'QuickBooks Online Plus\\'comma\\'Active\\'comma\\'QBO_PLUS\\'),  f096ae9f-4e2e-4813-8998-6eb10b4cd15c\\n  ]]>\\n </records_csv>\\n<clist>6.27.14.80</clist></qdbapi>\\nresStreamorg.apache.http.conn.EofSensorInputStream@4413a1b4\\n<qdbapi>\\n\\t<action>API_ImportFromCSV</action>\\n\\t<errcode>0</errcode>\\n\\t<errtext>No error</errtext>\\n\\t<num_recs_input>1</num_recs_input>\\n\\t<num_recs_added>1</num_recs_added>',\n",
       " '\\t<rids>\\t  <rid update_id=\"1503109807225\">137754</rid></rids>\\n</qdbapi>\\n<query><table fields=\\'3.33.34\\' qur=\\'{37 .GT.0}AND{8 .EX.4583}\\' type = \\'Offer\\'>bjgvik7tj</table></query>\\ntransformMessage\\nactiondata\\nreq_xml<qdbapi><usertoken>b2fjw5_k_bj2mpi94a7u3rb4fxrkvcbk8hdv</usertoken><clist>3.33.34</clist><query>{37 .GT.0}AND{8 .EX.4583}</query><apptoken>b4cbqduc56uxywnfjf84cn96pks</apptoken><options>csv</options><fmt>structured</fmt></qdbapi>\\nresStreamorg.apache.http.conn.EofSensorInputStream@2637db54\\ni am repeating second\\ncsvFields are[Ljava.lang.String;@fc32f06\\n4582,20004582,21005181\\ntest\\ntransformMessage\\nactionlogs\\nreq_xml<?xml version=\\'1.0\\' encoding=\\'ISO-8859-1\\'  ?>\\n<qdbapi>\\n <usertoken>b2fjw5_k_bj2mpi94a7u3rb4fxrkvcbk8hdv</usertoken>\\n<apptoken>b4cbqduc56uxywnfjf84cn96pks</apptoken>\\n <records_csv>\\n  <![CDATA[\\n  CAS,4582,  Insert into WEBSITEM.OFFER_COMPONENT (OFFER_IDcommaPACKAGE_ID) values (20004582comma21005181),  f096ae9f-4e2e-4813-8998-6eb10b4cd15c\\n  ]]>\\n </records_csv>\\n<clist>6.10.14.80</clist></qdbapi>\\nresStreamorg.apache.http.conn.EofSensorInputStream@4b4c9370\\n<qdbapi>\\n\\t<action>API_ImportFromCSV</action>\\n\\t<errcode>0</errcode>\\n\\t<errtext>No error</errtext>\\n\\t<num_recs_input>1</num_recs_input>\\n\\t<num_recs_added>1</num_recs_added>',\n",
       " '\\t  <rid update_id=\"1503109647009\">137739</rid>\\n\\t</rids>\\n</qdbapi>\\n<query><table fields=\\'3.18  .28  .10  .13  .37 .42  \\' qur=\\'{34 .GT.0}AND{50.EX.1275}\\' type = \\'Offer\\'>bjgvik7dc\\t</table></query>\\ntransformMessage\\nactiondata\\nreq_xml<qdbapi><usertoken>b2fjw5_k_bj2mpi94a7u3rb4fxrkvcbk8hdv</usertoken><clist>3.18  .28  .10  .13  .37 .42  </clist><query>{34 .GT.0}AND{50.EX.1275}</query><apptoken>b4cbqduc56uxywnfjf84cn96pks</apptoken><options>csv</options><fmt>structured</fmt></qdbapi>\\nresStreamorg.apache.http.conn.EofSensorInputStream@4708f723\\ni am repeating second\\ncsvFields are[Ljava.lang.String;@5b603d29\\n1,25000000,22000000,QBO_PLUS,QuickBooks Online Plus,Active,QBO_PLUS\\n538,25000537,22000154,QBOP_ENHANCED,Quickbooks Payroll Enhanced,Active,QBOP_ENHANCED\\n1596,25001595,22000220,QBO Accountant Standard,QuickBooks Online Accountant Standard,Active,QBOA_STANDARD\\ntest\\ntransformMessage\\nactionlogs\\nreq_xml<?xml version=\\'1.0\\' encoding=\\'ISO-8859-1\\'  ?>\\n<qdbapi>\\n <usertoken>b2fjw5_k_bj2mpi94a7u3rb4fxrkvcbk8hdv</usertoken>\\n<apptoken>b4cbqduc56uxywnfjf84cn96pks</apptoken>\\n <records_csv>\\n  <![CDATA[\\n  CAS,1,  Insert into WEBSITEM.FEATURE_SET (FEATURE_SET_IDcommaPRODUCT_IDcommaNAMEcommaDESCRIPTIONcommaSTATUScommaCODE) values (\\'25000000\\'comma\\'22000000\\'comma\\'QBO_PLUS\\'comma\\'QuickBooks Online Plus\\'comma\\'Active\\'comma\\'QBO_PLUS\\'),  02f1c6c4-3476-458d-8105-3aee24e19838\\n  CAS,538,  Insert into WEBSITEM.FEATURE_SET (FEATURE_SET_IDcommaPRODUCT_IDcommaNAMEcommaDESCRIPTIONcommaSTATUScommaCODE) values (\\'25000537\\'comma\\'22000154\\'comma\\'QBOP_ENHANCED\\'comma\\'Quickbooks Payroll Enhanced\\'comma\\'Active\\'comma\\'QBOP_ENHANCED\\'),  02f1c6c4-3476-458d-8105-3aee24e19838\\n  CAS,1596,  Insert into WEBSITEM.FEATURE_SET (FEATURE_SET_IDcommaPRODUCT_IDcommaNAMEcommaDESCRIPTIONcommaSTATUScommaCODE) values (\\'25001595\\'comma\\'22000220\\'comma\\'QBO Accountant Standard\\'comma\\'QuickBooks Online Accountant Standard\\'comma\\'Active\\'comma\\'QBOA_STANDARD\\'),  02f1c6c4-3476-458d-8105-3aee24e19838\\n  ]]>\\n </records_csv>\\n<clist>6.27.14.80</clist></qdbapi>\\nresStreamorg.apache.http.conn.EofSensorInputStream@6f424e06\\n<qdbapi>\\n\\t<action>API_ImportFromCSV</action>\\n\\t<errcode>0</errcode>\\n\\t<errtext>No error</errtext>\\n\\t<num_recs_input>3</num_recs_input>\\n\\t<num_recs_added>3</num_recs_added>\\n\\t<rids>',\n",
       " '\\t<rids>\\t  <rid update_id=\"1503109220740\">137711</rid></rids>\\n</qdbapi>\\n<query><table fields=\\'3.18  .28  .10  .13  .37 .42  \\' qur=\\'{34 .GT.0}AND{50.EX.5279}\\' type = \\'Offer\\'>bjgvik7dc\\t</table></query>\\ntransformMessage\\nactiondata\\nreq_xml<qdbapi><usertoken>b2fjw5_k_bj2mpi94a7u3rb4fxrkvcbk8hdv</usertoken><clist>3.18  .28  .10  .13  .37 .42  </clist><query>{34 .GT.0}AND{50.EX.5279}</query><apptoken>b4cbqduc56uxywnfjf84cn96pks</apptoken><options>csv</options><fmt>structured</fmt></qdbapi>\\nresStreamorg.apache.http.conn.EofSensorInputStream@3938338a\\ni am repeating second\\ncsvFields are[Ljava.lang.String;@7fe6f926\\n1,25000000,22000000,QBO_PLUS,QuickBooks Online Plus,Active,QBO_PLUS\\ntest\\ntransformMessage\\nactionlogs\\nreq_xml<?xml version=\\'1.0\\' encoding=\\'ISO-8859-1\\'  ?>\\n<qdbapi>\\n <usertoken>b2fjw5_k_bj2mpi94a7u3rb4fxrkvcbk8hdv</usertoken>\\n<apptoken>b4cbqduc56uxywnfjf84cn96pks</apptoken>\\n <records_csv>\\n  <![CDATA[\\n  CAS,1,  Insert into WEBSITEM.FEATURE_SET (FEATURE_SET_IDcommaPRODUCT_IDcommaNAMEcommaDESCRIPTIONcommaSTATUScommaCODE) values (\\'25000000\\'comma\\'22000000\\'comma\\'QBO_PLUS\\'comma\\'QuickBooks Online Plus\\'comma\\'Active\\'comma\\'QBO_PLUS\\'),  baa7eb37-0d44-47bb-b981-e900b663d95e\\n  ]]>\\n </records_csv>\\n<clist>6.27.14.80</clist></qdbapi>\\nresStreamorg.apache.http.conn.EofSensorInputStream@215be45f\\n<qdbapi>\\n\\t<action>API_ImportFromCSV</action>\\n\\t<errcode>0</errcode>\\n\\t<errtext>No error</errtext>\\n\\t<num_recs_input>1</num_recs_input>\\n\\t<num_recs_added>1</num_recs_added>',\n",
       " '\\t<rids>\\t  <rid update_id=\"1503109220334\">137709</rid></rids>\\n</qdbapi>\\n<query><table fields=\\'3.33.34\\' qur=\\'{37 .GT.0}AND{8 .EX.5279}\\' type = \\'Offer\\'>bjgvik7tj</table></query>\\ntransformMessage\\nactiondata\\nreq_xml<qdbapi><usertoken>b2fjw5_k_bj2mpi94a7u3rb4fxrkvcbk8hdv</usertoken><clist>3.33.34</clist><query>{37 .GT.0}AND{8 .EX.5279}</query><apptoken>b4cbqduc56uxywnfjf84cn96pks</apptoken><options>csv</options><fmt>structured</fmt></qdbapi>\\nresStreamorg.apache.http.conn.EofSensorInputStream@7b81fb7a\\ni am repeating second\\ncsvFields are[Ljava.lang.String;@3e9e7966\\n5279,20005278,21005869\\ntest\\ntransformMessage\\nactionlogs\\nreq_xml<?xml version=\\'1.0\\' encoding=\\'ISO-8859-1\\'  ?>\\n<qdbapi>\\n <usertoken>b2fjw5_k_bj2mpi94a7u3rb4fxrkvcbk8hdv</usertoken>\\n<apptoken>b4cbqduc56uxywnfjf84cn96pks</apptoken>\\n <records_csv>\\n  <![CDATA[\\n  CAS,5279,  Insert into WEBSITEM.OFFER_COMPONENT (OFFER_IDcommaPACKAGE_ID) values (20005278comma21005869),  baa7eb37-0d44-47bb-b981-e900b663d95e\\n  ]]>\\n </records_csv>\\n<clist>6.10.14.80</clist></qdbapi>\\nresStreamorg.apache.http.conn.EofSensorInputStream@6c592ee\\n<qdbapi>\\n\\t<action>API_ImportFromCSV</action>\\n\\t<errcode>0</errcode>\\n\\t<errtext>No error</errtext>\\n\\t<num_recs_input>1</num_recs_input>\\n\\t<num_recs_added>1</num_recs_added>',\n",
       " '\\t<rids>\\t  <rid update_id=\"1503109096819\">137696</rid></rids>\\n</qdbapi>\\n<query><table fields=\\'3.18  .28  .10  .13  .37 .42  \\' qur=\\'{34 .GT.0}AND{50.EX.5276}\\' type = \\'Offer\\'>bjgvik7dc\\t</table></query>\\ntransformMessage\\nactiondata\\nreq_xml<qdbapi><usertoken>b2fjw5_k_bj2mpi94a7u3rb4fxrkvcbk8hdv</usertoken><clist>3.18  .28  .10  .13  .37 .42  </clist><query>{34 .GT.0}AND{50.EX.5276}</query><apptoken>b4cbqduc56uxywnfjf84cn96pks</apptoken><options>csv</options><fmt>structured</fmt></qdbapi>\\nresStreamorg.apache.http.conn.EofSensorInputStream@70ec97cb\\ni am repeating second\\ncsvFields are[Ljava.lang.String;@185b29ed\\n1,25000000,22000000,QBO_PLUS,QuickBooks Online Plus,Active,QBO_PLUS\\ntest\\ntransformMessage\\nactionlogs\\nreq_xml<?xml version=\\'1.0\\' encoding=\\'ISO-8859-1\\'  ?>\\n<qdbapi>\\n <usertoken>b2fjw5_k_bj2mpi94a7u3rb4fxrkvcbk8hdv</usertoken>\\n<apptoken>b4cbqduc56uxywnfjf84cn96pks</apptoken>\\n <records_csv>\\n  <![CDATA[\\n  CAS,1,  Insert into WEBSITEM.FEATURE_SET (FEATURE_SET_IDcommaPRODUCT_IDcommaNAMEcommaDESCRIPTIONcommaSTATUScommaCODE) values (\\'25000000\\'comma\\'22000000\\'comma\\'QBO_PLUS\\'comma\\'QuickBooks Online Plus\\'comma\\'Active\\'comma\\'QBO_PLUS\\'),  12b34313-c6fc-45b5-bd68-c9723565e905\\n  ]]>\\n </records_csv>\\n<clist>6.27.14.80</clist></qdbapi>\\nresStreamorg.apache.http.conn.EofSensorInputStream@4bceec47\\n<qdbapi>\\n\\t<action>API_ImportFromCSV</action>\\n\\t<errcode>0</errcode>\\n\\t<errtext>No error</errtext>\\n\\t<num_recs_input>1</num_recs_input>\\n\\t<num_recs_added>1</num_recs_added>',\n",
       " '\\t<rids>\\t  <rid update_id=\"1503109096413\">137694</rid></rids>\\n</qdbapi>\\n<query><table fields=\\'3.33.34\\' qur=\\'{37 .GT.0}AND{8 .EX.5276}\\' type = \\'Offer\\'>bjgvik7tj</table></query>\\ntransformMessage\\nactiondata\\nreq_xml<qdbapi><usertoken>b2fjw5_k_bj2mpi94a7u3rb4fxrkvcbk8hdv</usertoken><clist>3.33.34</clist><query>{37 .GT.0}AND{8 .EX.5276}</query><apptoken>b4cbqduc56uxywnfjf84cn96pks</apptoken><options>csv</options><fmt>structured</fmt></qdbapi>\\nresStreamorg.apache.http.conn.EofSensorInputStream@6d671126\\ni am repeating second\\ncsvFields are[Ljava.lang.String;@10dec21b\\n5277,20005275,21005867\\ntest\\ntransformMessage\\nactionlogs\\nreq_xml<?xml version=\\'1.0\\' encoding=\\'ISO-8859-1\\'  ?>\\n<qdbapi>\\n <usertoken>b2fjw5_k_bj2mpi94a7u3rb4fxrkvcbk8hdv</usertoken>\\n<apptoken>b4cbqduc56uxywnfjf84cn96pks</apptoken>\\n <records_csv>\\n  <![CDATA[\\n  CAS,5277,  Insert into WEBSITEM.OFFER_COMPONENT (OFFER_IDcommaPACKAGE_ID) values (20005275comma21005867),  12b34313-c6fc-45b5-bd68-c9723565e905\\n  ]]>\\n </records_csv>\\n<clist>6.10.14.80</clist></qdbapi>\\nresStreamorg.apache.http.conn.EofSensorInputStream@6c13f82c\\n<qdbapi>\\n\\t<action>API_ImportFromCSV</action>\\n\\t<errcode>0</errcode>\\n\\t<errtext>No error</errtext>\\n\\t<num_recs_input>1</num_recs_input>\\n\\t<num_recs_added>1</num_recs_added>',\n",
       " 'INFO  2017-08-18 19:00:37,201 [[webs-tbt-brm-router-service-internal-1.2.0].httpsConnector.receiver.1300] org.mule.transport.http.HttpClientMessageDispatcher: Received a redirect, but followRedirects=false. Response code: 500 Internal Server Error',\n",
       " 'INFO  2017-08-18 19:00:37,201 [[webs-tbt-brm-router-service-internal-1.2.0].httpsConnector.receiver.1300] org.mule.transport.http.HttpClientMessageDispatcher: Received a redirect, but followRedirects=false. Response code: 500 Internal Server Error',\n",
       " 'INFO  2017-08-18 18:37:19,906 [[webs-tbt-brm-router-service-internal-1.2.1.0].httpsConnector.receiver.4373] org.mule.transport.http.HttpClientMessageDispatcher: Received a redirect, but followRedirects=false. Response code: 500 Internal Server Error',\n",
       " 'INFO  2017-08-18 18:37:19,906 [[webs-tbt-brm-router-service-internal-1.2.1.0].httpsConnector.receiver.4373] org.mule.transport.http.HttpClientMessageDispatcher: Received a redirect, but followRedirects=false. Response code: 500 Internal Server Error',\n",
       " 'INFO  2017-08-18 18:37:19,557 [[webs-tbt-brm-router-service-internal-1.2.1.0].httpsConnector.receiver.4373] org.mule.transport.http.HttpClientMessageDispatcher: Received a redirect, but followRedirects=false. Response code: 500 Internal Server Error',\n",
       " 'INFO  2017-08-18 18:37:19,557 [[webs-tbt-brm-router-service-internal-1.2.1.0].httpsConnector.receiver.4373] org.mule.transport.http.HttpClientMessageDispatcher: Received a redirect, but followRedirects=false. Response code: 500 Internal Server Error',\n",
       " 'INFO  2017-08-18 18:03:37,643 [[webs-tbt-brm-router-service-internal-1.2.1.0].httpsConnector.receiver.4361] org.mule.transport.http.HttpClientMessageDispatcher: Received a redirect, but followRedirects=false. Response code: 500 Internal Server Error',\n",
       " 'INFO  2017-08-18 18:03:37,643 [[webs-tbt-brm-router-service-internal-1.2.1.0].httpsConnector.receiver.4361] org.mule.transport.http.HttpClientMessageDispatcher: Received a redirect, but followRedirects=false. Response code: 500 Internal Server Error',\n",
       " 'INFO  2017-08-18 18:03:37,542 [[webs-tbt-brm-router-service-internal-1.2.1.0].httpsConnector.receiver.4359] org.mule.transport.http.HttpClientMessageDispatcher: Received a redirect, but followRedirects=false. Response code: 500 Internal Server Error',\n",
       " 'INFO  2017-08-18 18:03:37,542 [[webs-tbt-brm-router-service-internal-1.2.1.0].httpsConnector.receiver.4359] org.mule.transport.http.HttpClientMessageDispatcher: Received a redirect, but followRedirects=false. Response code: 500 Internal Server Error',\n",
       " 'INFO  2017-08-18 18:03:37,460 [[webs-tbt-brm-router-service-internal-1.2.1.0].httpsConnector.receiver.2340] org.mule.transport.http.HttpClientMessageDispatcher: Received a redirect, but followRedirects=false. Response code: 500 Internal Server Error',\n",
       " 'INFO  2017-08-18 18:03:37,460 [[webs-tbt-brm-router-service-internal-1.2.1.0].httpsConnector.receiver.2340] org.mule.transport.http.HttpClientMessageDispatcher: Received a redirect, but followRedirects=false. Response code: 500 Internal Server Error',\n",
       " 'INFO  2017-08-18 18:03:37,357 [[webs-tbt-brm-router-service-internal-1.2.1.0].httpsConnector.receiver.2339] org.mule.transport.http.HttpClientMessageDispatcher: Received a redirect, but followRedirects=false. Response code: 500 Internal Server Error',\n",
       " 'INFO  2017-08-18 18:03:37,357 [[webs-tbt-brm-router-service-internal-1.2.1.0].httpsConnector.receiver.2339] org.mule.transport.http.HttpClientMessageDispatcher: Received a redirect, but followRedirects=false. Response code: 500 Internal Server Error',\n",
       " 'INFO  2017-08-18 18:03:37,241 [[webs-tbt-brm-router-service-internal-1.2.1.0].httpsConnector.receiver.2343] org.mule.transport.http.HttpClientMessageDispatcher: Received a redirect, but followRedirects=false. Response code: 500 Internal Server Error',\n",
       " 'INFO  2017-08-18 18:03:37,241 [[webs-tbt-brm-router-service-internal-1.2.1.0].httpsConnector.receiver.2343] org.mule.transport.http.HttpClientMessageDispatcher: Received a redirect, but followRedirects=false. Response code: 500 Internal Server Error',\n",
       " 'INFO  2017-08-18 18:03:37,170 [[webs-tbt-brm-router-service-internal-1.2.1.0].httpsConnector.receiver.2340] org.mule.transport.http.HttpClientMessageDispatcher: Received a redirect, but followRedirects=false. Response code: 500 Internal Server Error',\n",
       " 'INFO  2017-08-18 18:03:37,170 [[webs-tbt-brm-router-service-internal-1.2.1.0].httpsConnector.receiver.2340] org.mule.transport.http.HttpClientMessageDispatcher: Received a redirect, but followRedirects=false. Response code: 500 Internal Server Error',\n",
       " 'INFO  2017-08-18 18:03:37,049 [[webs-tbt-brm-router-service-internal-1.2.1.0].httpsConnector.receiver.4359] org.mule.transport.http.HttpClientMessageDispatcher: Received a redirect, but followRedirects=false. Response code: 500 Internal Server Error',\n",
       " 'INFO  2017-08-18 18:03:37,049 [[webs-tbt-brm-router-service-internal-1.2.1.0].httpsConnector.receiver.4359] org.mule.transport.http.HttpClientMessageDispatcher: Received a redirect, but followRedirects=false. Response code: 500 Internal Server Error',\n",
       " 'INFO  2017-08-18 18:00:37,552 [[webs-tbt-brm-router-service-internal-1.2.0].httpsConnector.receiver.1273] org.mule.transport.http.HttpClientMessageDispatcher: Received a redirect, but followRedirects=false. Response code: 500 Internal Server Error',\n",
       " 'INFO  2017-08-18 18:00:37,552 [[webs-tbt-brm-router-service-internal-1.2.0].httpsConnector.receiver.1273] org.mule.transport.http.HttpClientMessageDispatcher: Received a redirect, but followRedirects=false. Response code: 500 Internal Server Error',\n",
       " \"ERROR 20170818.174337 - [eis-10.1-3.2.0].entitlementEnrichService.stage1.890 LogInputComponent Exception in entitlementEnrichService.  ExceptionMessage{payload=com.intuit.iep.customerasset.intuitcustomerassetabo.v1.SyncCustomerAssetDataAreaType@6698f2ee, context={MULE_CORRELATION_ID=bpel://localhost/default/IntuitProvisionCustomerAssetOrchestration~1.0/127191465-BpInv5-BpSwt5.8-1, MULE_CORRELATION_GROUP_SIZE=-1, MULE_CORRELATION_SEQUENCE=-1}exception=org.mule.component.ComponentException: Component that caused exception is: DefaultJavaComponent{entitlementEnrichService.component.168057374}. Message payload is of type: SyncCustomerAssetDataAreaType, componentName='entitlementEnrichService', endpointUri=vm://vm.EntitlementInterfaces, timeStamp=Fri Aug 18 17:43:37 PDT 2017}\",\n",
       " 'INFO  2017-08-18 17:37:54,357 [[webs-tbt-brm-router-service-internal-1.2.1.0].httpsConnector.receiver.2773] org.mule.transport.http.HttpClientMessageDispatcher: Received a redirect, but followRedirects=false. Response code: 500 Internal Server Error',\n",
       " 'INFO  2017-08-18 17:37:54,357 [[webs-tbt-brm-router-service-internal-1.2.1.0].httpsConnector.receiver.2773] org.mule.transport.http.HttpClientMessageDispatcher: Received a redirect, but followRedirects=false. Response code: 500 Internal Server Error',\n",
       " 'INFO  2017-08-18 17:37:47,388 [[webs-tbt-brm-router-service-internal-1.2.1.0].httpsConnector.receiver.2773] org.mule.transport.http.HttpClientMessageDispatcher: Received a redirect, but followRedirects=false. Response code: 500 Internal Server Error',\n",
       " 'INFO  2017-08-18 17:37:47,388 [[webs-tbt-brm-router-service-internal-1.2.1.0].httpsConnector.receiver.2773] org.mule.transport.http.HttpClientMessageDispatcher: Received a redirect, but followRedirects=false. Response code: 500 Internal Server Error',\n",
       " 'INFO  2017-08-18 17:37:20,265 [[webs-tbt-brm-router-service-internal-1.2.1.0].httpsConnector.receiver.4351] org.mule.transport.http.HttpClientMessageDispatcher: Received a redirect, but followRedirects=false. Response code: 500 Internal Server Error',\n",
       " 'INFO  2017-08-18 17:37:20,265 [[webs-tbt-brm-router-service-internal-1.2.1.0].httpsConnector.receiver.4351] org.mule.transport.http.HttpClientMessageDispatcher: Received a redirect, but followRedirects=false. Response code: 500 Internal Server Error',\n",
       " 'INFO  2017-08-18 17:37:19,920 [[webs-tbt-brm-router-service-internal-1.2.1.0].httpsConnector.receiver.4351] org.mule.transport.http.HttpClientMessageDispatcher: Received a redirect, but followRedirects=false. Response code: 500 Internal Server Error',\n",
       " 'INFO  2017-08-18 17:37:19,920 [[webs-tbt-brm-router-service-internal-1.2.1.0].httpsConnector.receiver.4351] org.mule.transport.http.HttpClientMessageDispatcher: Received a redirect, but followRedirects=false. Response code: 500 Internal Server Error',\n",
       " 'INFO  2017-08-18 17:37:19,566 [[webs-tbt-brm-router-service-internal-1.2.1.0].httpsConnector.receiver.4351] org.mule.transport.http.HttpClientMessageDispatcher: Received a redirect, but followRedirects=false. Response code: 500 Internal Server Error',\n",
       " 'INFO  2017-08-18 17:37:19,566 [[webs-tbt-brm-router-service-internal-1.2.1.0].httpsConnector.receiver.4351] org.mule.transport.http.HttpClientMessageDispatcher: Received a redirect, but followRedirects=false. Response code: 500 Internal Server Error',\n",
       " 'ERROR 2017-08-18 17:28:37,877 [Mule.app.deployer.monitor.1.thread.1] com.intuit.platform.webs.common.validation.config.ValidatorFactory: INVALID Resource Keys [Ljava.lang.String;@4fd1368c',\n",
       " 'ERROR 2017-08-18 17:24:37,585 [okhttp-eventsource-5652] com.launchdarkly.client.StreamProcessor: Encountered EventSource error: Connection reset',\n",
       " 'INFO  2017-08-18 17:18:37,501 [[webs-tbt-brm-router-service-internal-1.2.1.0].httpsConnector.receiver.2335] org.mule.transport.http.HttpClientMessageDispatcher: Received a redirect, but followRedirects=false. Response code: 500 Internal Server Error',\n",
       " 'INFO  2017-08-18 17:18:37,501 [[webs-tbt-brm-router-service-internal-1.2.1.0].httpsConnector.receiver.2335] org.mule.transport.http.HttpClientMessageDispatcher: Received a redirect, but followRedirects=false. Response code: 500 Internal Server Error',\n",
       " 'INFO  2017-08-18 16:37:19,991 [[webs-tbt-brm-router-service-internal-1.2.1.0].httpsConnector.receiver.4339] org.mule.transport.http.HttpClientMessageDispatcher: Received a redirect, but followRedirects=false. Response code: 500 Internal Server Error',\n",
       " 'INFO  2017-08-18 16:37:19,991 [[webs-tbt-brm-router-service-internal-1.2.1.0].httpsConnector.receiver.4339] org.mule.transport.http.HttpClientMessageDispatcher: Received a redirect, but followRedirects=false. Response code: 500 Internal Server Error',\n",
       " 'INFO  2017-08-18 16:37:19,648 [[webs-tbt-brm-router-service-internal-1.2.1.0].httpsConnector.receiver.4339] org.mule.transport.http.HttpClientMessageDispatcher: Received a redirect, but followRedirects=false. Response code: 500 Internal Server Error',\n",
       " 'INFO  2017-08-18 16:37:19,648 [[webs-tbt-brm-router-service-internal-1.2.1.0].httpsConnector.receiver.4339] org.mule.transport.http.HttpClientMessageDispatcher: Received a redirect, but followRedirects=false. Response code: 500 Internal Server Error',\n",
       " 'INFO  2017-08-18 16:32:37,252 [[webs-tbt-brm-router-service-internal-1.2.1.0].httpsConnector.receiver.2768] org.mule.transport.http.HttpClientMessageDispatcher: Received a redirect, but followRedirects=false. Response code: 500 Internal Server Error',\n",
       " 'INFO  2017-08-18 16:32:37,252 [[webs-tbt-brm-router-service-internal-1.2.1.0].httpsConnector.receiver.2768] org.mule.transport.http.HttpClientMessageDispatcher: Received a redirect, but followRedirects=false. Response code: 500 Internal Server Error',\n",
       " 'INFO  2017-08-18 16:04:37,333 [[webs-tbt-brm-router-service-internal-1.2.1.0].httpsConnector.receiver.4332] org.mule.transport.http.HttpClientMessageDispatcher: Received a redirect, but followRedirects=false. Response code: 500 Internal Server Error',\n",
       " 'INFO  2017-08-18 16:04:37,333 [[webs-tbt-brm-router-service-internal-1.2.1.0].httpsConnector.receiver.4332] org.mule.transport.http.HttpClientMessageDispatcher: Received a redirect, but followRedirects=false. Response code: 500 Internal Server Error',\n",
       " '2017-08-18 15:51:37,982 | level=ERROR| thread=okhttp-eventsource-1052 | class=com.launchdarkly.client.StreamProcessor | Encountered EventSource error: Connection reset',\n",
       " 'INFO  2017-08-18 15:37:52,714 [ActiveMQ Session Task-2286] com.intuit.platform.webs.subscription.processsubscription.TransformProcessSubscriptionToOrderFallout: **************process subscription request intuit_tid=c4f928c1-cd68-49d4-b19d-8544c5cd3318transactionId=54e9f9d2-029b-434a-a669-c0164fec8322 errorMessage**********************Max retry attemps exceeded during operational error when calling BRM. Sent message to Order Fallout table.',\n",
       " 'INFO  2017-08-18 15:37:33,546 [ActiveMQ Session Task-1654] com.intuit.platform.webs.subscription.processsubscription.TransformProcessSubscriptionToOrderFallout: **************process subscription request intuit_tid=fd2cbc8a-b15f-44e5-aca2-d7b6c35e9816transactionId=2d50b5c0-d33a-4683-bb33-cba917e74d6e errorMessage**********************Max retry attemps exceeded during operational error when calling BRM. Sent message to Order Fallout table.',\n",
       " 'INFO  2017-08-18 15:37:23,313 [[commerce-enterpriseaccount-2.1.0].connector.http.mule.default.receiver.434] com.intuit.platform.services.commerce.account.transformer.AccountResponseJsonTransformer: dfcabce4-4d56-d859-65c6-80b58f13b3e2:message to transform in AccountResponseJsonTransformer: {\"error\":[{\"code\":\"ACCT-203170\",\"type\":\"CLIENT\",\"message\":\"Invalid country\",\"detail\":\"Should be a 2 character code\",\"moreInfo\":null}]}',\n",
       " 'ERROR 2017-08-18 15:37:23,311 [[commerce-enterpriseaccount-2.1.0].connector.http.mule.default.receiver.434] org.mule.api.processor.LoggerMessageProcessor: dfcabce4-4d56-d859-65c6-80b58f13b3e2:AccountService Main Flow - logging error message',\n",
       " 'ERROR 2017-08-18 15:37:20,256 [[commerce-enterpriseaccount-2.1.0].connector.http.mule.default.receiver.449] org.mule.api.processor.LoggerMessageProcessor: 57d8dcd7-f8d6-fbea-b409-7ff4b0205f10:AccountService Main Flow - logging error message',\n",
       " 'INFO  2017-08-18 15:37:17,179 [[commerce-enterpriseaccount-2.1.0].connector.http.mule.default.receiver.449] com.intuit.platform.services.commerce.account.transformer.AccountResponseJsonTransformer: eb01be51-b6b5-7067-ec46-75badb3e4d94:message to transform in AccountResponseJsonTransformer: {\"error\":[{\"code\":\"ACCT-203150\",\"type\":\"CLIENT\",\"message\":\"Invalid state\",\"detail\":\"Invalid US state\",\"moreInfo\":null}]}',\n",
       " 'ERROR 2017-08-18 15:37:17,176 [[commerce-enterpriseaccount-2.1.0].connector.http.mule.default.receiver.449] org.mule.api.processor.LoggerMessageProcessor: eb01be51-b6b5-7067-ec46-75badb3e4d94:AccountService Main Flow - logging error message',\n",
       " 'INFO  2017-08-18 15:37:14,112 [[commerce-enterpriseaccount-2.1.0].connector.http.mule.default.receiver.434] com.intuit.platform.services.commerce.account.transformer.AccountResponseJsonTransformer: 7ac397c6-4cb0-5187-cad9-7f597745cd67:message to transform in AccountResponseJsonTransformer: {\"error\":[{\"code\":\"ACCT-201180\",\"type\":\"CLIENT\",\"message\":\"Invalid input parameters\",\"detail\":\"Invalid  Resource Id: 320e5361-a3db-452a-bb6b\",\"moreInfo\":null}]}',\n",
       " 'ERROR 2017-08-18 15:37:14,110 [[commerce-enterpriseaccount-2.1.0].connector.http.mule.default.receiver.434] org.mule.api.processor.LoggerMessageProcessor: 7ac397c6-4cb0-5187-cad9-7f597745cd67:AccountService Main Flow - logging error message',\n",
       " 'INFO  2017-08-18 15:37:11,233 [[commerce-enterpriseaccount-2.1.0].connector.http.mule.default.receiver.449] com.intuit.platform.services.commerce.account.transformer.AccountResponseJsonTransformer: e1b4c176-cfec-1cd8-ea18-c964dc7648e2:message to transform in AccountResponseJsonTransformer: {\"error\":[{\"code\":\"ACCT-203110\",\"type\":\"CLIENT\",\"message\":\"Address resource cannot be found\",\"detail\":\"Address resource with id = 320e5361-a3db-452a-bb6b-ef3545c89331 not found \",\"moreInfo\":null}]}',\n",
       " 'ERROR 2017-08-18 15:37:11,230 [[commerce-enterpriseaccount-2.1.0].connector.http.mule.default.receiver.449] org.mule.api.processor.LoggerMessageProcessor: e1b4c176-cfec-1cd8-ea18-c964dc7648e2:AccountService Main Flow - logging error message',\n",
       " '2017-08-18 15:37:02,199 WARN The Logger com.intuit.platform.common.mule.error.transformers.ErrorResponseTransformer was created with the message factory org.apache.logging.log4j.message.ParameterizedMessageFactory@399ef182 and is now requested with the message factory org.apache.logging.log4j.message.ParameterizedMessageFactory@4e7c4202, which may create log events with unexpected formatting.',\n",
       " '2017-08-18 15:37:02,198 WARN The Logger com.intuit.platform.common.mule.error.transformers.ErrorResponseTransformer was created with the message factory org.apache.logging.log4j.message.ParameterizedMessageFactory@399ef182 and is now requested with the message factory org.apache.logging.log4j.message.ParameterizedMessageFactory@4e7c4202, which may create log events with unexpected formatting.',\n",
       " '2017-08-18 15:37:02,197 WARN The Logger com.intuit.platform.common.mule.error.transformers.ErrorResponseTransformer was created with the message factory org.apache.logging.log4j.message.ParameterizedMessageFactory@399ef182 and is now requested with the message factory org.apache.logging.log4j.message.ParameterizedMessageFactory@4e7c4202, which may create log events with unexpected formatting.',\n",
       " '2017-08-18 15:37:02,196 WARN The Logger com.intuit.platform.common.mule.error.transformers.ErrorResponseTransformer was created with the message factory org.apache.logging.log4j.message.ParameterizedMessageFactory@399ef182 and is now requested with the message factory org.apache.logging.log4j.message.ParameterizedMessageFactory@4e7c4202, which may create log events with unexpected formatting.',\n",
       " '2017-08-18 15:37:00,146 WARN The Logger com.intuit.platform.common.mule.error.transformers.ErrorResponseTransformer was created with the message factory org.apache.logging.log4j.message.ParameterizedMessageFactory@399ef182 and is now requested with the message factory org.apache.logging.log4j.message.ParameterizedMessageFactory@4e7c4202, which may create log events with unexpected formatting.',\n",
       " '2017-08-18 15:37:00,145 WARN The Logger com.intuit.platform.common.mule.error.transformers.ErrorResponseTransformer was created with the message factory org.apache.logging.log4j.message.ParameterizedMessageFactory@399ef182 and is now requested with the message factory org.apache.logging.log4j.message.ParameterizedMessageFactory@4e7c4202, which may create log events with unexpected formatting.',\n",
       " '2017-08-18 15:37:00,144 WARN The Logger com.intuit.platform.common.mule.error.transformers.ErrorResponseTransformer was created with the message factory org.apache.logging.log4j.message.ParameterizedMessageFactory@399ef182 and is now requested with the message factory org.apache.logging.log4j.message.ParameterizedMessageFactory@4e7c4202, which may create log events with unexpected formatting.',\n",
       " '2017-08-18 15:37:00,143 WARN The Logger com.intuit.platform.common.mule.error.transformers.ErrorResponseTransformer was created with the message factory org.apache.logging.log4j.message.ParameterizedMessageFactory@399ef182 and is now requested with the message factory org.apache.logging.log4j.message.ParameterizedMessageFactory@4e7c4202, which may create log events with unexpected formatting.',\n",
       " 'INFO  2017-08-18 15:33:37,662 [ActiveMQ Session Task-276] com.intuit.platform.webs.subscription.processsubscription.TransformProcessSubscriptionToOrderFallout: **************process subscription request intuit_tid=3bbd06a8-299f-41a6-a7e8-01987a5d3ad5transactionId=976d0ab5-9aa3-443f-8f3d-7f6918257fa9 errorMessage**********************Max retry attemps exceeded during operational error when calling BRM. Sent message to Order Fallout table.',\n",
       " 'INFO  2017-08-18 15:31:37,514 [ActiveMQ Session Task-2284] com.intuit.platform.webs.subscription.processsubscription.TransformProcessSubscriptionToOrderFallout: **************process subscription request intuit_tid=1474ac81-12e9-4e37-95fe-ce8175dc7ff6transactionId=ff9f7421-feca-4dbe-8948-9c625a91924f errorMessage**********************Max retry attemps exceeded during operational error when calling BRM. Sent message to Order Fallout table.',\n",
       " 'INFO  2017-08-18 15:17:37,882 [WrapperListener_start_runner] org.springframework.beans.factory.config.PropertyPlaceholderConfigurer: Loading properties file from URL [file:/mule/mule-enterprise-standalone-3.8.3/apps/webs-pub-subscription-eligible-addon-change-offers-api-3.8.0.0-SNAPSHOT/classes/error.properties]',\n",
       " 'ERROR 2017-08-18 15:01:37,977 [[webs-pub-account-pilot-api-1.12.6.0].HTTP_Listener_Configuration.worker.1791] org.mule.api.processor.LoggerMessageProcessor: intuit_tid=qbo-51eeb786-8f69-4d35-ab88-45c32162ac26 flowName=webs-pub-account-pilot-api.AccountOrchestrationFlow Business-rule-validation-AccountV1API-Exception=BusinessRuleValidationException Occured for GetSubscriptionByAccountID-Internal-API : [com.intuit.platform.webs.account.customException.BusinessRuleValidationException: Country in the incoming request (MY) does not match the country in WEBS database (HK).]']"
      ]
     },
     "execution_count": 44,
     "metadata": {},
     "output_type": "execute_result"
    }
   ],
   "source": [
    "check_logs"
   ]
  },
  {
   "cell_type": "code",
   "execution_count": 45,
   "metadata": {
    "collapsed": true
   },
   "outputs": [],
   "source": [
    "##Create dictionary of dataframes, split by time\n",
    "d1 = OrderedDict(sorted(split_by_time(f_df1).items()))\n",
    "d2 = OrderedDict(sorted(split_by_time(f_df2).items()))\n",
    "#d1 = OrderedDict(sorted(split_by_time(df_predict1).items()))\n",
    "#d2 = OrderedDict(sorted(split_by_time(df_predict2).items()))\n"
   ]
  },
  {
   "cell_type": "code",
   "execution_count": 46,
   "metadata": {},
   "outputs": [
    {
     "ename": "AttributeError",
     "evalue": "'NoneType' object has no attribute 'shape'",
     "output_type": "error",
     "traceback": [
      "\u001b[0;31m---------------------------------------------------------------------------\u001b[0m",
      "\u001b[0;31mAttributeError\u001b[0m                            Traceback (most recent call last)",
      "\u001b[0;32m<ipython-input-46-bcc5b1714ca1>\u001b[0m in \u001b[0;36m<module>\u001b[0;34m()\u001b[0m\n\u001b[1;32m      3\u001b[0m \u001b[0mcounts2\u001b[0m \u001b[0;34m=\u001b[0m \u001b[0;34m[\u001b[0m\u001b[0;34m]\u001b[0m\u001b[0;34m\u001b[0m\u001b[0m\n\u001b[1;32m      4\u001b[0m \u001b[0;32mfor\u001b[0m \u001b[0mk\u001b[0m\u001b[0;34m,\u001b[0m \u001b[0mval\u001b[0m \u001b[0;32min\u001b[0m \u001b[0md1\u001b[0m\u001b[0;34m.\u001b[0m\u001b[0miteritems\u001b[0m\u001b[0;34m(\u001b[0m\u001b[0;34m)\u001b[0m\u001b[0;34m:\u001b[0m\u001b[0;34m\u001b[0m\u001b[0m\n\u001b[0;32m----> 5\u001b[0;31m     \u001b[0mcounts1\u001b[0m\u001b[0;34m.\u001b[0m\u001b[0mappend\u001b[0m\u001b[0;34m(\u001b[0m\u001b[0mval\u001b[0m\u001b[0;34m.\u001b[0m\u001b[0mshape\u001b[0m\u001b[0;34m[\u001b[0m\u001b[0;36m0\u001b[0m\u001b[0;34m]\u001b[0m\u001b[0;34m)\u001b[0m\u001b[0;34m\u001b[0m\u001b[0m\n\u001b[0m\u001b[1;32m      6\u001b[0m \u001b[0;32mfor\u001b[0m \u001b[0mk\u001b[0m\u001b[0;34m,\u001b[0m \u001b[0mval\u001b[0m \u001b[0;32min\u001b[0m \u001b[0md2\u001b[0m\u001b[0;34m.\u001b[0m\u001b[0miteritems\u001b[0m\u001b[0;34m(\u001b[0m\u001b[0;34m)\u001b[0m\u001b[0;34m:\u001b[0m\u001b[0;34m\u001b[0m\u001b[0m\n\u001b[1;32m      7\u001b[0m     \u001b[0mcounts2\u001b[0m\u001b[0;34m.\u001b[0m\u001b[0mappend\u001b[0m\u001b[0;34m(\u001b[0m\u001b[0mval\u001b[0m\u001b[0;34m.\u001b[0m\u001b[0mshape\u001b[0m\u001b[0;34m[\u001b[0m\u001b[0;36m0\u001b[0m\u001b[0;34m]\u001b[0m\u001b[0;34m)\u001b[0m\u001b[0;34m\u001b[0m\u001b[0m\n",
      "\u001b[0;31mAttributeError\u001b[0m: 'NoneType' object has no attribute 'shape'"
     ]
    }
   ],
   "source": [
    "#create counts for training\n",
    "counts1 = []\n",
    "counts2 = []\n",
    "for k, val in d1.iteritems():\n",
    "    counts1.append(val.shape[0])\n",
    "for k, val in d2.iteritems():\n",
    "    counts2.append(val.shape[0])"
   ]
  },
  {
   "cell_type": "code",
   "execution_count": 47,
   "metadata": {},
   "outputs": [
    {
     "data": {
      "text/plain": [
       "(12, 0)"
      ]
     },
     "execution_count": 47,
     "metadata": {},
     "output_type": "execute_result"
    }
   ],
   "source": [
    "len(counts1), len(counts2)"
   ]
  },
  {
   "cell_type": "code",
   "execution_count": 48,
   "metadata": {},
   "outputs": [
    {
     "data": {
      "text/plain": [
       "([2, 22, 2, 6, 4, 11, 16, 4, 7, 10], [])"
      ]
     },
     "execution_count": 48,
     "metadata": {},
     "output_type": "execute_result"
    }
   ],
   "source": [
    "counts1[:10], counts2[:10]"
   ]
  },
  {
   "cell_type": "code",
   "execution_count": 49,
   "metadata": {},
   "outputs": [
    {
     "ename": "NameError",
     "evalue": "name 'logs_train1' is not defined",
     "output_type": "error",
     "traceback": [
      "\u001b[0;31m---------------------------------------------------------------------------\u001b[0m",
      "\u001b[0;31mNameError\u001b[0m                                 Traceback (most recent call last)",
      "\u001b[0;32m<ipython-input-49-71f474471f15>\u001b[0m in \u001b[0;36m<module>\u001b[0;34m()\u001b[0m\n\u001b[0;32m----> 1\u001b[0;31m \u001b[0mv\u001b[0m \u001b[0;34m=\u001b[0m \u001b[0mvect\u001b[0m\u001b[0;34m.\u001b[0m\u001b[0mfit\u001b[0m\u001b[0;34m(\u001b[0m\u001b[0mlogs_train1\u001b[0m\u001b[0;34m)\u001b[0m\u001b[0;34m\u001b[0m\u001b[0m\n\u001b[0m\u001b[1;32m      2\u001b[0m \u001b[0mv\u001b[0m\u001b[0;34m.\u001b[0m\u001b[0mtransform\u001b[0m\u001b[0;34m(\u001b[0m\u001b[0mlogs_test\u001b[0m\u001b[0;34m)\u001b[0m\u001b[0;34m\u001b[0m\u001b[0m\n",
      "\u001b[0;31mNameError\u001b[0m: name 'logs_train1' is not defined"
     ]
    }
   ],
   "source": [
    "v = vect.fit(logs_train1)\n",
    "v.transform(logs_test)"
   ]
  },
  {
   "cell_type": "code",
   "execution_count": 50,
   "metadata": {},
   "outputs": [
    {
     "data": {
      "text/html": [
       "<div>\n",
       "<style>\n",
       "    .dataframe thead tr:only-child th {\n",
       "        text-align: right;\n",
       "    }\n",
       "\n",
       "    .dataframe thead th {\n",
       "        text-align: left;\n",
       "    }\n",
       "\n",
       "    .dataframe tbody tr th {\n",
       "        vertical-align: top;\n",
       "    }\n",
       "</style>\n",
       "<table border=\"1\" class=\"dataframe\">\n",
       "  <thead>\n",
       "    <tr style=\"text-align: right;\">\n",
       "      <th></th>\n",
       "      <th>0</th>\n",
       "      <th>1</th>\n",
       "      <th>2</th>\n",
       "    </tr>\n",
       "  </thead>\n",
       "  <tbody>\n",
       "    <tr>\n",
       "      <th>0</th>\n",
       "      <td>INFO  2017-08-19 14:18:11,732 [[ebcs-restricti...</td>\n",
       "      <td>2017-08-19 14:18:11.732000-07:00</td>\n",
       "      <td>11</td>\n",
       "    </tr>\n",
       "    <tr>\n",
       "      <th>1</th>\n",
       "      <td>2017-08-19 14:18:09,124 | level=ERROR| thread=...</td>\n",
       "      <td>2017-08-19 14:18:09.124000-07:00</td>\n",
       "      <td>4</td>\n",
       "    </tr>\n",
       "    <tr>\n",
       "      <th>2</th>\n",
       "      <td>2017-08-19 14:17:48,122 | level=ERROR| thread=...</td>\n",
       "      <td>2017-08-19 14:17:48.122000-07:00</td>\n",
       "      <td>4</td>\n",
       "    </tr>\n",
       "    <tr>\n",
       "      <th>3</th>\n",
       "      <td>INFO  2017-08-19 14:17:47,376 [[webs-pub-conve...</td>\n",
       "      <td>2017-08-19 14:17:47.376000-07:00</td>\n",
       "      <td>17</td>\n",
       "    </tr>\n",
       "    <tr>\n",
       "      <th>4</th>\n",
       "      <td>INFO  2017-08-19 14:17:47,374 [[webs-pub-conve...</td>\n",
       "      <td>2017-08-19 14:17:47.374000-07:00</td>\n",
       "      <td>17</td>\n",
       "    </tr>\n",
       "  </tbody>\n",
       "</table>\n",
       "</div>"
      ],
      "text/plain": [
       "                                                   0  \\\n",
       "0  INFO  2017-08-19 14:18:11,732 [[ebcs-restricti...   \n",
       "1  2017-08-19 14:18:09,124 | level=ERROR| thread=...   \n",
       "2  2017-08-19 14:17:48,122 | level=ERROR| thread=...   \n",
       "3  INFO  2017-08-19 14:17:47,376 [[webs-pub-conve...   \n",
       "4  INFO  2017-08-19 14:17:47,374 [[webs-pub-conve...   \n",
       "\n",
       "                                 1   2  \n",
       "0 2017-08-19 14:18:11.732000-07:00  11  \n",
       "1 2017-08-19 14:18:09.124000-07:00   4  \n",
       "2 2017-08-19 14:17:48.122000-07:00   4  \n",
       "3 2017-08-19 14:17:47.376000-07:00  17  \n",
       "4 2017-08-19 14:17:47.374000-07:00  17  "
      ]
     },
     "execution_count": 50,
     "metadata": {},
     "output_type": "execute_result"
    }
   ],
   "source": [
    "##Let's fit the 'future' data and pull out cluster_num\n",
    "formatted_df = format_df(df_test)\n",
    "logs_test = formatted_df['_raw'].tolist()\n",
    "times = formatted_df['_time'].tolist()\n",
    "test_x1 = v.transform(logs_test)\n",
    "\n",
    "labels = km.predict(test_x1)\n",
    "lst = zip(logs, times, labels.tolist())\n",
    "test_data = pd.DataFrame(lst)\n",
    "test_data.head()"
   ]
  },
  {
   "cell_type": "code",
   "execution_count": 51,
   "metadata": {},
   "outputs": [
    {
     "ename": "AttributeError",
     "evalue": "'NoneType' object has no attribute 'shape'",
     "output_type": "error",
     "traceback": [
      "\u001b[0;31m---------------------------------------------------------------------------\u001b[0m",
      "\u001b[0;31mAttributeError\u001b[0m                            Traceback (most recent call last)",
      "\u001b[0;32m<ipython-input-51-89b707614423>\u001b[0m in \u001b[0;36m<module>\u001b[0;34m()\u001b[0m\n\u001b[1;32m      5\u001b[0m \u001b[0mtest_counts\u001b[0m \u001b[0;34m=\u001b[0m \u001b[0;34m[\u001b[0m\u001b[0;34m]\u001b[0m\u001b[0;34m\u001b[0m\u001b[0m\n\u001b[1;32m      6\u001b[0m \u001b[0;32mfor\u001b[0m \u001b[0mk\u001b[0m\u001b[0;34m,\u001b[0m \u001b[0mval\u001b[0m \u001b[0;32min\u001b[0m \u001b[0mtest_d\u001b[0m\u001b[0;34m.\u001b[0m\u001b[0miteritems\u001b[0m\u001b[0;34m(\u001b[0m\u001b[0;34m)\u001b[0m\u001b[0;34m:\u001b[0m\u001b[0;34m\u001b[0m\u001b[0m\n\u001b[0;32m----> 7\u001b[0;31m     \u001b[0mtest_counts\u001b[0m\u001b[0;34m.\u001b[0m\u001b[0mappend\u001b[0m\u001b[0;34m(\u001b[0m\u001b[0mval\u001b[0m\u001b[0;34m.\u001b[0m\u001b[0mshape\u001b[0m\u001b[0;34m[\u001b[0m\u001b[0;36m0\u001b[0m\u001b[0;34m]\u001b[0m\u001b[0;34m)\u001b[0m\u001b[0;34m\u001b[0m\u001b[0m\n\u001b[0m",
      "\u001b[0;31mAttributeError\u001b[0m: 'NoneType' object has no attribute 'shape'"
     ]
    }
   ],
   "source": [
    "test_data = test_data[test_data[2]==cluster_num]\n",
    "\n",
    "#test_data = test_data\n",
    "test_d = OrderedDict(sorted(split_by_time(test_data).items()))\n",
    "test_counts = []\n",
    "for k, val in test_d.iteritems():\n",
    "    test_counts.append(val.shape[0])\n"
   ]
  },
  {
   "cell_type": "code",
   "execution_count": null,
   "metadata": {
    "collapsed": true
   },
   "outputs": [],
   "source": [
    "test_data.head()"
   ]
  },
  {
   "cell_type": "code",
   "execution_count": null,
   "metadata": {
    "collapsed": true
   },
   "outputs": [],
   "source": [
    "len(test_counts)"
   ]
  },
  {
   "cell_type": "code",
   "execution_count": null,
   "metadata": {
    "collapsed": true
   },
   "outputs": [],
   "source": [
    "test_counts[:10]"
   ]
  },
  {
   "cell_type": "code",
   "execution_count": 33,
   "metadata": {},
   "outputs": [
    {
     "ename": "NameError",
     "evalue": "name 'counts1' is not defined",
     "output_type": "error",
     "traceback": [
      "\u001b[0;31m---------------------------------------------------------------------------\u001b[0m",
      "\u001b[0;31mNameError\u001b[0m                                 Traceback (most recent call last)",
      "\u001b[0;32m<ipython-input-33-aa29c1aa434e>\u001b[0m in \u001b[0;36m<module>\u001b[0;34m()\u001b[0m\n\u001b[1;32m      1\u001b[0m \u001b[0;31m#zip the data\u001b[0m\u001b[0;34m\u001b[0m\u001b[0;34m\u001b[0m\u001b[0m\n\u001b[0;32m----> 2\u001b[0;31m \u001b[0mcounts1\u001b[0m \u001b[0;34m=\u001b[0m \u001b[0;34m[\u001b[0m\u001b[0mfloat\u001b[0m\u001b[0;34m(\u001b[0m\u001b[0mi\u001b[0m\u001b[0;34m)\u001b[0m \u001b[0;32mfor\u001b[0m \u001b[0mi\u001b[0m \u001b[0;32min\u001b[0m \u001b[0mcounts1\u001b[0m\u001b[0;34m]\u001b[0m\u001b[0;34m\u001b[0m\u001b[0m\n\u001b[0m\u001b[1;32m      3\u001b[0m \u001b[0mcounts2\u001b[0m \u001b[0;34m=\u001b[0m \u001b[0;34m[\u001b[0m\u001b[0mfloat\u001b[0m\u001b[0;34m(\u001b[0m\u001b[0mi\u001b[0m\u001b[0;34m)\u001b[0m \u001b[0;32mfor\u001b[0m \u001b[0mi\u001b[0m \u001b[0;32min\u001b[0m \u001b[0mcounts2\u001b[0m\u001b[0;34m]\u001b[0m\u001b[0;34m\u001b[0m\u001b[0m\n\u001b[1;32m      4\u001b[0m \u001b[0;34m\u001b[0m\u001b[0m\n\u001b[1;32m      5\u001b[0m \u001b[0mtrain\u001b[0m \u001b[0;34m=\u001b[0m \u001b[0mzip\u001b[0m\u001b[0;34m(\u001b[0m\u001b[0mcounts1\u001b[0m\u001b[0;34m,\u001b[0m \u001b[0mcounts2\u001b[0m\u001b[0;34m)\u001b[0m\u001b[0;34m\u001b[0m\u001b[0m\n",
      "\u001b[0;31mNameError\u001b[0m: name 'counts1' is not defined"
     ]
    }
   ],
   "source": [
    "#zip the data\n",
    "counts1 = [float(i) for i in counts1]\n",
    "counts2 = [float(i) for i in counts2]\n",
    "\n",
    "train = zip(counts1, counts2)\n",
    "train = [i for i in train if math.fabs(i[1]-i[0] < 100)]\n",
    "print len(train)"
   ]
  },
  {
   "cell_type": "markdown",
   "metadata": {},
   "source": [
    "## ARIMA prediction"
   ]
  },
  {
   "cell_type": "code",
   "execution_count": 32,
   "metadata": {},
   "outputs": [
    {
     "ename": "NameError",
     "evalue": "name 'train' is not defined",
     "output_type": "error",
     "traceback": [
      "\u001b[0;31m---------------------------------------------------------------------------\u001b[0m",
      "\u001b[0;31mNameError\u001b[0m                                 Traceback (most recent call last)",
      "\u001b[0;32m<ipython-input-32-49f6daf2d730>\u001b[0m in \u001b[0;36m<module>\u001b[0;34m()\u001b[0m\n\u001b[1;32m      4\u001b[0m \u001b[0mprediction_value\u001b[0m \u001b[0;34m=\u001b[0m \u001b[0;34m[\u001b[0m\u001b[0;34m]\u001b[0m\u001b[0;34m\u001b[0m\u001b[0m\n\u001b[1;32m      5\u001b[0m \u001b[0;34m\u001b[0m\u001b[0m\n\u001b[0;32m----> 6\u001b[0;31m \u001b[0;32mfor\u001b[0m \u001b[0mt\u001b[0m \u001b[0;32min\u001b[0m \u001b[0mtrain\u001b[0m\u001b[0;34m:\u001b[0m\u001b[0;34m\u001b[0m\u001b[0m\n\u001b[0m\u001b[1;32m      7\u001b[0m     \u001b[0mrgr\u001b[0m \u001b[0;34m=\u001b[0m \u001b[0mARIMA\u001b[0m\u001b[0;34m(\u001b[0m\u001b[0mt\u001b[0m\u001b[0;34m,\u001b[0m \u001b[0morder\u001b[0m\u001b[0;34m=\u001b[0m\u001b[0;34m(\u001b[0m\u001b[0;36m0\u001b[0m\u001b[0;34m,\u001b[0m\u001b[0;36m0\u001b[0m\u001b[0;34m,\u001b[0m\u001b[0;36m0\u001b[0m\u001b[0;34m)\u001b[0m\u001b[0;34m)\u001b[0m\u001b[0;34m\u001b[0m\u001b[0m\n\u001b[1;32m      8\u001b[0m     \u001b[0mfit\u001b[0m \u001b[0;34m=\u001b[0m \u001b[0mrgr\u001b[0m\u001b[0;34m.\u001b[0m\u001b[0mfit\u001b[0m\u001b[0;34m(\u001b[0m\u001b[0mdisp\u001b[0m\u001b[0;34m=\u001b[0m\u001b[0;36m0\u001b[0m\u001b[0;34m)\u001b[0m\u001b[0;34m\u001b[0m\u001b[0m\n",
      "\u001b[0;31mNameError\u001b[0m: name 'train' is not defined"
     ]
    }
   ],
   "source": [
    "##make predictions by fitting ARIMA model into the lists\n",
    "prediction_upperbound = []\n",
    "prediction_lowerbound = []\n",
    "prediction_value = []\n",
    "\n",
    "for t in train:\n",
    "    rgr = ARIMA(t, order=(0,0,0))\n",
    "    fit = rgr.fit(disp=0)\n",
    "    forecast =  fit.forecast()\n",
    "    prediction_upperbound.append(forecast[2][0][1])\n",
    "    prediction_lowerbound.append(forecast[2][0][0])\n",
    "    prediction_value.append(forecast[0])\n",
    "\n",
    "#Turn into numpy array for computation\n",
    "prediction_upperbound = np.asarray(prediction_upperbound)\n",
    "prediction_lowerbound = np.asarray(prediction_lowerbound)\n",
    "prediction_value = np.asarray(prediction_value)"
   ]
  },
  {
   "cell_type": "markdown",
   "metadata": {},
   "source": [
    "## Vis"
   ]
  },
  {
   "cell_type": "code",
   "execution_count": null,
   "metadata": {
    "collapsed": true
   },
   "outputs": [],
   "source": [
    "import numpy as np\n",
    "\n",
    "from bokeh.plotting import figure, show, output_file\n",
    "\n",
    "# Define Bollinger Bands.\n",
    "upperband = prediction_upperbound\n",
    "lowerband = prediction_lowerbound\n",
    "x_data = np.arange(1, 101)\n",
    "\n",
    "length = min(len(prediction_upperbound), len(prediction_lowerbound))\n",
    "x_data = np.arange(1, length)\n",
    "# Bollinger shading glyph:\n",
    "band_x = np.append(x_data, x_data[::-1])\n",
    "band_y = np.append(lowerband, upperband[::-1])\n",
    "\n",
    "output_file('bollinger.html', title='Bollinger bands (file)')\n",
    "\n",
    "\n",
    "p = figure(x_axis_type='datetime', title=\"\")\n",
    "\n",
    "# add a line renderer\n",
    "p.line([i for i in range(1,length)], counts2, line_width=2)\n",
    "p.grid.grid_line_alpha = 0.4\n",
    "p.x_range.range_padding = 0\n",
    "p.plot_height = 600\n",
    "p.plot_width = 800\n",
    "\n",
    "p.patch(band_x, band_y, color='#7570B3', fill_alpha=0.2)\n",
    "\n",
    "show(p)"
   ]
  },
  {
   "cell_type": "code",
   "execution_count": null,
   "metadata": {
    "collapsed": true
   },
   "outputs": [],
   "source": []
  },
  {
   "cell_type": "code",
   "execution_count": null,
   "metadata": {
    "collapsed": true
   },
   "outputs": [],
   "source": []
  },
  {
   "cell_type": "code",
   "execution_count": null,
   "metadata": {
    "collapsed": true
   },
   "outputs": [],
   "source": [
    "f = '/Users/momori/PycharmProjects/AIMonitoring/data/qq.csv'\n",
    "dd = pd.read_csv(f)"
   ]
  },
  {
   "cell_type": "code",
   "execution_count": null,
   "metadata": {},
   "outputs": [],
   "source": [
    "dd"
   ]
  },
  {
   "cell_type": "code",
   "execution_count": null,
   "metadata": {
    "collapsed": true
   },
   "outputs": [],
   "source": []
  },
  {
   "cell_type": "code",
   "execution_count": null,
   "metadata": {
    "collapsed": true
   },
   "outputs": [],
   "source": []
  },
  {
   "cell_type": "code",
   "execution_count": null,
   "metadata": {
    "collapsed": true
   },
   "outputs": [],
   "source": []
  },
  {
   "cell_type": "code",
   "execution_count": null,
   "metadata": {
    "collapsed": true
   },
   "outputs": [],
   "source": []
  },
  {
   "cell_type": "code",
   "execution_count": null,
   "metadata": {
    "collapsed": true
   },
   "outputs": [],
   "source": []
  },
  {
   "cell_type": "code",
   "execution_count": null,
   "metadata": {
    "collapsed": true
   },
   "outputs": [],
   "source": []
  },
  {
   "cell_type": "code",
   "execution_count": null,
   "metadata": {
    "collapsed": true
   },
   "outputs": [],
   "source": []
  },
  {
   "cell_type": "code",
   "execution_count": null,
   "metadata": {
    "collapsed": true
   },
   "outputs": [],
   "source": []
  },
  {
   "cell_type": "code",
   "execution_count": null,
   "metadata": {
    "collapsed": true
   },
   "outputs": [],
   "source": []
  },
  {
   "cell_type": "code",
   "execution_count": null,
   "metadata": {
    "collapsed": true
   },
   "outputs": [],
   "source": []
  },
  {
   "cell_type": "code",
   "execution_count": null,
   "metadata": {
    "collapsed": true
   },
   "outputs": [],
   "source": []
  },
  {
   "cell_type": "markdown",
   "metadata": {},
   "source": [
    "# Test"
   ]
  },
  {
   "cell_type": "code",
   "execution_count": null,
   "metadata": {
    "collapsed": true,
    "scrolled": true
   },
   "outputs": [],
   "source": [
    "##get predictions for a subset of the logs and create df with _raw, _time, and label\n",
    "test_df = format_df(df[0:10000])\n",
    "\n",
    "logs = test_df['_raw'].tolist()\n",
    "times = test_df['_time'].tolist()\n",
    "test_x = vect.transform(logs)\n",
    "\n",
    "labels = km.predict(test_x)\n",
    "lst = zip(logs,times,labels.tolist())\n",
    "df_predict = pd.DataFrame(lst)\n",
    "df_predict"
   ]
  },
  {
   "cell_type": "code",
   "execution_count": null,
   "metadata": {
    "collapsed": true
   },
   "outputs": [],
   "source": [
    "##Create dictionary of dataframes, split by time\n",
    "d = split_by_time(df_predict)\n",
    "for k,v in d.iteritems():\n",
    "    print k, ':::', type(v)\n",
    "    "
   ]
  },
  {
   "cell_type": "code",
   "execution_count": null,
   "metadata": {
    "collapsed": true,
    "scrolled": true
   },
   "outputs": [],
   "source": [
    "d['2017-08-19 13:00:00-07:00']"
   ]
  },
  {
   "cell_type": "code",
   "execution_count": null,
   "metadata": {
    "collapsed": true
   },
   "outputs": [],
   "source": [
    "##Cluster the interval logs by using km.  \n",
    "#Then get the count for predicting outcomes.\n",
    "\n",
    "#test out on d\n",
    "counts = []\n",
    "for k, v in d.iteritems():\n",
    "    print k\n",
    "    counts.append(v.shape[0])\n",
    "\n"
   ]
  },
  {
   "cell_type": "code",
   "execution_count": null,
   "metadata": {
    "collapsed": true
   },
   "outputs": [],
   "source": [
    "counts"
   ]
  },
  {
   "cell_type": "code",
   "execution_count": null,
   "metadata": {
    "collapsed": true
   },
   "outputs": [],
   "source": [
    "##train gradient boosted trees for regression\n",
    "params = {'n_estimators': 10, 'max_depth': 4, 'min_samples_split': 2,\n",
    "          'learning_rate': 0.01, 'loss': 'ls'}\n",
    "clf = ensemble.GradientBoostingRegressor(**params)\n",
    "clf"
   ]
  },
  {
   "cell_type": "markdown",
   "metadata": {},
   "source": [
    "## Use an ARIMA Model to predict"
   ]
  },
  {
   "cell_type": "code",
   "execution_count": null,
   "metadata": {
    "collapsed": true
   },
   "outputs": [],
   "source": [
    "floats = [float(i) for i in counts]\n",
    "floats"
   ]
  },
  {
   "cell_type": "code",
   "execution_count": null,
   "metadata": {
    "collapsed": true
   },
   "outputs": [],
   "source": [
    "rgr = ARIMA(floats[:len(floats)-1], order=(0,0,0))"
   ]
  },
  {
   "cell_type": "code",
   "execution_count": null,
   "metadata": {
    "collapsed": true
   },
   "outputs": [],
   "source": [
    "fit = rgr.fit(disp=0)"
   ]
  },
  {
   "cell_type": "code",
   "execution_count": null,
   "metadata": {
    "collapsed": true
   },
   "outputs": [],
   "source": [
    "fit.forecast()"
   ]
  },
  {
   "cell_type": "code",
   "execution_count": null,
   "metadata": {
    "collapsed": true
   },
   "outputs": [],
   "source": []
  },
  {
   "cell_type": "code",
   "execution_count": null,
   "metadata": {
    "collapsed": true
   },
   "outputs": [],
   "source": []
  },
  {
   "cell_type": "markdown",
   "metadata": {},
   "source": [
    "## test area"
   ]
  },
  {
   "cell_type": "code",
   "execution_count": null,
   "metadata": {
    "collapsed": true
   },
   "outputs": [],
   "source": [
    "import numpy as np\n",
    "\n",
    "from bokeh.plotting import figure, show, output_file\n",
    "\n",
    "# Define Bollinger Bands.\n",
    "upperband = np.random.random_integers(100, 150, size=100)\n",
    "lowerband = upperband - 100\n",
    "x_data = np.arange(1, 101)\n",
    "\n",
    "# Bollinger shading glyph:\n",
    "band_x = np.append(x_data, x_data[::-1])\n",
    "band_y = np.append(lowerband, upperband[::-1])\n",
    "\n",
    "output_file('bollinger.html', title='Bollinger bands (file)')\n",
    "\n",
    "\n",
    "p = figure(x_axis_type='datetime', title=\"Bollinger Bands\")\n",
    "\n",
    "# add a line renderer\n",
    "p.line([0, 20, 30, 40, 50], [80, 130, 135, 90, 90], line_width=4)\n",
    "p.grid.grid_line_alpha = 0.4\n",
    "p.x_range.range_padding = 0\n",
    "p.plot_height = 600\n",
    "p.plot_width = 800\n",
    "\n",
    "p.patch(band_x, band_y, color='#7570B3', fill_alpha=0.2)\n",
    "\n",
    "show(p)"
   ]
  },
  {
   "cell_type": "code",
   "execution_count": null,
   "metadata": {
    "collapsed": true
   },
   "outputs": [],
   "source": [
    "# from bokeh.plotting import figure, output_file, show\n",
    "# from bokeh.models.ranges import Range1d\n",
    "# import numpy\n",
    "\n",
    "\n",
    "# output_file(\"line_bar.html\")\n",
    "\n",
    "# p = figure(plot_width=400, plot_height=400)\n",
    "\n",
    "# # add a line renderer\n",
    "# p.line([1, 2, 3, 4, 5], [6, 7, 6, 4, 5], line_width=2)\n",
    "\n",
    "# # setting bar values\n",
    "# h = numpy.array([2, 8, 5, 10, 7])\n",
    "\n",
    "# # Correcting the bottom position of the bars to be on the 0 line.\n",
    "# adj_h = h/2\n",
    "\n",
    "# # add bar renderer\n",
    "# p.rect(x=[1, 2, 3, 4, 5], y=adj_h, width=0.4, height=h, color=\"#CAB2D6\")\n",
    "\n",
    "# # Setting the y  axis range   \n",
    "# p.y_range = Range1d(0, 12)\n",
    "\n",
    "# #p.title = \"Line and Bar\"\n",
    "\n",
    "# show(p)"
   ]
  },
  {
   "cell_type": "code",
   "execution_count": null,
   "metadata": {
    "collapsed": true
   },
   "outputs": [],
   "source": [
    "# from bokeh.plotting import figure, output_file, show\n",
    "# from bokeh.models.ranges import Range1d\n",
    "# import numpy\n",
    "\n",
    "\n",
    "# output_file(\"line_bar.html\")\n",
    "# p = figure(plot_width=400, plot_height=400)\n",
    "\n",
    "# p.line([1, 2, 3, 4, 5], [6, 7, 6, 4, 5], line_width=2)\n",
    "\n",
    "\n",
    "# show(p)"
   ]
  },
  {
   "cell_type": "code",
   "execution_count": null,
   "metadata": {
    "collapsed": true
   },
   "outputs": [],
   "source": []
  }
 ],
 "metadata": {
  "kernelspec": {
   "display_name": "Python 2",
   "language": "python",
   "name": "python2"
  },
  "language_info": {
   "codemirror_mode": {
    "name": "ipython",
    "version": 2
   },
   "file_extension": ".py",
   "mimetype": "text/x-python",
   "name": "python",
   "nbconvert_exporter": "python",
   "pygments_lexer": "ipython2",
   "version": "2.7.13"
  }
 },
 "nbformat": 4,
 "nbformat_minor": 2
}
