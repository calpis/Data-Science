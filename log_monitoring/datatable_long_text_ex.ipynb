{
 "cells": [
  {
   "cell_type": "code",
   "execution_count": 1,
   "metadata": {
    "collapsed": true
   },
   "outputs": [],
   "source": [
    "from os.path import dirname, join\n",
    "import pandas as pd\n",
    "from bokeh.io import curdoc, show\n",
    "from bokeh.models import ColumnDataSource, Div\n",
    "from bokeh.models.widgets import DataTable, TableColumn, HTMLTemplateFormatter\n",
    "from bokeh.layouts import layout\n",
    "\n",
    "template = \"\"\"<span href=\"#\" data-toggle=\"tooltip\" title=\"<%= value %>\"><%= value %></span>\"\"\"\n",
    "\n",
    "df = pd.DataFrame([\n",
    "    ['this is a longer text that needs a tooltip, because otherwise we do not see the whole text', 'this is a short text'],\n",
    "    ['this is another loooooooooooooooong text that needs a tooltip', 'not much here'],\n",
    "], columns=['a', 'b'])\n",
    "\n",
    "columns = [TableColumn(field=c, title=c, width=20, formatter=HTMLTemplateFormatter(template=template)) for c in ['a', 'b']]\n",
    "\n",
    "table = DataTable(source=ColumnDataSource(df), columns=columns)\n",
    "\n",
    "l = layout([[table]])\n",
    "\n",
    "curdoc().add_root(l)\n",
    "\n",
    "show(l)"
   ]
  },
  {
   "cell_type": "code",
   "execution_count": null,
   "metadata": {
    "collapsed": true
   },
   "outputs": [],
   "source": []
  }
 ],
 "metadata": {
  "kernelspec": {
   "display_name": "Python 2",
   "language": "python",
   "name": "python2"
  },
  "language_info": {
   "codemirror_mode": {
    "name": "ipython",
    "version": 2
   },
   "file_extension": ".py",
   "mimetype": "text/x-python",
   "name": "python",
   "nbconvert_exporter": "python",
   "pygments_lexer": "ipython2",
   "version": "2.7.13"
  }
 },
 "nbformat": 4,
 "nbformat_minor": 2
}
