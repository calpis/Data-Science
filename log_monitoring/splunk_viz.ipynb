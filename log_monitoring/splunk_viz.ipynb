{
 "cells": [
  {
   "cell_type": "code",
   "execution_count": 14,
   "metadata": {
    "collapsed": true
   },
   "outputs": [],
   "source": [
    "# import numpy as np\n",
    "\n",
    "# from bokeh.plotting import figure, show, output_file\n",
    "\n",
    "# # Define Bollinger Bands.\n",
    "# upperband = np.random.random_integers(100, 150, size=100)\n",
    "# lowerband = upperband - 100\n",
    "# x_data = np.arange(1, 101)\n",
    "\n",
    "# # Bollinger shading glyph:\n",
    "# band_x = np.append(x_data, x_data[::-1])\n",
    "# band_y = np.append(lowerband, upperband[::-1])\n",
    "\n",
    "# output_file('bollinger.html', title='Bollinger bands (file)')\n",
    "\n",
    "# p = figure(x_axis_type='datetime', title=\"Bollinger Bands\")\n",
    "# p.grid.grid_line_alpha = 0.4\n",
    "# p.x_range.range_padding = 0\n",
    "# p.plot_height = 600\n",
    "# p.plot_width = 800\n",
    "\n",
    "# p.patch(band_x, band_y, color='#7570B3', fill_alpha=0.2)\n",
    "\n",
    "# show(p)"
   ]
  },
  {
   "cell_type": "code",
   "execution_count": 21,
   "metadata": {},
   "outputs": [
    {
     "name": "stdout",
     "output_type": "stream",
     "text": [
      "Importing Jupyter notebook from functions.ipynb\n"
     ]
    }
   ],
   "source": [
    "import nbimporter\n",
    "import functions\n",
    "reload(functions)\n",
    "import pandas as pd\n",
    "from sklearn.cluster import KMeans, MiniBatchKMeans\n",
    "from sklearn.feature_extraction.text import TfidfVectorizer\n",
    "from collections import OrderedDict\n",
    "import numpy as np\n",
    "import itertools\n",
    "#viz\n",
    "from datetime import date\n",
    "from random import randint\n",
    "import math\n",
    "\n",
    "from bokeh.models import ColumnDataSource\n",
    "from bokeh.io import output_file, show\n",
    "from bokeh.models import FuncTickFormatter\n",
    "from bokeh.models import ColumnDataSource\n",
    "from bokeh.models.widgets import DataTable, DateFormatter, TableColumn, HTMLTemplateFormatter\n",
    "from bokeh.layouts import layout\n",
    "from bokeh.io import curdoc, show\n",
    "\n",
    "\n",
    "from bokeh.layouts import column, row\n",
    "from bokeh.layouts import gridplot\n",
    "from bokeh.plotting import figure\n",
    "\n",
    "###################\n",
    "\n",
    "\n",
    "\n",
    "#from bokeh.io import vform\n",
    "\n",
    "\n",
    "\n",
    "###################\n",
    "from sklearn import ensemble\n",
    "from sklearn.metrics.pairwise import linear_kernel\n",
    "from dateutil import parser\n",
    "\n",
    "from statsmodels.tsa.arima_model import ARIMA\n",
    "from statsmodels.tsa.stattools import arma_order_select_ic\n",
    "from matplotlib import pyplot\n",
    "\n",
    "import pickle\n",
    "#from bokeh.io import vform"
   ]
  },
  {
   "cell_type": "code",
   "execution_count": 22,
   "metadata": {
    "collapsed": true
   },
   "outputs": [],
   "source": [
    "# times"
   ]
  },
  {
   "cell_type": "code",
   "execution_count": 51,
   "metadata": {
    "collapsed": true
   },
   "outputs": [],
   "source": [
    "from HTMLParser import HTMLParser\n",
    "\n",
    "class MLStripper(HTMLParser):\n",
    "    def __init__(self):\n",
    "        self.reset()\n",
    "        self.fed = []\n",
    "    def handle_data(self, d):\n",
    "        self.fed.append(d)\n",
    "    def get_data(self):\n",
    "        return ' '.join(self.fed)\n",
    "\n",
    "def strip_tags(html):\n",
    "    s = MLStripper()\n",
    "    s.feed(html)\n",
    "    return s.get_data()"
   ]
  },
  {
   "cell_type": "code",
   "execution_count": 153,
   "metadata": {
    "collapsed": true
   },
   "outputs": [],
   "source": [
    "prediction_upperbound = np.load('upperbound_2.npy')\n",
    "prediction_lowerbound = np.load('lowerbound_2.npy')\n",
    "\n",
    "with open ('times_2', 'rb') as fp:\n",
    "    times = pickle.load(fp)\n",
    "    \n",
    "with open('check_logs_2','rb') as fp:\n",
    "    check_logs = pickle.load(fp)\n",
    "    \n",
    "cluster_num = int(np.load('cluster_num_2.npy'))\n",
    "\n",
    "with open('cluster_words_2', 'rb') as fp:\n",
    "    cluster_words = pickle.load(fp)\n",
    "    \n",
    "counts = np.load('counts_2.npy')"
   ]
  },
  {
   "cell_type": "code",
   "execution_count": 72,
   "metadata": {
    "collapsed": true
   },
   "outputs": [],
   "source": [
    "prediction_upperbound = np.load('upperbound.npy')\n",
    "prediction_lowerbound = np.load('lowerbound.npy')\n",
    "\n",
    "with open ('times', 'rb') as fp:\n",
    "    times = pickle.load(fp)\n",
    "    \n",
    "with open('check_logs','rb') as fp:\n",
    "    check_logs = pickle.load(fp)\n",
    "    \n",
    "cluster_num = int(np.load('cluster_num.npy'))\n",
    "\n",
    "with open('cluster_words', 'rb') as fp:\n",
    "    cluster_words = pickle.load(fp)\n",
    "    \n",
    "counts = np.load('counts.npy')"
   ]
  },
  {
   "cell_type": "code",
   "execution_count": 142,
   "metadata": {},
   "outputs": [
    {
     "data": {
      "text/plain": [
       "array([   5.51453843,    3.77180765,    3.25726921,    7.77180765,\n",
       "          8.3624102 ,    4.51453843,    7.59060255,    9.28634608,\n",
       "         30.3624102 ,   39.13421785,   50.51453843,   58.13421785,\n",
       "         79.28634608,   87.67783314,   79.28634608,   86.34449981,\n",
       "         79.85903824,   97.29076865,   59.77180765,   49.00000002,\n",
       "         57.34449981,   70.88811511,   63.85903824,   70.20353805,\n",
       "         49.77180765,   49.51453843,   43.82996138,   49.57269216,\n",
       "         41.85903824,   49.11630746,   29.02907686,   25.5436153 ,\n",
       "         24.57269216,   17.02907686,   21.57269216,   10.25726922,\n",
       "          7.51453843,    8.25726921,    9.02907686,   13.05815373,\n",
       "          8.5436153 ,    8.77180765,    5.51453843,    3.25726921,\n",
       "          9.95301275,    3.59060255,    1.59060255,    4.1812051 ,\n",
       "          3.59060255,    3.1812051 ,    3.25726921,    4.00000002,\n",
       "          4.1812051 ,    3.59060255,    6.77180765,   23.49662805,\n",
       "         23.80088451,   39.28634608,   53.57269216,   56.80088451,\n",
       "         95.17446119,   84.57269215,  105.46080727,   62.82996138,\n",
       "         80.37357686,   76.34449981,   64.28634608,   63.31542295,\n",
       "         62.49662805,   61.9060255 ,   61.63084589,   50.5436153 ,\n",
       "         61.34449981,   52.51453843,   55.57269216,   34.28634608,\n",
       "         32.31542295,   31.5436153 ,   37.13421785,   19.5436153 ,\n",
       "         16.02907686,   16.51453843,   12.51453843,   12.77180765,\n",
       "          5.51453843,    6.00000002,    8.02907686,    6.51453843,\n",
       "          6.77180765,    5.77180765,    2.59060255,    6.3624102 ,\n",
       "          6.3624102 ,    4.77180765,    3.51453843,    1.00000002])"
      ]
     },
     "execution_count": 142,
     "metadata": {},
     "output_type": "execute_result"
    }
   ],
   "source": [
    "prediction_upperbound"
   ]
  },
  {
   "cell_type": "code",
   "execution_count": 141,
   "metadata": {},
   "outputs": [
    {
     "data": {
      "text/plain": [
       "array([  1.8187949 ,  -1.77180765,   1.40939744,   2.22819235,\n",
       "         0.97092314,   0.8187949 ,   5.74273078,   0.04698725,\n",
       "        22.97092314,  26.19911549,  46.8187949 ,  45.19911549,\n",
       "        70.04698725,  63.65550019,  70.04698725,  62.32216686,\n",
       "        52.14096176,  23.37589802,  54.22819235,  48.99999998,\n",
       "        33.32216686,  35.77855156,  36.14096176,  18.46312861,\n",
       "        44.22819235,  45.8187949 ,  23.50337195,  31.0939745 ,\n",
       "        14.14096176,  19.55035921,  21.6375898 ,  14.4563847 ,\n",
       "         6.0939745 ,   9.6375898 ,   3.0939745 ,   8.40939745,\n",
       "         3.8187949 ,   6.40939745,   1.6375898 ,  -1.7248204 ,\n",
       "        -2.5436153 ,   3.22819235,   1.8187949 ,   1.40939744,\n",
       "         0.71365392,   1.74273078,  -0.25726922,   0.48546157,\n",
       "         1.74273078,  -0.51453843,   1.40939744,   3.99999998,\n",
       "         0.48546157,   1.74273078,   1.22819235,   3.17003862,\n",
       "        10.86578215,  30.04698725,  35.0939745 ,  43.86578215,\n",
       "        50.82553881,  66.09397449,  51.87252606,  42.50337195,\n",
       "        48.95975684,  52.32216686,  55.04698725,  46.68457705,\n",
       "        42.17003862,  43.42730784,  28.36915411,  39.4563847 ,\n",
       "        37.32216686,  48.8187949 ,  37.0939745 ,  25.04698725,\n",
       "        15.68457705,  20.4563847 ,  24.19911549,   8.4563847 ,\n",
       "         8.6375898 ,  12.8187949 ,   8.8187949 ,   7.22819235,\n",
       "         1.8187949 ,   5.99999998,   0.6375898 ,   2.8187949 ,\n",
       "         1.22819235,   0.22819235,   0.74273078,  -1.02907686,\n",
       "        -1.02907686,  -0.77180765,  -0.1812051 ,   0.99999998])"
      ]
     },
     "execution_count": 141,
     "metadata": {},
     "output_type": "execute_result"
    }
   ],
   "source": [
    "np.set_printoptions(suppress=True)\n",
    "prediction_lowerbound"
   ]
  },
  {
   "cell_type": "code",
   "execution_count": 110,
   "metadata": {
    "scrolled": true
   },
   "outputs": [
    {
     "data": {
      "text/plain": [
       "['ERROR 2017-08-08 23:58:29,627 [[commerce-entitlement-2.1.0].ConnectorWithoutMuleSession.receiver.3123] After calling CAS Get EntitledOfferings Response Payload :: Errors: <?xml version=\"1.0\" encoding=\"UTF-8\" standalone=\"yes\"?><Errors xmlns=\"http://schema.intuit.com/platform/common/error/v2\"><error><code>ENT-202106</code><type>CLIENT</type><message>CustomerAccountNumber provided is Invalid</message><detail>CustomerAccountNumber provided is Invalid</detail><moreInfo>CustomerAccountNumber provided is Invalid</moreInfo></error></Errors>',\n",
       " 'ERROR 2017-08-08 23:27:02,574 [[commerce-entitlement-2.1.0].ConnectorWithoutMuleSession.receiver.3140] After calling CAS Get EntitledOfferings Response Payload :: Errors: <?xml version=\"1.0\" encoding=\"UTF-8\" standalone=\"yes\"?><Errors xmlns=\"http://schema.intuit.com/platform/common/error/v2\"><error><code>ENT-202106</code><type>CLIENT</type><message>CustomerAccountNumber provided is Invalid</message><detail>CustomerAccountNumber provided is Invalid</detail><moreInfo>CustomerAccountNumber provided is Invalid</moreInfo></error></Errors>',\n",
       " 'ERROR 2017-08-08 23:18:40,939 [[commerce-entitlement-2.1.0].ConnectorWithoutMuleSession.receiver.3183] After calling CAS Get EntitledOfferings Response Payload :: Errors: <?xml version=\"1.0\" encoding=\"UTF-8\" standalone=\"yes\"?><Errors xmlns=\"http://schema.intuit.com/platform/common/error/v2\"><error><code>ENT-202106</code><type>CLIENT</type><message>CustomerAccountNumber provided is Invalid</message><detail>CustomerAccountNumber provided is Invalid</detail><moreInfo>CustomerAccountNumber provided is Invalid</moreInfo></error></Errors>',\n",
       " 'ERROR 2017-08-08 23:07:19,658 [[commerce-entitlement-2.1.0].ConnectorWithoutMuleSession.receiver.3133] After calling CAS Get EntitledOfferings Response Payload :: Errors: <?xml version=\"1.0\" encoding=\"UTF-8\" standalone=\"yes\"?><Errors xmlns=\"http://schema.intuit.com/platform/common/error/v2\"><error><code>ENT-202106</code><type>CLIENT</type><message>CustomerAccountNumber provided is Invalid</message><detail>CustomerAccountNumber provided is Invalid</detail><moreInfo>CustomerAccountNumber provided is Invalid</moreInfo></error></Errors>',\n",
       " 'ERROR 2017-08-08 21:08:30,970 [[commerce-entitlement-2.1.0].ConnectorWithoutMuleSession.receiver.3133] After calling CAS Get EntitledOfferings Response Payload :: Errors: <?xml version=\"1.0\" encoding=\"UTF-8\" standalone=\"yes\"?><Errors xmlns=\"http://schema.intuit.com/platform/common/error/v2\"><error><code>ENT-202106</code><type>CLIENT</type><message>CustomerAccountNumber provided is Invalid</message><detail>CustomerAccountNumber provided is Invalid</detail><moreInfo>CustomerAccountNumber provided is Invalid</moreInfo></error></Errors>',\n",
       " 'ERROR 2017-08-08 20:56:47,597 [[commerce-entitlement-2.1.0].ConnectorWithoutMuleSession.receiver.3110] After calling CAS Get EntitledOfferings Response Payload :: Errors: <?xml version=\"1.0\" encoding=\"UTF-8\" standalone=\"yes\"?><Errors xmlns=\"http://schema.intuit.com/platform/common/error/v2\"><error><code>ENT-202106</code><type>CLIENT</type><message>CustomerAccountNumber provided is Invalid</message><detail>CustomerAccountNumber provided is Invalid</detail><moreInfo>CustomerAccountNumber provided is Invalid</moreInfo></error></Errors>',\n",
       " 'ERROR 2017-08-08 20:50:44,899 [[commerce-entitlement-2.1.0].ConnectorWithoutMuleSession.receiver.3073] After calling CAS Get EntitledOfferings Response Payload :: Errors: <?xml version=\"1.0\" encoding=\"UTF-8\" standalone=\"yes\"?><Errors xmlns=\"http://schema.intuit.com/platform/common/error/v2\"><error><code>ENT-202106</code><type>CLIENT</type><message>CustomerAccountNumber provided is Invalid</message><detail>CustomerAccountNumber provided is Invalid</detail><moreInfo>CustomerAccountNumber provided is Invalid</moreInfo></error></Errors>',\n",
       " 'ERROR 2017-08-08 20:49:35,536 [[commerce-entitlement-2.1.0].ConnectorWithoutMuleSession.receiver.3073] After calling CAS Get EntitledOfferings Response Payload :: Errors: <?xml version=\"1.0\" encoding=\"UTF-8\" standalone=\"yes\"?><Errors xmlns=\"http://schema.intuit.com/platform/common/error/v2\"><error><code>ENT-202106</code><type>CLIENT</type><message>CustomerAccountNumber provided is Invalid</message><detail>CustomerAccountNumber provided is Invalid</detail><moreInfo>CustomerAccountNumber provided is Invalid</moreInfo></error></Errors>',\n",
       " 'ERROR 2017-08-08 20:41:16,135 [[commerce-entitlement-2.1.0].ConnectorWithoutMuleSession.receiver.3104] After calling CAS Get EntitledOfferings Response Payload :: Errors: <?xml version=\"1.0\" encoding=\"UTF-8\" standalone=\"yes\"?><Errors xmlns=\"http://schema.intuit.com/platform/common/error/v2\"><error><code>ENT-202106</code><type>CLIENT</type><message>CustomerAccountNumber provided is Invalid</message><detail>CustomerAccountNumber provided is Invalid</detail><moreInfo>CustomerAccountNumber provided is Invalid</moreInfo></error></Errors>',\n",
       " 'ERROR 2017-08-08 20:34:57,874 [[commerce-entitlement-2.1.0].ConnectorWithoutMuleSession.receiver.3120] After calling CAS Get EntitledOfferings Response Payload :: Errors: <?xml version=\"1.0\" encoding=\"UTF-8\" standalone=\"yes\"?><Errors xmlns=\"http://schema.intuit.com/platform/common/error/v2\"><error><code>ENT-202106</code><type>CLIENT</type><message>CustomerAccountNumber provided is Invalid</message><detail>CustomerAccountNumber provided is Invalid</detail><moreInfo>CustomerAccountNumber provided is Invalid</moreInfo></error></Errors>',\n",
       " 'ERROR 2017-08-08 20:22:21,726 [[commerce-entitlement-2.1.0].ConnectorWithoutMuleSession.receiver.3097] After calling CAS Get EntitledOfferings Response Payload :: Errors: <?xml version=\"1.0\" encoding=\"UTF-8\" standalone=\"yes\"?><Errors xmlns=\"http://schema.intuit.com/platform/common/error/v2\"><error><code>ENT-202106</code><type>CLIENT</type><message>CustomerAccountNumber provided is Invalid</message><detail>CustomerAccountNumber provided is Invalid</detail><moreInfo>CustomerAccountNumber provided is Invalid</moreInfo></error></Errors>',\n",
       " 'ERROR 2017-08-08 20:16:36,872 [[commerce-entitlement-2.1.0].ConnectorWithoutMuleSession.receiver.3033] After calling CAS Get EntitledOfferings Response Payload :: Errors: <?xml version=\"1.0\" encoding=\"UTF-8\" standalone=\"yes\"?><Errors xmlns=\"http://schema.intuit.com/platform/common/error/v2\"><error><code>ENT-202106</code><type>CLIENT</type><message>CustomerAccountNumber provided is Invalid</message><detail>CustomerAccountNumber provided is Invalid</detail><moreInfo>CustomerAccountNumber provided is Invalid</moreInfo></error></Errors>',\n",
       " 'ERROR 2017-08-08 19:59:50,186 [[commerce-entitlement-2.1.0].ConnectorWithoutMuleSession.receiver.3092] After calling CAS Get EntitledOfferings Response Payload :: Errors: <?xml version=\"1.0\" encoding=\"UTF-8\" standalone=\"yes\"?><Errors xmlns=\"http://schema.intuit.com/platform/common/error/v2\"><error><code>ENT-202106</code><type>CLIENT</type><message>CustomerAccountNumber provided is Invalid</message><detail>CustomerAccountNumber provided is Invalid</detail><moreInfo>CustomerAccountNumber provided is Invalid</moreInfo></error></Errors>',\n",
       " 'ERROR 2017-08-08 19:59:02,362 [[commerce-entitlement-2.1.0].ConnectorWithoutMuleSession.receiver.3025] After calling CAS Get EntitledOfferings Response Payload :: Errors: <?xml version=\"1.0\" encoding=\"UTF-8\" standalone=\"yes\"?><Errors xmlns=\"http://schema.intuit.com/platform/common/error/v2\"><error><code>ENT-202106</code><type>CLIENT</type><message>CustomerAccountNumber provided is Invalid</message><detail>CustomerAccountNumber provided is Invalid</detail><moreInfo>CustomerAccountNumber provided is Invalid</moreInfo></error></Errors>',\n",
       " 'ERROR 2017-08-08 19:45:23,116 [[commerce-entitlement-2.1.0].ConnectorWithoutMuleSession.receiver.3085] After calling CAS Get EntitledOfferings Response Payload :: Errors: <?xml version=\"1.0\" encoding=\"UTF-8\" standalone=\"yes\"?><Errors xmlns=\"http://schema.intuit.com/platform/common/error/v2\"><error><code>ENT-202106</code><type>CLIENT</type><message>CustomerAccountNumber provided is Invalid</message><detail>CustomerAccountNumber provided is Invalid</detail><moreInfo>CustomerAccountNumber provided is Invalid</moreInfo></error></Errors>',\n",
       " 'ERROR 2017-08-08 19:36:38,490 [[commerce-entitlement-2.1.0].ConnectorWithoutMuleSession.receiver.3043] After calling CAS Get EntitledOfferings Response Payload :: Errors: <?xml version=\"1.0\" encoding=\"UTF-8\" standalone=\"yes\"?><Errors xmlns=\"http://schema.intuit.com/platform/common/error/v2\"><error><code>ENT-202106</code><type>CLIENT</type><message>CustomerAccountNumber provided is Invalid</message><detail>CustomerAccountNumber provided is Invalid</detail><moreInfo>CustomerAccountNumber provided is Invalid</moreInfo></error></Errors>',\n",
       " 'ERROR 2017-08-08 19:32:00,589 [[commerce-entitlement-2.1.0].ConnectorWithoutMuleSession.receiver.3016] After calling CAS Get EntitledOfferings Response Payload :: Errors: <?xml version=\"1.0\" encoding=\"UTF-8\" standalone=\"yes\"?><Errors xmlns=\"http://schema.intuit.com/platform/common/error/v2\"><error><code>ENT-202106</code><type>CLIENT</type><message>CustomerAccountNumber provided is Invalid</message><detail>CustomerAccountNumber provided is Invalid</detail><moreInfo>CustomerAccountNumber provided is Invalid</moreInfo></error></Errors>',\n",
       " 'ERROR 2017-08-08 19:31:50,199 [[commerce-entitlement-2.1.0].ConnectorWithoutMuleSession.receiver.3016] After calling CAS Get EntitledOfferings Response Payload :: Errors: <?xml version=\"1.0\" encoding=\"UTF-8\" standalone=\"yes\"?><Errors xmlns=\"http://schema.intuit.com/platform/common/error/v2\"><error><code>ENT-202106</code><type>CLIENT</type><message>CustomerAccountNumber provided is Invalid</message><detail>CustomerAccountNumber provided is Invalid</detail><moreInfo>CustomerAccountNumber provided is Invalid</moreInfo></error></Errors>',\n",
       " 'ERROR 2017-08-08 19:26:59,872 [[commerce-entitlement-2.1.0].ConnectorWithoutMuleSession.receiver.3077] After calling CAS Get EntitledOfferings Response Payload :: Errors: <?xml version=\"1.0\" encoding=\"UTF-8\" standalone=\"yes\"?><Errors xmlns=\"http://schema.intuit.com/platform/common/error/v2\"><error><code>ENT-202106</code><type>CLIENT</type><message>CustomerAccountNumber provided is Invalid</message><detail>CustomerAccountNumber provided is Invalid</detail><moreInfo>CustomerAccountNumber provided is Invalid</moreInfo></error></Errors>',\n",
       " 'ERROR 2017-08-08 19:26:59,298 [[commerce-entitlement-2.1.0].ConnectorWithoutMuleSession.receiver.3089] After calling CAS Get EntitledOfferings Response Payload :: Errors: <?xml version=\"1.0\" encoding=\"UTF-8\" standalone=\"yes\"?><Errors xmlns=\"http://schema.intuit.com/platform/common/error/v2\"><error><code>ENT-202106</code><type>CLIENT</type><message>CustomerAccountNumber provided is Invalid</message><detail>CustomerAccountNumber provided is Invalid</detail><moreInfo>CustomerAccountNumber provided is Invalid</moreInfo></error></Errors>']"
      ]
     },
     "execution_count": 110,
     "metadata": {},
     "output_type": "execute_result"
    }
   ],
   "source": [
    "check_logs"
   ]
  },
  {
   "cell_type": "code",
   "execution_count": 111,
   "metadata": {},
   "outputs": [],
   "source": [
    "# text_df.loc[0].values[0]\n"
   ]
  },
  {
   "cell_type": "code",
   "execution_count": 112,
   "metadata": {},
   "outputs": [],
   "source": [
    "# strip_tags(text_df.loc[0].values[0])"
   ]
  },
  {
   "cell_type": "code",
   "execution_count": 113,
   "metadata": {},
   "outputs": [],
   "source": [
    "# print check_logs[:1]\n",
    "# top_words"
   ]
  },
  {
   "cell_type": "code",
   "execution_count": 114,
   "metadata": {},
   "outputs": [],
   "source": [
    "# text_df = pd.DataFrame(check_logs[:1]).reset_index()\n",
    "# text_df.columns=['index','text']\n",
    "# #source = ColumnDataSource(text_df)\n",
    "# text_df.drop('index',axis=1,inplace=True)\n",
    "# text_df"
   ]
  },
  {
   "cell_type": "code",
   "execution_count": 115,
   "metadata": {},
   "outputs": [],
   "source": [
    "# text_df.loc[0].values[0]\n"
   ]
  },
  {
   "cell_type": "code",
   "execution_count": 116,
   "metadata": {},
   "outputs": [],
   "source": [
    "# check_logs = []\n",
    "# s = strip_tags(text_df.loc[0].values[0])\n",
    "# check_logs.append(s)\n",
    "# check_logs\n"
   ]
  },
  {
   "cell_type": "code",
   "execution_count": 120,
   "metadata": {},
   "outputs": [
    {
     "data": {
      "text/plain": [
       "[TableColumn(id='1dfe3120-d98b-41b2-97c7-a96b62d5ab8f', ...)]"
      ]
     },
     "execution_count": 120,
     "metadata": {},
     "output_type": "execute_result"
    }
   ],
   "source": [
    "columns = [TableColumn(field=c, title=c, width=20, formatter=HTMLTemplateFormatter(template=template))\\\n",
    "                      for c in text_df.columns]\n",
    "\n",
    "columns\n"
   ]
  },
  {
   "cell_type": "code",
   "execution_count": 135,
   "metadata": {},
   "outputs": [
    {
     "data": {
      "text/plain": [
       "array([  1.81879490e+00,  -1.77180765e+00,   1.40939744e+00,\n",
       "         2.22819235e+00,   9.70923135e-01,   8.18794901e-01,\n",
       "         5.74273078e+00,   4.69872522e-02,   2.29709231e+01,\n",
       "         2.61991155e+01,   4.68187949e+01,   4.51991155e+01,\n",
       "         7.00469873e+01,   6.36555002e+01,   7.00469873e+01,\n",
       "         6.23221669e+01,   5.21409618e+01,   2.33758980e+01,\n",
       "         5.42281924e+01,   4.90000000e+01,   3.33221669e+01,\n",
       "         3.57785516e+01,   3.61409618e+01,   1.84631286e+01,\n",
       "         4.42281924e+01,   4.58187949e+01,   2.35033720e+01,\n",
       "         3.10939745e+01,   1.41409618e+01,   1.95503592e+01,\n",
       "         2.16375898e+01,   1.44563847e+01,   6.09397450e+00,\n",
       "         9.63758980e+00,   3.09397450e+00,   8.40939745e+00,\n",
       "         3.81879490e+00,   6.40939745e+00,   1.63758980e+00,\n",
       "        -1.72482040e+00,  -2.54361530e+00,   3.22819235e+00,\n",
       "         1.81879490e+00,   1.40939744e+00,   7.13653919e-01,\n",
       "         1.74273078e+00,  -2.57269219e-01,   4.85461568e-01,\n",
       "         1.74273078e+00,  -5.14538432e-01,   1.40939744e+00,\n",
       "         3.99999998e+00,   4.85461568e-01,   1.74273078e+00,\n",
       "         1.22819235e+00,   3.17003862e+00,   1.08657822e+01,\n",
       "         3.00469873e+01,   3.50939745e+01,   4.38657822e+01,\n",
       "         5.08255388e+01,   6.60939745e+01,   5.18725261e+01,\n",
       "         4.25033720e+01,   4.89597568e+01,   5.23221669e+01,\n",
       "         5.50469873e+01,   4.66845771e+01,   4.21700386e+01,\n",
       "         4.34273078e+01,   2.83691541e+01,   3.94563847e+01,\n",
       "         3.73221669e+01,   4.88187949e+01,   3.70939745e+01,\n",
       "         2.50469873e+01,   1.56845771e+01,   2.04563847e+01,\n",
       "         2.41991155e+01,   8.45638470e+00,   8.63758980e+00,\n",
       "         1.28187949e+01,   8.81879490e+00,   7.22819235e+00,\n",
       "         1.81879490e+00,   5.99999998e+00,   6.37589802e-01,\n",
       "         2.81879490e+00,   1.22819235e+00,   2.28192351e-01,\n",
       "         7.42730784e-01,  -1.02907686e+00,  -1.02907686e+00,\n",
       "        -7.71807649e-01,  -1.81205099e-01,   9.99999980e-01])"
      ]
     },
     "execution_count": 135,
     "metadata": {},
     "output_type": "execute_result"
    }
   ],
   "source": [
    "lowerband"
   ]
  },
  {
   "cell_type": "code",
   "execution_count": 154,
   "metadata": {},
   "outputs": [
    {
     "name": "stderr",
     "output_type": "stream",
     "text": [
      "/Users/momori/anaconda2/lib/python2.7/site-packages/bokeh/models/sources.py:137: BokehUserWarning: ColumnDataSource's columns must be of the same length. Current lengths: ('x', 95), ('y', 96)\n",
      "  \"Current lengths: %s\" % \", \".join(sorted(str((k, len(v))) for k, v in data.items())), BokehUserWarning))\n",
      "/Users/momori/anaconda2/lib/python2.7/site-packages/bokeh/models/sources.py:137: BokehUserWarning: ColumnDataSource's columns must be of the same length. Current lengths: ('x', 190), ('y', 192)\n",
      "  \"Current lengths: %s\" % \", \".join(sorted(str((k, len(v))) for k, v in data.items())), BokehUserWarning))\n"
     ]
    }
   ],
   "source": [
    "import numpy as np\n",
    "\n",
    "from bokeh.plotting import figure, show, output_file\n",
    "\n",
    "# Define Bollinger Bands.\n",
    "upperband = prediction_upperbound\n",
    "lowerband = prediction_lowerbound#upperband - 100\n",
    "length = min(len(upperband), len(lowerband))\n",
    "x_data = np.arange(1, length)\n",
    "\n",
    "# Bollinger shading glyph:\n",
    "band_x = np.append(x_data, x_data[::-1])\n",
    "band_y = np.append(lowerband, upperband[::-1])\n",
    "\n",
    "output_file('bollinger.html', title='Bollinger bands (file)')\n",
    "\n",
    "p = figure(x_axis_type='datetime', title=\"Prediction of Error Count\")\n",
    "p.line([i for i in range(1,length)], counts, line_width=2)\n",
    "\n",
    "p.grid.grid_line_alpha = 0.4\n",
    "p.x_range.range_padding = 0\n",
    "p.plot_height = 600\n",
    "p.plot_width = 800\n",
    "\n",
    "p.patch(band_x, band_y, color='#7570B3', fill_alpha=0.2)\n",
    "# add a line renderer\n",
    "#p.line([1, 2, 30, 40, 500], [6, 70, 20, 40, 50], line_width=2)\n",
    "\n",
    "\n",
    "label_dict = {}\n",
    "for i, s in enumerate(times):\n",
    "    label_dict[i] = s\n",
    "\n",
    "p.xaxis.formatter = FuncTickFormatter(code=\"\"\"\n",
    "    var labels = %s;\n",
    "    return labels[tick];\n",
    "\"\"\" % label_dict)\n",
    "\n",
    "output_file('bollinger.html', title='Error Prediction')\n",
    "\n",
    "\n",
    "# data = dict(\n",
    "#         dates=[date(2014, 3, i+1) for i in range(10)],\n",
    "#         downloads=[randint(0, 100) for i in range(10)],\n",
    "#     )\n",
    "\n",
    "\n",
    "text_df = pd.DataFrame(check_logs[:10]).reset_index()\n",
    "#text_df = pd.DataFrame(check_logs).reset_index()\n",
    "\n",
    "text_df.columns=['index','Error Message']\n",
    "#source = ColumnDataSource(text_df)\n",
    "text_df.drop('index',axis=1,inplace=True)\n",
    "\n",
    "template = \"\"\"<span href=\"#\" data-toggle=\"tooltip\" title=\"<%= value %>\"> <%= value %> </span>\"\"\"\n",
    "#template = \"\"\"<span href=\"#\" data-toggle=\"tooltip\" \"<%= value %>\"> <%= value %> </span>\"\"\"\n",
    "#template = \"\"\"<span href=\"#\" title=\"<%= value %>\"></span>\"\"\"\n",
    "\n",
    "\n",
    "columns = [TableColumn(field=c, title=c, width=20, formatter=HTMLTemplateFormatter(template=template))\\\n",
    "                      for c in text_df.columns]\n",
    "\n",
    "table = DataTable(source=ColumnDataSource(text_df),columns=columns)\n",
    "l = layout([[table]])\n",
    "curdoc().add_root(l)\n",
    "\n",
    "top_words = cluster_words[cluster_num]\n",
    "top_words = pd.DataFrame(top_words).reset_index()\n",
    "top_words.columns = ['index','top_words']\n",
    "source2 = ColumnDataSource(top_words)\n",
    "\n",
    "columns2 = [\n",
    "        TableColumn(field=\"top_words\", title=\"Most Relevant Words\"),\n",
    "    ]\n",
    "data_table2 = DataTable(source=source2, columns=columns2, width=400, height=280)\n",
    "\n",
    "#grid = gridplot([[p, None], [l, data_table2]])\n",
    "#grid = gridplot([[p, None], [l, data_table2]])\n",
    "#show(grid)\n",
    "show(row(p, column(data_table2, l)))\n",
    "#show(l)\n",
    "\n",
    "\n",
    "\n",
    "#show(p)"
   ]
  },
  {
   "cell_type": "code",
   "execution_count": null,
   "metadata": {
    "collapsed": true
   },
   "outputs": [],
   "source": []
  },
  {
   "cell_type": "code",
   "execution_count": null,
   "metadata": {
    "collapsed": true
   },
   "outputs": [],
   "source": []
  },
  {
   "cell_type": "code",
   "execution_count": null,
   "metadata": {
    "collapsed": true
   },
   "outputs": [],
   "source": []
  },
  {
   "cell_type": "code",
   "execution_count": null,
   "metadata": {
    "collapsed": true
   },
   "outputs": [],
   "source": []
  },
  {
   "cell_type": "code",
   "execution_count": null,
   "metadata": {
    "collapsed": true
   },
   "outputs": [],
   "source": []
  },
  {
   "cell_type": "code",
   "execution_count": 144,
   "metadata": {},
   "outputs": [
    {
     "name": "stderr",
     "output_type": "stream",
     "text": [
      "/Users/momori/anaconda2/lib/python2.7/site-packages/bokeh/models/sources.py:137: BokehUserWarning: ColumnDataSource's columns must be of the same length. Current lengths: ('x', 95), ('y', 96)\n",
      "  \"Current lengths: %s\" % \", \".join(sorted(str((k, len(v))) for k, v in data.items())), BokehUserWarning))\n",
      "/Users/momori/anaconda2/lib/python2.7/site-packages/bokeh/models/sources.py:137: BokehUserWarning: ColumnDataSource's columns must be of the same length. Current lengths: ('x', 190), ('y', 192)\n",
      "  \"Current lengths: %s\" % \", \".join(sorted(str((k, len(v))) for k, v in data.items())), BokehUserWarning))\n"
     ]
    }
   ],
   "source": [
    "import numpy as np\n",
    "\n",
    "from bokeh.plotting import figure, show, output_file\n",
    "\n",
    "# Define Bollinger Bands.\n",
    "upperband = prediction_upperbound\n",
    "lowerband = prediction_lowerbound#upperband - 100\n",
    "length = min(len(upperband), len(lowerband))\n",
    "x_data = np.arange(1, length)\n",
    "\n",
    "# Bollinger shading glyph:\n",
    "band_x = np.append(x_data, x_data[::-1])\n",
    "band_y = np.append(lowerband, upperband[::-1])\n",
    "\n",
    "output_file('bollinger.html', title='Bollinger bands (file)')\n",
    "\n",
    "p = figure(x_axis_type='datetime', title=\"Bollinger Bands\")\n",
    "p.line([i for i in range(1,length)], counts, line_width=2)\n",
    "\n",
    "p.grid.grid_line_alpha = 0.4\n",
    "p.x_range.range_padding = 0\n",
    "p.plot_height = 600\n",
    "p.plot_width = 800\n",
    "\n",
    "p.patch(band_x, band_y, color='#7570B3', fill_alpha=0.2)\n",
    "# add a line renderer\n",
    "#p.line([1, 2, 30, 40, 500], [6, 70, 20, 40, 50], line_width=2)\n",
    "\n",
    "\n",
    "label_dict = {}\n",
    "for i, s in enumerate(times):\n",
    "    label_dict[i] = s\n",
    "\n",
    "p.xaxis.formatter = FuncTickFormatter(code=\"\"\"\n",
    "    var labels = %s;\n",
    "    return labels[tick];\n",
    "\"\"\" % label_dict)\n",
    "\n",
    "output_file('bollinger.html', title='Bollinger bands (file)')\n",
    "\n",
    "\n",
    "# data = dict(\n",
    "#         dates=[date(2014, 3, i+1) for i in range(10)],\n",
    "#         downloads=[randint(0, 100) for i in range(10)],\n",
    "#     )\n",
    "\n",
    "\n",
    "text_df = pd.DataFrame(check_logs[:10]).reset_index()\n",
    "text_df.columns=['index','Error Message']\n",
    "text_df.drop('index',axis=1,inplace=True)\n",
    "\n",
    "#source = ColumnDataSource(text_df)\n",
    "\n",
    "template = \"\"\"<span href=\"#\" data-toggle=\"tooltip\" title=\"<%= value %>\"><%= value %></span>\"\"\"\n",
    "\n",
    "\n",
    "\n",
    "#columns = [\n",
    "#        TableColumn(field=\"text\", title=\"errors\"),\n",
    "#    ]\n",
    "#data_table = DataTable(source=source, columns=columns, width=400, height=280)\n",
    "\n",
    "columns = [TableColumn(field=c, title=c, width=20, formatter=HTMLTemplateFormatter(template=template))\\\n",
    "                      for c in text_df.columns]\n",
    "\n",
    "table = DataTable(source=ColumnDataSource(text_df),columns=columns)\n",
    "l = layout([[table]])\n",
    "curdoc().add_root(l)\n",
    "\n",
    "\n",
    "# df = pd.DataFrame([\n",
    "#     ['this is a longer text that needs a tooltip, because otherwise we do not see the whole text', 'this is a short text'],\n",
    "#     ['this is another loooooooooooooooong text that needs a tooltip', 'not much here'],\n",
    "# ], columns=['a', 'b'])\n",
    "\n",
    "# columns = [TableColumn(field=c, title=c, width=20, formatter=HTMLTemplateFormatter(template=template)) \n",
    "#for c in ['a', 'b']]\n",
    "\n",
    "# table = DataTable(source=ColumnDataSource(df), columns=columns)\n",
    "\n",
    "# l = layout([[table]])\n",
    "\n",
    "# curdoc().add_root(l)\n",
    "\n",
    "\n",
    "top_words = cluster_words[cluster_num]\n",
    "top_words = pd.DataFrame(top_words).reset_index()\n",
    "top_words.columns = ['index','top_words']\n",
    "source2 = ColumnDataSource(top_words)\n",
    "\n",
    "columns2 = [\n",
    "        TableColumn(field=\"top_words\", title=\"Most Relevant Words\"),\n",
    "    ]\n",
    "data_table2 = DataTable(source=source2, columns=columns2, width=400, height=280)\n",
    "\n",
    "grid = gridplot([[p, None], [l, data_table2]])\n",
    "#show(row(p, data_table, data_table2))\n",
    "#show(grid)\n",
    "\n",
    "show(row(p, column(data_table2, l)))\n",
    "\n",
    "\n",
    "\n",
    "#show(p)"
   ]
  },
  {
   "cell_type": "code",
   "execution_count": 13,
   "metadata": {},
   "outputs": [
    {
     "name": "stderr",
     "output_type": "stream",
     "text": [
      "WARNING:/Users/momori/anaconda2/lib/python2.7/site-packages/bokeh/core/validation/check.pyc:W-1001 (NO_DATA_RENDERERS): Plot has no data renderers: Figure(id='40f3ee56-6a92-4988-a81a-4978ccb11948', ...)\n",
      "WARNING:/Users/momori/anaconda2/lib/python2.7/site-packages/bokeh/core/validation/check.pyc:W-1001 (NO_DATA_RENDERERS): Plot has no data renderers: Figure(id='04714025-ec64-4133-af13-b8d1372e89c4', ...)\n"
     ]
    }
   ],
   "source": [
    "# import numpy as np\n",
    "\n",
    "# from bokeh.plotting import figure, show, output_file\n",
    "\n",
    "# # Define Bollinger Bands.\n",
    "# upperband = prediction_upperbound\n",
    "# lowerband = prediction_lowerbound\n",
    "# length = min(len(prediction_upperbound), len(prediction_lowerbound))\n",
    "# x_data = np.arange(1, length)\n",
    "\n",
    "# output_file('intuit.html', title='Bollinger bands (file)')\n",
    "\n",
    "# p = figure(x_axis_type='datetime', title=\"\")\n",
    "# #show(p)"
   ]
  },
  {
   "cell_type": "code",
   "execution_count": null,
   "metadata": {
    "collapsed": true
   },
   "outputs": [],
   "source": [
    "\n",
    "# # Define Bollinger Bands.\n",
    "# upperband = prediction_upperbound\n",
    "# lowerband = prediction_lowerbound\n",
    "# #x_data = np.arange(1, 101)\n",
    "\n",
    "# length = min(len(prediction_upperbound), len(prediction_lowerbound))\n",
    "# x_data = np.arange(1, length)\n",
    "# # Bollinger shading glyph:\n",
    "# band_x = np.append(x_data, x_data[::-1])\n",
    "# band_y = np.append(lowerband, upperband[::-1])\n",
    "\n",
    "\n",
    "\n",
    "# p = figure(x_axis_type='datetime', title=\"\")\n",
    "\n",
    "# # add a line renderer\n",
    "# p.line([i for i in range(1,length)], counts2, line_width=2)\n",
    "# p.grid.grid_line_alpha = 0.4\n",
    "# p.x_range.range_padding = 0\n",
    "# p.plot_height = 600\n",
    "# p.plot_width = 800\n",
    "\n",
    "# p.patch(band_x, band_y, color='#7570B3', fill_alpha=0.2)\n",
    "\n",
    "\n",
    "\n",
    "# label_dict = {}\n",
    "# for i, s in enumerate(times):\n",
    "#     label_dict[i] = s\n",
    "\n",
    "# p.xaxis.formatter = FuncTickFormatter(code=\"\"\"\n",
    "#     var labels = %s;\n",
    "#     return labels[tick];\n",
    "# \"\"\" % label_dict)\n",
    "\n",
    "# output_file('bollinger.html', title='Bollinger bands (file)')\n",
    "\n",
    "\n",
    "# # data = dict(\n",
    "# #         dates=[date(2014, 3, i+1) for i in range(10)],\n",
    "# #         downloads=[randint(0, 100) for i in range(10)],\n",
    "# #     )\n",
    "\n",
    "\n",
    "# text_df = pd.DataFrame(check_logs[:4]).reset_index()\n",
    "# text_df.columns=['index','text']\n",
    "# source = ColumnDataSource(text_df)\n",
    "\n",
    "# columns = [\n",
    "#         TableColumn(field=\"text\", title=\"errors\"),\n",
    "#     ]\n",
    "# data_table = DataTable(source=source, columns=columns, width=400, height=280)\n",
    "\n",
    "\n",
    "# top_words = cluster_words[cluster_num]\n",
    "# top_words = pd.DataFrame(top_words).reset_index()\n",
    "# top_words.columns = ['index','top_words']\n",
    "# source2 = ColumnDataSource(top_words)\n",
    "\n",
    "# columns2 = [\n",
    "#         TableColumn(field=\"top_words\", title=\"top words\"),\n",
    "#     ]\n",
    "# data_table2 = DataTable(source=source2, columns=columns2, width=400, height=280)\n",
    "\n",
    "# grid = gridplot([[p, None], [data_table, data_table2]])\n",
    "# #show(row(p, data_table, data_table2))\n",
    "# show(grid)"
   ]
  }
 ],
 "metadata": {
  "kernelspec": {
   "display_name": "Python 2",
   "language": "python",
   "name": "python2"
  },
  "language_info": {
   "codemirror_mode": {
    "name": "ipython",
    "version": 2
   },
   "file_extension": ".py",
   "mimetype": "text/x-python",
   "name": "python",
   "nbconvert_exporter": "python",
   "pygments_lexer": "ipython2",
   "version": "2.7.13"
  }
 },
 "nbformat": 4,
 "nbformat_minor": 2
}
